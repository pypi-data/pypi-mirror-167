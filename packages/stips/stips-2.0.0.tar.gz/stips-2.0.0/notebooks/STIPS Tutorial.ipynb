{
 "cells": [
  {
   "cell_type": "markdown",
   "metadata": {},
   "source": [
    "# STIPS Basic Usage Example\n",
    "\n",
    "If you prefer to work within a Jupyter notebook, this notebook will follow the same processes as the Basic Tutorial to create a STIPS observation. Like the Basic Tutorial, it assumes that you already have STIPS installed; see [Installing STIPS](https://stsci-stips.readthedocs.io/en/latest/installation.html) in the STIPS documentation if not."
   ]
  },
  {
   "cell_type": "markdown",
   "metadata": {},
   "source": [
    "## Importing STIPS and checking the STIPS environment\n",
    "\n",
    "In order to use STIPS, you must have several sets of data files installed ([Installing STIPS](https://stsci-stips.readthedocs.io/en/latest/installation.html) contains instructions on doing this). In order to test your STIPS installation, STIPS includes an environment report utility that shows which version of STIPS you have installed, as well as the versions of the most important support packages that STIPS uses. When you run the cell below, you should get output something like this:\n",
    "\n",
    "> STIPS Version x.y.z with Data Version x.y.z at /Some/Path/To/stips_data\n",
    ">\n",
    "> STIPS Grid Generated with x.y.z\n",
    ">\n",
    "> Pandeia Version a.b.c with Data Version a.b.c at /Some/Path/To/pandeia_refdata\n",
    ">\n",
    "> Webbpsf Version d.e.f with Data Version d.e.f at /Some/Path/To/WEBBPSF_PATH"
   ]
  },
  {
   "cell_type": "code",
   "execution_count": 1,
   "metadata": {},
   "outputs": [
    {
     "name": "stdout",
     "output_type": "stream",
     "text": [
      "STIPS Version 2.0.0 with Data Version 1.0.9 at /Users/halkowsi/STScI-STIPS/ref_data/stips_data.\n",
      "\tSTIPS Grid Generated with 1.0.8\n",
      "Pandeia Version 1.7 with Data Version 1.7 at /Users/halkowsi/STScI-STIPS/ref_data/pandeia_data-1.7_roman.\n",
      "Webbpsf Version 1.0.0 with Data Version 1.0.0 at /Users/halkowsi/STScI-STIPS/ref_data/webbpsf-data.\n",
      "\n"
     ]
    }
   ],
   "source": [
    "import stips\n",
    "\n",
    "print(stips.__env__report__)"
   ]
  },
  {
   "cell_type": "markdown",
   "metadata": {},
   "source": [
    "## Setting up some Basics\n",
    "\n",
    "STIPS allows you to set up some basic elements of your observation and pass them when creating and running observations. The section below shows one way to set these up."
   ]
  },
  {
   "cell_type": "code",
   "execution_count": 2,
   "metadata": {},
   "outputs": [],
   "source": [
    "obs_prefix = 'notebook_example'\n",
    "obs_ra = 150.0\n",
    "obs_dec = -2.5"
   ]
  },
  {
   "cell_type": "markdown",
   "metadata": {},
   "source": [
    "## Creating a Scene to Observe\n",
    "\n",
    "STIPS contains functions to generate stellar populations as well as background galaxies. These functions are all present in the `SceneModule` class. In order to know what sort of populations to generate, the Scene Module requires input dictionaries to specify population parameters. In this example, we will create the following:\n",
    "\n",
    "* A stellar population representing a globular cluster with\n",
    "  * 10,000 stars\n",
    "  * An age of 7.5 billion years\n",
    "  * A metallicity of -2.0\n",
    "  * A Salpeter IMF with alpha=-2.35\n",
    "  * A binary fraction of 10%\n",
    "  * A clustered distribution (higher-mass stars closer to the population centre)\n",
    "  * An inverse power-law distribution\n",
    "  * A radius of 100 parsecs\n",
    "  * A distance of 20 kpc\n",
    "  * No offset from the centre of the scene being created\n",
    "* A collection of background galaxies with\n",
    "  * 100 galaxies\n",
    "  * Redshifts between 0 and 0.2\n",
    "  * Radii between 0.01 and 2.0 arcsec\n",
    "  * V-band surface brightness magnitudes between 25 and 30\n",
    "  * Uniform spatial distribution (unclustered) over 200 arcsec\n",
    "  * No offset from the centre of the scene being created\n",
    "  "
   ]
  },
  {
   "cell_type": "code",
   "execution_count": 3,
   "metadata": {},
   "outputs": [
    {
     "name": "stderr",
     "output_type": "stream",
     "text": [
      "2020-10-14 13:03:10,044 INFO: Creating catalogue /Users/york/Projects/stips/tmp/notebook_example_stars_000.fits\n",
      "2020-10-14 13:03:10,045 INFO: Creating age and metallicity numbers\n",
      "2020-10-14 13:03:10,045 INFO: Created age and metallicity numbers\n",
      "2020-10-14 13:03:10,046 INFO: Creating stars\n",
      "2020-10-14 13:03:10,046 INFO: Age 1.35e+10\n",
      "2020-10-14 13:03:10,047 INFO: Metallicity -2.000000\n",
      "2020-10-14 13:03:10,047 INFO: Creating 50000 stars\n"
     ]
    },
    {
     "name": "stdout",
     "output_type": "stream",
     "text": [
      "Log level: INFO\n"
     ]
    },
    {
     "name": "stderr",
     "output_type": "stream",
     "text": [
      "2020-10-14 13:03:10,419 INFO: Creating 50000 objects, max radius 100.0, function invpow, scale 2.8\n",
      "2020-10-14 13:03:10,579 INFO: Chunk 1: 54987 stars\n",
      "WARNING: UnitsWarning: 'degrees' did not parse as fits unit: At col 0, Unit 'degrees' not supported by the FITS standard.  If this is meant to be a custom unit, define it with 'u.def_unit'. To have it recognized inside a file reader or other code, enable it with 'u.add_enabled_units'. For details, see https://docs.astropy.org/en/latest/units/combining_and_defining.html [astropy.units.core]\n",
      "WARNING: UnitsWarning: 'years' did not parse as fits unit: At col 0, Unit 'years' not supported by the FITS standard.  If this is meant to be a custom unit, define it with 'u.def_unit'. To have it recognized inside a file reader or other code, enable it with 'u.add_enabled_units'. For details, see https://docs.astropy.org/en/latest/units/combining_and_defining.html [astropy.units.core]\n",
      "WARNING: UnitsWarning: 'solar masses' did not parse as fits unit: At col 0, Unit 'solar' not supported by the FITS standard.  If this is meant to be a custom unit, define it with 'u.def_unit'. To have it recognized inside a file reader or other code, enable it with 'u.add_enabled_units'. For details, see https://docs.astropy.org/en/latest/units/combining_and_defining.html [astropy.units.core]\n",
      "WARNING: UnitsWarning: 'johnson,i' did not parse as fits unit: At col 0, Unit 'johnson' not supported by the FITS standard.  If this is meant to be a custom unit, define it with 'u.def_unit'. To have it recognized inside a file reader or other code, enable it with 'u.add_enabled_units'. For details, see https://docs.astropy.org/en/latest/units/combining_and_defining.html [astropy.units.core]\n",
      "WARNING: VerifyWarning: Keyword name 'distribution' is greater than 8 characters or contains characters not allowed by the FITS standard; a HIERARCH card will be created. [astropy.io.fits.card]\n",
      "WARNING: VerifyWarning: Keyword name 'clustered' is greater than 8 characters or contains characters not allowed by the FITS standard; a HIERARCH card will be created. [astropy.io.fits.card]\n",
      "WARNING: VerifyWarning: Keyword name 'radius_units' is greater than 8 characters or contains characters not allowed by the FITS standard; a HIERARCH card will be created. [astropy.io.fits.card]\n",
      "WARNING: VerifyWarning: Keyword name 'offset_ra' is greater than 8 characters or contains characters not allowed by the FITS standard; a HIERARCH card will be created. [astropy.io.fits.card]\n",
      "WARNING: VerifyWarning: Keyword name 'offset_dec' is greater than 8 characters or contains characters not allowed by the FITS standard; a HIERARCH card will be created. [astropy.io.fits.card]\n",
      "2020-10-14 13:03:10,695 INFO: Done creating catalogue\n",
      "2020-10-14 13:03:10,696 INFO: Creating catalogue /Users/york/Projects/stips/tmp/notebook_example_gals_000.fits\n",
      "2020-10-14 13:03:10,697 INFO: Wrote preamble\n",
      "2020-10-14 13:03:10,697 INFO: Parameters are: {'n_gals': 1000, 'z_low': 0.0, 'z_high': 0.2, 'rad_low': 0.01, 'rad_high': 2.0, 'sb_v_low': 30.0, 'sb_v_high': 25.0, 'distribution': 'uniform', 'clustered': False, 'radius': 200.0, 'radius_units': 'arcsec', 'offset_ra': 0.0, 'offset_dec': 0.0}\n",
      "2020-10-14 13:03:10,717 INFO: Making Co-ordinates\n",
      "2020-10-14 13:03:10,718 INFO: Creating 1000 objects, max radius 200.0, function uniform, scale 2.8\n",
      "2020-10-14 13:03:10,718 INFO: Converting Co-ordinates into RA,DEC\n",
      "WARNING: UnitsWarning: 'johnson,v' did not parse as fits unit: At col 0, Unit 'johnson' not supported by the FITS standard.  If this is meant to be a custom unit, define it with 'u.def_unit'. To have it recognized inside a file reader or other code, enable it with 'u.add_enabled_units'. For details, see https://docs.astropy.org/en/latest/units/combining_and_defining.html [astropy.units.core]\n",
      "2020-10-14 13:03:10,776 INFO: Done creating catalogue\n"
     ]
    },
    {
     "name": "stdout",
     "output_type": "stream",
     "text": [
      "Stellar population saved to file /Users/york/Projects/stips/tmp/notebook_example_stars_000.fits\n",
      "Galaxy population saved to file /Users/york/Projects/stips/tmp/notebook_example_gals_000.fits\n"
     ]
    }
   ],
   "source": [
    "from stips.scene_module import SceneModule\n",
    "\n",
    "scm = SceneModule(out_prefix=obs_prefix, ra=obs_ra, dec=obs_dec)\n",
    "\n",
    "stellar_parameters = {\n",
    "                      'n_stars': 100,\n",
    "                      'age_low': 7.5e12, \n",
    "                      'age_high': 7.5e12,\n",
    "                      'z_low': -2.0, \n",
    "                      'z_high': -2.0,\n",
    "                      'imf': 'salpeter', \n",
    "                      'alpha': -2.35,\n",
    "                      'binary_fraction': 0.1,\n",
    "                      'clustered': True,\n",
    "                      'distribution': 'invpow',\n",
    "                      'radius': 100.0, \n",
    "                      'radius_units': 'pc',\n",
    "                      'distance_low': 20.0, \n",
    "                      'distance_high': 20.0,\n",
    "                      'offset_ra': 0.0, \n",
    "                      'offset_dec': 0.0\n",
    "                     }\n",
    "\n",
    "stellar_cat_file = scm.CreatePopulation(stellar_parameters)\n",
    "print(\"Stellar population saved to file {}\".format(stellar_cat_file))\n",
    "\n",
    "galaxy_parameters = {\n",
    "                     'n_gals': 10,\n",
    "                     'z_low': 0.0, \n",
    "                     'z_high': 0.2,\n",
    "                     'rad_low': 0.01, \n",
    "                     'rad_high': 2.0,\n",
    "                     'sb_v_low': 30.0, \n",
    "                     'sb_v_high': 25.0,\n",
    "                     'distribution': 'uniform', \n",
    "                     'clustered': False,\n",
    "                     'radius': 200.0, \n",
    "                     'radius_units': 'arcsec',\n",
    "                     'offset_ra': 0.0, \n",
    "                     'offset_dec': 0.0\n",
    "                    }\n",
    "\n",
    "galaxy_cat_file = scm.CreateGalaxies(galaxy_parameters)\n",
    "print(\"Galaxy population saved to file {}\".format(galaxy_cat_file))\n",
    "\n"
   ]
  },
  {
   "cell_type": "markdown",
   "metadata": {},
   "source": [
    "## Creating a STIPS observation\n",
    "\n",
    "Once a scene has been created, it's possible to observe that scene as many times as you wish (and from as many places as you wish, although obviously any observation that doesn't include at least some of the scene will simply be an empty exposure). In this case, we create a single Roman WFI observation.\n",
    "\n",
    "STIPS uses a bit of specialialized terminology to describe its observations. In particular:\n",
    "\n",
    "* An Observation is a set of exposures with a single instrument (e.g. Roman WFI), one or more filters (where each\n",
    "  exposure in the observation will be repeated for every included filter), some number of the instrument's \n",
    "  detectors (for WFI between 1 and 18), where each exposure in the observation will be repeated, with the \n",
    "  appropriate inter-detector offset, for every included detector, a single chosen sky background value, and a  \n",
    "  single exposure time (applied to each exposure in the observation), and one or more offsets.\n",
    "* An Offset is a single telescope pointing. For each offset specified in the observation, an exposure will be \n",
    "  created for each detector and each filter at the offset. STIPS may, optionally, create one or more mosaics at \n",
    "  each offset, with a single mosaic including all detectors with the same filter. In addition, STIPS can create a \n",
    "  single combined mosaic for each filter in the combined Observation.\n",
    "\n",
    "In this case, we will create an observation with:\n",
    "\n",
    "* Roman WFI F129\n",
    "* 1 detector\n",
    "* No distortion\n",
    "* A background rate of 0.15 counts/s/pixel\n",
    "* The ID 1\n",
    "* An exposure time of 1000 seconds\n",
    "\n",
    "We will use a single offset with\n",
    "\n",
    "* An ID of 1\n",
    "* No centring (if an offset is centred then, for a multi-detector observation, each detector is centred on the   \n",
    "  offset co-ordinates individually rather than the instrument as a whole being centred there)\n",
    "* No change in RA, DEC, or PA from the centre of the observation\n"
   ]
  },
  {
   "cell_type": "code",
   "execution_count": 4,
   "metadata": {},
   "outputs": [
    {
     "name": "stderr",
     "output_type": "stream",
     "text": [
      "2020-10-14 13:03:25,686 INFO: Got offsets as [{'offset_id': 1, 'offset_centre': False, 'offset_ra': 0.0, 'offset_dec': 0.0, 'offset_pa': 0.0}]\n",
      "2020-10-14 13:03:25,812 INFO: Adding observation with filter F129 and offset (0.0,0.0,0.0)\n",
      "2020-10-14 13:03:25,813 INFO: Added 1 observations\n",
      "2020-10-14 13:03:25,844 INFO: WFI with 1 detectors. Central offset (0.0, 0.0, 0.0)\n",
      "2020-10-14 13:03:25,844 INFO: Initializing Observation 0 of 1\n",
      "2020-10-14 13:03:25,845 INFO: Observation Filter is F129\n",
      "2020-10-14 13:03:25,845 INFO: Observation (RA,DEC) = (150.000000,-2.500000) with PA=0.000000\n",
      "2020-10-14 13:03:25,846 INFO: Resetting\n",
      "2020-10-14 13:03:25,846 INFO: Creating Detector SCA01 with (RA,DEC,PA) = (150.0,-2.5,0.0)\n",
      "2020-10-14 13:03:25,847 INFO: Creating Detector SCA01 with offset (0.0,0.0)\n",
      "2020-10-14 13:03:25,885 INFO: Creating Instrument with Configuration {'aperture': 'any', 'disperser': None, 'filter': 'f129', 'instrument': 'wfirstimager', 'mode': 'imaging'}\n",
      "2020-10-14 13:03:25,982 INFO: PSF File psf_WFI_1.0.8_F129_1_1_sca01.fits to be put at /Users/york/Data/Reference/stips_data-1.0.9/psf_cache\n",
      "2020-10-14 13:03:25,983 INFO: PSF File is /Users/york/Data/Reference/stips_data-1.0.9/psf_cache/psf_WFI_1.0.8_F129_1_1_sca01.fits\n",
      "2020-10-14 13:03:26,164 INFO: PSF choosing between 4096, 4096 and 176\n",
      "2020-10-14 13:03:26,171 INFO: SCA01: Starting 1x1 PSF Grid creation at Wed Oct 14 13:03:26 2020\n",
      "Pysynphot unavailable (or invalid source supplied)!   Assuming flat # of counts versus wavelength.\n",
      "CAUTION: Just interpolating rather than integrating filter profile, over 10 steps\n"
     ]
    },
    {
     "name": "stdout",
     "output_type": "stream",
     "text": [
      "\n",
      "Running instrument: WFI, filter: F129\n",
      "  Running detector: SCA01\n",
      "    Position 1/1: (2047, 2047) pixels\n"
     ]
    },
    {
     "name": "stderr",
     "output_type": "stream",
     "text": [
      "2020-10-14 13:03:40,074 INFO: SCA01: Finished PSF Grid creation at Wed Oct 14 13:03:40 2020\n",
      "2020-10-14 13:03:40,148 INFO: SCA01: (RA, DEC, PA) := (150.0, -2.5, 0.0), detected as (150.0, -2.5, 0.0)\n",
      "2020-10-14 13:03:40,149 INFO: Detector SCA01 created\n",
      "2020-10-14 13:03:40,150 INFO: Reset Instrument\n",
      "2020-10-14 13:03:40,150 ERROR: Error Parsing Background: 0.15\n"
     ]
    },
    {
     "name": "stdout",
     "output_type": "stream",
     "text": [
      "  Saving file: /Users/york/Data/Reference/stips_data-1.0.9/psf_cache/psf_WFI_1.0.8_F129_1_1_sca01.fits\n"
     ]
    },
    {
     "data": {
      "text/plain": [
       "0"
      ]
     },
     "execution_count": 4,
     "metadata": {},
     "output_type": "execute_result"
    }
   ],
   "source": [
    "from stips.observation_module import ObservationModule\n",
    "\n",
    "offset = {\n",
    "          'offset_id': 1,\n",
    "          'offset_centre': False,\n",
    "          'offset_ra': 0.0,\n",
    "          'offset_dec': 0.0,\n",
    "          'offset_pa': 0.0\n",
    "         }\n",
    "\n",
    "observation_parameters = {\n",
    "                          'instrument': 'WFI',\n",
    "                          'filters': ['F129'],\n",
    "                          'detectors': 1,\n",
    "                          'distortion': False,\n",
    "                          'background': 0.15,\n",
    "                          'observations_id': 1,\n",
    "                          'exptime': 1000,\n",
    "                          'offsets': [offset]\n",
    "                         }\n",
    "\n",
    "obm = ObservationModule(observation_parameters, out_prefix=obs_prefix, ra=obs_ra, dec=obs_dec)\n",
    "\n",
    "# nextObservation is called to move between different combinations of offset and filter.\n",
    "# It must be called once in order to initialize the observation module to the first observation before\n",
    "#     adding catalogues.\n",
    "obm.nextObservation()\n"
   ]
  },
  {
   "cell_type": "markdown",
   "metadata": {},
   "source": [
    "## Observing the Scene\n",
    "\n",
    "In order to observe the scene, we must add the scene catalogues created above to it, add in error residuals, and finalize the observation. In so doing, we create output catalogues which are taken from the input catalogues, but only contain the sources visible to the detectors, and convert source brightnesses into units of counts/s for the detectors."
   ]
  },
  {
   "cell_type": "code",
   "execution_count": null,
   "metadata": {},
   "outputs": [
    {
     "name": "stderr",
     "output_type": "stream",
     "text": [
      "2020-10-14 13:03:56,238 INFO: Running catalogue /Users/york/Projects/stips/tmp/notebook_example_stars_000.fits\n",
      "2020-10-14 13:03:56,239 INFO: Adding catalogue /Users/york/Projects/stips/tmp/notebook_example_stars_000.fits\n",
      "2020-10-14 13:03:56,375 INFO: Converting phoenix catalogue\n",
      "2020-10-14 13:03:56,376 INFO: Preparing output table\n",
      "2020-10-14 13:03:56,425 INFO: Converting chunk 2\n",
      "2020-10-14 13:03:56,425 INFO: Converting Phoenix Table to Internal format\n",
      "2020-10-14 13:03:56,427 INFO: 1 datasets\n",
      "2020-10-14 13:03:57,202 INFO: Finished converting catalogue to internal format\n",
      "2020-10-14 13:03:57,203 INFO: Adding catalogue to detector SCA01\n",
      "2020-10-14 13:03:57,203 INFO: Adding catalogue notebook_example_stars_000_01_conv_F129.fits to AstroImage SCA01\n",
      "2020-10-14 13:03:57,224 INFO: Determining pixel co-ordinates\n",
      "2020-10-14 13:03:57,233 INFO: Keeping 37520 items\n",
      "2020-10-14 13:03:57,239 INFO: Writing 37520 stars\n",
      "2020-10-14 13:03:57,240 INFO: Adding 37520 point sources to AstroImage SCA01\n",
      "WARNING: UnitsWarning: 'counts/s' did not parse as fits unit: At col 0, Unit 'counts' not supported by the FITS standard. Did you mean count? If this is meant to be a custom unit, define it with 'u.def_unit'. To have it recognized inside a file reader or other code, enable it with 'u.add_enabled_units'. For details, see https://docs.astropy.org/en/latest/units/combining_and_defining.html [astropy.units.core]\n",
      "WARNING: VerifyWarning: Keyword name 'input_catalogue' is greater than 8 characters or contains characters not allowed by the FITS standard; a HIERARCH card will be created. [astropy.io.fits.card]\n",
      "2020-10-14 13:03:57,457 INFO: Added catalogue notebook_example_stars_000_01_conv_F129.fits to AstroImage SCA01\n",
      "2020-10-14 13:03:57,459 INFO: Finished catalogue /Users/york/Projects/stips/tmp/notebook_example_stars_000.fits\n",
      "2020-10-14 13:03:57,459 INFO: Running catalogue /Users/york/Projects/stips/tmp/notebook_example_gals_000.fits\n",
      "2020-10-14 13:03:57,460 INFO: Adding catalogue /Users/york/Projects/stips/tmp/notebook_example_gals_000.fits\n",
      "2020-10-14 13:03:57,486 INFO: Converting bc95 catalogue\n",
      "2020-10-14 13:03:57,486 INFO: Preparing output table\n",
      "2020-10-14 13:03:57,533 INFO: Converting chunk 2\n",
      "2020-10-14 13:03:57,534 INFO: Converting BC95 Catalogue\n",
      "2020-10-14 13:03:57,534 INFO: Normalization Bandpass is johnson,v (<class 'str'>)\n",
      "2020-10-14 13:03:57,535 INFO: Normalization Bandpass is johnson,v\n",
      "2020-10-14 13:04:01,825 WARNING: Source 78 of 1000: Pysynphot Error Error using Synphot to perform bandpass normalization in SpectralElement\n",
      "Model: Empirical1D\n",
      "N_inputs: 1\n",
      "N_outputs: 1\n",
      "Parameters: \n",
      "  points: (array([4700., 4750., 4800., 4850., 4900., 4950., 5000., 5050., 5100.,\n",
      "       5150., 5200., 5250., 5300., 5350., 5400., 5450., 5500., 5550.,\n",
      "       5600., 5650., 5700., 5750., 5800., 5850., 5900., 5950., 6000.,\n",
      "       6050., 6100., 6150., 6200., 6250., 6300., 6350., 6400., 6450.,\n",
      "       6500., 6550., 6600., 6650., 6700., 6750., 6800., 6850., 6900.,\n",
      "       6950., 7000.], dtype=float32),)\n",
      "  lookup_table: [0.    0.004 0.032 0.084 0.172 0.31  0.478 0.65  0.802 0.913 0.978 1.\n",
      " 0.994 0.977 0.95  0.911 0.862 0.806 0.747 0.69  0.634 0.579 0.523 0.467\n",
      " 0.413 0.363 0.317 0.274 0.234 0.2   0.168 0.14  0.114 0.089 0.067 0.05\n",
      " 0.037 0.027 0.02  0.016 0.013 0.012 0.01  0.009 0.007 0.004 0.   ]\n",
      "  method: linear\n",
      "  fill_value: 0\n",
      "  bounds_error: FalseSynphotError('Integrated flux is <= 0') encountered\n",
      "2020-10-14 13:04:03,366 WARNING: Source 108 of 1000: Pysynphot Error Error using Synphot to perform bandpass normalization in SpectralElement\n",
      "Model: Empirical1D\n",
      "N_inputs: 1\n",
      "N_outputs: 1\n",
      "Parameters: \n",
      "  points: (array([4700., 4750., 4800., 4850., 4900., 4950., 5000., 5050., 5100.,\n",
      "       5150., 5200., 5250., 5300., 5350., 5400., 5450., 5500., 5550.,\n",
      "       5600., 5650., 5700., 5750., 5800., 5850., 5900., 5950., 6000.,\n",
      "       6050., 6100., 6150., 6200., 6250., 6300., 6350., 6400., 6450.,\n",
      "       6500., 6550., 6600., 6650., 6700., 6750., 6800., 6850., 6900.,\n",
      "       6950., 7000.], dtype=float32),)\n",
      "  lookup_table: [0.    0.004 0.032 0.084 0.172 0.31  0.478 0.65  0.802 0.913 0.978 1.\n",
      " 0.994 0.977 0.95  0.911 0.862 0.806 0.747 0.69  0.634 0.579 0.523 0.467\n",
      " 0.413 0.363 0.317 0.274 0.234 0.2   0.168 0.14  0.114 0.089 0.067 0.05\n",
      " 0.037 0.027 0.02  0.016 0.013 0.012 0.01  0.009 0.007 0.004 0.   ]\n",
      "  method: linear\n",
      "  fill_value: 0\n",
      "  bounds_error: FalseSynphotError('Integrated flux is <= 0') encountered\n"
     ]
    }
   ],
   "source": [
    "output_stellar_catalogues = obm.addCatalogue(stellar_cat_file)\n",
    "output_galaxy_catalogues = obm.addCatalogue(galaxy_cat_file)\n",
    "\n",
    "print(\"Output Catalogues are {} and {}.\".format(output_stellar_catalogues, output_galaxy_catalogues))\n",
    "\n",
    "psf_file = obm.addError()\n",
    "\n",
    "print(\"PSF File is {}\".format(psf_file))\n",
    "\n",
    "fits_file, mosaic_file, params = obm.finalize(mosaic=False)\n",
    "\n",
    "print(\"Output FITS file is {}\".format(fits_file))\n",
    "print(\"Output Mosaic File is {}\".format(mosaic_file))\n",
    "print(\"Observation Parameters are {}\".format(params))"
   ]
  },
  {
   "cell_type": "markdown",
   "metadata": {},
   "source": [
    "## Show the Result\n",
    "\n",
    "We use pyplot to plot the resulting simulated image."
   ]
  },
  {
   "cell_type": "code",
   "execution_count": null,
   "metadata": {},
   "outputs": [],
   "source": [
    "%matplotlib inline\n",
    "%config InlineBackend.figure_format = 'svg'\n",
    "import matplotlib\n",
    "from matplotlib import style\n",
    "matplotlib.rcParams['axes.grid'] = False\n",
    "matplotlib.rcParams['image.origin'] = 'lower'\n",
    "import matplotlib.pyplot as plt\n",
    "from astropy.io import fits\n",
    "\n",
    "with fits.open(fits_file) as result_file:\n",
    "    result_data = result_file[1].data\n",
    "\n",
    "fig1 = plt.figure()\n",
    "im = plt.matshow(result_data, norm=matplotlib.colors.LogNorm())\n"
   ]
  }
 ],
 "metadata": {
  "kernelspec": {
   "display_name": "Python 3 (ipykernel)",
   "language": "python",
   "name": "python3"
  },
  "language_info": {
   "codemirror_mode": {
    "name": "ipython",
    "version": 3
   },
   "file_extension": ".py",
   "mimetype": "text/x-python",
   "name": "python",
   "nbconvert_exporter": "python",
   "pygments_lexer": "ipython3",
   "version": "3.9.12"
  }
 },
 "nbformat": 4,
 "nbformat_minor": 4
}
