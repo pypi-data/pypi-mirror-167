{
  "cells": [
    {
      "cell_type": "markdown",
      "metadata": {},
      "source": [
        "[![Open In Colab](https://colab.research.google.com/assets/colab-badge.svg)](https://colab.research.google.com/github/sparks-baird/self-driving-lab-demo/blob/main/notebooks/4.1-paho-mqtt-colab-sdl-demo-search.ipynb)"
      ]
    },
    {
      "cell_type": "markdown",
      "metadata": {
        "id": "3SqGTCMkhrC7"
      },
      "source": [
        "# Optimization Comparison using Internet of Things-style Communication\n",
        "\n",
        "The other device could be your laptop, a Google Colab script, etc."
      ]
    },
    {
      "cell_type": "code",
      "execution_count": 1,
      "metadata": {
        "id": "o2vqpULnaaWR"
      },
      "outputs": [],
      "source": [
        "try:\n",
        "  import google.colab\n",
        "  IN_COLAB = True\n",
        "except:\n",
        "  IN_COLAB = False  "
      ]
    },
    {
      "cell_type": "code",
      "execution_count": 2,
      "metadata": {
        "colab": {
          "base_uri": "https://localhost:8080/"
        },
        "id": "36C-UDjGemiM",
        "outputId": "7323469b-7573-4337-f238-7f54e8be0cfb"
      },
      "outputs": [],
      "source": [
        "if IN_COLAB:\n",
        "  %pip install self-driving-lab-demo paho-mqtt"
      ]
    },
    {
      "cell_type": "markdown",
      "metadata": {
        "id": "KhLz9DT3etkG"
      },
      "source": [
        "## Pico ID\n",
        "\n",
        "Load a unique identifier for your Pico device from a `pico_id_secret.py` file that you store in your Google Drive (see below) or current directory (`.`), or specify it manually by setting the `PICO_ID` variable in the form field. If you don't know what the ID is, you can get it by running the following in the Pico REPL (i.e. MicroPython shell, e.g. in Thonny):\n",
        "```python\n",
        "from machine import unique_id\n",
        "from ubinascii import hexlify\n",
        "my_id = hexlify(unique_id()).decode()\n",
        "print(my_id)\n",
        "```\n",
        "\n",
        "For your convenience, this is done already in [`main.py`](https://github.com/sparks-baird/self-driving-lab-demo/blob/06ededd312087a815b5c0ac8098e82db9c5730c8/src/public_mqtt_sdl_demo/main.py) so you need only run this file once the Pico W has been properly set up and it will be displayed in the terminal.\n",
        "\n",
        "The file named `pico_id_secret.py` placed directly in your `MyDrive` folder or in your current directory would look like the following:\n",
        "```python\n",
        "PICO_ID = \"a123b1234azed\"\n",
        "```"
      ]
    },
    {
      "cell_type": "code",
      "execution_count": 3,
      "metadata": {
        "cellView": "form",
        "colab": {
          "base_uri": "https://localhost:8080/"
        },
        "id": "zs5raYNPfF1D",
        "outputId": "3575c2f7-7dff-4362-dc47-4de9e27604fb"
      },
      "outputs": [],
      "source": [
        "#@markdown No need to enter this manually if you've already saved the appropriate file to your Google Drive. Just run this cell and the hidden code will take care of it.\n",
        "import sys\n",
        "secret_name = \"PICO_ID\"\n",
        "if IN_COLAB:\n",
        "  try:\n",
        "    from google.colab import drive\n",
        "    drive.mount('/content/drive')\n",
        "    sys.path.append('/content/drive/MyDrive/')\n",
        "    from pico_id_secret import PICO_ID\n",
        "  except Exception as e:\n",
        "    print(e)\n",
        "    PICO_ID = \"test\" #@param {type:\"string\"}\n",
        "    if PICO_ID == \"\":\n",
        "      print(f\"Couldn't load {secret_name}, and user-input {secret_name} is also empty.\")\n",
        "    else:\n",
        "      print(f\"defaulting to user-input PICO_ID: {PICO_ID}\")\n",
        "else:\n",
        "  from public_mqtt_sdl_demo.secrets import PICO_ID"
      ]
    },
    {
      "cell_type": "code",
      "execution_count": 4,
      "metadata": {
        "colab": {
          "base_uri": "https://localhost:8080/"
        },
        "id": "trkRwC0zaPgB",
        "outputId": "ce939777-45b9-47ca-9ca2-634301a6d8b8"
      },
      "outputs": [],
      "source": [
        "from self_driving_lab_demo import SelfDrivingLabDemo, mqtt_observe_sensor_data\n",
        "\n",
        "sdl = SelfDrivingLabDemo(\n",
        "    autoload=True,\n",
        "    observe_sensor_data_fn=mqtt_observe_sensor_data,\n",
        "    observe_sensor_data_kwargs=dict(pico_id=PICO_ID),\n",
        ")\n",
        "sdl.clear()"
      ]
    },
    {
      "cell_type": "markdown",
      "metadata": {},
      "source": [
        "We've gone through enough boilerplate code and comparisons by this point that it's\n",
        "prudent to define and import helper functions based on content from previous notebooks\n",
        "(e.g. [`3.1-random-vs-grid-vs-bayesian.ipynb`](3.1-random-vs-grid-vs-bayesian.ipynb))"
      ]
    },
    {
      "cell_type": "code",
      "execution_count": 9,
      "metadata": {
        "id": "D2HPBznJaVry"
      },
      "outputs": [
        {
          "name": "stderr",
          "output_type": "stream",
          "text": [
            "[INFO 09-09 23:35:29] ax.service.utils.instantiation: Inferred value type of ParameterType.INT for parameter R. If that is not the expected value type, you can explicity specify 'value_type' ('int', 'float', 'bool' or 'str') in parameter dict.\n",
            "[INFO 09-09 23:35:29] ax.service.utils.instantiation: Inferred value type of ParameterType.INT for parameter G. If that is not the expected value type, you can explicity specify 'value_type' ('int', 'float', 'bool' or 'str') in parameter dict.\n",
            "[INFO 09-09 23:35:29] ax.service.utils.instantiation: Inferred value type of ParameterType.INT for parameter B. If that is not the expected value type, you can explicity specify 'value_type' ('int', 'float', 'bool' or 'str') in parameter dict.\n",
            "[INFO 09-09 23:35:29] ax.service.utils.instantiation: Created search space: SearchSpace(parameters=[RangeParameter(name='R', parameter_type=INT, range=[0, 89]), RangeParameter(name='G', parameter_type=INT, range=[0, 89]), RangeParameter(name='B', parameter_type=INT, range=[0, 89])], parameter_constraints=[]).\n",
            "[INFO 09-09 23:35:29] ax.modelbridge.dispatch_utils: Using Bayesian optimization since there are more ordered parameters than there are categories for the unordered categorical parameters.\n",
            "[INFO 09-09 23:35:29] ax.modelbridge.dispatch_utils: Using Bayesian Optimization generation strategy: GenerationStrategy(name='Sobol+GPEI', steps=[Sobol for 6 trials, GPEI for subsequent trials]). Iterations after 6 will take longer to generate due to  model-fitting.\n",
            "[INFO 09-09 23:35:29] ax.service.managed_loop: Started full optimization with 64 steps.\n",
            "[INFO 09-09 23:35:29] ax.service.managed_loop: Running optimization trial 1...\n",
            "[INFO 09-09 23:35:31] ax.core.experiment: Attached data has some metrics ({'ch510', 'rmse', 'ch470', 'ch440', 'ch550', 'ch410', 'ch583', 'ch620', 'mae', 'ch670'}) that are not among the metrics on this experiment. Note that attaching data will not automatically add those metrics to the experiment. For these metrics to be automatically fetched by `experiment.fetch_data`, add them via `experiment.add_tracking_metric` or update the experiment's optimization config.\n",
            "[INFO 09-09 23:35:31] ax.service.managed_loop: Running optimization trial 2...\n",
            "[INFO 09-09 23:35:33] ax.core.experiment: Attached data has some metrics ({'ch510', 'rmse', 'ch470', 'ch440', 'ch550', 'ch410', 'ch583', 'ch620', 'mae', 'ch670'}) that are not among the metrics on this experiment. Note that attaching data will not automatically add those metrics to the experiment. For these metrics to be automatically fetched by `experiment.fetch_data`, add them via `experiment.add_tracking_metric` or update the experiment's optimization config.\n",
            "[INFO 09-09 23:35:33] ax.service.managed_loop: Running optimization trial 3...\n",
            "[INFO 09-09 23:35:35] ax.core.experiment: Attached data has some metrics ({'ch510', 'rmse', 'ch470', 'ch440', 'ch550', 'ch410', 'ch583', 'ch620', 'mae', 'ch670'}) that are not among the metrics on this experiment. Note that attaching data will not automatically add those metrics to the experiment. For these metrics to be automatically fetched by `experiment.fetch_data`, add them via `experiment.add_tracking_metric` or update the experiment's optimization config.\n",
            "[INFO 09-09 23:35:35] ax.service.managed_loop: Running optimization trial 4...\n",
            "[INFO 09-09 23:35:37] ax.core.experiment: Attached data has some metrics ({'ch510', 'rmse', 'ch470', 'ch440', 'ch550', 'ch410', 'ch583', 'ch620', 'mae', 'ch670'}) that are not among the metrics on this experiment. Note that attaching data will not automatically add those metrics to the experiment. For these metrics to be automatically fetched by `experiment.fetch_data`, add them via `experiment.add_tracking_metric` or update the experiment's optimization config.\n",
            "[INFO 09-09 23:35:37] ax.service.managed_loop: Running optimization trial 5...\n",
            "[INFO 09-09 23:35:39] ax.core.experiment: Attached data has some metrics ({'ch510', 'rmse', 'ch470', 'ch440', 'ch550', 'ch410', 'ch583', 'ch620', 'mae', 'ch670'}) that are not among the metrics on this experiment. Note that attaching data will not automatically add those metrics to the experiment. For these metrics to be automatically fetched by `experiment.fetch_data`, add them via `experiment.add_tracking_metric` or update the experiment's optimization config.\n",
            "[INFO 09-09 23:35:39] ax.service.managed_loop: Running optimization trial 6...\n",
            "[INFO 09-09 23:35:41] ax.core.experiment: Attached data has some metrics ({'ch510', 'rmse', 'ch470', 'ch440', 'ch550', 'ch410', 'ch583', 'ch620', 'mae', 'ch670'}) that are not among the metrics on this experiment. Note that attaching data will not automatically add those metrics to the experiment. For these metrics to be automatically fetched by `experiment.fetch_data`, add them via `experiment.add_tracking_metric` or update the experiment's optimization config.\n",
            "[INFO 09-09 23:35:41] ax.service.managed_loop: Running optimization trial 7...\n",
            "[INFO 09-09 23:35:45] ax.core.experiment: Attached data has some metrics ({'ch510', 'rmse', 'ch470', 'ch440', 'ch550', 'ch410', 'ch583', 'ch620', 'mae', 'ch670'}) that are not among the metrics on this experiment. Note that attaching data will not automatically add those metrics to the experiment. For these metrics to be automatically fetched by `experiment.fetch_data`, add them via `experiment.add_tracking_metric` or update the experiment's optimization config.\n",
            "[INFO 09-09 23:35:45] ax.service.managed_loop: Running optimization trial 8...\n",
            "[INFO 09-09 23:35:49] ax.core.experiment: Attached data has some metrics ({'ch510', 'rmse', 'ch470', 'ch440', 'ch550', 'ch410', 'ch583', 'ch620', 'mae', 'ch670'}) that are not among the metrics on this experiment. Note that attaching data will not automatically add those metrics to the experiment. For these metrics to be automatically fetched by `experiment.fetch_data`, add them via `experiment.add_tracking_metric` or update the experiment's optimization config.\n",
            "[INFO 09-09 23:35:49] ax.service.managed_loop: Running optimization trial 9...\n",
            "[INFO 09-09 23:35:54] ax.core.experiment: Attached data has some metrics ({'ch510', 'rmse', 'ch470', 'ch440', 'ch550', 'ch410', 'ch583', 'ch620', 'mae', 'ch670'}) that are not among the metrics on this experiment. Note that attaching data will not automatically add those metrics to the experiment. For these metrics to be automatically fetched by `experiment.fetch_data`, add them via `experiment.add_tracking_metric` or update the experiment's optimization config.\n",
            "[INFO 09-09 23:35:54] ax.service.managed_loop: Running optimization trial 10...\n",
            "[INFO 09-09 23:35:58] ax.core.experiment: Attached data has some metrics ({'ch510', 'rmse', 'ch470', 'ch440', 'ch550', 'ch410', 'ch583', 'ch620', 'mae', 'ch670'}) that are not among the metrics on this experiment. Note that attaching data will not automatically add those metrics to the experiment. For these metrics to be automatically fetched by `experiment.fetch_data`, add them via `experiment.add_tracking_metric` or update the experiment's optimization config.\n",
            "[INFO 09-09 23:35:58] ax.service.managed_loop: Running optimization trial 11...\n",
            "[INFO 09-09 23:36:02] ax.core.experiment: Attached data has some metrics ({'ch510', 'rmse', 'ch470', 'ch440', 'ch550', 'ch410', 'ch583', 'ch620', 'mae', 'ch670'}) that are not among the metrics on this experiment. Note that attaching data will not automatically add those metrics to the experiment. For these metrics to be automatically fetched by `experiment.fetch_data`, add them via `experiment.add_tracking_metric` or update the experiment's optimization config.\n",
            "[INFO 09-09 23:36:02] ax.service.managed_loop: Running optimization trial 12...\n",
            "[INFO 09-09 23:36:07] ax.core.experiment: Attached data has some metrics ({'ch510', 'rmse', 'ch470', 'ch440', 'ch550', 'ch410', 'ch583', 'ch620', 'mae', 'ch670'}) that are not among the metrics on this experiment. Note that attaching data will not automatically add those metrics to the experiment. For these metrics to be automatically fetched by `experiment.fetch_data`, add them via `experiment.add_tracking_metric` or update the experiment's optimization config.\n",
            "[INFO 09-09 23:36:07] ax.service.managed_loop: Running optimization trial 13...\n",
            "[INFO 09-09 23:36:13] ax.core.experiment: Attached data has some metrics ({'ch510', 'rmse', 'ch470', 'ch440', 'ch550', 'ch410', 'ch583', 'ch620', 'mae', 'ch670'}) that are not among the metrics on this experiment. Note that attaching data will not automatically add those metrics to the experiment. For these metrics to be automatically fetched by `experiment.fetch_data`, add them via `experiment.add_tracking_metric` or update the experiment's optimization config.\n",
            "[INFO 09-09 23:36:13] ax.service.managed_loop: Running optimization trial 14...\n",
            "[INFO 09-09 23:36:18] ax.core.experiment: Attached data has some metrics ({'ch510', 'rmse', 'ch470', 'ch440', 'ch550', 'ch410', 'ch583', 'ch620', 'mae', 'ch670'}) that are not among the metrics on this experiment. Note that attaching data will not automatically add those metrics to the experiment. For these metrics to be automatically fetched by `experiment.fetch_data`, add them via `experiment.add_tracking_metric` or update the experiment's optimization config.\n",
            "[INFO 09-09 23:36:18] ax.service.managed_loop: Running optimization trial 15...\n",
            "[INFO 09-09 23:36:24] ax.core.experiment: Attached data has some metrics ({'ch510', 'rmse', 'ch470', 'ch440', 'ch550', 'ch410', 'ch583', 'ch620', 'mae', 'ch670'}) that are not among the metrics on this experiment. Note that attaching data will not automatically add those metrics to the experiment. For these metrics to be automatically fetched by `experiment.fetch_data`, add them via `experiment.add_tracking_metric` or update the experiment's optimization config.\n",
            "[INFO 09-09 23:36:24] ax.service.managed_loop: Running optimization trial 16...\n",
            "[INFO 09-09 23:36:31] ax.core.experiment: Attached data has some metrics ({'ch510', 'rmse', 'ch470', 'ch440', 'ch550', 'ch410', 'ch583', 'ch620', 'mae', 'ch670'}) that are not among the metrics on this experiment. Note that attaching data will not automatically add those metrics to the experiment. For these metrics to be automatically fetched by `experiment.fetch_data`, add them via `experiment.add_tracking_metric` or update the experiment's optimization config.\n",
            "[INFO 09-09 23:36:31] ax.service.managed_loop: Running optimization trial 17...\n",
            "[INFO 09-09 23:36:36] ax.core.experiment: Attached data has some metrics ({'ch510', 'rmse', 'ch470', 'ch440', 'ch550', 'ch410', 'ch583', 'ch620', 'mae', 'ch670'}) that are not among the metrics on this experiment. Note that attaching data will not automatically add those metrics to the experiment. For these metrics to be automatically fetched by `experiment.fetch_data`, add them via `experiment.add_tracking_metric` or update the experiment's optimization config.\n",
            "[INFO 09-09 23:36:36] ax.service.managed_loop: Running optimization trial 18...\n",
            "[INFO 09-09 23:36:42] ax.core.experiment: Attached data has some metrics ({'ch510', 'rmse', 'ch470', 'ch440', 'ch550', 'ch410', 'ch583', 'ch620', 'mae', 'ch670'}) that are not among the metrics on this experiment. Note that attaching data will not automatically add those metrics to the experiment. For these metrics to be automatically fetched by `experiment.fetch_data`, add them via `experiment.add_tracking_metric` or update the experiment's optimization config.\n",
            "[INFO 09-09 23:36:42] ax.service.managed_loop: Running optimization trial 19...\n",
            "[INFO 09-09 23:36:48] ax.core.experiment: Attached data has some metrics ({'ch510', 'rmse', 'ch470', 'ch440', 'ch550', 'ch410', 'ch583', 'ch620', 'mae', 'ch670'}) that are not among the metrics on this experiment. Note that attaching data will not automatically add those metrics to the experiment. For these metrics to be automatically fetched by `experiment.fetch_data`, add them via `experiment.add_tracking_metric` or update the experiment's optimization config.\n",
            "[INFO 09-09 23:36:48] ax.service.managed_loop: Running optimization trial 20...\n",
            "[INFO 09-09 23:36:55] ax.core.experiment: Attached data has some metrics ({'ch510', 'rmse', 'ch470', 'ch440', 'ch550', 'ch410', 'ch583', 'ch620', 'mae', 'ch670'}) that are not among the metrics on this experiment. Note that attaching data will not automatically add those metrics to the experiment. For these metrics to be automatically fetched by `experiment.fetch_data`, add them via `experiment.add_tracking_metric` or update the experiment's optimization config.\n",
            "[INFO 09-09 23:36:55] ax.service.managed_loop: Running optimization trial 21...\n",
            "[INFO 09-09 23:37:02] ax.core.experiment: Attached data has some metrics ({'ch510', 'rmse', 'ch470', 'ch440', 'ch550', 'ch410', 'ch583', 'ch620', 'mae', 'ch670'}) that are not among the metrics on this experiment. Note that attaching data will not automatically add those metrics to the experiment. For these metrics to be automatically fetched by `experiment.fetch_data`, add them via `experiment.add_tracking_metric` or update the experiment's optimization config.\n",
            "[INFO 09-09 23:37:02] ax.service.managed_loop: Running optimization trial 22...\n",
            "[INFO 09-09 23:37:09] ax.core.experiment: Attached data has some metrics ({'ch510', 'rmse', 'ch470', 'ch440', 'ch550', 'ch410', 'ch583', 'ch620', 'mae', 'ch670'}) that are not among the metrics on this experiment. Note that attaching data will not automatically add those metrics to the experiment. For these metrics to be automatically fetched by `experiment.fetch_data`, add them via `experiment.add_tracking_metric` or update the experiment's optimization config.\n",
            "[INFO 09-09 23:37:09] ax.service.managed_loop: Running optimization trial 23...\n",
            "[INFO 09-09 23:37:17] ax.core.experiment: Attached data has some metrics ({'ch510', 'rmse', 'ch470', 'ch440', 'ch550', 'ch410', 'ch583', 'ch620', 'mae', 'ch670'}) that are not among the metrics on this experiment. Note that attaching data will not automatically add those metrics to the experiment. For these metrics to be automatically fetched by `experiment.fetch_data`, add them via `experiment.add_tracking_metric` or update the experiment's optimization config.\n",
            "[INFO 09-09 23:37:17] ax.service.managed_loop: Running optimization trial 24...\n",
            "[INFO 09-09 23:37:24] ax.core.experiment: Attached data has some metrics ({'ch510', 'rmse', 'ch470', 'ch440', 'ch550', 'ch410', 'ch583', 'ch620', 'mae', 'ch670'}) that are not among the metrics on this experiment. Note that attaching data will not automatically add those metrics to the experiment. For these metrics to be automatically fetched by `experiment.fetch_data`, add them via `experiment.add_tracking_metric` or update the experiment's optimization config.\n",
            "[INFO 09-09 23:37:24] ax.service.managed_loop: Running optimization trial 25...\n",
            "[INFO 09-09 23:37:30] ax.core.experiment: Attached data has some metrics ({'ch510', 'rmse', 'ch470', 'ch440', 'ch550', 'ch410', 'ch583', 'ch620', 'mae', 'ch670'}) that are not among the metrics on this experiment. Note that attaching data will not automatically add those metrics to the experiment. For these metrics to be automatically fetched by `experiment.fetch_data`, add them via `experiment.add_tracking_metric` or update the experiment's optimization config.\n",
            "[INFO 09-09 23:37:30] ax.service.managed_loop: Running optimization trial 26...\n",
            "[INFO 09-09 23:37:35] ax.core.experiment: Attached data has some metrics ({'ch510', 'rmse', 'ch470', 'ch440', 'ch550', 'ch410', 'ch583', 'ch620', 'mae', 'ch670'}) that are not among the metrics on this experiment. Note that attaching data will not automatically add those metrics to the experiment. For these metrics to be automatically fetched by `experiment.fetch_data`, add them via `experiment.add_tracking_metric` or update the experiment's optimization config.\n",
            "[INFO 09-09 23:37:35] ax.service.managed_loop: Running optimization trial 27...\n",
            "[INFO 09-09 23:37:41] ax.core.experiment: Attached data has some metrics ({'ch510', 'rmse', 'ch470', 'ch440', 'ch550', 'ch410', 'ch583', 'ch620', 'mae', 'ch670'}) that are not among the metrics on this experiment. Note that attaching data will not automatically add those metrics to the experiment. For these metrics to be automatically fetched by `experiment.fetch_data`, add them via `experiment.add_tracking_metric` or update the experiment's optimization config.\n",
            "[INFO 09-09 23:37:41] ax.service.managed_loop: Running optimization trial 28...\n",
            "[INFO 09-09 23:37:46] ax.core.experiment: Attached data has some metrics ({'ch510', 'rmse', 'ch470', 'ch440', 'ch550', 'ch410', 'ch583', 'ch620', 'mae', 'ch670'}) that are not among the metrics on this experiment. Note that attaching data will not automatically add those metrics to the experiment. For these metrics to be automatically fetched by `experiment.fetch_data`, add them via `experiment.add_tracking_metric` or update the experiment's optimization config.\n",
            "[INFO 09-09 23:37:46] ax.service.managed_loop: Running optimization trial 29...\n",
            "[INFO 09-09 23:37:53] ax.core.experiment: Attached data has some metrics ({'ch510', 'rmse', 'ch470', 'ch440', 'ch550', 'ch410', 'ch583', 'ch620', 'mae', 'ch670'}) that are not among the metrics on this experiment. Note that attaching data will not automatically add those metrics to the experiment. For these metrics to be automatically fetched by `experiment.fetch_data`, add them via `experiment.add_tracking_metric` or update the experiment's optimization config.\n",
            "[INFO 09-09 23:37:53] ax.service.managed_loop: Running optimization trial 30...\n",
            "[INFO 09-09 23:38:00] ax.core.experiment: Attached data has some metrics ({'ch510', 'rmse', 'ch470', 'ch440', 'ch550', 'ch410', 'ch583', 'ch620', 'mae', 'ch670'}) that are not among the metrics on this experiment. Note that attaching data will not automatically add those metrics to the experiment. For these metrics to be automatically fetched by `experiment.fetch_data`, add them via `experiment.add_tracking_metric` or update the experiment's optimization config.\n",
            "[INFO 09-09 23:38:00] ax.service.managed_loop: Running optimization trial 31...\n",
            "[INFO 09-09 23:38:06] ax.core.experiment: Attached data has some metrics ({'ch510', 'rmse', 'ch470', 'ch440', 'ch550', 'ch410', 'ch583', 'ch620', 'mae', 'ch670'}) that are not among the metrics on this experiment. Note that attaching data will not automatically add those metrics to the experiment. For these metrics to be automatically fetched by `experiment.fetch_data`, add them via `experiment.add_tracking_metric` or update the experiment's optimization config.\n",
            "[INFO 09-09 23:38:06] ax.service.managed_loop: Running optimization trial 32...\n",
            "[INFO 09-09 23:38:14] ax.core.experiment: Attached data has some metrics ({'ch510', 'rmse', 'ch470', 'ch440', 'ch550', 'ch410', 'ch583', 'ch620', 'mae', 'ch670'}) that are not among the metrics on this experiment. Note that attaching data will not automatically add those metrics to the experiment. For these metrics to be automatically fetched by `experiment.fetch_data`, add them via `experiment.add_tracking_metric` or update the experiment's optimization config.\n",
            "[INFO 09-09 23:38:14] ax.service.managed_loop: Running optimization trial 33...\n",
            "[INFO 09-09 23:38:20] ax.core.experiment: Attached data has some metrics ({'ch510', 'rmse', 'ch470', 'ch440', 'ch550', 'ch410', 'ch583', 'ch620', 'mae', 'ch670'}) that are not among the metrics on this experiment. Note that attaching data will not automatically add those metrics to the experiment. For these metrics to be automatically fetched by `experiment.fetch_data`, add them via `experiment.add_tracking_metric` or update the experiment's optimization config.\n",
            "[INFO 09-09 23:38:20] ax.service.managed_loop: Running optimization trial 34...\n",
            "[INFO 09-09 23:38:26] ax.core.experiment: Attached data has some metrics ({'ch510', 'rmse', 'ch470', 'ch440', 'ch550', 'ch410', 'ch583', 'ch620', 'mae', 'ch670'}) that are not among the metrics on this experiment. Note that attaching data will not automatically add those metrics to the experiment. For these metrics to be automatically fetched by `experiment.fetch_data`, add them via `experiment.add_tracking_metric` or update the experiment's optimization config.\n",
            "[INFO 09-09 23:38:26] ax.service.managed_loop: Running optimization trial 35...\n",
            "[INFO 09-09 23:38:32] ax.core.experiment: Attached data has some metrics ({'ch510', 'rmse', 'ch470', 'ch440', 'ch550', 'ch410', 'ch583', 'ch620', 'mae', 'ch670'}) that are not among the metrics on this experiment. Note that attaching data will not automatically add those metrics to the experiment. For these metrics to be automatically fetched by `experiment.fetch_data`, add them via `experiment.add_tracking_metric` or update the experiment's optimization config.\n",
            "[INFO 09-09 23:38:32] ax.service.managed_loop: Running optimization trial 36...\n",
            "[INFO 09-09 23:38:38] ax.core.experiment: Attached data has some metrics ({'ch510', 'rmse', 'ch470', 'ch440', 'ch550', 'ch410', 'ch583', 'ch620', 'mae', 'ch670'}) that are not among the metrics on this experiment. Note that attaching data will not automatically add those metrics to the experiment. For these metrics to be automatically fetched by `experiment.fetch_data`, add them via `experiment.add_tracking_metric` or update the experiment's optimization config.\n",
            "[INFO 09-09 23:38:38] ax.service.managed_loop: Running optimization trial 37...\n",
            "[INFO 09-09 23:38:45] ax.core.experiment: Attached data has some metrics ({'ch510', 'rmse', 'ch470', 'ch440', 'ch550', 'ch410', 'ch583', 'ch620', 'mae', 'ch670'}) that are not among the metrics on this experiment. Note that attaching data will not automatically add those metrics to the experiment. For these metrics to be automatically fetched by `experiment.fetch_data`, add them via `experiment.add_tracking_metric` or update the experiment's optimization config.\n",
            "[INFO 09-09 23:38:45] ax.service.managed_loop: Running optimization trial 38...\n",
            "[INFO 09-09 23:38:51] ax.core.experiment: Attached data has some metrics ({'ch510', 'rmse', 'ch470', 'ch440', 'ch550', 'ch410', 'ch583', 'ch620', 'mae', 'ch670'}) that are not among the metrics on this experiment. Note that attaching data will not automatically add those metrics to the experiment. For these metrics to be automatically fetched by `experiment.fetch_data`, add them via `experiment.add_tracking_metric` or update the experiment's optimization config.\n",
            "[INFO 09-09 23:38:51] ax.service.managed_loop: Running optimization trial 39...\n",
            "[INFO 09-09 23:38:57] ax.core.experiment: Attached data has some metrics ({'ch510', 'rmse', 'ch470', 'ch440', 'ch550', 'ch410', 'ch583', 'ch620', 'mae', 'ch670'}) that are not among the metrics on this experiment. Note that attaching data will not automatically add those metrics to the experiment. For these metrics to be automatically fetched by `experiment.fetch_data`, add them via `experiment.add_tracking_metric` or update the experiment's optimization config.\n",
            "[INFO 09-09 23:38:57] ax.service.managed_loop: Running optimization trial 40...\n",
            "[INFO 09-09 23:39:03] ax.core.experiment: Attached data has some metrics ({'ch510', 'rmse', 'ch470', 'ch440', 'ch550', 'ch410', 'ch583', 'ch620', 'mae', 'ch670'}) that are not among the metrics on this experiment. Note that attaching data will not automatically add those metrics to the experiment. For these metrics to be automatically fetched by `experiment.fetch_data`, add them via `experiment.add_tracking_metric` or update the experiment's optimization config.\n",
            "[INFO 09-09 23:39:03] ax.service.managed_loop: Running optimization trial 41...\n",
            "[INFO 09-09 23:39:09] ax.core.experiment: Attached data has some metrics ({'ch510', 'rmse', 'ch470', 'ch440', 'ch550', 'ch410', 'ch583', 'ch620', 'mae', 'ch670'}) that are not among the metrics on this experiment. Note that attaching data will not automatically add those metrics to the experiment. For these metrics to be automatically fetched by `experiment.fetch_data`, add them via `experiment.add_tracking_metric` or update the experiment's optimization config.\n",
            "[INFO 09-09 23:39:09] ax.service.managed_loop: Running optimization trial 42...\n",
            "[INFO 09-09 23:39:14] ax.core.experiment: Attached data has some metrics ({'ch510', 'rmse', 'ch470', 'ch440', 'ch550', 'ch410', 'ch583', 'ch620', 'mae', 'ch670'}) that are not among the metrics on this experiment. Note that attaching data will not automatically add those metrics to the experiment. For these metrics to be automatically fetched by `experiment.fetch_data`, add them via `experiment.add_tracking_metric` or update the experiment's optimization config.\n",
            "[INFO 09-09 23:39:14] ax.service.managed_loop: Running optimization trial 43...\n",
            "[INFO 09-09 23:39:21] ax.core.experiment: Attached data has some metrics ({'ch510', 'rmse', 'ch470', 'ch440', 'ch550', 'ch410', 'ch583', 'ch620', 'mae', 'ch670'}) that are not among the metrics on this experiment. Note that attaching data will not automatically add those metrics to the experiment. For these metrics to be automatically fetched by `experiment.fetch_data`, add them via `experiment.add_tracking_metric` or update the experiment's optimization config.\n",
            "[INFO 09-09 23:39:21] ax.service.managed_loop: Running optimization trial 44...\n",
            "[INFO 09-09 23:39:27] ax.core.experiment: Attached data has some metrics ({'ch510', 'rmse', 'ch470', 'ch440', 'ch550', 'ch410', 'ch583', 'ch620', 'mae', 'ch670'}) that are not among the metrics on this experiment. Note that attaching data will not automatically add those metrics to the experiment. For these metrics to be automatically fetched by `experiment.fetch_data`, add them via `experiment.add_tracking_metric` or update the experiment's optimization config.\n",
            "[INFO 09-09 23:39:27] ax.service.managed_loop: Running optimization trial 45...\n",
            "[INFO 09-09 23:39:33] ax.core.experiment: Attached data has some metrics ({'ch510', 'rmse', 'ch470', 'ch440', 'ch550', 'ch410', 'ch583', 'ch620', 'mae', 'ch670'}) that are not among the metrics on this experiment. Note that attaching data will not automatically add those metrics to the experiment. For these metrics to be automatically fetched by `experiment.fetch_data`, add them via `experiment.add_tracking_metric` or update the experiment's optimization config.\n",
            "[INFO 09-09 23:39:33] ax.service.managed_loop: Running optimization trial 46...\n",
            "[INFO 09-09 23:39:39] ax.core.experiment: Attached data has some metrics ({'ch510', 'rmse', 'ch470', 'ch440', 'ch550', 'ch410', 'ch583', 'ch620', 'mae', 'ch670'}) that are not among the metrics on this experiment. Note that attaching data will not automatically add those metrics to the experiment. For these metrics to be automatically fetched by `experiment.fetch_data`, add them via `experiment.add_tracking_metric` or update the experiment's optimization config.\n",
            "[INFO 09-09 23:39:39] ax.service.managed_loop: Running optimization trial 47...\n",
            "[INFO 09-09 23:39:45] ax.core.experiment: Attached data has some metrics ({'ch510', 'rmse', 'ch470', 'ch440', 'ch550', 'ch410', 'ch583', 'ch620', 'mae', 'ch670'}) that are not among the metrics on this experiment. Note that attaching data will not automatically add those metrics to the experiment. For these metrics to be automatically fetched by `experiment.fetch_data`, add them via `experiment.add_tracking_metric` or update the experiment's optimization config.\n",
            "[INFO 09-09 23:39:45] ax.service.managed_loop: Running optimization trial 48...\n",
            "[INFO 09-09 23:39:51] ax.core.experiment: Attached data has some metrics ({'ch510', 'rmse', 'ch470', 'ch440', 'ch550', 'ch410', 'ch583', 'ch620', 'mae', 'ch670'}) that are not among the metrics on this experiment. Note that attaching data will not automatically add those metrics to the experiment. For these metrics to be automatically fetched by `experiment.fetch_data`, add them via `experiment.add_tracking_metric` or update the experiment's optimization config.\n",
            "[INFO 09-09 23:39:51] ax.service.managed_loop: Running optimization trial 49...\n",
            "[INFO 09-09 23:39:57] ax.core.experiment: Attached data has some metrics ({'ch510', 'rmse', 'ch470', 'ch440', 'ch550', 'ch410', 'ch583', 'ch620', 'mae', 'ch670'}) that are not among the metrics on this experiment. Note that attaching data will not automatically add those metrics to the experiment. For these metrics to be automatically fetched by `experiment.fetch_data`, add them via `experiment.add_tracking_metric` or update the experiment's optimization config.\n",
            "[INFO 09-09 23:39:57] ax.service.managed_loop: Running optimization trial 50...\n",
            "[INFO 09-09 23:40:03] ax.core.experiment: Attached data has some metrics ({'ch510', 'rmse', 'ch470', 'ch440', 'ch550', 'ch410', 'ch583', 'ch620', 'mae', 'ch670'}) that are not among the metrics on this experiment. Note that attaching data will not automatically add those metrics to the experiment. For these metrics to be automatically fetched by `experiment.fetch_data`, add them via `experiment.add_tracking_metric` or update the experiment's optimization config.\n",
            "[INFO 09-09 23:40:03] ax.service.managed_loop: Running optimization trial 51...\n",
            "[INFO 09-09 23:40:10] ax.core.experiment: Attached data has some metrics ({'ch510', 'rmse', 'ch470', 'ch440', 'ch550', 'ch410', 'ch583', 'ch620', 'mae', 'ch670'}) that are not among the metrics on this experiment. Note that attaching data will not automatically add those metrics to the experiment. For these metrics to be automatically fetched by `experiment.fetch_data`, add them via `experiment.add_tracking_metric` or update the experiment's optimization config.\n",
            "[INFO 09-09 23:40:10] ax.service.managed_loop: Running optimization trial 52...\n",
            "[INFO 09-09 23:40:17] ax.core.experiment: Attached data has some metrics ({'ch510', 'rmse', 'ch470', 'ch440', 'ch550', 'ch410', 'ch583', 'ch620', 'mae', 'ch670'}) that are not among the metrics on this experiment. Note that attaching data will not automatically add those metrics to the experiment. For these metrics to be automatically fetched by `experiment.fetch_data`, add them via `experiment.add_tracking_metric` or update the experiment's optimization config.\n",
            "[INFO 09-09 23:40:17] ax.service.managed_loop: Running optimization trial 53...\n",
            "[INFO 09-09 23:40:24] ax.core.experiment: Attached data has some metrics ({'ch510', 'rmse', 'ch470', 'ch440', 'ch550', 'ch410', 'ch583', 'ch620', 'mae', 'ch670'}) that are not among the metrics on this experiment. Note that attaching data will not automatically add those metrics to the experiment. For these metrics to be automatically fetched by `experiment.fetch_data`, add them via `experiment.add_tracking_metric` or update the experiment's optimization config.\n",
            "[INFO 09-09 23:40:24] ax.service.managed_loop: Running optimization trial 54...\n",
            "[INFO 09-09 23:40:31] ax.core.experiment: Attached data has some metrics ({'ch510', 'rmse', 'ch470', 'ch440', 'ch550', 'ch410', 'ch583', 'ch620', 'mae', 'ch670'}) that are not among the metrics on this experiment. Note that attaching data will not automatically add those metrics to the experiment. For these metrics to be automatically fetched by `experiment.fetch_data`, add them via `experiment.add_tracking_metric` or update the experiment's optimization config.\n",
            "[INFO 09-09 23:40:31] ax.service.managed_loop: Running optimization trial 55...\n",
            "[INFO 09-09 23:40:38] ax.core.experiment: Attached data has some metrics ({'ch510', 'rmse', 'ch470', 'ch440', 'ch550', 'ch410', 'ch583', 'ch620', 'mae', 'ch670'}) that are not among the metrics on this experiment. Note that attaching data will not automatically add those metrics to the experiment. For these metrics to be automatically fetched by `experiment.fetch_data`, add them via `experiment.add_tracking_metric` or update the experiment's optimization config.\n",
            "[INFO 09-09 23:40:38] ax.service.managed_loop: Running optimization trial 56...\n",
            "[INFO 09-09 23:40:48] ax.core.experiment: Attached data has some metrics ({'ch510', 'rmse', 'ch470', 'ch440', 'ch550', 'ch410', 'ch583', 'ch620', 'mae', 'ch670'}) that are not among the metrics on this experiment. Note that attaching data will not automatically add those metrics to the experiment. For these metrics to be automatically fetched by `experiment.fetch_data`, add them via `experiment.add_tracking_metric` or update the experiment's optimization config.\n",
            "[INFO 09-09 23:40:48] ax.service.managed_loop: Running optimization trial 57...\n",
            "[INFO 09-09 23:40:55] ax.core.experiment: Attached data has some metrics ({'ch510', 'rmse', 'ch470', 'ch440', 'ch550', 'ch410', 'ch583', 'ch620', 'mae', 'ch670'}) that are not among the metrics on this experiment. Note that attaching data will not automatically add those metrics to the experiment. For these metrics to be automatically fetched by `experiment.fetch_data`, add them via `experiment.add_tracking_metric` or update the experiment's optimization config.\n",
            "[INFO 09-09 23:40:55] ax.service.managed_loop: Running optimization trial 58...\n",
            "[INFO 09-09 23:41:02] ax.core.experiment: Attached data has some metrics ({'ch510', 'rmse', 'ch470', 'ch440', 'ch550', 'ch410', 'ch583', 'ch620', 'mae', 'ch670'}) that are not among the metrics on this experiment. Note that attaching data will not automatically add those metrics to the experiment. For these metrics to be automatically fetched by `experiment.fetch_data`, add them via `experiment.add_tracking_metric` or update the experiment's optimization config.\n",
            "[INFO 09-09 23:41:02] ax.service.managed_loop: Running optimization trial 59...\n",
            "[INFO 09-09 23:41:09] ax.core.experiment: Attached data has some metrics ({'ch510', 'rmse', 'ch470', 'ch440', 'ch550', 'ch410', 'ch583', 'ch620', 'mae', 'ch670'}) that are not among the metrics on this experiment. Note that attaching data will not automatically add those metrics to the experiment. For these metrics to be automatically fetched by `experiment.fetch_data`, add them via `experiment.add_tracking_metric` or update the experiment's optimization config.\n",
            "[INFO 09-09 23:41:09] ax.service.managed_loop: Running optimization trial 60...\n",
            "[INFO 09-09 23:41:16] ax.core.experiment: Attached data has some metrics ({'ch510', 'rmse', 'ch470', 'ch440', 'ch550', 'ch410', 'ch583', 'ch620', 'mae', 'ch670'}) that are not among the metrics on this experiment. Note that attaching data will not automatically add those metrics to the experiment. For these metrics to be automatically fetched by `experiment.fetch_data`, add them via `experiment.add_tracking_metric` or update the experiment's optimization config.\n",
            "[INFO 09-09 23:41:16] ax.service.managed_loop: Running optimization trial 61...\n",
            "[INFO 09-09 23:41:22] ax.core.experiment: Attached data has some metrics ({'ch510', 'rmse', 'ch470', 'ch440', 'ch550', 'ch410', 'ch583', 'ch620', 'mae', 'ch670'}) that are not among the metrics on this experiment. Note that attaching data will not automatically add those metrics to the experiment. For these metrics to be automatically fetched by `experiment.fetch_data`, add them via `experiment.add_tracking_metric` or update the experiment's optimization config.\n",
            "[INFO 09-09 23:41:22] ax.service.managed_loop: Running optimization trial 62...\n",
            "[INFO 09-09 23:41:29] ax.core.experiment: Attached data has some metrics ({'ch510', 'rmse', 'ch470', 'ch440', 'ch550', 'ch410', 'ch583', 'ch620', 'mae', 'ch670'}) that are not among the metrics on this experiment. Note that attaching data will not automatically add those metrics to the experiment. For these metrics to be automatically fetched by `experiment.fetch_data`, add them via `experiment.add_tracking_metric` or update the experiment's optimization config.\n",
            "[INFO 09-09 23:41:29] ax.service.managed_loop: Running optimization trial 63...\n",
            "[INFO 09-09 23:41:35] ax.core.experiment: Attached data has some metrics ({'ch510', 'rmse', 'ch470', 'ch440', 'ch550', 'ch410', 'ch583', 'ch620', 'mae', 'ch670'}) that are not among the metrics on this experiment. Note that attaching data will not automatically add those metrics to the experiment. For these metrics to be automatically fetched by `experiment.fetch_data`, add them via `experiment.add_tracking_metric` or update the experiment's optimization config.\n",
            "[INFO 09-09 23:41:35] ax.service.managed_loop: Running optimization trial 64...\n",
            "[INFO 09-09 23:41:41] ax.core.experiment: Attached data has some metrics ({'ch510', 'rmse', 'ch470', 'ch440', 'ch550', 'ch410', 'ch583', 'ch620', 'mae', 'ch670'}) that are not among the metrics on this experiment. Note that attaching data will not automatically add those metrics to the experiment. For these metrics to be automatically fetched by `experiment.fetch_data`, add them via `experiment.add_tracking_metric` or update the experiment's optimization config.\n"
          ]
        }
      ],
      "source": [
        "num_iter = 64\n",
        "\n",
        "from self_driving_lab_demo.utils.search import (\n",
        "    grid_search,\n",
        "    random_search,\n",
        "    ax_bayesian_optimization,\n",
        ")\n",
        "\n",
        "grid, grid_data = grid_search(sdl, num_iter)\n",
        "random_inputs, random_data = random_search(sdl, num_iter)\n",
        "best_parameters, values, experiment, model = ax_bayesian_optimization(sdl, num_iter)\n",
        "sdl.clear()"
      ]
    },
    {
      "cell_type": "code",
      "execution_count": null,
      "metadata": {},
      "outputs": [],
      "source": []
    }
  ],
  "metadata": {
    "colab": {
      "collapsed_sections": [],
      "provenance": []
    },
    "kernelspec": {
      "display_name": "Python 3.9.13 ('sdl-demo')",
      "language": "python",
      "name": "python3"
    },
    "language_info": {
      "codemirror_mode": {
        "name": "ipython",
        "version": 3
      },
      "file_extension": ".py",
      "mimetype": "text/x-python",
      "name": "python",
      "nbconvert_exporter": "python",
      "pygments_lexer": "ipython3",
      "version": "3.9.13"
    },
    "vscode": {
      "interpreter": {
        "hash": "70cb6d4911b67e25d1487ebd620c5d1370239efaaf47f3851af44f5c5a26f988"
      }
    }
  },
  "nbformat": 4,
  "nbformat_minor": 0
}
