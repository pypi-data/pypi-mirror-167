{
  "cells": [
    {
      "cell_type": "markdown",
      "metadata": {
        "id": "X8ZYy_nqMsgm"
      },
      "source": [
        "[![Open In Colab](https://colab.research.google.com/assets/colab-badge.svg)](https://colab.research.google.com/github/sparks-baird/self-driving-lab-demo/blob/main/notebooks/4.0-paho-mqtt-colab-sdl-demo.ipynb)"
      ]
    },
    {
      "cell_type": "markdown",
      "metadata": {
        "id": "3SqGTCMkhrC7"
      },
      "source": [
        "# Internet of Things-style communication between Pico W and some other device\n",
        "\n",
        "The other device could be your laptop, a Google Colab script, etc."
      ]
    },
    {
      "cell_type": "code",
      "execution_count": 1,
      "metadata": {
        "cellView": "form",
        "id": "o2vqpULnaaWR"
      },
      "outputs": [],
      "source": [
        "#@markdown This cell checks if you're running in Google Colab or not and assigns it to `IN_COLAB`.\n",
        "\n",
        "from os import path\n",
        "try:\n",
        "  import google.colab\n",
        "  IN_COLAB = True\n",
        "  base_dir = \"/content/drive/MyDrive/\"\n",
        "except:\n",
        "  IN_COLAB = False\n",
        "  base_dir = path.join(\"data\", \"external\")\n",
        "  "
      ]
    },
    {
      "cell_type": "code",
      "execution_count": 2,
      "metadata": {
        "id": "36C-UDjGemiM"
      },
      "outputs": [],
      "source": [
        "if IN_COLAB:\n",
        "  %pip install paho-mqtt"
      ]
    },
    {
      "cell_type": "markdown",
      "metadata": {
        "id": "KhLz9DT3etkG"
      },
      "source": [
        "## Pico ID\n",
        "\n",
        "Load a unique identifier for your Pico device from a `pico_id_secret.py` file that you store in your Google Drive (see below) or current directory (`.`), or specify it manually by setting the `PICO_ID` variable in the form field. If you don't know what the ID is, you can get it by running the following in the Pico REPL (i.e. MicroPython shell, e.g. in Thonny):\n",
        "```python\n",
        "from machine import unique_id\n",
        "from ubinascii import hexlify\n",
        "my_id = hexlify(unique_id()).decode()\n",
        "print(my_id)\n",
        "```\n",
        "\n",
        "For your convenience, this is done already in [`main.py`](https://github.com/sparks-baird/self-driving-lab-demo/blob/06ededd312087a815b5c0ac8098e82db9c5730c8/src/public_mqtt_sdl_demo/main.py) so you need only run this file once the Pico W has been properly set up and it will be displayed in the terminal.\n",
        "\n",
        "The file named `pico_id_secret.py` placed directly in your `MyDrive` folder or in your current directory would look like the following:\n",
        "```python\n",
        "PICO_ID = \"a123b1234azed\"\n",
        "```"
      ]
    },
    {
      "cell_type": "code",
      "execution_count": 3,
      "metadata": {
        "cellView": "form",
        "id": "zs5raYNPfF1D"
      },
      "outputs": [],
      "source": [
        "#@markdown No need to enter this manually if you've already saved the appropriate file to your Google Drive. The hidden code in this cell will take care of it.\n",
        "import sys\n",
        "secret_name = \"PICO_ID\"\n",
        "if IN_COLAB:\n",
        "  try:\n",
        "    from google.colab import drive\n",
        "    drive.mount('/content/drive')\n",
        "    sys.path.append('/content/drive/MyDrive/')\n",
        "    from pico_id_secret import PICO_ID\n",
        "  except Exception as e:\n",
        "    print(e)\n",
        "    PICO_ID = \"test\" #@param {type:\"string\"}\n",
        "    if PICO_ID == \"\":\n",
        "      print(f\"Couldn't load {secret_name}, and user-input {secret_name} is also empty.\")\n",
        "    else:\n",
        "      print(f\"defaulting to user-input PICO_ID: {PICO_ID}\")\n",
        "else:\n",
        "  from public_mqtt_sdl_demo.secrets import PICO_ID"
      ]
    },
    {
      "cell_type": "code",
      "execution_count": 10,
      "metadata": {
        "colab": {
          "base_uri": "https://localhost:8080/"
        },
        "id": "trkRwC0zaPgB",
        "outputId": "9979081d-6449-4125-f7c7-e0e1a06db188"
      },
      "outputs": [
        {
          "name": "stdout",
          "output_type": "stream",
          "text": [
            "{'_input_message': {'B': 15,\n",
            "                    'G': 10,\n",
            "                    'R': 5,\n",
            "                    '_session_id': '852db81d-6dfd-4cea-987c-7f8f1402ee42'},\n",
            " 'ch410': 86,\n",
            " 'ch440': 1828,\n",
            " 'ch470': 3787,\n",
            " 'ch510': 686,\n",
            " 'ch550': 451,\n",
            " 'ch583': 194,\n",
            " 'ch620': 312,\n",
            " 'ch670': 153}\n",
            "{'_input_message': {'B': 25,\n",
            "                    'G': 30,\n",
            "                    'R': 20,\n",
            "                    '_session_id': '6e1a6bb9-d372-44c3-8d17-b35b61161cb2'},\n",
            " 'ch410': 208,\n",
            " 'ch440': 3527,\n",
            " 'ch470': 5922,\n",
            " 'ch510': 3106,\n",
            " 'ch550': 758,\n",
            " 'ch583': 976,\n",
            " 'ch620': 1872,\n",
            " 'ch670': 319}\n",
            "{'_input_message': {'B': 0,\n",
            "                    'G': 0,\n",
            "                    'R': 0,\n",
            "                    '_session_id': '987ccbac-c827-42c8-be14-5c1a06ada159'},\n",
            " 'ch410': 35,\n",
            " 'ch440': 567,\n",
            " 'ch470': 2895,\n",
            " 'ch510': 253,\n",
            " 'ch550': 379,\n",
            " 'ch583': 57,\n",
            " 'ch620': 43,\n",
            " 'ch670': 81}\n"
          ]
        }
      ],
      "source": [
        "\"\"\"https://www.steves-internet-guide.com/receiving-messages-mqtt-python-clientq=Queue()\"\"\"\n",
        "import json\n",
        "from uuid import uuid4\n",
        "import paho.mqtt.client as mqtt\n",
        "from queue import Queue\n",
        "from time import time\n",
        "from pprint import pprint\n",
        "\n",
        "sensor_data_queue = Queue()\n",
        "timeout = 30 # seconds\n",
        "\n",
        "def on_message(client, userdata, msg):\n",
        "    sensor_data_queue.put(json.loads(msg.payload))\n",
        "\n",
        "\n",
        "def observe_sensor_data(\n",
        "    R, G, B, pico_id=None, session_id=None, hostname=\"test.mosquitto.org\"\n",
        "):\n",
        "    if session_id is None:\n",
        "        session_id = str(uuid4())\n",
        "\n",
        "    prefix = f\"sdl-demo/picow/{pico_id}/\"\n",
        "    neopixel_topic = prefix + \"GPIO/28\"\n",
        "    sensor_topic = prefix + \"as7341/\"\n",
        "\n",
        "    # The callback for when the client receives a CONNACK response from the server.\n",
        "    def on_connect(client, userdata, flags, rc):\n",
        "        if rc != 0:\n",
        "            print(\"Connected with result code \" + str(rc))\n",
        "        # Subscribing in on_connect() means that if we lose the connection and\n",
        "        # reconnect then subscriptions will be renewed.\n",
        "        client.subscribe(sensor_topic, qos=2)\n",
        "\n",
        "    client = mqtt.Client()  # create new instance\n",
        "    client.on_connect = on_connect\n",
        "    client.on_message = on_message\n",
        "    client.connect(hostname)  # connect to broker\n",
        "    client.subscribe(sensor_topic, qos=1)\n",
        "\n",
        "    # ensures double quotes for JSON compatiblity\n",
        "    payload = json.dumps(dict(R=int(R), G=int(G), B=int(B), _session_id=session_id))\n",
        "    client.publish(neopixel_topic, payload, qos=2)\n",
        "\n",
        "    client.loop_start()\n",
        "    while True:\n",
        "        sensor_data = sensor_data_queue.get(timeout)\n",
        "        if sensor_data[\"_input_message\"][\"_session_id\"] == session_id:\n",
        "            client.loop_stop()\n",
        "            sensor_data.pop(\"_input_message\") # remove the input message\n",
        "            return sensor_data\n",
        "\n",
        "\n",
        "pprint(observe_sensor_data(5, 10, 15, pico_id=PICO_ID))\n",
        "pprint(observe_sensor_data(20, 30, 25, pico_id=PICO_ID))\n",
        "pprint(observe_sensor_data(0, 0, 0, pico_id=PICO_ID))\n"
      ]
    }
  ],
  "metadata": {
    "colab": {
      "collapsed_sections": [],
      "provenance": []
    },
    "kernelspec": {
      "display_name": "Python 3.9.13 ('sdl-demo')",
      "language": "python",
      "name": "python3"
    },
    "language_info": {
      "codemirror_mode": {
        "name": "ipython",
        "version": 3
      },
      "file_extension": ".py",
      "mimetype": "text/x-python",
      "name": "python",
      "nbconvert_exporter": "python",
      "pygments_lexer": "ipython3",
      "version": "3.9.13"
    },
    "vscode": {
      "interpreter": {
        "hash": "70cb6d4911b67e25d1487ebd620c5d1370239efaaf47f3851af44f5c5a26f988"
      }
    }
  },
  "nbformat": 4,
  "nbformat_minor": 0
}
