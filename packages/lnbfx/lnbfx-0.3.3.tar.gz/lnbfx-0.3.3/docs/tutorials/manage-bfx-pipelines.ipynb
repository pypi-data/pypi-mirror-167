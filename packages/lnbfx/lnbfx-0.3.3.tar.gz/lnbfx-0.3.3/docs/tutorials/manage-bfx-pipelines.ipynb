{
 "cells": [
  {
   "cell_type": "markdown",
   "metadata": {},
   "source": [
    "# Create and manage bioinformatics pipelines"
   ]
  },
  {
   "cell_type": "markdown",
   "metadata": {},
   "source": [
    "`lnbfx` provides pipeline management functionality through the `BfxRun` class."
   ]
  },
  {
   "cell_type": "markdown",
   "metadata": {},
   "source": [
    "The corresponding `bfx_run` instance is an entity that:\n",
    "- Maps one-to-one to a pipeline run.\n",
    "- Maps many-to-one to a pipeline.\n",
    "\n",
    "In LaminDB, a pipeline is a versioned pipeline script or workflow.\n",
    "\n",
    "A pipeline run is a run of that script or workflow. Examples for `lnbfx`:\n",
    "- pipeline: [nf-core/rna-seq, version 3.8.1](https://github.com/nf-core/rnaseq)\n",
    "- pipeline run (here, bfx run): an execution of nf-core/rna-seq, version 3.8.1"
   ]
  },
  {
   "cell_type": "markdown",
   "metadata": {},
   "source": [
    "## Create and set up a pipeline"
   ]
  },
  {
   "cell_type": "markdown",
   "metadata": {},
   "source": [
    "Let's start by creating a pipeline run instance.\n",
    "\n",
    "We initialized the run by passing predefined pipeline parameters in `lookup.pipeline`."
   ]
  },
  {
   "cell_type": "code",
   "execution_count": null,
   "metadata": {},
   "outputs": [],
   "source": [
    "from lnbfx import BfxRun, lookup\n",
    "\n",
    "pipeline_run = BfxRun(pipeline=lookup.pipeline.cell_ranger_v7_0_0, run_name=\"lamin1\")"
   ]
  },
  {
   "cell_type": "markdown",
   "metadata": {},
   "source": [
    "`BfxRun` provides an ORM-like interface to interact with your database. \n",
    "\n",
    "Let's set up our instance with an engine created from the lnbfx schema."
   ]
  },
  {
   "cell_type": "code",
   "execution_count": null,
   "metadata": {},
   "outputs": [],
   "source": [
    "from sqlmodel import SQLModel, create_engine\n",
    "from lnbfx import schema\n",
    "\n",
    "# set up the database engine with the lnbfx schema\n",
    "engine = create_engine(\"sqlite:///\")\n",
    "SQLModel.metadata.create_all(engine)\n",
    "\n",
    "pipeline_run.db_engine = engine"
   ]
  },
  {
   "cell_type": "markdown",
   "metadata": {},
   "source": [
    "## Ingesting a pipeline"
   ]
  },
  {
   "cell_type": "markdown",
   "metadata": {},
   "source": [
    "The ingestion of a `BfxRun` is a one-time event. Once ingested, the database entry cannot be updated.\n",
    "\n",
    "`check_and_ingest()` writes pipeline and pipeline run entries in the database if they do not yet exist."
   ]
  },
  {
   "cell_type": "code",
   "execution_count": null,
   "metadata": {},
   "outputs": [],
   "source": [
    "pipeline_run.check_and_ingest()"
   ]
  },
  {
   "cell_type": "markdown",
   "metadata": {},
   "source": [
    "We can now verify that both pipeline and pipeline run entries have been commited to the database."
   ]
  },
  {
   "cell_type": "markdown",
   "metadata": {},
   "source": [
    "Let's do so by fetching the private keys for the ingested pipeline (\"id\", \"v\") and pipeline run (\"id\") entities."
   ]
  },
  {
   "cell_type": "code",
   "execution_count": null,
   "metadata": {},
   "outputs": [],
   "source": [
    "pipeline_run.get_pipeline_pk()"
   ]
  },
  {
   "cell_type": "code",
   "execution_count": null,
   "metadata": {},
   "outputs": [],
   "source": [
    "pipeline_run.get_run_pk()"
   ]
  }
 ],
 "metadata": {
  "kernelspec": {
   "language": "python"
  },
  "language_info": {
   "codemirror_mode": {
    "name": "ipython",
    "version": 3
   },
   "file_extension": ".py",
   "mimetype": "text/x-python",
   "name": "python",
   "nbconvert_exporter": "python",
   "pygments_lexer": "ipython3",
   "version": "3.9.12"
  },
  "vscode": {
   "interpreter": {
    "hash": "822ec0ac785b1db3d02e7d7754e0de6d47a7bde0a8423738b8340fdea5c0abd9"
   }
  }
 },
 "nbformat": 4,
 "nbformat_minor": 4
}
