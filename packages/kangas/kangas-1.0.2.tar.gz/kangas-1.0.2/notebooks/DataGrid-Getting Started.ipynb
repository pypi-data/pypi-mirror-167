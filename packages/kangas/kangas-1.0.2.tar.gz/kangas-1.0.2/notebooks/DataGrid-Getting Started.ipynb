{
 "cells": [
  {
   "cell_type": "markdown",
   "id": "1c9e43d3-2f95-4761-9236-759e5f0dc2ae",
   "metadata": {},
   "source": [
    "# DataGrid - Getting Started\n",
    "\n",
    "The easiest way to create a DataGrid is to import the class `DataGrid` from the `datagrid` package and create one:"
   ]
  },
  {
   "cell_type": "code",
   "execution_count": 1,
   "id": "334b8a24-4a3e-44d3-82cd-cc0c167e74d0",
   "metadata": {},
   "outputs": [],
   "source": [
    "from datagrid import DataGrid"
   ]
  },
  {
   "cell_type": "code",
   "execution_count": 2,
   "id": "136367ae-d4cd-432f-8b08-b9a807e64e0e",
   "metadata": {},
   "outputs": [],
   "source": [
    "dg = DataGrid()"
   ]
  },
  {
   "cell_type": "markdown",
   "id": "95781044-ca0e-418e-bea7-0bb2f1673bcc",
   "metadata": {},
   "source": [
    "That's it! Now you can beging to add rows to the DataGrid, either one at a time with `DataGrid.append()` or multiple rows with `DataGrid.extend()`:"
   ]
  },
  {
   "cell_type": "code",
   "execution_count": 3,
   "id": "54debf21-8918-431c-bb6e-ba1adbd96086",
   "metadata": {},
   "outputs": [],
   "source": [
    "dg.append([None, 2.0, \"hello, world\", True, \"2023/12/01\"])"
   ]
  },
  {
   "cell_type": "markdown",
   "id": "1e5c46e1-0c67-4ca2-b65c-3f06f63c0d8e",
   "metadata": {},
   "source": [
    "Here we append a row with five values: a null value, a float, a string, a boolean, and a string in the YYYY/MM/DD date format. \n",
    "\n",
    "We can ask to see the first few rows of the DataGrid with the `DataGrid.head()`:"
   ]
  },
  {
   "cell_type": "code",
   "execution_count": 4,
   "id": "3025e07f-03a2-4d77-bffc-4f47196f24e3",
   "metadata": {},
   "outputs": [
    {
     "name": "stdout",
     "output_type": "stream",
     "text": [
      "         row-id              A              B              C              D              E\n",
      "              1           None            2.0   hello, world           True  2023-12-01 00\n"
     ]
    }
   ],
   "source": [
    "dg.head()"
   ]
  },
  {
   "cell_type": "markdown",
   "id": "cbd131a0-bd74-41fe-ae0b-f1cb8eec2403",
   "metadata": {},
   "source": [
    "Note that an additional column, `row-id` was added automatically. This is column is always added and contains the row number, starting at 1.\n",
    "\n",
    "In addition, you can see what DataGrid has inferred about the data so far:"
   ]
  },
  {
   "cell_type": "code",
   "execution_count": 5,
   "id": "de36ccb5-448b-45da-8211-6f49d9565e23",
   "metadata": {},
   "outputs": [
    {
     "name": "stdout",
     "output_type": "stream",
     "text": [
      "DataGrid (in memory)\n",
      "    Name   : Untitled\n",
      "    Rows   : 1\n",
      "    Columns: 5\n",
      "#   Column                Non-Null Count DataGrid Type       \n",
      "--- -------------------- --------------- --------------------\n",
      "1   A                                  0 None                \n",
      "2   B                                  1 FLOAT               \n",
      "3   C                                  1 TEXT                \n",
      "4   D                                  1 BOOLEAN             \n",
      "5   E                                  1 DATETIME            \n"
     ]
    }
   ],
   "source": [
    "dg.info()"
   ]
  },
  {
   "cell_type": "markdown",
   "id": "f3f03af7-a6e6-4ee5-bafb-17f847291ac2",
   "metadata": {},
   "source": [
    "Some things to take note of so far:\n",
    "\n",
    "First, you may recognize that some of these methods replicate those in pandas DataFrame. These have similar functionality as to those in a DataFrame. However, most of the things you can do in a DataFrame are not supported in a DataGrid. We'll see examples of uses of DataGrid below.\n",
    "\n",
    "Also note that `dg.info()` shows that this is an \"in memory\" DataGrid. That is, it hasn't been saved to disk yet. At this stage in the DataGrid construction, it is attempting to infer the types of each column of data. As we appended a None in column A, we see that the `DataGrid Type` is None for column A.\n",
    "\n",
    "Let's append another row, and check out the info:"
   ]
  },
  {
   "cell_type": "code",
   "execution_count": 6,
   "id": "7a490879-92ac-4c3a-a9a2-33d8165b8280",
   "metadata": {},
   "outputs": [],
   "source": [
    "dg.append([5, 6, \"another string\", False, \"2023/12/02\"])"
   ]
  },
  {
   "cell_type": "code",
   "execution_count": 7,
   "id": "790890b4-ce99-479f-9556-ea7c96ae2137",
   "metadata": {},
   "outputs": [
    {
     "name": "stdout",
     "output_type": "stream",
     "text": [
      "DataGrid (in memory)\n",
      "    Name   : Untitled\n",
      "    Rows   : 2\n",
      "    Columns: 5\n",
      "#   Column                Non-Null Count DataGrid Type       \n",
      "--- -------------------- --------------- --------------------\n",
      "1   A                                  1 INTEGER             \n",
      "2   B                                  2 FLOAT               \n",
      "3   C                                  2 TEXT                \n",
      "4   D                                  2 BOOLEAN             \n",
      "5   E                                  2 DATETIME            \n"
     ]
    }
   ],
   "source": [
    "dg.info()"
   ]
  },
  {
   "cell_type": "markdown",
   "id": "4c45992f-c275-41ca-934c-a43c3d72f238",
   "metadata": {},
   "source": [
    "We see that the DataGrid is still in memory, but the DataGrid Type of column A is now INTEGER. \n",
    "\n",
    "Let's add another row:"
   ]
  },
  {
   "cell_type": "code",
   "execution_count": 8,
   "id": "b7ba9574-79b2-4a91-b4f1-1d2d99cb907f",
   "metadata": {},
   "outputs": [],
   "source": [
    "dg.append([4.0, 6, \"another string\", False, \"2023/12/02\"])"
   ]
  },
  {
   "cell_type": "code",
   "execution_count": 9,
   "id": "1f87a76a-f6e0-48c2-910c-6b51d6478e45",
   "metadata": {},
   "outputs": [
    {
     "name": "stdout",
     "output_type": "stream",
     "text": [
      "DataGrid (in memory)\n",
      "    Name   : Untitled\n",
      "    Rows   : 3\n",
      "    Columns: 5\n",
      "#   Column                Non-Null Count DataGrid Type       \n",
      "--- -------------------- --------------- --------------------\n",
      "1   A                                  2 FLOAT               \n",
      "2   B                                  3 FLOAT               \n",
      "3   C                                  3 TEXT                \n",
      "4   D                                  3 BOOLEAN             \n",
      "5   E                                  3 DATETIME            \n"
     ]
    }
   ],
   "source": [
    "dg.info()"
   ]
  },
  {
   "cell_type": "markdown",
   "id": "1831713f-f961-4e38-b2d9-8a7ad981d29a",
   "metadata": {},
   "source": [
    "After appending a float to column A, the Type has become FLOAT. DataGrid attempts to identify specific types of the data, but allows the types to become more general with additional rows.\n",
    "\n",
    "Now, let's save the DataGrid to disk:"
   ]
  },
  {
   "cell_type": "code",
   "execution_count": 10,
   "id": "ab6d853a-b79c-445c-8cfa-b640147d81a5",
   "metadata": {},
   "outputs": [
    {
     "name": "stderr",
     "output_type": "stream",
     "text": [
      "100%|██████████████████████████████████████████████████████████████████████████████████████████████████████████████████████████████████| 3/3 [00:00<00:00, 32430.19it/s]"
     ]
    },
    {
     "name": "stdout",
     "output_type": "stream",
     "text": [
      "Saving datagrid to 'untitled.datagrid'...\n"
     ]
    },
    {
     "name": "stderr",
     "output_type": "stream",
     "text": [
      "\n"
     ]
    }
   ],
   "source": [
    "dg.save()"
   ]
  },
  {
   "cell_type": "markdown",
   "id": "40b4ff6a-f3e0-42e5-9c5b-2cbb16f0e083",
   "metadata": {},
   "source": [
    "At this point, the DataGrid is now operating in a different mode. All data is now stored on disk, and Types are no longer allowed to change.\n",
    "\n",
    "Let's add a new row, using the value 87 for the boolean column D:"
   ]
  },
  {
   "cell_type": "code",
   "execution_count": 11,
   "id": "3f2c7f77-3cc7-4f48-8b6d-4c3ad309c6c6",
   "metadata": {},
   "outputs": [],
   "source": [
    "dg.append([5.0, 6, \"another string\", 87, \"2023/12/02\"])"
   ]
  },
  {
   "cell_type": "code",
   "execution_count": 12,
   "id": "eee9b562-0bd8-438c-8c53-5207d641ce5a",
   "metadata": {},
   "outputs": [
    {
     "name": "stdout",
     "output_type": "stream",
     "text": [
      "DataGrid (on disk)\n",
      "    Name   : Untitled\n",
      "    Rows   : 4\n",
      "    Columns: 5\n",
      "#   Column                Non-Null Count DataGrid Type       \n",
      "--- -------------------- --------------- --------------------\n",
      "1   A                                  3 FLOAT               \n",
      "2   B                                  4 FLOAT               \n",
      "3   C                                  4 TEXT                \n",
      "4   D                                  4 BOOLEAN             \n",
      "5   E                                  4 DATETIME            \n"
     ]
    }
   ],
   "source": [
    "dg.info()"
   ]
  },
  {
   "cell_type": "markdown",
   "id": "500a7353-1dfe-4414-9e4e-dfa349bbc7d8",
   "metadata": {},
   "source": [
    "Now the DataGrid Type of column D cannot change, and remains a \"BOOLEAN\". If we had appended this row before saving, the DataGrid type would have become \"TEXT\", the highest encompasing type.\n",
    "\n",
    "What does DataGrid do with an 87 in a boolean column?"
   ]
  },
  {
   "cell_type": "code",
   "execution_count": 13,
   "id": "faa2beb1-1fc0-4a09-bbd8-5d79e64214ff",
   "metadata": {},
   "outputs": [
    {
     "name": "stdout",
     "output_type": "stream",
     "text": [
      "         row-id              A              B              C              D              E\n",
      "              1           None            2.0   hello, world           True  2023-12-01 00\n",
      "              2            5.0            6.0  another strin          False  2023-12-02 00\n",
      "              3            4.0            6.0  another strin          False  2023-12-02 00\n",
      "              4            5.0            6.0  another strin           True  2023-12-02 00\n"
     ]
    }
   ],
   "source": [
    "dg.head()"
   ]
  },
  {
   "cell_type": "markdown",
   "id": "511308a9-8ac2-4a06-aa3f-6598319cad6f",
   "metadata": {},
   "source": [
    "It is able to convert it to a boolean, True."
   ]
  },
  {
   "cell_type": "markdown",
   "id": "bf953c7f-9939-433f-a039-d0284e20efe2",
   "metadata": {},
   "source": [
    "But that doesn't mean it can convert any value to any type. Let's try to append the value \"Nope!\" to a float column:"
   ]
  },
  {
   "cell_type": "code",
   "execution_count": 14,
   "id": "e041ef32-a6fc-47e4-9be7-e916678fc8e3",
   "metadata": {},
   "outputs": [
    {
     "ename": "Exception",
     "evalue": "Invalid type for column 'A': value was 'Nope!', but should have been type 'FLOAT'",
     "output_type": "error",
     "traceback": [
      "\u001b[0;31m---------------------------------------------------------------------------\u001b[0m",
      "\u001b[0;31mException\u001b[0m                                 Traceback (most recent call last)",
      "Input \u001b[0;32mIn [14]\u001b[0m, in \u001b[0;36m<cell line: 1>\u001b[0;34m()\u001b[0m\n\u001b[0;32m----> 1\u001b[0m \u001b[43mdg\u001b[49m\u001b[38;5;241;43m.\u001b[39;49m\u001b[43mappend\u001b[49m\u001b[43m(\u001b[49m\u001b[43m[\u001b[49m\u001b[38;5;124;43m\"\u001b[39;49m\u001b[38;5;124;43mNope!\u001b[39;49m\u001b[38;5;124;43m\"\u001b[39;49m\u001b[43m,\u001b[49m\u001b[43m \u001b[49m\u001b[38;5;241;43m6\u001b[39;49m\u001b[43m,\u001b[49m\u001b[43m \u001b[49m\u001b[38;5;124;43m\"\u001b[39;49m\u001b[38;5;124;43manother string\u001b[39;49m\u001b[38;5;124;43m\"\u001b[39;49m\u001b[43m,\u001b[49m\u001b[43m \u001b[49m\u001b[38;5;241;43m87\u001b[39;49m\u001b[43m,\u001b[49m\u001b[43m \u001b[49m\u001b[38;5;124;43m\"\u001b[39;49m\u001b[38;5;124;43m2023/12/02\u001b[39;49m\u001b[38;5;124;43m\"\u001b[39;49m\u001b[43m]\u001b[49m\u001b[43m)\u001b[49m\n",
      "File \u001b[0;32m~/comet/datagrid/datagrid/datatypes/datagrid.py:648\u001b[0m, in \u001b[0;36mDataGrid.append\u001b[0;34m(self, row)\u001b[0m\n\u001b[1;32m    644\u001b[0m \u001b[38;5;28;01mdef\u001b[39;00m \u001b[38;5;21mappend\u001b[39m(\u001b[38;5;28mself\u001b[39m, row):\n\u001b[1;32m    645\u001b[0m     \u001b[38;5;124;03m\"\"\"\u001b[39;00m\n\u001b[1;32m    646\u001b[0m \u001b[38;5;124;03m    Append this row onto the datagrid data.\u001b[39;00m\n\u001b[1;32m    647\u001b[0m \u001b[38;5;124;03m    \"\"\"\u001b[39;00m\n\u001b[0;32m--> 648\u001b[0m     \u001b[38;5;28;43mself\u001b[39;49m\u001b[38;5;241;43m.\u001b[39;49m\u001b[43mextend\u001b[49m\u001b[43m(\u001b[49m\u001b[43m[\u001b[49m\u001b[43mrow\u001b[49m\u001b[43m]\u001b[49m\u001b[43m)\u001b[49m\n",
      "File \u001b[0;32m~/comet/datagrid/datagrid/datatypes/datagrid.py:705\u001b[0m, in \u001b[0;36mDataGrid.extend\u001b[0;34m(self, rows, verify)\u001b[0m\n\u001b[1;32m    700\u001b[0m     row_dict \u001b[38;5;241m=\u001b[39m {\n\u001b[1;32m    701\u001b[0m         column_name: value \u001b[38;5;28;01mfor\u001b[39;00m column_name, value \u001b[38;5;129;01min\u001b[39;00m row\u001b[38;5;241m.\u001b[39mitems()\n\u001b[1;32m    702\u001b[0m     }\n\u001b[1;32m    703\u001b[0m \u001b[38;5;28;01mif\u001b[39;00m verify:\n\u001b[1;32m    704\u001b[0m     \u001b[38;5;66;03m# verify each and every row\u001b[39;00m\n\u001b[0;32m--> 705\u001b[0m     \u001b[38;5;28;43mself\u001b[39;49m\u001b[38;5;241;43m.\u001b[39;49m\u001b[43m_convert_values_row_dict\u001b[49m\u001b[43m(\u001b[49m\u001b[43mrow_dict\u001b[49m\u001b[43m)\u001b[49m\n\u001b[1;32m    706\u001b[0m     column_types \u001b[38;5;241m=\u001b[39m \u001b[38;5;28mself\u001b[39m\u001b[38;5;241m.\u001b[39m_verify_row_dict(row_dict)\n\u001b[1;32m    707\u001b[0m     \u001b[38;5;28mself\u001b[39m\u001b[38;5;241m.\u001b[39m_check_column_types(column_types)\n",
      "File \u001b[0;32m~/comet/datagrid/datagrid/datatypes/datagrid.py:568\u001b[0m, in \u001b[0;36mDataGrid._convert_values_row_dict\u001b[0;34m(self, row_dict)\u001b[0m\n\u001b[1;32m    564\u001b[0m     row_dict[column_name] \u001b[38;5;241m=\u001b[39m convert_to_type(\n\u001b[1;32m    565\u001b[0m         new_value, \u001b[38;5;28mself\u001b[39m\u001b[38;5;241m.\u001b[39m_columns[column_name]\n\u001b[1;32m    566\u001b[0m     )\n\u001b[1;32m    567\u001b[0m \u001b[38;5;28;01mexcept\u001b[39;00m \u001b[38;5;167;01mException\u001b[39;00m:\n\u001b[0;32m--> 568\u001b[0m     \u001b[38;5;28;01mraise\u001b[39;00m \u001b[38;5;167;01mException\u001b[39;00m(\n\u001b[1;32m    569\u001b[0m         \u001b[38;5;124m\"\u001b[39m\u001b[38;5;124mInvalid type for column \u001b[39m\u001b[38;5;132;01m%r\u001b[39;00m\u001b[38;5;124m: value was \u001b[39m\u001b[38;5;132;01m%r\u001b[39;00m\u001b[38;5;124m, but should have been type \u001b[39m\u001b[38;5;132;01m%r\u001b[39;00m\u001b[38;5;124m\"\u001b[39m\n\u001b[1;32m    570\u001b[0m         \u001b[38;5;241m%\u001b[39m (column_name, value, \u001b[38;5;28mself\u001b[39m\u001b[38;5;241m.\u001b[39m_columns[column_name])\n\u001b[1;32m    571\u001b[0m     ) \u001b[38;5;28;01mfrom\u001b[39;00m \u001b[38;5;28mNone\u001b[39m\n",
      "\u001b[0;31mException\u001b[0m: Invalid type for column 'A': value was 'Nope!', but should have been type 'FLOAT'"
     ]
    }
   ],
   "source": [
    "dg.append([\"Nope!\", 6, \"another string\", 87, \"2023/12/02\"])"
   ]
  },
  {
   "cell_type": "markdown",
   "id": "84a65179-8767-4133-ae27-1d346897b91e",
   "metadata": {},
   "source": [
    "And indeed, nope that doesn't work."
   ]
  },
  {
   "cell_type": "markdown",
   "id": "94f20034-ebcd-4c31-bf3f-975b10341eea",
   "metadata": {},
   "source": [
    "## Specifying Columns\n",
    "\n",
    "If you would like, you can name the columns when you first create a DataGrid:"
   ]
  },
  {
   "cell_type": "code",
   "execution_count": 1,
   "id": "a035bced-57aa-4a7e-8164-4bdbe0c60f65",
   "metadata": {},
   "outputs": [],
   "source": [
    "from datagrid import DataGrid "
   ]
  },
  {
   "cell_type": "code",
   "execution_count": 2,
   "id": "5ae4c885-9520-4022-9876-bccc316b3ff2",
   "metadata": {},
   "outputs": [],
   "source": [
    "dg = DataGrid(name=\"Example 1\", columns=[\"Category\", \"Loss\", \"Fitness\", \"Timestamp\"])"
   ]
  },
  {
   "cell_type": "markdown",
   "id": "4cddb2fe-42c2-49dd-b64e-cb94b8982a9f",
   "metadata": {},
   "source": [
    "## Making Large DataGrids\n",
    "\n",
    "If you can create your DataGrid in memory, that is much faster. However, if you need to create larger datagrids, you can save the DataGrid first, and then append or extend after it is on disk."
   ]
  },
  {
   "cell_type": "code",
   "execution_count": 3,
   "id": "47e10148-b064-492e-834f-81d30aae461f",
   "metadata": {},
   "outputs": [],
   "source": [
    "import random\n",
    "import datetime"
   ]
  },
  {
   "cell_type": "code",
   "execution_count": 4,
   "id": "0c1fdaf1-0df9-494e-ae42-40f3444358f3",
   "metadata": {},
   "outputs": [],
   "source": [
    "for i in range(10000):\n",
    "    dg.append([\n",
    "        random.choice([\"dog\", \"cat\", \"mouse\", \"duck\"]), \n",
    "        random.random() - 2.0, \n",
    "        random.random() * 10, \n",
    "        datetime.datetime.now()\n",
    "    ])"
   ]
  },
  {
   "cell_type": "code",
   "execution_count": 5,
   "id": "3ae2bcb6-e4be-4131-86c2-a217e90147c4",
   "metadata": {},
   "outputs": [
    {
     "name": "stderr",
     "output_type": "stream",
     "text": [
      "100%|█████████████████████████████████████████████████████████████████████████████████████████████████████████████████████████| 10000/10000 [00:00<00:00, 245579.65it/s]\n"
     ]
    },
    {
     "name": "stdout",
     "output_type": "stream",
     "text": [
      "Saving datagrid to 'example-1.datagrid'...\n"
     ]
    }
   ],
   "source": [
    "dg.save()"
   ]
  },
  {
   "cell_type": "code",
   "execution_count": 7,
   "id": "6eca88e2-968c-4c58-81f0-57af2886ee95",
   "metadata": {},
   "outputs": [
    {
     "data": {
      "text/html": [
       "\n",
       "        <iframe\n",
       "            width=\"100%\"\n",
       "            height=\"500px\"\n",
       "            src=\"http://localhost:4000/?datagrid=example-1.datagrid\"\n",
       "            frameborder=\"0\"\n",
       "            allowfullscreen\n",
       "            \n",
       "        ></iframe>\n",
       "        "
      ],
      "text/plain": [
       "<IPython.lib.display.IFrame at 0x7f5311c59dc0>"
      ]
     },
     "execution_count": 7,
     "metadata": {},
     "output_type": "execute_result"
    }
   ],
   "source": [
    "dg.show()"
   ]
  },
  {
   "cell_type": "code",
   "execution_count": null,
   "id": "4b514491-2f84-43d2-b379-5ed4cda69db1",
   "metadata": {},
   "outputs": [],
   "source": []
  }
 ],
 "metadata": {
  "kernelspec": {
   "display_name": "Python 3",
   "language": "python",
   "name": "python3"
  },
  "language_info": {
   "codemirror_mode": {
    "name": "ipython",
    "version": 3
   },
   "file_extension": ".py",
   "mimetype": "text/x-python",
   "name": "python",
   "nbconvert_exporter": "python",
   "pygments_lexer": "ipython3",
   "version": "3.8.5"
  },
  "widgets": {
   "application/vnd.jupyter.widget-state+json": {
    "state": {},
    "version_major": 2,
    "version_minor": 0
   }
  }
 },
 "nbformat": 4,
 "nbformat_minor": 5
}
