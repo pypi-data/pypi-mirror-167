{
 "cells": [
  {
   "cell_type": "code",
   "execution_count": 1,
   "metadata": {},
   "outputs": [],
   "source": [
    "import neo4jvis\n",
    "import nxneo4j as nx\n",
    "import random\n",
    "import neomodel\n",
    "from neo4j import GraphDatabase\n",
    "from neo4jvis import *\n",
    "from neo4jvis.model import *\n",
    "from collections import defaultdict\n"
   ]
  },
  {
   "cell_type": "code",
   "execution_count": 2,
   "metadata": {},
   "outputs": [],
   "source": [
    "DATABASE_URL = 'localhost:7687'\n",
    "DABATASE_USER = 'neo4j'\n",
    "DABATASE_PASS = 'pass'"
   ]
  },
  {
   "cell_type": "code",
   "execution_count": 3,
   "metadata": {},
   "outputs": [],
   "source": [
    "from neomodel import (config, StructuredNode, StringProperty, IntegerProperty,\n",
    "    UniqueIdProperty, RelationshipTo, StructuredRel)\n",
    "from neomodel.relationship_manager import RelationshipManager\n",
    "\n",
    "config.DATABASE_URL = f\"bolt://{DABATASE_USER}:{DABATASE_PASS}@{DATABASE_URL}\""
   ]
  },
  {
   "cell_type": "markdown",
   "metadata": {},
   "source": [
    "# Create graph"
   ]
  },
  {
   "cell_type": "code",
   "execution_count": 4,
   "metadata": {},
   "outputs": [],
   "source": [
    "driver = GraphDatabase.driver(uri=f\"bolt://{DATABASE_URL}\",\n",
    "                              auth=(DABATASE_USER, DABATASE_PASS))\n",
    "                              #OR \"bolt://localhost:7673\"\n",
    "                              #OR the cloud url"
   ]
  },
  {
   "cell_type": "code",
   "execution_count": 12,
   "metadata": {},
   "outputs": [
    {
     "data": {
      "text/html": [
       "\n",
       "        <iframe\n",
       "            width=\"100%\"\n",
       "            height=\"500\"\n",
       "            src=\"vis.html\"\n",
       "            frameborder=\"0\"\n",
       "            allowfullscreen\n",
       "        ></iframe>\n",
       "        "
      ],
      "text/plain": [
       "<IPython.lib.display.IFrame at 0x7efec8db0190>"
      ]
     },
     "execution_count": 12,
     "metadata": {},
     "output_type": "execute_result"
    }
   ],
   "source": [
    "graph = StyledGraph(driver)\n",
    "graph.generate_whole_graph()\n",
    "out = graph.draw()\n",
    "out"
   ]
  },
  {
   "cell_type": "code",
   "execution_count": 10,
   "metadata": {},
   "outputs": [],
   "source": [
    "G = nx.Graph(driver)"
   ]
  },
  {
   "cell_type": "code",
   "execution_count": 11,
   "metadata": {},
   "outputs": [],
   "source": [
    "G.delete_all()"
   ]
  },
  {
   "cell_type": "code",
   "execution_count": 8,
   "metadata": {},
   "outputs": [],
   "source": [
    "LABEL_USUARIOS = \"Usuarios\"\n",
    "LABEL_HASHTAGS = \"Hashtags\"\n",
    "LABEL_TWITS = \"Twits\"\n",
    "R_POSTS = \"POSTS\"\n",
    "R_TAGS = \"TAGS\"\n",
    "\n",
    "G.node_label = LABEL_USUARIOS\n",
    "for i in range(3):\n",
    "    G.add_node(\"usuario\" + str(i))\n",
    "G.node_label = LABEL_TWITS\n",
    "for i in range(14):\n",
    "    G.add_node(\"twit\" + str(i))\n",
    "G.node_label = LABEL_HASHTAGS\n",
    "for i in range(8):\n",
    "    G.add_node(\"hashtag\" + str(i))\n",
    "    \n",
    "G.node_label = \"Usuarios\"\n",
    "for i in range(0, 6):\n",
    "    G.add_edge(\"usuario1\", \"twit\" + str(i))\n",
    "for i in range(7, 13):\n",
    "    G.add_edge(\"usuario2\", \"twit\" + str(i))\n",
    "G.add_edge(\"usuario3\", \"twit13\")\n",
    "\n",
    "G.node_label = \"Twits\"\n",
    "for i in range(13):\n",
    "    G.add_edge(\"twit\" + str(i), \"hashtag1\")\n",
    "for i in range(1, 8):\n",
    "    G.add_edge(\"twit13\", \"hashtag\" + str(i))"
   ]
  },
  {
   "cell_type": "markdown",
   "metadata": {},
   "source": [
    "# Draw graph"
   ]
  },
  {
   "cell_type": "code",
   "execution_count": 10,
   "metadata": {},
   "outputs": [
    {
     "data": {
      "text/html": [
       "\n",
       "        <iframe\n",
       "            width=\"100%\"\n",
       "            height=\"500\"\n",
       "            src=\"vis.html\"\n",
       "            frameborder=\"0\"\n",
       "            allowfullscreen\n",
       "        ></iframe>\n",
       "        "
      ],
      "text/plain": [
       "<IPython.lib.display.IFrame at 0x7fd214d13d90>"
      ]
     },
     "execution_count": 10,
     "metadata": {},
     "output_type": "execute_result"
    }
   ],
   "source": [
    "graph = StyledGraph(driver)\n",
    "\n",
    "QUERY = \"MATCH p=()-[]->() RETURN p\"\n",
    "\n",
    "graph.add_from_query(QUERY)\n",
    "graph.draw()"
   ]
  },
  {
   "cell_type": "code",
   "execution_count": 11,
   "metadata": {},
   "outputs": [],
   "source": [
    "LABEL_USUARIOS = \"Usuarios\"\n",
    "LABEL_HASHTAGS = \"Hashtag\"\n",
    "LABEL_TWITS = \"Twits\"\n",
    "R_POSTS = \"POSTS\"\n",
    "R_TAGS = \"TAGS\"\n",
    "\n",
    "RED = \"#ff0000\"\n",
    "ORANGE = \"#f79767\"\n",
    "BLUE = \"#57c7e3\"\n",
    "WHITE = \"#FFFFFF\"\n",
    "\n",
    "for node in list(graph.nodes.values()):\n",
    "    node[\"label\"] = \"\"\n",
    "    if LABEL_USUARIOS in node.label:\n",
    "        node[\"value\"] = len(node.edges)\n",
    "        node[\"color\"] = {\n",
    "            \"border\": WHITE,\n",
    "            \"background\": RED\n",
    "        }\n",
    "    elif LABEL_HASHTAGS in node.label:\n",
    "        node[\"value\"] = 1\n",
    "        node[\"color\"] = {\n",
    "            \"border\": WHITE,\n",
    "            \"background\": ORANGE\n",
    "        }\n",
    "    elif LABEL_TWITS in node.label:\n",
    "        node[\"value\"] = 1\n",
    "        node[\"color\"] = {\n",
    "            \"border\": WHITE,\n",
    "            \"background\": BLUE\n",
    "        }\n",
    "    else:\n",
    "        # unknown label\n",
    "        pass\n",
    "\n",
    "for edge in graph.edges:\n",
    "    edge[\"value\"] = random.randrange(1, 10)\n",
    "    edge[\"color\"] = {\n",
    "        \"color\": \"#e8c2b0\"\n",
    "    }\n",
    "    \n",
    "node = list(graph.nodes.values())[1]\n",
    "node[\"value\"] = 8\n",
    "node[\"shape\"] = \"triangle\"\n",
    "node[\"borderWidth\"] = 10\n",
    "node[\"label\"] = \"EXAMPLE\"\n",
    "node[\"font\"] = {\n",
    "    \"color\": \"#e8c2b0\",\n",
    "    \"size\": 20,\n",
    "}"
   ]
  },
  {
   "cell_type": "code",
   "execution_count": 12,
   "metadata": {},
   "outputs": [
    {
     "data": {
      "text/plain": [
       "{'border': '#FFFFFF', 'background': '#ff0000'}"
      ]
     },
     "execution_count": 12,
     "metadata": {},
     "output_type": "execute_result"
    }
   ],
   "source": [
    "node[\"color\"]"
   ]
  },
  {
   "cell_type": "code",
   "execution_count": 13,
   "metadata": {
    "scrolled": false
   },
   "outputs": [
    {
     "data": {
      "text/html": [
       "\n",
       "        <iframe\n",
       "            width=\"100%\"\n",
       "            height=\"500\"\n",
       "            src=\"vis.html\"\n",
       "            frameborder=\"0\"\n",
       "            allowfullscreen\n",
       "        ></iframe>\n",
       "        "
      ],
      "text/plain": [
       "<IPython.lib.display.IFrame at 0x7f9e40471310>"
      ]
     },
     "execution_count": 13,
     "metadata": {},
     "output_type": "execute_result"
    }
   ],
   "source": [
    "graph.draw()"
   ]
  },
  {
   "cell_type": "markdown",
   "metadata": {},
   "source": [
    "# Create graph"
   ]
  },
  {
   "cell_type": "code",
   "execution_count": 14,
   "metadata": {},
   "outputs": [],
   "source": [
    "LABEL_USUARIOS = \"Usuarios\"\n",
    "R_INTERACTS = \"INTERACTS\"\n",
    "\n",
    "G.node_label = LABEL_USUARIOS\n",
    "for i in range(3, 6):\n",
    "    G.add_node(\"usuario\" + str(i))\n",
    "    \n",
    "for i in range(1, 4):\n",
    "    G.add_edge(\"usuario0\", \"usuario\" + str(i))\n",
    "G.add_edge(\"usuario3\", \"usuario4\")\n",
    "G.add_edge(\"usuario1\", \"usuario5\")"
   ]
  },
  {
   "cell_type": "code",
   "execution_count": 15,
   "metadata": {},
   "outputs": [],
   "source": [
    "G.add_edge(\"usuario1\", \"usuario5\")"
   ]
  },
  {
   "cell_type": "markdown",
   "metadata": {},
   "source": [
    "# draw graph"
   ]
  },
  {
   "cell_type": "code",
   "execution_count": 16,
   "metadata": {},
   "outputs": [],
   "source": [
    "class Twits(StructuredRel):\n",
    "    pass"
   ]
  },
  {
   "cell_type": "code",
   "execution_count": 17,
   "metadata": {},
   "outputs": [],
   "source": [
    "class Posts(StructuredRel):\n",
    "    pass"
   ]
  },
  {
   "cell_type": "code",
   "execution_count": 18,
   "metadata": {},
   "outputs": [],
   "source": [
    "class Connected(StructuredRel):\n",
    "    pass"
   ]
  },
  {
   "cell_type": "code",
   "execution_count": 19,
   "metadata": {
    "scrolled": true
   },
   "outputs": [],
   "source": [
    "class Usuarios(StructuredNode):\n",
    "    id = StringProperty()\n",
    "    # traverse outgoing IS_FROM relations, inflate to Country objects\n",
    "    #posts = RelationshipTo(Twits, 'POSTS')\n",
    "    #posts = RelationshipTo(\"Twits\", \"POSTS\", model = Posts)\n",
    "    connected = RelationshipTo(\"Usuarios\", \"CONNECTED\", model = Connected)"
   ]
  },
  {
   "cell_type": "code",
   "execution_count": 20,
   "metadata": {},
   "outputs": [],
   "source": [
    "QUERY = \"\"\" \n",
    "    MATCH (n1:Usuarios) MATCH (n2)-[r:CONNECTED]-(n3) WHERE id(n1) = id(n2) RETURN n1, count(r) as twitCount\n",
    "\"\"\"\n",
    "\n",
    "Z = neomodel.db.cypher_query(\n",
    "    QUERY, \n",
    "    resolve_objects=True)"
   ]
  },
  {
   "cell_type": "code",
   "execution_count": 21,
   "metadata": {},
   "outputs": [],
   "source": [
    "twitcount = defaultdict(lambda: 0)\n",
    "for row in Z[0]:\n",
    "    user_id = row[0].id\n",
    "    num_twits = row[1]\n",
    "    twitcount[user_id] = num_twits"
   ]
  },
  {
   "cell_type": "code",
   "execution_count": 22,
   "metadata": {},
   "outputs": [],
   "source": [
    "QUERY = \"\"\" \n",
    "    MATCH (n1:Usuarios)-[r:CONNECTED]->() \n",
    "    RETURN r\n",
    "\"\"\"\n",
    "\n",
    "graph = StyledGraph(driver)\n",
    "Z = neomodel.db.cypher_query(\n",
    "    QUERY, \n",
    "    resolve_objects=True)\n",
    "relationships_list = [rel[0] for rel in Z[0]]    \n",
    "graph.add_from_neomodel_relationships(relationships_list)"
   ]
  },
  {
   "cell_type": "markdown",
   "metadata": {},
   "source": [
    "### style graph"
   ]
  },
  {
   "cell_type": "code",
   "execution_count": 23,
   "metadata": {},
   "outputs": [],
   "source": [
    "import string\n",
    "\n",
    "def make_color_tuple( color ):\n",
    "    \"\"\"\n",
    "    turn something like \"#000000\" into 0,0,0\n",
    "    or \"#FFFFFF into \"255,255,255\"\n",
    "    \"\"\"\n",
    "    R = color[1:3]\n",
    "    G = color[3:5]\n",
    "    B = color[5:7]\n",
    "\n",
    "    R = int(R, 16)\n",
    "    G = int(G, 16)\n",
    "    B = int(B, 16)\n",
    "\n",
    "    return R,G,B\n",
    "\n",
    "def interpolate_tuple( startcolor, goalcolor, steps ):\n",
    "    \"\"\"\n",
    "    Take two RGB color sets and mix them over a specified number of steps.  Return the list\n",
    "    \"\"\"\n",
    "    # white\n",
    "\n",
    "    R = startcolor[0]\n",
    "    G = startcolor[1]\n",
    "    B = startcolor[2]\n",
    "\n",
    "    targetR = goalcolor[0]\n",
    "    targetG = goalcolor[1]\n",
    "    targetB = goalcolor[2]\n",
    "\n",
    "    DiffR = targetR - R\n",
    "    DiffG = targetG - G\n",
    "    DiffB = targetB - B\n",
    "\n",
    "    buffer = []\n",
    "\n",
    "    for i in range(0, steps +1):\n",
    "        iR = R + int(DiffR * i / steps)\n",
    "        iG = G + int(DiffG * i / steps)\n",
    "        iB = B + int(DiffB * i / steps)\n",
    "\n",
    "        hR = str(hex(iR)).replace(\"0x\", \"\")\n",
    "        hG = str(hex(iG)).replace(\"0x\", \"\")\n",
    "        hB = str(hex(iB)).replace(\"0x\", \"\")\n",
    "\n",
    "        if len(hR) == 1:\n",
    "            hR = \"0\" + hR\n",
    "        if len(hB) == 1:\n",
    "            hB = \"0\" + hB\n",
    "\n",
    "        if len(hG) == 1:\n",
    "            hG = \"0\" + hG\n",
    "\n",
    "        color = (\"#\"+hR+hG+hB).upper()\n",
    "        buffer.append(color)\n",
    "\n",
    "    return buffer\n",
    "\n",
    "def interpolate( startcolor, goalcolor, steps ):\n",
    "    \"\"\"\n",
    "    wrapper for interpolate_tuple that accepts colors as html (\"#CCCCC\" and such)\n",
    "    \"\"\"\n",
    "    start_tuple = make_color_tuple(startcolor)\n",
    "    goal_tuple = make_color_tuple(goalcolor)\n",
    "\n",
    "    return interpolate_tuple(start_tuple, goal_tuple, steps)"
   ]
  },
  {
   "cell_type": "code",
   "execution_count": 24,
   "metadata": {},
   "outputs": [],
   "source": [
    "RED = \"#ff0000\"\n",
    "ORANGE = \"#f79767\"\n",
    "BLUE = \"#57c7e3\"\n",
    "WHITE = \"#FFFFFF\"\n",
    "\n",
    "colors = interpolate(RED, BLUE, 10)\n",
    "\n",
    "for node in graph.nodes.values():\n",
    "    node[\"label\"] = str(node.id)\n",
    "    node[\"value\"] = twitcount[node.id]\n",
    "    node[\"color\"] = {\n",
    "        \"border\": WHITE,\n",
    "        \"background\": random.choice(colors)\n",
    "    }"
   ]
  },
  {
   "cell_type": "code",
   "execution_count": 25,
   "metadata": {
    "scrolled": false
   },
   "outputs": [
    {
     "data": {
      "text/html": [
       "\n",
       "        <iframe\n",
       "            width=\"100%\"\n",
       "            height=\"500\"\n",
       "            src=\"vis.html\"\n",
       "            frameborder=\"0\"\n",
       "            allowfullscreen\n",
       "        ></iframe>\n",
       "        "
      ],
      "text/plain": [
       "<IPython.lib.display.IFrame at 0x7f9e23405e90>"
      ]
     },
     "execution_count": 25,
     "metadata": {},
     "output_type": "execute_result"
    }
   ],
   "source": [
    "graph.draw()"
   ]
  },
  {
   "cell_type": "code",
   "execution_count": 26,
   "metadata": {},
   "outputs": [
    {
     "name": "stdout",
     "output_type": "stream",
     "text": [
      "{'nodes': {'color': {'border': '#FFFFFF', 'background': '#F9A6C1'}, 'borderWidth': 2, 'borderWidthSelected': 2, 'shape': 'dot'}, 'edges': {'arrows': {'to': {'enabled': 'false', 'scaleFactor': 0.5}}, 'color': {'inherit': 'false'}, 'font': {'size': 14, 'align': 'middle'}, 'smooth': {'enabled': 'true', 'type': 'dynamic'}, 'length': 200}, 'interaction': {'dragNodes': 'true', 'hideEdgesOnDrag': 'false', 'hideNodesOnDrag': 'false'}, 'physics': {'enabled': 'true', 'stabilization': {'enabled': 'true', 'fit': 'true'}}}\n"
     ]
    }
   ],
   "source": [
    "print(graph.options)"
   ]
  }
 ],
 "metadata": {
  "kernelspec": {
   "display_name": "Python 3",
   "language": "python",
   "name": "python3"
  },
  "language_info": {
   "codemirror_mode": {
    "name": "ipython",
    "version": 3
   },
   "file_extension": ".py",
   "mimetype": "text/x-python",
   "name": "python",
   "nbconvert_exporter": "python",
   "pygments_lexer": "ipython3",
   "version": "3.7.12"
  }
 },
 "nbformat": 4,
 "nbformat_minor": 4
}
