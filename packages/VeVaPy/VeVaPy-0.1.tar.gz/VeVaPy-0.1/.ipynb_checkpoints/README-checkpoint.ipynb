{
 "cells": [
  {
   "cell_type": "markdown",
   "id": "45eeeff6",
   "metadata": {},
   "source": [
    "#  Instructions for Use of Models"
   ]
  },
  {
   "cell_type": "markdown",
   "id": "c4a0856a",
   "metadata": {},
   "source": [
    "## Table of Contents\n",
    "1. [Binder Setup](#binderSetup)\n",
    "2. [Model Selection](#modelSelection)\n",
    "3. [Dependencies Required to Run Models Locally](#localDependencies)\n",
    "4. [General Instructions](#generalInstructions)"
   ]
  },
  {
   "cell_type": "markdown",
   "id": "4f62c750",
   "metadata": {},
   "source": [
    "## Binder Setup <a name=\"binderSetup\"/>\n",
    "[![Binder](https://mybinder.org/badge_logo.svg)](https://mybinder.org/v2/gh/cparker-uc/PTSD/HEAD)\n",
    "\n",
    "Clicking the \"Launch Binder\" link above will open this repository in Binder, which allows you to run all of the Jupyter notebook files in your web browser without needing to have any software installed.\n",
    "\n",
    "The Binder environment will already have all of the necessary Python modules ready, so all you need to do is open a model file and start running simulations."
   ]
  },
  {
   "cell_type": "markdown",
   "id": "d627e73f",
   "metadata": {},
   "source": [
    "## Model Selection <a name=\"modelSelection\" />\n",
    "\n",
    "This repository contains five different models and a general template for creating new ones, each in their own Jupyter notebook file. Below is a table listing all of the models included with short descriptions of them.\n",
    "\n",
    "| Filename                              | Authors                                                                                                          | Year | Model Description                                                                                                                                                                                                              |\n",
    "|:-------------------------------------:|:----------------------------------------------------------------------------------------------------------------:|:----:|:------------------------------------------------------------------------------------------------------------------------------------------------------------------------------------------------------------------------------:|\n",
    "| Bairagi-2008.ipynb                    | N. Bairagi, S. Chatterjee & J. Chattopadhyay                                                                     | 2008 | One of the five models described in my paper.                                                                                                                                                                                   |\n",
    "| Bangsgaard-Ottesen-2017.ipynb         | E.O. Bangsgaard & J.T. Ottesen                                                                                   | 2017 | One of the five models described in my paper.                                                                                                                                                                                   |\n",
    "| Malek-2015.ipynb                      | H. Malek, M.H. Ebadzadeh, R. Safabakhsh, A. Razavi & J. Zaringhalam                                              | 2015 | One of the five models described in my paper.                                                                                                                                                                                   |\n",
    "| Somvanshi-2020.ipynb                  | P.R. Somvanshi, S.H. Mellon, R. Yehuda, J.D. Flory, L. Bierer, I. Makotkine, C. Marmar, M. Jett & F.J. Doyle III | 2020 | One of the five models described in my paper.                                                                                                                                                                                   |\n",
    "| Sriram-2012.ipynb                     | K. Sriram, M. Rodriguez-Fernandez & F.J. Doyle III                                                               | 2012 | One of the five models described in my paper.                                                                                                                                                                                   |\n",
    "| VeVaPy Model Template.ipynb           | Christopher J. Parker                                                                                           | 2022 | Basic template for editing to easily verify and validate mathematical models of the Hypothalamic-Pituitary-Adrenal axis |"
   ]
  },
  {
   "cell_type": "markdown",
   "id": "74110fc7",
   "metadata": {},
   "source": [
    "## Dependencies Required to Run Models Locally <a name=\"localDependencies\" />\n",
    "If you would prefer to run the models on your local machine, rather than in a Binder environment, the requirements listed in the following table will need to be met.\n",
    "\n",
    "| Software   | Version | URL                                                         |\n",
    "|:----------:|:-------:|:-----------------------------------------------------------:|\n",
    "| Python     | 3.7.7   | [https://www.python.org/downloads/](https://www.python.org/downloads/)                           |\n",
    "| Jupyterlab | 2.1.5   | https://www.jupyter.org/install                             |\n",
    "| NumPy      | 1.21.5  | https://numpy.org/install/                                  |\n",
    "| matplotlib | 3.0.1   | https://matplotlib.org/stable/users/installing/index.html   |\n",
    "| pandas     | 0.23.4  | https://pandas.pydata.org/docs/getting_started/install.html |\n",
    "| mpld3      | 0.5.7   | https://mpld3.github.io/install.html                        |\n",
    "| SciPy      | 1.1.0   | https://scipy.org/install/                                  |\n",
    "| tabulate   | 0.8.9   | https://pypi.org/project/tabulate/                          |\n"
   ]
  },
  {
   "cell_type": "markdown",
   "id": "eed89c34",
   "metadata": {},
   "source": [
    "## General Instructions <a name=\"generalInstructions\" />\n",
    "\n",
    "Once you have set up a Binder environment or installed all of the dependencies locally, open any of the five models described in the paper and select \"Instructions\" from the Table of Contents. Each model has instructions tailored to its specific needs, although they are largely the same. Good luck, and have fun!"
   ]
  }
 ],
 "metadata": {
  "kernelspec": {
   "display_name": "Python 3",
   "language": "python",
   "name": "python3"
  },
  "language_info": {
   "codemirror_mode": {
    "name": "ipython",
    "version": 3
   },
   "file_extension": ".py",
   "mimetype": "text/x-python",
   "name": "python",
   "nbconvert_exporter": "python",
   "pygments_lexer": "ipython3",
   "version": "3.7.7"
  }
 },
 "nbformat": 4,
 "nbformat_minor": 5
}
