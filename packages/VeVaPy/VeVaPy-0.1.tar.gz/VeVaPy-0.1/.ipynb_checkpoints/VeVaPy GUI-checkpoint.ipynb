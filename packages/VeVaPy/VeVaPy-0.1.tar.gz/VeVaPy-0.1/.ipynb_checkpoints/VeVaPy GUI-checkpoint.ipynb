{
 "cells": [
  {
   "cell_type": "markdown",
   "id": "b5ab34a9",
   "metadata": {},
   "source": [
    "# VeVaPy Model Template <a name=\"top\" />"
   ]
  },
  {
   "cell_type": "markdown",
   "id": "2f711de3",
   "metadata": {},
   "source": [
    "# Table of Contents \n",
    "\n",
    "1. [Imports](#imports)\n",
    "3. [Parameters and Initial Conditions](#params)\n",
    "4. [Put Raw Data into Arrays](#rawdata)\n",
    "    1. [Plot Basal Data Sets](#plotBasalData)\n",
    "    2. [Plot Nelson Data Sets](#plotNelsonData)\n",
    "5. [Model Function--Includes ODE Solver](#modelfunction)\n",
    "6. [Cost Function Definition](#cost)\n",
    "7. [Run the Optimization](#run)\n",
    "8. [Save Output to File](#saveoutput)\n",
    "9. [Compute Means and Std Devations of Parameters and Output as Table](#paramtable)\n",
    "10. [Plots](#plots)\n",
    "11. [No Optimization Simulations](#noOpt)\n",
    "17. [Dependencies](#dependencies)"
   ]
  },
  {
   "cell_type": "markdown",
   "id": "ff84c76b",
   "metadata": {},
   "source": [
    "## Imports <a name=\"imports\"></a>"
   ]
  },
  {
   "cell_type": "code",
   "execution_count": 1,
   "id": "8622fc20",
   "metadata": {},
   "outputs": [],
   "source": [
    "import numpy as np\n",
    "import matplotlib.pyplot as plt\n",
    "import scipy.optimize as sco\n",
    "from scipy.interpolate import interp1d\n",
    "import mpld3\n",
    "from tabulate import tabulate\n",
    "import matplotlib\n",
    "import pandas as pd\n",
    "from VeVaPy import DEsolver, optimize\n",
    "from VeVaPy.dataImport import data\n",
    "from VeVaPy.visualize import Visualizer\n",
    "import seaborn as sns\n",
    "from tkinter import *\n",
    "from PIL import Image, ImageTk"
   ]
  },
  {
   "cell_type": "markdown",
   "id": "9ff40119",
   "metadata": {},
   "source": [
    "## Window Class Setup"
   ]
  },
  {
   "cell_type": "code",
   "execution_count": 2,
   "id": "014fd94a",
   "metadata": {},
   "outputs": [],
   "source": [
    "# We define a class called Window that inherits from tkinter.Frame\n",
    "class Window(Frame):\n",
    "    \n",
    "    # In our initialization, we take an optional argument called master (which defaults to none).\n",
    "    # Master is the instance of the Tk class that does the main code loop for the window, I suppose. It's referred to\n",
    "    #  as the master widget\n",
    "    def __init__(self, master = None):\n",
    "        # The main initialization is simply done by the Frame superclass\n",
    "        Frame.__init__(self,master)\n",
    "        self.master = master\n",
    "        \n",
    "        # Call the class method init_window\n",
    "        self.init_window()\n",
    "        \n",
    "    # This function defines the components of the Window on initialization\n",
    "    def init_window(self):\n",
    "        \n",
    "        # Change the title of the master widget\n",
    "        self.master.title(\"VeVaPy GUI\")\n",
    "        \n",
    "        # Make the widget take up the full space of the root Tk window\n",
    "        self.pack(fill = BOTH, expand = 1)\n",
    "        \n",
    "        # Create an instance of the Tkinter class Menu and add it to the master widget\n",
    "        menu = Menu(self.master)\n",
    "        self.master.config(menu = menu)\n",
    "        \n",
    "        # Create another Menu instance, this time as a sub-menu from the main menu\n",
    "        file = Menu(menu)\n",
    "        \n",
    "        # Add a command to exit to the file sub-menu. Won't actually work in Jupyter, though\n",
    "        file.add_command(label = \"Exit\", command = lambda: print(\"Would normally exit, but can't in Jupyter\"))\n",
    "        \n",
    "        # Add the cascading menu button to the main menu bar\n",
    "        menu.add_cascade(label = \"File\", menu = file)\n",
    "        \n",
    "        # Add another sub-menu to the menu bar\n",
    "        edit = Menu(menu)\n",
    "        \n",
    "        # Add an entries for showing an image and showing some text to the edit sub-menu\n",
    "        edit.add_command(label = \"Show Img\", command = self.showImg)\n",
    "        edit.add_command(label = \"Show Text\", command = self.showText)\n",
    "        \n",
    "        # Add the cascading menu button to the main menu bar\n",
    "        menu.add_cascade(label = \"Edit\", menu = edit)\n",
    "        \n",
    "        # Create a button! Strangely, you cannot pass arguments to a function that is used as a Button command,\n",
    "        #  so the solution suggested on StackOverflow is to use a lambda function and just create it in-line so there\n",
    "        #  is no need to pass arguments--everything is already in scope.\n",
    "        # The exit() command just doesn't work in Jupyter for some reason. Recreating this code in a normal Python\n",
    "        #  script and running it in the command line exits normally.\n",
    "        #quitButton = Button(self, text = \"Quit\", command = lambda: exit())\n",
    "        \n",
    "        # Place the button in the window\n",
    "        #quitButton.place(x = 0, y = 0)\n",
    "        \n",
    "    def showImg(self):\n",
    "        \n",
    "        with Image.open(\"sriramModel-nelson-patientMean-IC-opt-MC-normalizedCost.png\") as load:\n",
    "            render = ImageTk.PhotoImage(load)\n",
    "            \n",
    "            img = Label(self, image = render)\n",
    "            img.image = render\n",
    "            img.place(x = 0, y = 0)\n",
    "\n",
    "    def showText(self):\n",
    "        text = Label(self, text = \"Hey there good lookin!\")\n",
    "        text.pack()"
   ]
  },
  {
   "cell_type": "code",
   "execution_count": 3,
   "id": "95fed900",
   "metadata": {},
   "outputs": [],
   "source": [
    "root = Tk()"
   ]
  },
  {
   "cell_type": "code",
   "execution_count": 4,
   "id": "d3fec7d4",
   "metadata": {},
   "outputs": [],
   "source": [
    "app = Window(root)"
   ]
  },
  {
   "cell_type": "code",
   "execution_count": 5,
   "id": "3f28bca3",
   "metadata": {},
   "outputs": [
    {
     "data": {
      "text/plain": [
       "''"
      ]
     },
     "execution_count": 5,
     "metadata": {},
     "output_type": "execute_result"
    }
   ],
   "source": [
    "# Define the window size\n",
    "root.geometry(\"400x300\")"
   ]
  },
  {
   "cell_type": "code",
   "execution_count": 6,
   "id": "2718e3f7",
   "metadata": {},
   "outputs": [],
   "source": [
    "root.mainloop()"
   ]
  },
  {
   "cell_type": "markdown",
   "id": "30f782bb",
   "metadata": {},
   "source": [
    "[Back to Top](#top)"
   ]
  },
  {
   "cell_type": "markdown",
   "id": "f5b6969c",
   "metadata": {},
   "source": [
    "## Parameters and Initial Conditions <a name=\"params\"/>"
   ]
  },
  {
   "cell_type": "code",
   "execution_count": null,
   "id": "68540e4a",
   "metadata": {},
   "outputs": [],
   "source": [
    "# Set the Initial Conditions \n",
    "#  (The current array is for a standard model with equations for CRH, ACTH and cortisol, in that order)\n",
    "# We will use the starting concentrations in ACTH and cortisol from the data set we are matching\n",
    "\n",
    "y0 = [1, 20, 6]"
   ]
  },
  {
   "cell_type": "code",
   "execution_count": null,
   "id": "33647f1d",
   "metadata": {},
   "outputs": [],
   "source": [
    "# Set the authors' parameter values for running simulations without optimization (for verification purposes)\n",
    "\n",
    "parameter1 = 1\n",
    "parameter2 = 2"
   ]
  },
  {
   "cell_type": "code",
   "execution_count": null,
   "id": "9ee56c5f",
   "metadata": {},
   "outputs": [],
   "source": [
    "# Create an array with the parameter values included, so we can pass them all to the model in a single function argument\n",
    "\n",
    "authors_params = [parameter1, parameter2]"
   ]
  },
  {
   "cell_type": "code",
   "execution_count": null,
   "id": "b17b5b52",
   "metadata": {},
   "outputs": [],
   "source": [
    "# Define bounds on parameters (for optimization during validation procedure)\n",
    "# The example array below means that parameter1 has a lower bound of 0 and an upper bound of 1,\n",
    "# and parameter2 has a lower bound of 1 and an upper bound of 2\n",
    "bounds = [(0, 1), (1, 2)]"
   ]
  },
  {
   "cell_type": "code",
   "execution_count": null,
   "id": "4a690a7e",
   "metadata": {},
   "outputs": [],
   "source": [
    "# Time interval and step definition\n",
    "\n",
    "# For models with time scale in hours, matching TSST data\n",
    "t_start = -0.01\n",
    "t_end = 2.35\n",
    "t_step = 0.01\n",
    "\n",
    "# For models with time scale in hours, matching basal 24-hour data\n",
    "#t_start = -0.01\n",
    "#t_end = 24.01\n",
    "#t_step = 0.01\n",
    "\n",
    "# For models with time scale in minutes, matching TSST data\n",
    "#t_start = -0.01\n",
    "#t_end = 140.01\n",
    "#t_step = 0.01\n",
    "\n",
    "# For models with time scale in minutes, matching basal 24-hour data\n",
    "#t_start = -0.01\n",
    "#t_end = 1440.01\n",
    "#t_step = 0.01\n",
    "\n",
    "# NOTE: We start at -0.01 to ensure that we have a time step covering exactly 0.0, for comparison with the \n",
    "#  real-world data. Otherwise, starting at 0.0 our first simulated point would be at 0.001 or so."
   ]
  },
  {
   "cell_type": "markdown",
   "id": "c1418a70",
   "metadata": {},
   "source": [
    "[Back to Top](#top)"
   ]
  },
  {
   "cell_type": "markdown",
   "id": "9a41f5ce",
   "metadata": {},
   "source": [
    "## Put Raw Data Into Arrays <a name=\"rawdata\"/>"
   ]
  },
  {
   "cell_type": "code",
   "execution_count": null,
   "id": "8bb0d4e1",
   "metadata": {},
   "outputs": [],
   "source": [
    "# Create an instance of the data class for each data set contained in the HPAmodeling library, and set the time\n",
    "#  scale to match the model you're using.\n",
    "yehuda = data(\"yehuda\", \"hours\")\n",
    "carroll = data(\"carroll\", \"hours\")\n",
    "golier = data(\"golier\", \"hours\")\n",
    "bremner = data(\"bremner\", \"hours\")\n",
    "nelson = data(\"nelson\", \"hours\")"
   ]
  },
  {
   "cell_type": "markdown",
   "id": "87fb777b",
   "metadata": {},
   "source": [
    "[Back to Top](#top)"
   ]
  },
  {
   "cell_type": "markdown",
   "id": "a860028d",
   "metadata": {},
   "source": [
    "### Plot Basal Data Sets <a name=\"plotBasalData\"></a>"
   ]
  },
  {
   "cell_type": "code",
   "execution_count": null,
   "id": "601e5757",
   "metadata": {},
   "outputs": [],
   "source": [
    "%matplotlib inline\n",
    "font = {'size'   : 18}\n",
    "matplotlib.rc('font', **font)\n",
    "\n",
    "fig, (ax1, ax2, ax3) = plt.subplots(nrows = 3, figsize = (20,20))\n",
    "\n",
    "ax1.plot(yehuda.controlCortisol[:,0], yehuda.controlCortisol[:,1], label = \"Control Group Cortisol\")\n",
    "ax1.plot(yehuda.controlCortisol_smooth[:,0], yehuda.controlCortisol_smooth[:,1], label = \"Control Group Cortisol - Smoothed\")\n",
    "ax1.set(xlabel=\"Time (hours)\", ylabel=\"Cortisol (micrograms/dL)\")\n",
    "ax1.legend(loc=\"lower right\", shadow = True, fancybox = True)\n",
    "\n",
    "ax2.plot(yehuda.PTSDCortisol[:,0], yehuda.PTSDCortisol[:,1], label = \"PTSD Group Cortisol\")\n",
    "ax2.plot(yehuda.PTSDCortisol_smooth[:,0], yehuda.PTSDCortisol_smooth[:,1], label = \"PTSD Group Cortisol - Smoothed\")\n",
    "ax2.set(xlabel=\"Time (hours)\", ylabel=\"Cortisol (micrograms/dL)\")\n",
    "ax2.legend(loc=\"lower right\", shadow = True, fancybox = True)\n",
    "\n",
    "ax3.plot(yehuda.depressedCortisol[:,0], yehuda.depressedCortisol[:,1], label = \"Depression Group Cortisol\")\n",
    "ax3.plot(yehuda.depressedCortisol_smooth[:,0], yehuda.depressedCortisol_smooth[:,1], label = \"Depression Group Cortisol - Smoothed\")\n",
    "ax3.set(xlabel=\"Time (hours)\", ylabel=\"Cortisol (micrograms/dL)\")\n",
    "ax3.legend(loc=\"lower right\", shadow = True, fancybox = True)\n"
   ]
  },
  {
   "cell_type": "code",
   "execution_count": null,
   "id": "5d2d0b0d",
   "metadata": {},
   "outputs": [],
   "source": [
    "#mpld3.enable_notebook()\n",
    "%matplotlib inline\n",
    "\n",
    "font = {'size'   : 20}\n",
    "matplotlib.rc('font', **font)\n",
    "fig, (ax1, ax2, ax3, ax4) = plt.subplots(nrows = 4, figsize = (25,25))\n",
    "\n",
    "ax1.plot(carroll.controlCortisol_rearr[:,0], carroll.controlCortisol_rearr[:,1], 'b', label = \"Control\")\n",
    "ax1.plot(carroll.HCDepressedCortisol_rearr[:,0], carroll.HCDepressedCortisol_rearr[:,1], 'r', label = \"High Cortisol Depressed\")\n",
    "ax1.plot(carroll.controlCortisol_rearr_smooth[:,0], carroll.controlCortisol_rearr_smooth[:,1], label = \"Control - Smoothed\")\n",
    "ax1.plot(carroll.HCDepressedCortisol_rearr_smooth[:,0], carroll.HCDepressedCortisol_rearr_smooth[:,1], label = \"High Cortisol Depressed - Smoothed\")\n",
    "ax1.set(xlabel=\"Time (hours)\", ylabel=\"Cortisol (micrograms/dL)\")\n",
    "ax1.legend(loc=\"upper right\", shadow = True, fancybox = True)\n",
    "\n",
    "ax2.plot(carroll.controlCortisol_rearr[:,0], carroll.controlCortisol_rearr[:,1], 'b', label = \"Control\")\n",
    "ax2.plot(carroll.LCDepressedCortisol_rearr[:,0], carroll.LCDepressedCortisol_rearr[:,1], 'g', label = \"Low Cortisol Depressed\")\n",
    "ax2.plot(carroll.controlCortisol_rearr_smooth[:,0], carroll.controlCortisol_rearr_smooth[:,1], label = \"Control - Smoothed\")\n",
    "ax2.plot(carroll.LCDepressedCortisol_rearr_smooth[:,0], carroll.LCDepressedCortisol_rearr_smooth[:,1], label = \"Low Cortisol Depressed - Smoothed\")\n",
    "ax2.set(xlabel=\"Time (hours)\", ylabel=\"Cortisol (micrograms/dL)\")\n",
    "ax2.legend(loc=\"upper right\", shadow = True, fancybox = True)\n",
    "\n",
    "ax3.plot(carroll.controlACTH_rearr[:,0], carroll.controlACTH_rearr[:,1], 'b', label = \"Control\")\n",
    "ax3.plot(carroll.HCDepressedACTH_rearr[:,0], carroll.HCDepressedACTH_rearr[:,1], 'r', label = \"High Cortisol Depressed\")\n",
    "ax3.plot(carroll.controlACTH_rearr_smooth[:,0], carroll.controlACTH_rearr_smooth[:,1], label = \"Control - Smoothed\")\n",
    "ax3.plot(carroll.HCDepressedACTH_rearr_smooth[:,0], carroll.HCDepressedACTH_rearr_smooth[:,1], label = \"High Cortisol Depressed - Smoothed\")\n",
    "ax3.set(xlabel=\"Time (hours)\", ylabel=\"ACTH (pg/mL)\")\n",
    "ax3.legend(loc=\"upper right\", shadow = True, fancybox = True)\n",
    "\n",
    "ax4.plot(carroll.controlACTH_rearr[:,0], carroll.controlACTH_rearr[:,1], 'b', label = \"Control\")\n",
    "ax4.plot(carroll.LCDepressedACTH_rearr[:,0], carroll.LCDepressedACTH_rearr[:,1], 'g', label = \"Low Cortisol Depressed\")\n",
    "ax4.plot(carroll.controlACTH_rearr_smooth[:,0], carroll.controlACTH_rearr_smooth[:,1], label = \"Control - Smoothed\")\n",
    "ax4.plot(carroll.LCDepressedACTH_rearr_smooth[:,0], carroll.LCDepressedACTH_rearr_smooth[:,1], label = \"Low Cortisol Depressed - Smoothed\")\n",
    "ax4.set(xlabel=\"Time (hours)\", ylabel=\"ACTH (pg/mL)\")\n",
    "ax4.legend(loc=\"upper right\", shadow = True, fancybox = True)"
   ]
  },
  {
   "cell_type": "code",
   "execution_count": null,
   "id": "bb30a063",
   "metadata": {},
   "outputs": [],
   "source": [
    "%matplotlib inline\n",
    "\n",
    "fig, (ax1, ax2, ax3, ax4, ax5, ax6) = plt.subplots(nrows = 6, figsize = (15,20))\n",
    "\n",
    "ax1.plot(golier.PTSDCortisol_rearr_smooth[:,0], golier.PTSDCortisol_rearr_smooth[:,1], label = \"Trauma Exposed PTSD Cortisol - Smoothed\")\n",
    "ax1.plot(golier.PTSDCortisol_rearr[:,0], golier.PTSDCortisol_rearr[:,1], label = \"Trauma Exposed PTSD Cortisol\")\n",
    "ax1.set(xlabel=\"Time (hours)\", ylabel=\"Cortisol (mg/dL)\")\n",
    "ax1.legend(loc=\"lower right\", shadow = True, fancybox = True)\n",
    "\n",
    "ax2.plot(golier.nonPTSDTraumaExposedCortisol_rearr_smooth[:,0], golier.nonPTSDTraumaExposedCortisol_rearr_smooth[:,1], label = \"Trauma Exposed Non-PTSD Cortisol - Smoothed\")\n",
    "ax2.plot(golier.nonPTSDTraumaExposedCortisol_rearr[:,0], golier.nonPTSDTraumaExposedCortisol_rearr[:,1], label = \"Trauma Exposed Non-PTSD Cortisol\")\n",
    "ax2.set(xlabel=\"Time (hours)\", ylabel=\"Cortisol (mg/dL)\")\n",
    "ax2.legend(loc=\"lower right\", shadow = True, fancybox = True)\n",
    "\n",
    "ax3.plot(golier.nonPTSDNonExposedCortisol_rearr_smooth[:,0], golier.nonPTSDNonExposedCortisol_rearr_smooth[:,1], label = \"Non-Exposed Non-PTSD Cortisol - Smoothed\")\n",
    "ax3.plot(golier.nonPTSDNonExposedCortisol_rearr[:,0], golier.nonPTSDNonExposedCortisol_rearr[:,1], label = \"Non-Exposed Non-PTSD Cortisol\")\n",
    "ax3.set(xlabel=\"Time (hours)\", ylabel=\"Cortisol (mg/dL)\")\n",
    "ax3.legend(loc=\"lower right\", shadow = True, fancybox = True)\n",
    "\n",
    "ax4.plot(golier.PTSDACTH_rearr_smooth[:,0], golier.PTSDACTH_rearr_smooth[:,1], label = \"Trauma Exposed PTSD ACTH - Smoothed\")\n",
    "ax4.plot(golier.PTSDACTH_rearr[:,0], golier.PTSDACTH_rearr[:,1], label = \"Trauma Exposed PTSD ACTH\")\n",
    "ax4.set(xlabel=\"Time (hours)\", ylabel=\"ACTH (pg/mL)\")\n",
    "ax4.legend(loc=\"lower right\", shadow = True, fancybox = True)\n",
    "\n",
    "ax5.plot(golier.nonPTSDTraumaExposedACTH_rearr_smooth[:,0], golier.nonPTSDTraumaExposedACTH_rearr_smooth[:,1], label = \"Trauma Exposed Non-PTSD ACTH - Smoothed\")\n",
    "ax5.plot(golier.nonPTSDTraumaExposedACTH_rearr[:,0], golier.nonPTSDTraumaExposedACTH_rearr[:,1], label = \"Trauma Exposed Non-PTSD ACTH\")\n",
    "ax5.set(xlabel=\"Time (hours)\", ylabel=\"ACTH (pg/mL)\")\n",
    "ax5.legend(loc=\"lower right\", shadow = True, fancybox = True)\n",
    "\n",
    "ax6.plot(golier.nonPTSDNonExposedACTH_rearr_smooth[:,0], golier.nonPTSDNonExposedACTH_rearr_smooth[:,1], label = \"Non-Exposed Non-PTSD ACTH - Smoothed\")\n",
    "ax6.plot(golier.nonPTSDNonExposedACTH_rearr[:,0], golier.nonPTSDNonExposedACTH_rearr[:,1], label = \"Non-Exposed Non-PTSD ACTH\")\n",
    "ax6.set(xlabel=\"Time (hours)\", ylabel=\"ACTH (pg/mL)\")\n",
    "ax6.legend(loc=\"lower right\", shadow = True, fancybox = True)\n"
   ]
  },
  {
   "cell_type": "code",
   "execution_count": null,
   "id": "22955e4b",
   "metadata": {},
   "outputs": [],
   "source": [
    "%matplotlib inline\n",
    "\n",
    "fig, (ax1, ax2, ax3) = plt.subplots(nrows = 3, figsize = (15,15))\n",
    "\n",
    "ax1.plot(bremner.abusedPTSDCortisol_rearr_smooth[:,0], bremner.abusedPTSDCortisol_rearr_smooth[:,1], label = \"Abused PTSD Cortisol - Smoothed\")\n",
    "ax1.plot(bremner.abusedPTSDCortisol_rearr[:,0], bremner.abusedPTSDCortisol_rearr[:,1], label = \"Abused PTSD Cortisol\")\n",
    "ax1.set(xlabel=\"Time (hours)\", ylabel=\"Cortisol (microg/dL)\")\n",
    "ax1.legend(loc=\"lower right\", shadow = True, fancybox = True)\n",
    "\n",
    "ax2.plot(bremner.nonAbusedPTSDCortisol_rearr_smooth[:,0], bremner.nonAbusedPTSDCortisol_rearr_smooth[:,1], label = \"Non-Abused PTSD Cortisol - Smoothed\")\n",
    "ax2.plot(bremner.nonAbusedPTSDCortisol_rearr[:,0], bremner.nonAbusedPTSDCortisol_rearr[:,1], label = \"Non-Abused PTSD Cortisol\")\n",
    "ax2.set(xlabel=\"Time (hours)\", ylabel=\"Cortisol (microg/dL)\")\n",
    "ax2.legend(loc=\"lower right\", shadow = True, fancybox = True)\n",
    "\n",
    "ax3.plot(bremner.nonAbusedNonPTSDCortisol_rearr_smooth[:,0], bremner.nonAbusedNonPTSDCortisol_rearr_smooth[:,1], label = \"Non-Abused Non-PTSD Cortisol - Smoothed\")\n",
    "ax3.plot(bremner.nonAbusedNonPTSDCortisol_rearr[:,0], bremner.nonAbusedNonPTSDCortisol_rearr[:,1], label = \"Non-Abused Non-PTSD Cortisol\")\n",
    "ax3.set(xlabel=\"Time (hours)\", ylabel=\"Cortisol (microg/dL)\")\n",
    "ax3.legend(loc=\"lower left\", shadow = True, fancybox = True)\n"
   ]
  },
  {
   "cell_type": "markdown",
   "id": "baae9eca",
   "metadata": {},
   "source": [
    "[Back to Top](#top)"
   ]
  },
  {
   "cell_type": "markdown",
   "id": "892fa721",
   "metadata": {},
   "source": [
    "### Plot Nelson Data Sets <a name=\"plotNelsonData\"></a>"
   ]
  },
  {
   "cell_type": "code",
   "execution_count": null,
   "id": "d80ceca9",
   "metadata": {},
   "outputs": [],
   "source": [
    "matplotlib.rc('font', **{'size'   : 28})\n",
    "\n",
    "fig, (ax1, ax2) = plt.subplots(nrows = 2, figsize = (15,20))\n",
    "\n",
    "ax1.plot(nelson.ACTH[:,0], nelson.ACTH[:,3], label = \"Mean ACTH\")\n",
    "ax1.legend(loc = \"upper right\", shadow = True, fancybox = True)\n",
    "ax1.set(xlabel = \"Time (h)\", ylabel = \"ACTH (pg/mL)\", title = \"ACTH Concentration\")\n",
    "\n",
    "ax2.plot(nelson.cortisol[:,0], nelson.cortisol[:,3], label = \"Mean Cortisol\")\n",
    "ax2.legend(loc = \"upper right\", shadow = True, fancybox = True)\n",
    "ax2.set(xlabel = \"Time (h)\", ylabel = \"Cortisol (micrograms/dL)\", title = \"Cortisol Concentration\")"
   ]
  },
  {
   "cell_type": "code",
   "execution_count": null,
   "id": "ec6f71fc",
   "metadata": {},
   "outputs": [],
   "source": [
    "# graph the Nelson data (only showing one patient at a time currently)\n",
    "matplotlib.rc('font', **{'size'   : 12})\n",
    "\n",
    "fig, (ax1, ax2) = plt.subplots(nrows = 2, figsize = (15,20))\n",
    "\n",
    "#ax1.plot(nelsonACTH[:,0], nelsonACTH[:,1])\n",
    "ax1.plot(nelson.atypicalACTH[:,0], nelson.atypicalACTH[:,1], label = \"Patient 1\")\n",
    "ax1.plot(nelson.atypicalACTH[:,0], nelson.atypicalACTH[:,2], label = \"Patient 2\")\n",
    "ax1.plot(nelson.atypicalACTH[:,0], nelson.atypicalACTH[:,3], label = \"Patient 3\")\n",
    "ax1.plot(nelson.atypicalACTH[:,0], nelson.atypicalACTH[:,4], label = \"Patient 4\")\n",
    "ax1.plot(nelson.atypicalACTH[:,0], nelson.atypicalACTH[:,5], label = \"Patient 5\")\n",
    "ax1.plot(nelson.atypicalACTH[:,0], nelson.atypicalACTH[:,6], label = \"Patient 6\")\n",
    "ax1.plot(nelson.atypicalACTH[:,0], nelson.atypicalACTH[:,7], label = \"Patient 7\")\n",
    "ax1.plot(nelson.atypicalACTH[:,0], nelson.atypicalACTH[:,8], label = \"Patient 8\")\n",
    "ax1.plot(nelson.atypicalACTH[:,0], nelson.atypicalACTH[:,9], label = \"Patient 9\")\n",
    "ax1.plot(nelson.atypicalACTH[:,0], nelson.atypicalACTH[:,10], label = \"Patient 10\")\n",
    "ax1.plot(nelson.atypicalACTH[:,0], nelson.atypicalACTH[:,11], label = \"Patient 11\")\n",
    "ax1.plot(nelson.atypicalACTH[:,0], nelson.atypicalACTH[:,12], label = \"Patient 12\")\n",
    "ax1.plot(nelson.atypicalACTH[:,0], nelson.atypicalACTH[:,13], label = \"Patient 13\")\n",
    "ax1.plot(nelson.atypicalACTH[:,0], nelson.atypicalACTH[:,14], label = \"Patient 14\")\n",
    "ax1.legend(loc = \"upper right\", shadow = True, fancybox = True)\n",
    "ax1.set(xlabel = \"Time (h)\", ylabel = \"ACTH (pg/mL)\", title = \"ACTH Concentration\")\n",
    "\n",
    "#ax2.plot(nelsonCortisol[:,0], nelsonCortisol[:,1])\n",
    "ax2.plot(nelson.atypicalCortisol[:,0], nelson.atypicalCortisol[:,1], label = \"Patient 1\")\n",
    "ax2.plot(nelson.atypicalCortisol[:,0], nelson.atypicalCortisol[:,2], label = \"Patient 2\")\n",
    "ax2.plot(nelson.atypicalCortisol[:,0], nelson.atypicalCortisol[:,3], label = \"Patient 3\")\n",
    "ax2.plot(nelson.atypicalCortisol[:,0], nelson.atypicalCortisol[:,4], label = \"Patient 4\")\n",
    "ax2.plot(nelson.atypicalCortisol[:,0], nelson.atypicalCortisol[:,5], label = \"Patient 5\")\n",
    "ax2.plot(nelson.atypicalCortisol[:,0], nelson.atypicalCortisol[:,6], label = \"Patient 6\")\n",
    "ax2.plot(nelson.atypicalCortisol[:,0], nelson.atypicalCortisol[:,7], label = \"Patient 7\")\n",
    "ax2.plot(nelson.atypicalCortisol[:,0], nelson.atypicalCortisol[:,8], label = \"Patient 8\")\n",
    "ax2.plot(nelson.atypicalCortisol[:,0], nelson.atypicalCortisol[:,9], label = \"Patient 9\")\n",
    "ax2.plot(nelson.atypicalCortisol[:,0], nelson.atypicalCortisol[:,10], label = \"Patient 10\")\n",
    "ax2.plot(nelson.atypicalCortisol[:,0], nelson.atypicalCortisol[:,11], label = \"Patient 11\")\n",
    "ax2.plot(nelson.atypicalCortisol[:,0], nelson.atypicalCortisol[:,12], label = \"Patient 12\")\n",
    "ax2.plot(nelson.atypicalCortisol[:,0], nelson.atypicalCortisol[:,13], label = \"Patient 13\")\n",
    "ax2.plot(nelson.atypicalCortisol[:,0], nelson.atypicalCortisol[:,14], label = \"Patient 14\")\n",
    "ax2.legend(loc = \"upper right\", shadow = True, fancybox = True)\n",
    "ax2.set(xlabel = \"Time (h)\", ylabel = \"Cortisol (micrograms/dL)\", title = \"Cortisol Concentration\")"
   ]
  },
  {
   "cell_type": "code",
   "execution_count": null,
   "id": "37b65761",
   "metadata": {},
   "outputs": [],
   "source": [
    "# graph the Nelson data (only showing one patient at a time currently)\n",
    "matplotlib.rc('font', **{'size'   : 12})\n",
    "\n",
    "fig, (ax1, ax2) = plt.subplots(nrows = 2, figsize = (15,20))\n",
    "\n",
    "#ax1.plot(nelsonACTH[:,0], nelsonACTH[:,1])\n",
    "ax1.plot(nelson.melancholicACTH[:,0], nelson.melancholicACTH[:,1], label = \"Patient 1\")\n",
    "ax1.plot(nelson.melancholicACTH[:,0], nelson.melancholicACTH[:,2], label = \"Patient 2\")\n",
    "ax1.plot(nelson.melancholicACTH[:,0], nelson.melancholicACTH[:,3], label = \"Patient 3\")\n",
    "ax1.plot(nelson.melancholicACTH[:,0], nelson.melancholicACTH[:,4], label = \"Patient 4\")\n",
    "ax1.plot(nelson.melancholicACTH[:,0], nelson.melancholicACTH[:,5], label = \"Patient 5\")\n",
    "ax1.plot(nelson.melancholicACTH[:,0], nelson.melancholicACTH[:,6], label = \"Patient 6\")\n",
    "ax1.plot(nelson.melancholicACTH[:,0], nelson.melancholicACTH[:,7], label = \"Patient 7\")\n",
    "ax1.plot(nelson.melancholicACTH[:,0], nelson.melancholicACTH[:,8], label = \"Patient 8\")\n",
    "ax1.plot(nelson.melancholicACTH[:,0], nelson.melancholicACTH[:,9], label = \"Patient 9\")\n",
    "ax1.plot(nelson.melancholicACTH[:,0], nelson.melancholicACTH[:,10], label = \"Patient 10\")\n",
    "ax1.plot(nelson.melancholicACTH[:,0], nelson.melancholicACTH[:,11], label = \"Patient 11\")\n",
    "ax1.plot(nelson.melancholicACTH[:,0], nelson.melancholicACTH[:,12], label = \"Patient 12\")\n",
    "ax1.plot(nelson.melancholicACTH[:,0], nelson.melancholicACTH[:,13], label = \"Patient 13\")\n",
    "ax1.plot(nelson.melancholicACTH[:,0], nelson.melancholicACTH[:,14], label = \"Patient 14\")\n",
    "ax1.legend(loc = \"upper left\", shadow = True, fancybox = True)\n",
    "ax1.set(xlabel = \"Time (h)\", ylabel = \"ACTH (pg/mL)\", title = \"ACTH Concentration\")\n",
    "\n",
    "#ax2.plot(nelsonCortisol[:,0], nelsonCortisol[:,1])\n",
    "ax2.plot(nelson.melancholicCortisol[:,0], nelson.melancholicCortisol[:,1], label = \"Patient 1\")\n",
    "ax2.plot(nelson.melancholicCortisol[:,0], nelson.melancholicCortisol[:,2], label = \"Patient 2\")\n",
    "ax2.plot(nelson.melancholicCortisol[:,0], nelson.melancholicCortisol[:,3], label = \"Patient 3\")\n",
    "ax2.plot(nelson.melancholicCortisol[:,0], nelson.melancholicCortisol[:,4], label = \"Patient 4\")\n",
    "ax2.plot(nelson.melancholicCortisol[:,0], nelson.melancholicCortisol[:,5], label = \"Patient 5\")\n",
    "ax2.plot(nelson.melancholicCortisol[:,0], nelson.melancholicCortisol[:,6], label = \"Patient 6\")\n",
    "ax2.plot(nelson.melancholicCortisol[:,0], nelson.melancholicCortisol[:,7], label = \"Patient 7\")\n",
    "ax2.plot(nelson.melancholicCortisol[:,0], nelson.melancholicCortisol[:,8], label = \"Patient 8\")\n",
    "ax2.plot(nelson.melancholicCortisol[:,0], nelson.melancholicCortisol[:,9], label = \"Patient 9\")\n",
    "ax2.plot(nelson.melancholicCortisol[:,0], nelson.melancholicCortisol[:,10], label = \"Patient 10\")\n",
    "ax2.plot(nelson.melancholicCortisol[:,0], nelson.melancholicCortisol[:,11], label = \"Patient 11\")\n",
    "ax2.plot(nelson.melancholicCortisol[:,0], nelson.melancholicCortisol[:,12], label = \"Patient 12\")\n",
    "ax2.plot(nelson.melancholicCortisol[:,0], nelson.melancholicCortisol[:,13], label = \"Patient 13\")\n",
    "ax2.plot(nelson.melancholicCortisol[:,0], nelson.melancholicCortisol[:,14], label = \"Patient 14\")\n",
    "ax2.legend(loc = \"upper left\", shadow = True, fancybox = True)\n",
    "ax2.set(xlabel = \"Time (h)\", ylabel = \"Cortisol (micrograms/dL)\", title = \"Cortisol Concentration\")"
   ]
  },
  {
   "cell_type": "code",
   "execution_count": null,
   "id": "16946dc4",
   "metadata": {},
   "outputs": [],
   "source": [
    "%matplotlib inline\n",
    "\n",
    "matplotlib.rc('font', **{'size'   : 28})\n",
    "\n",
    "fig, (ax1, ax2) = plt.subplots(nrows = 2, figsize = (15,20))\n",
    "\n",
    "ax1.plot(nelson.healthyACTH_mean[:,0], nelson.healthyACTH_mean[:,1], label = \"Healthy Control Group\", color = \"blue\")\n",
    "ax1.plot(nelson.depressedACTH_mean[:,0], nelson.depressedACTH_mean[:,1], label = \"Depression Group\", color = \"orange\")\n",
    "ax1.legend(loc = \"upper right\", shadow = True, fancybox = True)\n",
    "ax1.set(xlabel = \"Time (h)\", ylabel = \"ACTH (pg/mL)\", title = \"ACTH Concentration\")\n",
    "\n",
    "ax2.plot(nelson.healthyCortisol_mean[:,0], nelson.healthyCortisol_mean[:,1], label = \"Healthy Control Group\", color = \"blue\")\n",
    "ax2.plot(nelson.depressedCortisol_mean[:,0], nelson.depressedCortisol_mean[:,1], label = \"Depression Group\", color = \"orange\")\n",
    "ax2.legend(loc = \"upper right\", shadow = True, fancybox = True)\n",
    "ax2.set(xlabel = \"Time (h)\", ylabel = \"Cortisol (micrograms/dL)\", title = \"Cortisol Concentration\")\n",
    "\n",
    "#plt.savefig(\"Nelson Data Visualization Figures/nelson-control-vs-depressed-mean-comparison.png\", dpi = 300)"
   ]
  },
  {
   "cell_type": "code",
   "execution_count": null,
   "id": "baec9a64",
   "metadata": {},
   "outputs": [],
   "source": [
    "%matplotlib inline\n",
    "\n",
    "matplotlib.rc('font', **{'size'   : 28})\n",
    "\n",
    "fig, (ax1, ax2) = plt.subplots(nrows = 2, figsize = (25,20))\n",
    "\n",
    "ax1.plot(nelson.melancholicACTH_mean[:,0], nelson.melancholicACTH_mean[:,1], label = \"Melancholic Depression Group\", color = \"blue\")\n",
    "ax1.plot(nelson.atypicalACTH_mean[:,0], nelson.atypicalACTH_mean[:,1], label = \"Atypical Depression Group\", color = \"orange\")\n",
    "ax1.plot(nelson.neitherACTH_mean[:,0], nelson.neitherACTH_mean[:,1], label = \"Non-categorized Depression Group\", color = \"red\")\n",
    "ax1.legend(loc = \"upper right\", shadow = True, fancybox = True)\n",
    "ax1.set(xlabel = \"Time (h)\", ylabel = \"ACTH (pg/mL)\", title = \"ACTH Concentration\")\n",
    "\n",
    "ax2.plot(nelson.melancholicCortisol[:,0], nelson.melancholicCortisol_mean[:,1], label = \"Melancholic Depression Group\", color = \"blue\")\n",
    "ax2.plot(nelson.atypicalCortisol[:,0], nelson.atypicalCortisol_mean[:,1], label = \"Atypical Depression Group\", color = \"orange\")\n",
    "ax2.plot(nelson.neitherCortisol[:,0], nelson.neitherCortisol_mean[:,1], label = \"Non-categorized Depression Group\", color = \"red\")\n",
    "ax2.legend(loc = \"upper right\", shadow = True, fancybox = True)\n",
    "ax2.set(xlabel = \"Time (h)\", ylabel = \"Cortisol (micrograms/dL)\", title = \"Cortisol Concentration\")\n",
    "\n",
    "#plt.savefig(\"Nelson Data Visualization Figures/nelson-depression-subtypes-mean-comparison.png\", dpi = 300)"
   ]
  },
  {
   "cell_type": "code",
   "execution_count": null,
   "id": "e72f58ca",
   "metadata": {},
   "outputs": [],
   "source": [
    "%matplotlib inline\n",
    "\n",
    "matplotlib.rc('font', **{'size'   : 28})\n",
    "\n",
    "fig, (ax1, ax2) = plt.subplots(nrows = 2, figsize = (20,20))\n",
    "\n",
    "ax1.plot(nelson.healthyACTH[:,0], nelson.healthyACTH_mean[:,1], label = \"Healthy Control Group\", color = \"blue\")\n",
    "ax1.plot(nelson.melancholicACTH[:,0], nelson.melancholicACTH_mean[:,1], label = \"Melancholic Depression Group\", color = \"orange\")\n",
    "ax1.legend(loc = \"upper right\", shadow = True, fancybox = True)\n",
    "ax1.set(xlabel = \"Time (h)\", ylabel = \"ACTH (pg/mL)\", title = \"ACTH Concentration\")\n",
    "\n",
    "ax2.plot(nelson.healthyCortisol[:,0], nelson.healthyCortisol_mean[:,1], label = \"Healthy Control Group\", color = \"blue\")\n",
    "ax2.plot(nelson.melancholicCortisol[:,0], nelson.melancholicCortisol_mean[:,1], label = \"Melancholic Depression Group\", color = \"orange\")\n",
    "ax2.legend(loc = \"upper right\", shadow = True, fancybox = True)\n",
    "ax2.set(xlabel = \"Time (h)\", ylabel = \"Cortisol (micrograms/dL)\", title = \"Cortisol Concentration\")\n",
    "\n",
    "#plt.savefig(\"Nelson Data Visualization Figures/nelson-control-vs-melancholic-depression-mean-comparison.png\", dpi = 300)"
   ]
  },
  {
   "cell_type": "markdown",
   "id": "2365b042",
   "metadata": {},
   "source": [
    "[Back to Top](#top)"
   ]
  },
  {
   "cell_type": "markdown",
   "id": "81483060",
   "metadata": {},
   "source": [
    "## Model Function--Includes ODE Solver <a name=\"modelfunction\"></a>"
   ]
  },
  {
   "cell_type": "code",
   "execution_count": null,
   "id": "f5bc4408",
   "metadata": {},
   "outputs": [],
   "source": [
    "def model(params, ics):\n",
    "    def ode_system(t, y):\n",
    "        # Set the size of the array to equal the number of equations in the model (currently size 3 for CRH, ACTH, cortisol)\n",
    "        dy = np.zeros(3)\n",
    "        \n",
    "        # Set the parameters from the input to the function (so that the parameter optimization algorithm can pass\n",
    "        #  parameter values repeatedly). Change this array to include all parameters you want to optimize.\n",
    "        [parameter1, parameter2] = params\n",
    "        \n",
    "        # Change these to reflect the equations of your model. Note that y[0], y[1] and y[2] are the variable \n",
    "        #  concentrations in the system and the dy values are the rates of change.\n",
    "        dy[0] = parameter1*y[0]\n",
    "        dy[1] = parameter2*y[1]\n",
    "        dy[2] = y[2]\n",
    "        \n",
    "        return dy\n",
    "    \n",
    "    # If you are trying to solve a DDE, add the option: delay = [False, True, True]\n",
    "    # Set the variables that have a delay included to True and leave the others false, so the example above is\n",
    "    #  for delayed ACTH and cortisol but not CRH.\n",
    "    # You'll also need to define the delay lengths, so add tau0 = X, tau1 = X and/or tau2 = X depending on which you\n",
    "    #  are delaying.\n",
    "    # Also, if you're having trouble running a DDE, and it's going too slowly, try adding the flag delay_rough = True\n",
    "    timeSeries = DEsolver.solve(ode_system, ics, t_start, t_step, t_end, ode_steps=1000, ode_atol = 1e-8, ode_rtol = 1e-8)\n",
    "    return timeSeries"
   ]
  },
  {
   "cell_type": "markdown",
   "id": "9c1cac55",
   "metadata": {},
   "source": [
    "## Cost Function Definition <a name=\"cost\"></a>"
   ]
  },
  {
   "cell_type": "code",
   "execution_count": null,
   "id": "d0790012",
   "metadata": {},
   "outputs": [],
   "source": [
    "def cost_fun(params):\n",
    "    global y0, data_to_match\n",
    "    # If you are optimizing any initial conditions, you can define ICs here as follows:\n",
    "    #y0 = [params[0], y0[1], y0[2]]\n",
    "    # This example is for a 3-equation system with CRH, ACTH, and cortisol. The first entry of the array bounds\n",
    "    #  would be bounds on the initial condition for CRH, and so you'd use params[0] in your y0 array\n",
    "    \n",
    "    # If you're optimizing any initial conditions, make sure to not pass those entries of the parameter array to model()\n",
    "    # Instead, you'd pass params[1:] (all entries except the first 1) in the example above\n",
    "    simData = model(params, y0)\n",
    "    \n",
    "    # Change the first 4 arguments here to be: ACTH time steps, ACTH data points, cortisol time steps, and cortisol \n",
    "    #  data points for whichever data set you are matching. Note that all data sets included in dataImport have the first\n",
    "    #  column as the time steps (so [:,0] is the indexing you'd use)\n",
    "    # If you're matching data without ACTH concentrations, use costFun.SSE_cost_noACTH or costFun.MAX_cost_noACTH and \n",
    "    #  use only 2 arguments, one for cortisol time steps and one for cortisol concentrations.\n",
    "    return optimize.SSE_cost(data_to_match[0], data_to_match[1], data_to_match[2], data_to_match[3], simData)"
   ]
  },
  {
   "cell_type": "markdown",
   "id": "788f226e",
   "metadata": {},
   "source": [
    "[Back to Top](#top)"
   ]
  },
  {
   "cell_type": "markdown",
   "id": "244e10cf",
   "metadata": {},
   "source": [
    "## Run the Optimization <a name=\"run\"></a>"
   ]
  },
  {
   "cell_type": "code",
   "execution_count": null,
   "id": "123f87fc",
   "metadata": {},
   "outputs": [],
   "source": [
    "# Define the data set to match with the parameter optimization algorithm.\n",
    "# Requires 4 indices, in the order:\n",
    "# ACTH time steps, ACTH data, Cortisol time steps, Cortisol data\n",
    "data_to_match = [nelson.ACTH[:,0], nelson.ACTH[:,1], nelson.cortisol[:,0], nelson.cortisol[:,1]]\n",
    "\n",
    "# For matching data with only cortisol concentrations, use the following line and change the data sets as desired:\n",
    "#data_to_match = [yehuda.controlCortisol[:,0], yehuda.controlCortisol[:,1]]"
   ]
  },
  {
   "cell_type": "code",
   "execution_count": null,
   "id": "fc2f76c0",
   "metadata": {},
   "outputs": [],
   "source": [
    "# We define the initial conditions using the real-world data to match defined above.\n",
    "# This example is for a system with equations for CRH, ACTH and Cortisol. The IC for CRH has been set to 0 to start,\n",
    "#  but should be changed depending on whether it will be optimized.\n",
    "\n",
    "y0 = [0, data_to_match[1][0], data_to_match[3][0]]\n",
    "\n",
    "# For matching data with only cortisol concentrations, use the following line and change the ICs as desired:\n",
    "#y0 = [0, 10, data_to_match[1][0]]"
   ]
  },
  {
   "cell_type": "code",
   "execution_count": null,
   "id": "68d0e8e2",
   "metadata": {},
   "outputs": [],
   "source": [
    "# We call the run() method of the optimize module, which will run the parameter optimization given the arguments we pass\n",
    "# Required arguments are the cost function, the model, and the real-world data we want to match\n",
    "#\n",
    "# Optional arguments include the initial conditions we want to optimize (if any), the number of iterations to run,\n",
    "#  the maximum number of optimization steps per iteration of the algorithm, the algorithm to use (defaults to \n",
    "#  differential_evolution), and the popsize to use (larger popsize gives more accurate optimization but is more \n",
    "#  computationally expensive) \n",
    "#\n",
    "# For instance, to optimize the IC for CRH, enter the optional argument IC_opt = [0]. This will tell the function that\n",
    "#  the first index of y0 is being optimized, so in this example that is CRH\n",
    "opt_pars, simData_all = optimize.run(cost_fun, model, data_to_match, y0, bounds, num_iter=5)"
   ]
  },
  {
   "cell_type": "markdown",
   "id": "f9a27497",
   "metadata": {},
   "source": [
    "[Back to Top](#top)"
   ]
  },
  {
   "cell_type": "markdown",
   "id": "644048cf",
   "metadata": {},
   "source": [
    "## Save Output to File <a name=\"saveoutput\"></a>"
   ]
  },
  {
   "cell_type": "code",
   "execution_count": null,
   "id": "755743fe",
   "metadata": {},
   "outputs": [],
   "source": [
    "# Change the root filename, this will have the array name appended to it\n",
    "#  to make the filename of the Excel files, textfiles and graphs\n",
    "filename_root = 'newModel_output/nelson-patientMean-5-iterations-ICopt'"
   ]
  },
  {
   "cell_type": "code",
   "execution_count": null,
   "id": "7e053bbe",
   "metadata": {},
   "outputs": [],
   "source": [
    "# Create the pandas DataFrame object for opt_pars\n",
    "# Unfortunately, you'll need to type out every parameter name if you want to get column names in your Excel file.\n",
    "#  Be sure to put them in the order they are defined in the parameter list passed to the model.\n",
    "#\n",
    "# NOTE: I've been unable to get this code to work for 1 iteration of parameter optimization (only for opt_pars)\n",
    "# Hopefully in the near future I'll get it worked out, but for some reason I can't get it to be output as a single row\n",
    "# with multiple columns\n",
    "df_opt_pars = pd.DataFrame(opt_pars, columns=['Cost',\n",
    "                                              'parameter1',\n",
    "                                              'parameter2'])\n",
    "# Create the pandas DataFrame object for simData_all\n",
    "# I've typed out each individual heading for the variables and iterations,\n",
    "# and assigned the correct column of simData_all to them\n",
    "df_simData_all = pd.DataFrame(simData_all, columns=['Iteration 1 Time',\n",
    "                                                    'Iteration 1 CRH',\n",
    "                                                    'Iteration 1 ACTH',\n",
    "                                                    'Iteration 1 Cortisol',\n",
    "                                                    'Iteration 2 Time',\n",
    "                                                    'Iteration 2 CRH',\n",
    "                                                    'Iteration 2 ACTH',\n",
    "                                                    'Iteration 2 Cortisol',\n",
    "                                                    'Iteration 3 Time',\n",
    "                                                    'Iteration 3 CRH',\n",
    "                                                    'Iteration 3 ACTH',\n",
    "                                                    'Iteration 3 Cortisol',\n",
    "                                                    'Iteration 4 Time',\n",
    "                                                    'Iteration 4 CRH',\n",
    "                                                    'Iteration 4 ACTH',\n",
    "                                                    'Iteration 4 Cortisol',\n",
    "                                                    'Iteration 5 Time',\n",
    "                                                    'Iteration 5 CRH',\n",
    "                                                    'Iteration 5 ACTH',\n",
    "                                                    'Iteration 5 Cortisol'])\n",
    "\n",
    "# Create an instance of the ExcelWriter class and open the file using a with statement\n",
    "with pd.ExcelWriter(filename_root+\".xlsx\") as writer:\n",
    "    # Define the header format, so that it's bold, text is wrapped, it has a \n",
    "    #  colored background and a border\n",
    "    header_format = writer.book.add_format({\n",
    "        'bold': True,\n",
    "        'text_wrap': True,\n",
    "        'valign': 'top',\n",
    "        'fg_color': '#D7E4BC',\n",
    "        'border': 1\n",
    "    })\n",
    "    \n",
    "    # Write the opt_pars array to a sheet in the file, we skip adding in the headers here and add them with the above\n",
    "    #  format afterwards. We also change the row index to start at 1, rather than 0.\n",
    "    df_opt_pars.index = list(range(1,len(opt_pars[:,0])+1))\n",
    "    df_opt_pars.to_excel(writer, sheet_name=\"Optimized Parameters\", startrow=1, header=False)\n",
    "    \n",
    "    # Write the simData_all array to another sheet in the file, we skip adding in the headers here and add them with the above\n",
    "    #  format afterwards. We also disable the row index numbers, as they are not necessary here.\n",
    "    df_simData_all.to_excel(writer, sheet_name=\"Simulated Concentration Data\", startrow=1, header=False, index=False)\n",
    "    \n",
    "    # Loop through each header in opt_pars DataFrame and write to the sheet with formatting\n",
    "    for col,val in enumerate(df_opt_pars.columns.values):\n",
    "        # We write in the sheet \"Optimized Parameters\" in the first row, starting with the second column \n",
    "        #  (because of the row indices), using the headers from the DataFrame and the header format we defined above\n",
    "        writer.sheets[\"Optimized Parameters\"].write(0, col+1, val, header_format)\n",
    "    \n",
    "    # Loop through each header in simData_all DataFrame and write to the sheet with formatting\n",
    "    for col,val in enumerate(df_simData_all.columns.values):\n",
    "        # We write in the sheet \"Simulated Concentration Data\" in the first row, starting with the first column \n",
    "        #  (because we turned off the row indices), using the headers from the DataFrame and \n",
    "        #  the header format we defined above\n",
    "        writer.sheets[\"Simulated Concentration Data\"].write(0, col, val, header_format)\n",
    "    "
   ]
  },
  {
   "cell_type": "markdown",
   "id": "a98d084d",
   "metadata": {},
   "source": [
    "[Back to Top](#top)"
   ]
  },
  {
   "cell_type": "markdown",
   "id": "a9bd5308",
   "metadata": {},
   "source": [
    "## Compute Means and Std Devations of Parameters and Output as Table <a name=\"paramtable\"></a>"
   ]
  },
  {
   "cell_type": "code",
   "execution_count": null,
   "id": "e669280a",
   "metadata": {},
   "outputs": [],
   "source": [
    "# Create variables for mean and standard deviation for each parameter\n",
    "parameter1_mean = np.mean(opt_pars[:,1])\n",
    "parameter1_std = np.std(opt_pars[:,1])\n",
    "parameter2_mean = np.mean(opt_pars[:,2])\n",
    "parameter2_std = np.std(opt_pars[:,2])"
   ]
  },
  {
   "cell_type": "code",
   "execution_count": null,
   "id": "cc22f0ac",
   "metadata": {},
   "outputs": [],
   "source": [
    "# Output those means and std deviations as a table\n",
    "print(tabulate([[\"parameter1\", \"%f +- %f\" % (parameter1_mean, parameter1_std)], [\"parameter2\", \"%f +- %f\" % (parameter2_mean, parameter2_std)]], headers = [\"Parameter\", \"Mean +- Standard Deviation\"]))\n"
   ]
  },
  {
   "cell_type": "markdown",
   "id": "47c2dccc",
   "metadata": {},
   "source": [
    "[Back to Top](#top)"
   ]
  },
  {
   "cell_type": "markdown",
   "id": "7a365ce7",
   "metadata": {},
   "source": [
    "## Plots <a name=\"plots\"></a>"
   ]
  },
  {
   "cell_type": "code",
   "execution_count": null,
   "id": "e9e8e5c6",
   "metadata": {},
   "outputs": [],
   "source": [
    "# Create an instance of the Visualizer class from the VeVaPy module called visualize (and pass the dictionary containing\n",
    "#  the variables in the global namespace so the object has access to them for graphing). This will prompt the user for \n",
    "#  several inputs regarding the graphs to generate\n",
    "grapher = Visualizer(globals())"
   ]
  },
  {
   "cell_type": "code",
   "execution_count": null,
   "id": "d1288b18",
   "metadata": {},
   "outputs": [],
   "source": [
    "# Calling the make_graphs method of the object will generate and display the graphs. Use the command help(Visualizer)\n",
    "#  to display information regarding the optional arguments for this method\n",
    "grapher.make_graphs()"
   ]
  },
  {
   "cell_type": "markdown",
   "id": "4a40c8b0",
   "metadata": {},
   "source": [
    "[Back to Top](#top)"
   ]
  },
  {
   "cell_type": "markdown",
   "id": "ab285ab7",
   "metadata": {},
   "source": [
    "## No Optimization Run <a name=\"no-opt\" />"
   ]
  },
  {
   "cell_type": "markdown",
   "id": "8ffbe37f",
   "metadata": {},
   "source": [
    "Change the values of y0, authors_params and time steps in the section **Parameters and Initial Conditions** near the top of the notebook."
   ]
  },
  {
   "cell_type": "code",
   "execution_count": null,
   "id": "e6380c12",
   "metadata": {},
   "outputs": [],
   "source": [
    "# Run the simulation without optimization\n",
    "data_no_opt = model(authors_params, y0)"
   ]
  },
  {
   "cell_type": "markdown",
   "id": "ae22b9a1",
   "metadata": {},
   "source": [
    "[Back to Top](#top)"
   ]
  },
  {
   "cell_type": "markdown",
   "id": "ba174eed",
   "metadata": {},
   "source": [
    "## Dependencies <a name=\"dependencies\"></a>"
   ]
  },
  {
   "cell_type": "code",
   "execution_count": null,
   "id": "1682d803",
   "metadata": {},
   "outputs": [],
   "source": [
    "%load_ext watermark"
   ]
  },
  {
   "cell_type": "code",
   "execution_count": null,
   "id": "d34cfe38",
   "metadata": {},
   "outputs": [],
   "source": [
    "%watermark --iversions"
   ]
  }
 ],
 "metadata": {
  "kernelspec": {
   "display_name": "Python 3",
   "language": "python",
   "name": "python3"
  },
  "language_info": {
   "codemirror_mode": {
    "name": "ipython",
    "version": 3
   },
   "file_extension": ".py",
   "mimetype": "text/x-python",
   "name": "python",
   "nbconvert_exporter": "python",
   "pygments_lexer": "ipython3",
   "version": "3.7.7"
  }
 },
 "nbformat": 4,
 "nbformat_minor": 5
}
