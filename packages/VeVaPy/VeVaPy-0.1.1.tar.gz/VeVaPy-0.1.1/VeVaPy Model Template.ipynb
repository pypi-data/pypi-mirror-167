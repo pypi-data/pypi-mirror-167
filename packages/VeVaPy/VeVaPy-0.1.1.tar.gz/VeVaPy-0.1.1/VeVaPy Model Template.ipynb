{
 "cells": [
  {
   "cell_type": "markdown",
   "id": "3bc503ee",
   "metadata": {},
   "source": [
    "# VeVaPy Model Template <a name=\"top\" />"
   ]
  },
  {
   "cell_type": "markdown",
   "id": "7099d927",
   "metadata": {},
   "source": [
    "# Table of Contents \n",
    "1. [Instructions](#instructions)\n",
    "    1. [Parameter Optimization Against TSST Data Sets](#TSSTInstructions)\n",
    "    2. [Parameter Optimization Against Basal Data Sets](#basalInstructions)\n",
    "    3. [Running Without Parameter Optimization](#noOptInstructions)\n",
    "2. [Imports](#imports)\n",
    "3. [Parameters and Initial Conditions](#params)\n",
    "4. [Put Raw Data into Arrays](#rawdata)\n",
    "    1. [Plot Basal Data Sets](#plotBasalData)\n",
    "    2. [Plot Nelson Data Sets](#plotNelsonData)\n",
    "5. [Model Function--Includes ODE Solver](#modelfunction)\n",
    "6. [Cost Function Definition](#cost)\n",
    "7. [Run the Optimization](#run)\n",
    "8. [Save Output to File](#saveoutput)\n",
    "9. [Compute Means and Std Devations of Parameters and Output as Table](#paramtable)\n",
    "10. [Plots](#plots)\n",
    "11. [No Optimization Simulations](#noOpt)\n",
    "12. [Run Optimizations for Multiple Patients](#runMultiple)\n",
    "13. [Dependencies](#dependencies)"
   ]
  },
  {
   "cell_type": "markdown",
   "id": "5149120e",
   "metadata": {},
   "source": [
    "# Instructions <a name=\"instructions\"></a>"
   ]
  },
  {
   "cell_type": "markdown",
   "id": "ed1b4987",
   "metadata": {},
   "source": [
    "## Parameter Optimization Against TSST Data Sets <a name=\"TSSTInstructions\" />\n",
    "\n",
    "**Note:** To quickly run a cell (or a selection of cells), use the shortcut Shift+Enter (or you can also use the button labeled \"Run\" in the toolbar at the top).\n",
    "\n",
    "To run simulations with parameter optimization against TSST data, there is no need to change any cells until the heading **Run the Optimization**. Simply run all cells up to the cell below that heading.\n",
    "\n",
    "In order to set which data set to optimize parameters against, look for the following line of code:\n",
    "    \n",
    "    data_to_match = [nelson.ACTH[:,0], nelson.ACTH[:,1], nelson.cortisol[:,0], nelson.cortisol[:,1]]\n",
    "\n",
    "In order to run against a patient from the TSST data sets, simply change the list entries to reflect the patient number and subject group. The subject groups are:\n",
    "\n",
    "- nelson.melancholicACTH & nelson.melancholicCortisol (15 patients)\n",
    "- nelson.atypicalACTH & nelson.atypicalCortisol (14 patients)\n",
    "- nelson.neitherACTH & nelson.neitherCortisol (14 patients)\n",
    "- nelson.healthyACTH & nelson.healthyCortisol (15 patients)\n",
    "\n",
    "You could also run against the mean of all patients cortisol and ACTH concentration values by using `nelson.ACTH[:,1]` and `nelson.cortisol[:,1]`. Or you can run against the mean of any subgroup using `nelson.<subgroup name>Cortisol_mean[:,1]` and `nelson.<subgroup name>ACTH_mean[:,1]` (for instance `nelson.melancholicCortisol_mean[:,1]` & `nelson.melancholicACTH_mean[:,1]`). \n",
    "\n",
    "Note that the first column in each data set is the time steps, so indexing with `[:,0]` is referring to the time. These are the values we need to set as the first (ACTH time steps) and third (cortisol time steps) indices of the `data_to_match` list.\n",
    "\n",
    "The following are several examples of lists you could use for parameter optimization with explanations:\n",
    "\n",
    "- `nelson.melancholicACTH[:,0], nelson.melancholicACTH[:,1], nelson.melancholicCortisol[:,0], nelson.melancholicCortisol[:,1]`\n",
    "    - The 1st patient in the Melancholic subgroup\n",
    "- `nelson.atypicalACTH[:,0], nelson.atypicalACTH[:,14], nelson.atypicalCortisol[:,0], nelson.atypicalCortisol[:,14]`\n",
    "    - The 14th patient in the Atypical subgroup\n",
    "- `nelson.healthyACTH[:,0], nelson.healthyACTH[:,2], nelson.healthyCortisol[:,0], nelson.healthyCortisol[:,2]`\n",
    "    - The 2nd patient in the Healthy Control group\n",
    "- `nelson.ACTH[:,0], nelson.ACTH[:,1], nelson.cortisol[:,0], nelson.cortisol[:,1]`\n",
    "    - The mean data set for all patients (depressed and control)\n",
    "- `nelson.healthyACTH_mean[:,0], nelson.healthyACTH_mean[:,1], nelson.healthyCortisol_mean[:,0], nelson.healthyCortisol_mean[:,1]`\n",
    "    - The mean of all control patients\n",
    "    \n",
    "Next, you need to decide whether you will optimize any initial conditions (ICs). This can be modified in the function `cost_fun(params)`. In the cost function, we use the first two optimized parameters in the list returned by the optimization algorithm to set the ICs we want to optimize (CRH and GR in this example):\n",
    "\n",
    "    y0 = [params[0], y0[1], y0[2], params[1]]\n",
    "\n",
    "We then need to pass only the remaining parameters in the list to the model, along with the updated ICs in y0:\n",
    "\n",
    "    simData = model(params[2:], y0)\n",
    "    \n",
    "If you want to not optimize any ICs, you would simply comment out the two lines above in `cost_fun()`, and uncomment the line:\n",
    "\n",
    "    #simData = model(params, y0)\n",
    "    \n",
    "In that case, you will likely want to change the ICs for CRH and GR, as they will stay the same for every iteration. Under the heading **Run the Optimization**, the following line should be modified to reflect the desired ICs:\n",
    "\n",
    "    y0 = [0, data_to_match[1][0], data_to_match[3][0], 0]\n",
    "    \n",
    "Be sure to leave the 2nd and 3rd indices unchanged, as these set the ICs to use the initial values of the real-world data set being matched.\n",
    "\n",
    "At this point, you are ready to run the optimization, so simply run the cells up to the heading **Save Output to File**. This may take some time, so while it is running you can move on to the next steps (if you run a cell while another is processing, it will add it to a queue).\n",
    "\n",
    "**Note:** You also have the option of using a cost function based on the maximum distance between simulation and real-world data. Simply change SSE_cost to MAX_cost, the instructions for function arguments remain the same.\n",
    "\n",
    "The cell directly under the heading **Save Output to File** can be changed so that the root filename matches the simulations being run. This root will be used to save all of the various data and figures generated. The current naming scheme would save the files for 5 iterations of parameter optimization against the mean data set from the Nelson with ICs for CRH and GR optimized as:\n",
    "\n",
    "    filename_root = \"sriramModel_output/nelson-patientMean-5-iterations-ICOpt\"\n",
    "\n",
    "This saves the files in a subfolder specific to this model, which helps keep files organized when running multiple models.\n",
    "\n",
    "The next few cells create an Excel file containing all of the concentration data and optimized parameter values, and text files containing the initial conditions, parameter bounds and parameter means +- standard deviation across the 5 iterations.\n",
    "\n",
    "The final step after saving the outputs is to plot the simulations against the real-world data. The cell under the heading **Plots** creates an instance of the Visualizer object from the VeVaPy module called visualize. This will start a dialog which asks for several inputs to generate figures as desired.\n",
    "\n",
    "After initialization of the object, run its method `make_graphs()`, and it will generate figures using the data you have specified. There are a number of arguments that can be optionally specified for this method, and you can see the recommended values for these in the following function call:\n",
    "\n",
    "    grapher.make_graphs(std_dev = True, \n",
    "                sims_line_labels = [\"CRH Simulation\", \"ACTH Simulation\", \"Cortisol Simulation\", \"GR Simulation\"], \n",
    "                sims_line_colors = [\"blue\", \"blue\", \"blue\", \"blue\"],\n",
    "                std_labels = [\"Mean +- Standard Deviation\", \"Mean +- Standard Deviation\", \"Mean +- Standard Deviation\", \"Mean +- Standard Deviation\"],\n",
    "                real_data_labels = [\"Nelson ACTH - Patient Mean\", \"Nelson ACTH - Patient Mean\", \"Nelson Cortisol - Patient Mean\"], \n",
    "                graph_titles = [\"CRH Concentration\", \"ACTH Concentration\", \"Cortisol Concentration\", \"GR Concentration\"], \n",
    "                xaxis_labels = [\"Time (h)\", \"Time (h)\", \"Time (h)\", \"Time (h)\"],\n",
    "                yaxis_labels = [\"CRH (micrograms/dL)\", \"ACTH (pg/mL)\", \"Cortisol (micrograms/dL)\", \"GR (micrograms)\"],\n",
    "                legend_locs = [\"upper right\", \"upper right\", \"upper right\", \"upper left\"],\n",
    "                figure_size = (25,40),\n",
    "                savefile=filename_root+\".png\")\n",
    "\n",
    "## Parameter Optimization Against Basal Data Sets <a name=\"basalInstructions\" />\n",
    "\n",
    "Since these data sets have data points over a 24-hour period, rather than 2.35 hours, you will need to change the time interval over which the ODE solver integrates. To do this, go to the cell directly above the heading **Put Raw Data Into Arrays** and change the value of t_end to the following:\n",
    "\n",
    "    t_end = 24.26\n",
    "\n",
    "The reason you add the extra 0.26 hours is that you need to make sure that when you interpolate between your simulated data points the line covers every real-world data point so that you don't cause issues when computing the cost function (and the last data point for the Golier cortisol concentration data sets is at 24.25 hours).\n",
    "\n",
    "After making this change, you need to again change the `data_to_match` list so that you are matching the basal data set in which you are interested.\n",
    "\n",
    "First, choose which data set you wish to match. Here are the options:\n",
    "\n",
    "- yehuda.controlCortisol\n",
    "- yehuda.PTSDCortisol\n",
    "- yehuda.depressedCortisol\n",
    "- carroll.controlCortisol & carroll.controlACTH\n",
    "- carroll.LCDepressedCortisol & carroll.LCDepressedACTH (LC = Low Cortisol)\n",
    "- carroll.HCDepressedCortisol & carroll.HCDepressedACTH (HC = High Cortisol)\n",
    "- golier.PTSDCortisol & golierPTSDACTH\n",
    "- golier.nonPTSDTraumaExposedCortisol & golier.nonPTSDTraumaExposedACTH\n",
    "- golier.nonPTSDNonExposedCortisol & golier.nonPTSDNonExposedACTH\n",
    "- bremner.abusedPTSDCortisol\n",
    "- bremner.nonAbusedPTSDCortisol\n",
    "- bremner.nonAbusedNonPTSDCortisol\n",
    "\n",
    "**Note:** To see what any of these data sets looks like, click on the **Plot Basal Data Sets** heading in the Table of Contents.\n",
    "\n",
    "**Note Also:** These data sets all come in smoothed versions (each data point is set to the average of the nearest 5 points of the unsmoothed data). Also, the data sets by Carroll, Golier and Bremner also come in rearranged (or smoothed & rearranged) versions to match the starting time of the Yehuda data (10AM). To use any of these versions, simply append one of the following tags to the end of the data set name (before the indices): `_smooth`, `_rearr`, or `_rearr_smooth`.\n",
    "\n",
    "First, I will cover what to do with data sets that contain both ACTH and cortisol values, and then afterwards I will cover using the Yehuda and Bremner data sets (which have only cortisol concentration data). Just as with the Nelson data, in all of these data sets the first column is the time step values. This means that if you take any of these arrays and index it with `[:,0]`, you are referring to the time steps. These are the values we need to use as the first (ACTH time steps) and third (cortisol time steps) indices in the `data_to_match` list.\n",
    "\n",
    "Then for the second and fourth indices, you index the same data sets with `[:,1]` to mean the second column (which contains the mean concentration values for each patient group).\n",
    "\n",
    "Here are a couple of examples showing lists you can use for optimization:\n",
    "\n",
    "- `carroll.controlACTH_smooth[:,0], carroll.controlACTH_smooth[:,1], carroll.controlCortisol_smooth[:,0], carroll.controlCortisol_smooth[:,1]`\n",
    "    - The smoothed Control group mean for the Carroll data set\n",
    "- `golier.nonPTSDTraumaExposedACTH[:,0], golier.nonPTSDTraumaExposedACTH[:,1], golier.nonPTSDTraumaExposedCortisol[:,0], golier.nonPTSDTraumaExposedCortisol[:,1]`\n",
    "    - The Trauma-Exposed Control group mean for the Golier data set\n",
    "    \n",
    "In order to run simulations against data sets that do not include ACTH concentration data, you will need to change the name of the cost function to `optimize.SSE_cost_noACTH` and then update `data_to_match` to not include the two arguments for ACTH data. To use the Yehuda Control group data, this would look like:\n",
    "\n",
    "    data_to_match = [yehuda.controlCortisol[:,0], yehuda.controlCortisol[:,1]]\n",
    "    return optimize.SSE_cost_noACTH(data_to_match[0], data_to_match[1], simData)\n",
    "\n",
    "For data without ACTH concentrations, you will also need to comment out the current definition of `y0` and uncomment the following line (and change the ICs to the desired values for CRH and ACTH):\n",
    "\n",
    "    #y0 = [0, 10, data_to_match[1][0], 0]\n",
    "    \n",
    "At this point, you're ready to run the parameter optimization, so run all of the cells under the heading **Run the Optimization**.\n",
    "\n",
    "The cell directly under the heading **Save Output to File** should again have the filename changed to something that reflects the data set you're matching now. For instance, the filename root when matching the smoothed Carroll Control group and optimizing ICs would become:\n",
    "\n",
    "    filename_root = 'sriramModel_output/carroll-control-smooth-5-iterations-ICopt'\n",
    "            \n",
    "Finally, the cells under the heading **Plots** should be run again to generate graphs. The same process of giving inputs to the object dialog will be performed and then the method `make_graphs()` should be run with any optional arguments desired.\n",
    "\n",
    "## Running Without Parameter Optimization <a name=\"noOptInstructions\" />\n",
    "\n",
    "To run the model with any set of paramaters you desire, without optimization, you can use the cells under the heading **No Optimization Run**. Change the parameters and initial conditions defined under the heading **Parameters and Initial Conditions**, and then run the cell containing the following line:\n",
    "\n",
    "    data_no_opt = model(authors_params, y0)\n",
    "    \n",
    "Then run the cells under **Plots** to create graphs as described in the sections regarding simulations with parameter optimization."
   ]
  },
  {
   "cell_type": "markdown",
   "id": "34020b30",
   "metadata": {},
   "source": [
    "[Back to Top](#top)"
   ]
  },
  {
   "cell_type": "markdown",
   "id": "135da39c",
   "metadata": {},
   "source": [
    "# Imports <a name=\"imports\"></a>"
   ]
  },
  {
   "cell_type": "code",
   "execution_count": null,
   "id": "ec6be7c6",
   "metadata": {},
   "outputs": [],
   "source": [
    "import numpy as np\n",
    "import matplotlib.pyplot as plt\n",
    "import scipy.optimize as sco\n",
    "from scipy.interpolate import interp1d\n",
    "import mpld3\n",
    "from tabulate import tabulate\n",
    "import matplotlib\n",
    "import pandas as pd\n",
    "from VeVaPy import DEsolver, optimize\n",
    "from VeVaPy.dataImport import data\n",
    "from VeVaPy.visualize import Visualizer\n",
    "import seaborn as sns"
   ]
  },
  {
   "cell_type": "markdown",
   "id": "96ca26da",
   "metadata": {},
   "source": [
    "[Back to Top](#top)"
   ]
  },
  {
   "cell_type": "markdown",
   "id": "dc2689fc",
   "metadata": {},
   "source": [
    "# Parameters and Initial Conditions <a name=\"params\"/>"
   ]
  },
  {
   "cell_type": "code",
   "execution_count": null,
   "id": "a98f5aa4",
   "metadata": {},
   "outputs": [],
   "source": [
    "# Set the Initial Conditions \n",
    "#  (The current array is for a standard model with equations for CRH, ACTH and cortisol, in that order)\n",
    "# We will use the starting concentrations in ACTH and cortisol from the data set we are matching\n",
    "\n",
    "y0 = [1, 20, 6]"
   ]
  },
  {
   "cell_type": "code",
   "execution_count": null,
   "id": "941faecb",
   "metadata": {},
   "outputs": [],
   "source": [
    "# Set the authors' parameter values for running simulations without optimization (for verification purposes)\n",
    "\n",
    "parameter1 = 1\n",
    "parameter2 = 2"
   ]
  },
  {
   "cell_type": "code",
   "execution_count": null,
   "id": "7e69103d",
   "metadata": {},
   "outputs": [],
   "source": [
    "# Create an array with the parameter values included, so we can pass them all to the model in a single function argument\n",
    "\n",
    "authors_params = [parameter1, parameter2]"
   ]
  },
  {
   "cell_type": "code",
   "execution_count": null,
   "id": "f634024b",
   "metadata": {},
   "outputs": [],
   "source": [
    "# Define bounds on parameters (for optimization during validation procedure)\n",
    "# The example array below means that parameter1 has a lower bound of 0 and an upper bound of 1,\n",
    "# and parameter2 has a lower bound of 1 and an upper bound of 2\n",
    "bounds = [(0, 1), (1, 2)]"
   ]
  },
  {
   "cell_type": "code",
   "execution_count": null,
   "id": "1d0ea153",
   "metadata": {},
   "outputs": [],
   "source": [
    "# Time interval and step definition\n",
    "\n",
    "# For models with time scale in hours, matching TSST data\n",
    "t_start = -0.01\n",
    "t_end = 2.35\n",
    "t_step = 0.01\n",
    "\n",
    "# For models with time scale in hours, matching basal 24-hour data\n",
    "#t_start = -0.01\n",
    "#t_end = 24.01\n",
    "#t_step = 0.01\n",
    "\n",
    "# For models with time scale in minutes, matching TSST data\n",
    "#t_start = -0.01\n",
    "#t_end = 140.01\n",
    "#t_step = 0.01\n",
    "\n",
    "# For models with time scale in minutes, matching basal 24-hour data\n",
    "#t_start = -0.01\n",
    "#t_end = 1440.01\n",
    "#t_step = 0.01\n",
    "\n",
    "# NOTE: We start at -0.01 to ensure that we have a time step covering exactly 0.0, for comparison with the \n",
    "#  real-world data. Otherwise, starting at 0.0 our first simulated point would be at 0.001 or so."
   ]
  },
  {
   "cell_type": "markdown",
   "id": "fe7697d2",
   "metadata": {},
   "source": [
    "[Back to Top](#top)"
   ]
  },
  {
   "cell_type": "markdown",
   "id": "1dd9f439",
   "metadata": {},
   "source": [
    "# Put Raw Data Into Arrays <a name=\"rawdata\"/>"
   ]
  },
  {
   "cell_type": "code",
   "execution_count": null,
   "id": "7fc795b2",
   "metadata": {},
   "outputs": [],
   "source": [
    "# Create an instance of the data class for each data set contained in the HPAmodeling library, and set the time\n",
    "#  scale to match the model you're using.\n",
    "yehuda = data(\"yehuda\", \"hours\")\n",
    "carroll = data(\"carroll\", \"hours\")\n",
    "golier = data(\"golier\", \"hours\")\n",
    "bremner = data(\"bremner\", \"hours\")\n",
    "nelson = data(\"nelson\", \"hours\")"
   ]
  },
  {
   "cell_type": "markdown",
   "id": "6565055d",
   "metadata": {},
   "source": [
    "[Back to Top](#top)"
   ]
  },
  {
   "cell_type": "markdown",
   "id": "098444f6",
   "metadata": {},
   "source": [
    "## Plot Basal Data Sets <a name=\"plotBasalData\"></a>"
   ]
  },
  {
   "cell_type": "code",
   "execution_count": null,
   "id": "c08e07e8",
   "metadata": {},
   "outputs": [],
   "source": [
    "%matplotlib inline\n",
    "font = {'size'   : 18}\n",
    "matplotlib.rc('font', **font)\n",
    "\n",
    "fig, (ax1, ax2, ax3) = plt.subplots(nrows = 3, figsize = (20,20))\n",
    "\n",
    "ax1.plot(yehuda.controlCortisol[:,0], yehuda.controlCortisol[:,1], label = \"Control Group Cortisol\")\n",
    "ax1.plot(yehuda.controlCortisol_smooth[:,0], yehuda.controlCortisol_smooth[:,1], label = \"Control Group Cortisol - Smoothed\")\n",
    "ax1.set(xlabel=\"Time (hours)\", ylabel=\"Cortisol (micrograms/dL)\")\n",
    "ax1.legend(loc=\"lower right\", shadow = True, fancybox = True)\n",
    "\n",
    "ax2.plot(yehuda.PTSDCortisol[:,0], yehuda.PTSDCortisol[:,1], label = \"PTSD Group Cortisol\")\n",
    "ax2.plot(yehuda.PTSDCortisol_smooth[:,0], yehuda.PTSDCortisol_smooth[:,1], label = \"PTSD Group Cortisol - Smoothed\")\n",
    "ax2.set(xlabel=\"Time (hours)\", ylabel=\"Cortisol (micrograms/dL)\")\n",
    "ax2.legend(loc=\"lower right\", shadow = True, fancybox = True)\n",
    "\n",
    "ax3.plot(yehuda.depressedCortisol[:,0], yehuda.depressedCortisol[:,1], label = \"Depression Group Cortisol\")\n",
    "ax3.plot(yehuda.depressedCortisol_smooth[:,0], yehuda.depressedCortisol_smooth[:,1], label = \"Depression Group Cortisol - Smoothed\")\n",
    "ax3.set(xlabel=\"Time (hours)\", ylabel=\"Cortisol (micrograms/dL)\")\n",
    "ax3.legend(loc=\"lower right\", shadow = True, fancybox = True)\n"
   ]
  },
  {
   "cell_type": "code",
   "execution_count": null,
   "id": "2bb686f0",
   "metadata": {},
   "outputs": [],
   "source": [
    "#mpld3.enable_notebook()\n",
    "%matplotlib inline\n",
    "\n",
    "font = {'size'   : 20}\n",
    "matplotlib.rc('font', **font)\n",
    "fig, (ax1, ax2, ax3, ax4) = plt.subplots(nrows = 4, figsize = (25,25))\n",
    "\n",
    "ax1.plot(carroll.controlCortisol_rearr[:,0], carroll.controlCortisol_rearr[:,1], 'b', label = \"Control\")\n",
    "ax1.plot(carroll.HCDepressedCortisol_rearr[:,0], carroll.HCDepressedCortisol_rearr[:,1], 'r', label = \"High Cortisol Depressed\")\n",
    "ax1.plot(carroll.controlCortisol_rearr_smooth[:,0], carroll.controlCortisol_rearr_smooth[:,1], label = \"Control - Smoothed\")\n",
    "ax1.plot(carroll.HCDepressedCortisol_rearr_smooth[:,0], carroll.HCDepressedCortisol_rearr_smooth[:,1], label = \"High Cortisol Depressed - Smoothed\")\n",
    "ax1.set(xlabel=\"Time (hours)\", ylabel=\"Cortisol (micrograms/dL)\")\n",
    "ax1.legend(loc=\"upper right\", shadow = True, fancybox = True)\n",
    "\n",
    "ax2.plot(carroll.controlCortisol_rearr[:,0], carroll.controlCortisol_rearr[:,1], 'b', label = \"Control\")\n",
    "ax2.plot(carroll.LCDepressedCortisol_rearr[:,0], carroll.LCDepressedCortisol_rearr[:,1], 'g', label = \"Low Cortisol Depressed\")\n",
    "ax2.plot(carroll.controlCortisol_rearr_smooth[:,0], carroll.controlCortisol_rearr_smooth[:,1], label = \"Control - Smoothed\")\n",
    "ax2.plot(carroll.LCDepressedCortisol_rearr_smooth[:,0], carroll.LCDepressedCortisol_rearr_smooth[:,1], label = \"Low Cortisol Depressed - Smoothed\")\n",
    "ax2.set(xlabel=\"Time (hours)\", ylabel=\"Cortisol (micrograms/dL)\")\n",
    "ax2.legend(loc=\"upper right\", shadow = True, fancybox = True)\n",
    "\n",
    "ax3.plot(carroll.controlACTH_rearr[:,0], carroll.controlACTH_rearr[:,1], 'b', label = \"Control\")\n",
    "ax3.plot(carroll.HCDepressedACTH_rearr[:,0], carroll.HCDepressedACTH_rearr[:,1], 'r', label = \"High Cortisol Depressed\")\n",
    "ax3.plot(carroll.controlACTH_rearr_smooth[:,0], carroll.controlACTH_rearr_smooth[:,1], label = \"Control - Smoothed\")\n",
    "ax3.plot(carroll.HCDepressedACTH_rearr_smooth[:,0], carroll.HCDepressedACTH_rearr_smooth[:,1], label = \"High Cortisol Depressed - Smoothed\")\n",
    "ax3.set(xlabel=\"Time (hours)\", ylabel=\"ACTH (pg/mL)\")\n",
    "ax3.legend(loc=\"upper right\", shadow = True, fancybox = True)\n",
    "\n",
    "ax4.plot(carroll.controlACTH_rearr[:,0], carroll.controlACTH_rearr[:,1], 'b', label = \"Control\")\n",
    "ax4.plot(carroll.LCDepressedACTH_rearr[:,0], carroll.LCDepressedACTH_rearr[:,1], 'g', label = \"Low Cortisol Depressed\")\n",
    "ax4.plot(carroll.controlACTH_rearr_smooth[:,0], carroll.controlACTH_rearr_smooth[:,1], label = \"Control - Smoothed\")\n",
    "ax4.plot(carroll.LCDepressedACTH_rearr_smooth[:,0], carroll.LCDepressedACTH_rearr_smooth[:,1], label = \"Low Cortisol Depressed - Smoothed\")\n",
    "ax4.set(xlabel=\"Time (hours)\", ylabel=\"ACTH (pg/mL)\")\n",
    "ax4.legend(loc=\"upper right\", shadow = True, fancybox = True)"
   ]
  },
  {
   "cell_type": "code",
   "execution_count": null,
   "id": "350c769e",
   "metadata": {},
   "outputs": [],
   "source": [
    "%matplotlib inline\n",
    "\n",
    "fig, (ax1, ax2, ax3, ax4, ax5, ax6) = plt.subplots(nrows = 6, figsize = (15,20))\n",
    "\n",
    "ax1.plot(golier.PTSDCortisol_rearr_smooth[:,0], golier.PTSDCortisol_rearr_smooth[:,1], label = \"Trauma Exposed PTSD Cortisol - Smoothed\")\n",
    "ax1.plot(golier.PTSDCortisol_rearr[:,0], golier.PTSDCortisol_rearr[:,1], label = \"Trauma Exposed PTSD Cortisol\")\n",
    "ax1.set(xlabel=\"Time (hours)\", ylabel=\"Cortisol (mg/dL)\")\n",
    "ax1.legend(loc=\"lower right\", shadow = True, fancybox = True)\n",
    "\n",
    "ax2.plot(golier.nonPTSDTraumaExposedCortisol_rearr_smooth[:,0], golier.nonPTSDTraumaExposedCortisol_rearr_smooth[:,1], label = \"Trauma Exposed Non-PTSD Cortisol - Smoothed\")\n",
    "ax2.plot(golier.nonPTSDTraumaExposedCortisol_rearr[:,0], golier.nonPTSDTraumaExposedCortisol_rearr[:,1], label = \"Trauma Exposed Non-PTSD Cortisol\")\n",
    "ax2.set(xlabel=\"Time (hours)\", ylabel=\"Cortisol (mg/dL)\")\n",
    "ax2.legend(loc=\"lower right\", shadow = True, fancybox = True)\n",
    "\n",
    "ax3.plot(golier.nonPTSDNonExposedCortisol_rearr_smooth[:,0], golier.nonPTSDNonExposedCortisol_rearr_smooth[:,1], label = \"Non-Exposed Non-PTSD Cortisol - Smoothed\")\n",
    "ax3.plot(golier.nonPTSDNonExposedCortisol_rearr[:,0], golier.nonPTSDNonExposedCortisol_rearr[:,1], label = \"Non-Exposed Non-PTSD Cortisol\")\n",
    "ax3.set(xlabel=\"Time (hours)\", ylabel=\"Cortisol (mg/dL)\")\n",
    "ax3.legend(loc=\"lower right\", shadow = True, fancybox = True)\n",
    "\n",
    "ax4.plot(golier.PTSDACTH_rearr_smooth[:,0], golier.PTSDACTH_rearr_smooth[:,1], label = \"Trauma Exposed PTSD ACTH - Smoothed\")\n",
    "ax4.plot(golier.PTSDACTH_rearr[:,0], golier.PTSDACTH_rearr[:,1], label = \"Trauma Exposed PTSD ACTH\")\n",
    "ax4.set(xlabel=\"Time (hours)\", ylabel=\"ACTH (pg/mL)\")\n",
    "ax4.legend(loc=\"lower right\", shadow = True, fancybox = True)\n",
    "\n",
    "ax5.plot(golier.nonPTSDTraumaExposedACTH_rearr_smooth[:,0], golier.nonPTSDTraumaExposedACTH_rearr_smooth[:,1], label = \"Trauma Exposed Non-PTSD ACTH - Smoothed\")\n",
    "ax5.plot(golier.nonPTSDTraumaExposedACTH_rearr[:,0], golier.nonPTSDTraumaExposedACTH_rearr[:,1], label = \"Trauma Exposed Non-PTSD ACTH\")\n",
    "ax5.set(xlabel=\"Time (hours)\", ylabel=\"ACTH (pg/mL)\")\n",
    "ax5.legend(loc=\"lower right\", shadow = True, fancybox = True)\n",
    "\n",
    "ax6.plot(golier.nonPTSDNonExposedACTH_rearr_smooth[:,0], golier.nonPTSDNonExposedACTH_rearr_smooth[:,1], label = \"Non-Exposed Non-PTSD ACTH - Smoothed\")\n",
    "ax6.plot(golier.nonPTSDNonExposedACTH_rearr[:,0], golier.nonPTSDNonExposedACTH_rearr[:,1], label = \"Non-Exposed Non-PTSD ACTH\")\n",
    "ax6.set(xlabel=\"Time (hours)\", ylabel=\"ACTH (pg/mL)\")\n",
    "ax6.legend(loc=\"lower right\", shadow = True, fancybox = True)\n"
   ]
  },
  {
   "cell_type": "code",
   "execution_count": null,
   "id": "cf25fd6c",
   "metadata": {},
   "outputs": [],
   "source": [
    "%matplotlib inline\n",
    "\n",
    "fig, (ax1, ax2, ax3) = plt.subplots(nrows = 3, figsize = (15,15))\n",
    "\n",
    "ax1.plot(bremner.abusedPTSDCortisol_rearr_smooth[:,0], bremner.abusedPTSDCortisol_rearr_smooth[:,1], label = \"Abused PTSD Cortisol - Smoothed\")\n",
    "ax1.plot(bremner.abusedPTSDCortisol_rearr[:,0], bremner.abusedPTSDCortisol_rearr[:,1], label = \"Abused PTSD Cortisol\")\n",
    "ax1.set(xlabel=\"Time (hours)\", ylabel=\"Cortisol (microg/dL)\")\n",
    "ax1.legend(loc=\"lower right\", shadow = True, fancybox = True)\n",
    "\n",
    "ax2.plot(bremner.nonAbusedPTSDCortisol_rearr_smooth[:,0], bremner.nonAbusedPTSDCortisol_rearr_smooth[:,1], label = \"Non-Abused PTSD Cortisol - Smoothed\")\n",
    "ax2.plot(bremner.nonAbusedPTSDCortisol_rearr[:,0], bremner.nonAbusedPTSDCortisol_rearr[:,1], label = \"Non-Abused PTSD Cortisol\")\n",
    "ax2.set(xlabel=\"Time (hours)\", ylabel=\"Cortisol (microg/dL)\")\n",
    "ax2.legend(loc=\"lower right\", shadow = True, fancybox = True)\n",
    "\n",
    "ax3.plot(bremner.nonAbusedNonPTSDCortisol_rearr_smooth[:,0], bremner.nonAbusedNonPTSDCortisol_rearr_smooth[:,1], label = \"Non-Abused Non-PTSD Cortisol - Smoothed\")\n",
    "ax3.plot(bremner.nonAbusedNonPTSDCortisol_rearr[:,0], bremner.nonAbusedNonPTSDCortisol_rearr[:,1], label = \"Non-Abused Non-PTSD Cortisol\")\n",
    "ax3.set(xlabel=\"Time (hours)\", ylabel=\"Cortisol (microg/dL)\")\n",
    "ax3.legend(loc=\"lower left\", shadow = True, fancybox = True)\n"
   ]
  },
  {
   "cell_type": "markdown",
   "id": "50652425",
   "metadata": {},
   "source": [
    "[Back to Top](#top)"
   ]
  },
  {
   "cell_type": "markdown",
   "id": "ace474da",
   "metadata": {},
   "source": [
    "## Plot Nelson Data Sets <a name=\"plotNelsonData\"></a>"
   ]
  },
  {
   "cell_type": "code",
   "execution_count": null,
   "id": "6b82ebcb",
   "metadata": {},
   "outputs": [],
   "source": [
    "matplotlib.rc('font', **{'size'   : 28})\n",
    "\n",
    "fig, (ax1, ax2) = plt.subplots(nrows = 2, figsize = (15,20))\n",
    "\n",
    "ax1.plot(nelson.ACTH[:,0], nelson.ACTH[:,3], label = \"Mean ACTH\")\n",
    "ax1.legend(loc = \"upper right\", shadow = True, fancybox = True)\n",
    "ax1.set(xlabel = \"Time (h)\", ylabel = \"ACTH (pg/mL)\", title = \"ACTH Concentration\")\n",
    "\n",
    "ax2.plot(nelson.cortisol[:,0], nelson.cortisol[:,3], label = \"Mean Cortisol\")\n",
    "ax2.legend(loc = \"upper right\", shadow = True, fancybox = True)\n",
    "ax2.set(xlabel = \"Time (h)\", ylabel = \"Cortisol (micrograms/dL)\", title = \"Cortisol Concentration\")"
   ]
  },
  {
   "cell_type": "code",
   "execution_count": null,
   "id": "42019e4d",
   "metadata": {},
   "outputs": [],
   "source": [
    "# graph the Nelson data (only showing one patient at a time currently)\n",
    "matplotlib.rc('font', **{'size'   : 12})\n",
    "\n",
    "fig, (ax1, ax2) = plt.subplots(nrows = 2, figsize = (15,20))\n",
    "\n",
    "#ax1.plot(nelsonACTH[:,0], nelsonACTH[:,1])\n",
    "ax1.plot(nelson.atypicalACTH[:,0], nelson.atypicalACTH[:,1], label = \"Patient 1\")\n",
    "ax1.plot(nelson.atypicalACTH[:,0], nelson.atypicalACTH[:,2], label = \"Patient 2\")\n",
    "ax1.plot(nelson.atypicalACTH[:,0], nelson.atypicalACTH[:,3], label = \"Patient 3\")\n",
    "ax1.plot(nelson.atypicalACTH[:,0], nelson.atypicalACTH[:,4], label = \"Patient 4\")\n",
    "ax1.plot(nelson.atypicalACTH[:,0], nelson.atypicalACTH[:,5], label = \"Patient 5\")\n",
    "ax1.plot(nelson.atypicalACTH[:,0], nelson.atypicalACTH[:,6], label = \"Patient 6\")\n",
    "ax1.plot(nelson.atypicalACTH[:,0], nelson.atypicalACTH[:,7], label = \"Patient 7\")\n",
    "ax1.plot(nelson.atypicalACTH[:,0], nelson.atypicalACTH[:,8], label = \"Patient 8\")\n",
    "ax1.plot(nelson.atypicalACTH[:,0], nelson.atypicalACTH[:,9], label = \"Patient 9\")\n",
    "ax1.plot(nelson.atypicalACTH[:,0], nelson.atypicalACTH[:,10], label = \"Patient 10\")\n",
    "ax1.plot(nelson.atypicalACTH[:,0], nelson.atypicalACTH[:,11], label = \"Patient 11\")\n",
    "ax1.plot(nelson.atypicalACTH[:,0], nelson.atypicalACTH[:,12], label = \"Patient 12\")\n",
    "ax1.plot(nelson.atypicalACTH[:,0], nelson.atypicalACTH[:,13], label = \"Patient 13\")\n",
    "ax1.plot(nelson.atypicalACTH[:,0], nelson.atypicalACTH[:,14], label = \"Patient 14\")\n",
    "ax1.legend(loc = \"upper right\", shadow = True, fancybox = True)\n",
    "ax1.set(xlabel = \"Time (h)\", ylabel = \"ACTH (pg/mL)\", title = \"ACTH Concentration\")\n",
    "\n",
    "#ax2.plot(nelsonCortisol[:,0], nelsonCortisol[:,1])\n",
    "ax2.plot(nelson.atypicalCortisol[:,0], nelson.atypicalCortisol[:,1], label = \"Patient 1\")\n",
    "ax2.plot(nelson.atypicalCortisol[:,0], nelson.atypicalCortisol[:,2], label = \"Patient 2\")\n",
    "ax2.plot(nelson.atypicalCortisol[:,0], nelson.atypicalCortisol[:,3], label = \"Patient 3\")\n",
    "ax2.plot(nelson.atypicalCortisol[:,0], nelson.atypicalCortisol[:,4], label = \"Patient 4\")\n",
    "ax2.plot(nelson.atypicalCortisol[:,0], nelson.atypicalCortisol[:,5], label = \"Patient 5\")\n",
    "ax2.plot(nelson.atypicalCortisol[:,0], nelson.atypicalCortisol[:,6], label = \"Patient 6\")\n",
    "ax2.plot(nelson.atypicalCortisol[:,0], nelson.atypicalCortisol[:,7], label = \"Patient 7\")\n",
    "ax2.plot(nelson.atypicalCortisol[:,0], nelson.atypicalCortisol[:,8], label = \"Patient 8\")\n",
    "ax2.plot(nelson.atypicalCortisol[:,0], nelson.atypicalCortisol[:,9], label = \"Patient 9\")\n",
    "ax2.plot(nelson.atypicalCortisol[:,0], nelson.atypicalCortisol[:,10], label = \"Patient 10\")\n",
    "ax2.plot(nelson.atypicalCortisol[:,0], nelson.atypicalCortisol[:,11], label = \"Patient 11\")\n",
    "ax2.plot(nelson.atypicalCortisol[:,0], nelson.atypicalCortisol[:,12], label = \"Patient 12\")\n",
    "ax2.plot(nelson.atypicalCortisol[:,0], nelson.atypicalCortisol[:,13], label = \"Patient 13\")\n",
    "ax2.plot(nelson.atypicalCortisol[:,0], nelson.atypicalCortisol[:,14], label = \"Patient 14\")\n",
    "ax2.legend(loc = \"upper right\", shadow = True, fancybox = True)\n",
    "ax2.set(xlabel = \"Time (h)\", ylabel = \"Cortisol (micrograms/dL)\", title = \"Cortisol Concentration\")"
   ]
  },
  {
   "cell_type": "code",
   "execution_count": null,
   "id": "ad92d21b",
   "metadata": {},
   "outputs": [],
   "source": [
    "# graph the Nelson data (only showing one patient at a time currently)\n",
    "matplotlib.rc('font', **{'size'   : 12})\n",
    "\n",
    "fig, (ax1, ax2) = plt.subplots(nrows = 2, figsize = (15,20))\n",
    "\n",
    "#ax1.plot(nelsonACTH[:,0], nelsonACTH[:,1])\n",
    "ax1.plot(nelson.melancholicACTH[:,0], nelson.melancholicACTH[:,1], label = \"Patient 1\")\n",
    "ax1.plot(nelson.melancholicACTH[:,0], nelson.melancholicACTH[:,2], label = \"Patient 2\")\n",
    "ax1.plot(nelson.melancholicACTH[:,0], nelson.melancholicACTH[:,3], label = \"Patient 3\")\n",
    "ax1.plot(nelson.melancholicACTH[:,0], nelson.melancholicACTH[:,4], label = \"Patient 4\")\n",
    "ax1.plot(nelson.melancholicACTH[:,0], nelson.melancholicACTH[:,5], label = \"Patient 5\")\n",
    "ax1.plot(nelson.melancholicACTH[:,0], nelson.melancholicACTH[:,6], label = \"Patient 6\")\n",
    "ax1.plot(nelson.melancholicACTH[:,0], nelson.melancholicACTH[:,7], label = \"Patient 7\")\n",
    "ax1.plot(nelson.melancholicACTH[:,0], nelson.melancholicACTH[:,8], label = \"Patient 8\")\n",
    "ax1.plot(nelson.melancholicACTH[:,0], nelson.melancholicACTH[:,9], label = \"Patient 9\")\n",
    "ax1.plot(nelson.melancholicACTH[:,0], nelson.melancholicACTH[:,10], label = \"Patient 10\")\n",
    "ax1.plot(nelson.melancholicACTH[:,0], nelson.melancholicACTH[:,11], label = \"Patient 11\")\n",
    "ax1.plot(nelson.melancholicACTH[:,0], nelson.melancholicACTH[:,12], label = \"Patient 12\")\n",
    "ax1.plot(nelson.melancholicACTH[:,0], nelson.melancholicACTH[:,13], label = \"Patient 13\")\n",
    "ax1.plot(nelson.melancholicACTH[:,0], nelson.melancholicACTH[:,14], label = \"Patient 14\")\n",
    "ax1.legend(loc = \"upper left\", shadow = True, fancybox = True)\n",
    "ax1.set(xlabel = \"Time (h)\", ylabel = \"ACTH (pg/mL)\", title = \"ACTH Concentration\")\n",
    "\n",
    "#ax2.plot(nelsonCortisol[:,0], nelsonCortisol[:,1])\n",
    "ax2.plot(nelson.melancholicCortisol[:,0], nelson.melancholicCortisol[:,1], label = \"Patient 1\")\n",
    "ax2.plot(nelson.melancholicCortisol[:,0], nelson.melancholicCortisol[:,2], label = \"Patient 2\")\n",
    "ax2.plot(nelson.melancholicCortisol[:,0], nelson.melancholicCortisol[:,3], label = \"Patient 3\")\n",
    "ax2.plot(nelson.melancholicCortisol[:,0], nelson.melancholicCortisol[:,4], label = \"Patient 4\")\n",
    "ax2.plot(nelson.melancholicCortisol[:,0], nelson.melancholicCortisol[:,5], label = \"Patient 5\")\n",
    "ax2.plot(nelson.melancholicCortisol[:,0], nelson.melancholicCortisol[:,6], label = \"Patient 6\")\n",
    "ax2.plot(nelson.melancholicCortisol[:,0], nelson.melancholicCortisol[:,7], label = \"Patient 7\")\n",
    "ax2.plot(nelson.melancholicCortisol[:,0], nelson.melancholicCortisol[:,8], label = \"Patient 8\")\n",
    "ax2.plot(nelson.melancholicCortisol[:,0], nelson.melancholicCortisol[:,9], label = \"Patient 9\")\n",
    "ax2.plot(nelson.melancholicCortisol[:,0], nelson.melancholicCortisol[:,10], label = \"Patient 10\")\n",
    "ax2.plot(nelson.melancholicCortisol[:,0], nelson.melancholicCortisol[:,11], label = \"Patient 11\")\n",
    "ax2.plot(nelson.melancholicCortisol[:,0], nelson.melancholicCortisol[:,12], label = \"Patient 12\")\n",
    "ax2.plot(nelson.melancholicCortisol[:,0], nelson.melancholicCortisol[:,13], label = \"Patient 13\")\n",
    "ax2.plot(nelson.melancholicCortisol[:,0], nelson.melancholicCortisol[:,14], label = \"Patient 14\")\n",
    "ax2.legend(loc = \"upper left\", shadow = True, fancybox = True)\n",
    "ax2.set(xlabel = \"Time (h)\", ylabel = \"Cortisol (micrograms/dL)\", title = \"Cortisol Concentration\")"
   ]
  },
  {
   "cell_type": "code",
   "execution_count": null,
   "id": "090719c0",
   "metadata": {},
   "outputs": [],
   "source": [
    "%matplotlib inline\n",
    "\n",
    "matplotlib.rc('font', **{'size'   : 28})\n",
    "\n",
    "fig, (ax1, ax2) = plt.subplots(nrows = 2, figsize = (15,20))\n",
    "\n",
    "ax1.plot(nelson.healthyACTH_mean[:,0], nelson.healthyACTH_mean[:,1], label = \"Healthy Control Group\", color = \"blue\")\n",
    "ax1.plot(nelson.depressedACTH_mean[:,0], nelson.depressedACTH_mean[:,1], label = \"Depression Group\", color = \"orange\")\n",
    "ax1.legend(loc = \"upper right\", shadow = True, fancybox = True)\n",
    "ax1.set(xlabel = \"Time (h)\", ylabel = \"ACTH (pg/mL)\", title = \"ACTH Concentration\")\n",
    "\n",
    "ax2.plot(nelson.healthyCortisol_mean[:,0], nelson.healthyCortisol_mean[:,1], label = \"Healthy Control Group\", color = \"blue\")\n",
    "ax2.plot(nelson.depressedCortisol_mean[:,0], nelson.depressedCortisol_mean[:,1], label = \"Depression Group\", color = \"orange\")\n",
    "ax2.legend(loc = \"upper right\", shadow = True, fancybox = True)\n",
    "ax2.set(xlabel = \"Time (h)\", ylabel = \"Cortisol (micrograms/dL)\", title = \"Cortisol Concentration\")\n",
    "\n",
    "#plt.savefig(\"Nelson Data Visualization Figures/nelson-control-vs-depressed-mean-comparison.png\", dpi = 300)"
   ]
  },
  {
   "cell_type": "code",
   "execution_count": null,
   "id": "2065abdb",
   "metadata": {},
   "outputs": [],
   "source": [
    "%matplotlib inline\n",
    "\n",
    "matplotlib.rc('font', **{'size'   : 28})\n",
    "\n",
    "fig, (ax1, ax2) = plt.subplots(nrows = 2, figsize = (25,20))\n",
    "\n",
    "ax1.plot(nelson.melancholicACTH_mean[:,0], nelson.melancholicACTH_mean[:,1], label = \"Melancholic Depression Group\", color = \"blue\")\n",
    "ax1.plot(nelson.atypicalACTH_mean[:,0], nelson.atypicalACTH_mean[:,1], label = \"Atypical Depression Group\", color = \"orange\")\n",
    "ax1.plot(nelson.neitherACTH_mean[:,0], nelson.neitherACTH_mean[:,1], label = \"Non-categorized Depression Group\", color = \"red\")\n",
    "ax1.legend(loc = \"upper right\", shadow = True, fancybox = True)\n",
    "ax1.set(xlabel = \"Time (h)\", ylabel = \"ACTH (pg/mL)\", title = \"ACTH Concentration\")\n",
    "\n",
    "ax2.plot(nelson.melancholicCortisol[:,0], nelson.melancholicCortisol_mean[:,1], label = \"Melancholic Depression Group\", color = \"blue\")\n",
    "ax2.plot(nelson.atypicalCortisol[:,0], nelson.atypicalCortisol_mean[:,1], label = \"Atypical Depression Group\", color = \"orange\")\n",
    "ax2.plot(nelson.neitherCortisol[:,0], nelson.neitherCortisol_mean[:,1], label = \"Non-categorized Depression Group\", color = \"red\")\n",
    "ax2.legend(loc = \"upper right\", shadow = True, fancybox = True)\n",
    "ax2.set(xlabel = \"Time (h)\", ylabel = \"Cortisol (micrograms/dL)\", title = \"Cortisol Concentration\")\n",
    "\n",
    "#plt.savefig(\"Nelson Data Visualization Figures/nelson-depression-subtypes-mean-comparison.png\", dpi = 300)"
   ]
  },
  {
   "cell_type": "code",
   "execution_count": null,
   "id": "a7fb06ac",
   "metadata": {},
   "outputs": [],
   "source": [
    "%matplotlib inline\n",
    "\n",
    "matplotlib.rc('font', **{'size'   : 28})\n",
    "\n",
    "fig, (ax1, ax2) = plt.subplots(nrows = 2, figsize = (20,20))\n",
    "\n",
    "ax1.plot(nelson.healthyACTH[:,0], nelson.healthyACTH_mean[:,1], label = \"Healthy Control Group\", color = \"blue\")\n",
    "ax1.plot(nelson.melancholicACTH[:,0], nelson.melancholicACTH_mean[:,1], label = \"Melancholic Depression Group\", color = \"orange\")\n",
    "ax1.legend(loc = \"upper right\", shadow = True, fancybox = True)\n",
    "ax1.set(xlabel = \"Time (h)\", ylabel = \"ACTH (pg/mL)\", title = \"ACTH Concentration\")\n",
    "\n",
    "ax2.plot(nelson.healthyCortisol[:,0], nelson.healthyCortisol_mean[:,1], label = \"Healthy Control Group\", color = \"blue\")\n",
    "ax2.plot(nelson.melancholicCortisol[:,0], nelson.melancholicCortisol_mean[:,1], label = \"Melancholic Depression Group\", color = \"orange\")\n",
    "ax2.legend(loc = \"upper right\", shadow = True, fancybox = True)\n",
    "ax2.set(xlabel = \"Time (h)\", ylabel = \"Cortisol (micrograms/dL)\", title = \"Cortisol Concentration\")\n",
    "\n",
    "#plt.savefig(\"Nelson Data Visualization Figures/nelson-control-vs-melancholic-depression-mean-comparison.png\", dpi = 300)"
   ]
  },
  {
   "cell_type": "markdown",
   "id": "14e8fc76",
   "metadata": {},
   "source": [
    "[Back to Top](#top)"
   ]
  },
  {
   "cell_type": "markdown",
   "id": "bbe2e588",
   "metadata": {},
   "source": [
    "# Model Function--Includes ODE Solver <a name=\"modelfunction\"></a>"
   ]
  },
  {
   "cell_type": "code",
   "execution_count": null,
   "id": "26a2430a",
   "metadata": {},
   "outputs": [],
   "source": [
    "def model(params, ics):\n",
    "    def ode_system(t, y):\n",
    "        # Set the size of the array to equal the number of equations in the model (currently size 3 for CRH, ACTH, cortisol)\n",
    "        dy = np.zeros(3)\n",
    "        \n",
    "        # Set the parameters from the input to the function (so that the parameter optimization algorithm can pass\n",
    "        #  parameter values repeatedly). Change this array to include all parameters you want to optimize.\n",
    "        [parameter1, parameter2] = params\n",
    "        \n",
    "        # Change these to reflect the equations of your model. Note that y[0], y[1] and y[2] are the variable \n",
    "        #  concentrations in the system and the dy values are the rates of change.\n",
    "        dy[0] = parameter1*y[0]\n",
    "        dy[1] = parameter2*y[1]\n",
    "        dy[2] = y[2]\n",
    "        \n",
    "        return dy\n",
    "    \n",
    "    # If you are trying to solve a DDE, add the option: delay = [False, True, True]\n",
    "    # Set the variables that have a delay included to True and leave the others false, so the example above is\n",
    "    #  for delayed ACTH and cortisol but not CRH.\n",
    "    # You'll also need to define the delay lengths, so add tau0 = X, tau1 = X and/or tau2 = X depending on which you\n",
    "    #  are delaying.\n",
    "    # Also, if you're having trouble running a DDE, and it's going too slowly, try adding the flag delay_rough = True\n",
    "    timeSeries = DEsolver.solve(ode_system, ics, t_start, t_step, t_end, ode_steps=1000, ode_atol = 1e-8, ode_rtol = 1e-8)\n",
    "    return timeSeries"
   ]
  },
  {
   "cell_type": "markdown",
   "id": "b7d6f417",
   "metadata": {},
   "source": [
    "# Cost Function Definition <a name=\"cost\"></a>"
   ]
  },
  {
   "cell_type": "code",
   "execution_count": null,
   "id": "21749ef5",
   "metadata": {},
   "outputs": [],
   "source": [
    "def cost_fun(params):\n",
    "    global y0, data_to_match\n",
    "    # If you are optimizing any initial conditions, you can define ICs here as follows:\n",
    "    #y0 = [params[0], y0[1], y0[2]]\n",
    "    # This example is for a 3-equation system with CRH, ACTH, and cortisol. The first entry of the array bounds\n",
    "    #  would be bounds on the initial condition for CRH, and so you'd use params[0] in your y0 array\n",
    "    \n",
    "    # If you're optimizing any initial conditions, make sure to not pass those entries of the parameter array to model()\n",
    "    # Instead, you'd pass params[1:] (all entries except the first 1) in the example above\n",
    "    simData = model(params, y0)\n",
    "    \n",
    "    # Change the first 4 arguments here to be: ACTH time steps, ACTH data points, cortisol time steps, and cortisol \n",
    "    #  data points for whichever data set you are matching. Note that all data sets included in dataImport have the first\n",
    "    #  column as the time steps (so [:,0] is the indexing you'd use)\n",
    "    # If you're matching data without ACTH concentrations, use costFun.SSE_cost_noACTH or costFun.MAX_cost_noACTH and \n",
    "    #  use only 2 arguments, one for cortisol time steps and one for cortisol concentrations.\n",
    "    return optimize.SSE_cost(data_to_match[0], data_to_match[1], data_to_match[2], data_to_match[3], simData)"
   ]
  },
  {
   "cell_type": "markdown",
   "id": "d1d599d5",
   "metadata": {},
   "source": [
    "[Back to Top](#top)"
   ]
  },
  {
   "cell_type": "markdown",
   "id": "f661cd0f",
   "metadata": {},
   "source": [
    "# Run the Optimization <a name=\"run\"></a>"
   ]
  },
  {
   "cell_type": "code",
   "execution_count": null,
   "id": "c56b78a0",
   "metadata": {},
   "outputs": [],
   "source": [
    "# Define the data set to match with the parameter optimization algorithm.\n",
    "# Requires 4 indices, in the order:\n",
    "# ACTH time steps, ACTH data, Cortisol time steps, Cortisol data\n",
    "data_to_match = [nelson.ACTH[:,0], nelson.ACTH[:,1], nelson.cortisol[:,0], nelson.cortisol[:,1]]\n",
    "\n",
    "# For matching data with only cortisol concentrations, use the following line and change the data sets as desired:\n",
    "#data_to_match = [yehuda.controlCortisol[:,0], yehuda.controlCortisol[:,1]]"
   ]
  },
  {
   "cell_type": "code",
   "execution_count": null,
   "id": "879808af",
   "metadata": {},
   "outputs": [],
   "source": [
    "# We define the initial conditions using the real-world data to match defined above.\n",
    "# This example is for a system with equations for CRH, ACTH and Cortisol. The IC for CRH has been set to 0 to start,\n",
    "#  but should be changed depending on whether it will be optimized.\n",
    "\n",
    "y0 = [0, data_to_match[1][0], data_to_match[3][0]]\n",
    "\n",
    "# For matching data with only cortisol concentrations, use the following line and change the ICs as desired:\n",
    "#y0 = [0, 10, data_to_match[1][0]]"
   ]
  },
  {
   "cell_type": "code",
   "execution_count": null,
   "id": "2866f122",
   "metadata": {},
   "outputs": [],
   "source": [
    "# We call the run() method of the optimize module, which will run the parameter optimization given the arguments we pass\n",
    "# Required arguments are the cost function, the model, and the real-world data we want to match\n",
    "#\n",
    "# Optional arguments include the initial conditions we want to optimize (if any), the number of iterations to run,\n",
    "#  the maximum number of optimization steps per iteration of the algorithm, the algorithm to use (defaults to \n",
    "#  differential_evolution), and the popsize to use (larger popsize gives more accurate optimization but is more \n",
    "#  computationally expensive) \n",
    "#\n",
    "# For instance, to optimize the IC for CRH, enter the optional argument IC_opt = [0]. This will tell the function that\n",
    "#  the first index of y0 is being optimized, so in this example that is CRH\n",
    "opt_pars, simData_all = optimize.run(cost_fun, model, data_to_match, y0, bounds, num_iter=5)"
   ]
  },
  {
   "cell_type": "markdown",
   "id": "90e9363e",
   "metadata": {},
   "source": [
    "[Back to Top](#top)"
   ]
  },
  {
   "cell_type": "markdown",
   "id": "e9afdc91",
   "metadata": {},
   "source": [
    "# Save Output to File <a name=\"saveoutput\"></a>"
   ]
  },
  {
   "cell_type": "code",
   "execution_count": null,
   "id": "1f3272fd",
   "metadata": {},
   "outputs": [],
   "source": [
    "# Change the root filename, this will have the array name appended to it\n",
    "#  to make the filename of the Excel files, textfiles and graphs\n",
    "filename_root = 'newModel_output/nelson-patientMean-5-iterations-ICopt'"
   ]
  },
  {
   "cell_type": "code",
   "execution_count": null,
   "id": "a1941792",
   "metadata": {},
   "outputs": [],
   "source": [
    "# Create the pandas DataFrame object for opt_pars\n",
    "# Unfortunately, you'll need to type out every parameter name if you want to get column names in your Excel file.\n",
    "#  Be sure to put them in the order they are defined in the parameter list passed to the model.\n",
    "#\n",
    "# NOTE: I've been unable to get this code to work for 1 iteration of parameter optimization (only for opt_pars)\n",
    "# Hopefully in the near future I'll get it worked out, but for some reason I can't get it to be output as a single row\n",
    "# with multiple columns\n",
    "df_opt_pars = pd.DataFrame(opt_pars, columns=['Cost',\n",
    "                                              'parameter1',\n",
    "                                              'parameter2'])\n",
    "# Create the pandas DataFrame object for simData_all\n",
    "# I've typed out each individual heading for the variables and iterations,\n",
    "# and assigned the correct column of simData_all to them\n",
    "df_simData_all = pd.DataFrame(simData_all, columns=['Iteration 1 Time',\n",
    "                                                    'Iteration 1 CRH',\n",
    "                                                    'Iteration 1 ACTH',\n",
    "                                                    'Iteration 1 Cortisol',\n",
    "                                                    'Iteration 2 Time',\n",
    "                                                    'Iteration 2 CRH',\n",
    "                                                    'Iteration 2 ACTH',\n",
    "                                                    'Iteration 2 Cortisol',\n",
    "                                                    'Iteration 3 Time',\n",
    "                                                    'Iteration 3 CRH',\n",
    "                                                    'Iteration 3 ACTH',\n",
    "                                                    'Iteration 3 Cortisol',\n",
    "                                                    'Iteration 4 Time',\n",
    "                                                    'Iteration 4 CRH',\n",
    "                                                    'Iteration 4 ACTH',\n",
    "                                                    'Iteration 4 Cortisol',\n",
    "                                                    'Iteration 5 Time',\n",
    "                                                    'Iteration 5 CRH',\n",
    "                                                    'Iteration 5 ACTH',\n",
    "                                                    'Iteration 5 Cortisol'])\n",
    "\n",
    "# Create an instance of the ExcelWriter class and open the file using a with statement\n",
    "with pd.ExcelWriter(filename_root+\".xlsx\") as writer:\n",
    "    # Define the header format, so that it's bold, text is wrapped, it has a \n",
    "    #  colored background and a border\n",
    "    header_format = writer.book.add_format({\n",
    "        'bold': True,\n",
    "        'text_wrap': True,\n",
    "        'valign': 'top',\n",
    "        'fg_color': '#D7E4BC',\n",
    "        'border': 1\n",
    "    })\n",
    "    \n",
    "    # Write the opt_pars array to a sheet in the file, we skip adding in the headers here and add them with the above\n",
    "    #  format afterwards. We also change the row index to start at 1, rather than 0.\n",
    "    df_opt_pars.index = list(range(1,len(opt_pars[:,0])+1))\n",
    "    df_opt_pars.to_excel(writer, sheet_name=\"Optimized Parameters\", startrow=1, header=False)\n",
    "    \n",
    "    # Write the simData_all array to another sheet in the file, we skip adding in the headers here and add them with the above\n",
    "    #  format afterwards. We also disable the row index numbers, as they are not necessary here.\n",
    "    df_simData_all.to_excel(writer, sheet_name=\"Simulated Concentration Data\", startrow=1, header=False, index=False)\n",
    "    \n",
    "    # Loop through each header in opt_pars DataFrame and write to the sheet with formatting\n",
    "    for col,val in enumerate(df_opt_pars.columns.values):\n",
    "        # We write in the sheet \"Optimized Parameters\" in the first row, starting with the second column \n",
    "        #  (because of the row indices), using the headers from the DataFrame and the header format we defined above\n",
    "        writer.sheets[\"Optimized Parameters\"].write(0, col+1, val, header_format)\n",
    "    \n",
    "    # Loop through each header in simData_all DataFrame and write to the sheet with formatting\n",
    "    for col,val in enumerate(df_simData_all.columns.values):\n",
    "        # We write in the sheet \"Simulated Concentration Data\" in the first row, starting with the first column \n",
    "        #  (because we turned off the row indices), using the headers from the DataFrame and \n",
    "        #  the header format we defined above\n",
    "        writer.sheets[\"Simulated Concentration Data\"].write(0, col, val, header_format)\n",
    "    "
   ]
  },
  {
   "cell_type": "markdown",
   "id": "54d3f8a5",
   "metadata": {},
   "source": [
    "[Back to Top](#top)"
   ]
  },
  {
   "cell_type": "markdown",
   "id": "d8b9da40",
   "metadata": {},
   "source": [
    "# Compute Means and Std Devations of Parameters and Output as Table <a name=\"paramtable\"></a>"
   ]
  },
  {
   "cell_type": "code",
   "execution_count": null,
   "id": "a71d72de",
   "metadata": {},
   "outputs": [],
   "source": [
    "# Create variables for mean and standard deviation for each parameter\n",
    "parameter1_mean = np.mean(opt_pars[:,1])\n",
    "parameter1_std = np.std(opt_pars[:,1])\n",
    "parameter2_mean = np.mean(opt_pars[:,2])\n",
    "parameter2_std = np.std(opt_pars[:,2])"
   ]
  },
  {
   "cell_type": "code",
   "execution_count": null,
   "id": "a1178bcd",
   "metadata": {},
   "outputs": [],
   "source": [
    "# Output those means and std deviations as a table\n",
    "print(tabulate([[\"parameter1\", \"%f +- %f\" % (parameter1_mean, parameter1_std)], [\"parameter2\", \"%f +- %f\" % (parameter2_mean, parameter2_std)]], headers = [\"Parameter\", \"Mean +- Standard Deviation\"]))\n"
   ]
  },
  {
   "cell_type": "markdown",
   "id": "547aa554",
   "metadata": {},
   "source": [
    "[Back to Top](#top)"
   ]
  },
  {
   "cell_type": "markdown",
   "id": "b73dd0e3",
   "metadata": {},
   "source": [
    "# Plots <a name=\"plots\"></a>"
   ]
  },
  {
   "cell_type": "code",
   "execution_count": null,
   "id": "c5a00bb5",
   "metadata": {},
   "outputs": [],
   "source": [
    "# Create an instance of the Visualizer class from the VeVaPy module called visualize (and pass the dictionary containing\n",
    "#  the variables in the global namespace so the object has access to them for graphing). This will prompt the user for \n",
    "#  several inputs regarding the graphs to generate\n",
    "grapher = Visualizer(globals())"
   ]
  },
  {
   "cell_type": "code",
   "execution_count": null,
   "id": "57c86cf6",
   "metadata": {},
   "outputs": [],
   "source": [
    "# Calling the make_graphs method of the object will generate and display the graphs. Use the command help(Visualizer)\n",
    "#  to display information regarding the optional arguments for this method\n",
    "grapher.make_graphs()"
   ]
  },
  {
   "cell_type": "markdown",
   "id": "bf168ad9",
   "metadata": {},
   "source": [
    "[Back to Top](#top)"
   ]
  },
  {
   "cell_type": "markdown",
   "id": "4018eb6f",
   "metadata": {},
   "source": [
    "# No Optimization Run <a name=\"no-opt\" />"
   ]
  },
  {
   "cell_type": "markdown",
   "id": "7ddf09ac",
   "metadata": {},
   "source": [
    "Change the values of y0, authors_params and time steps in the section **Parameters and Initial Conditions** near the top of the notebook."
   ]
  },
  {
   "cell_type": "code",
   "execution_count": null,
   "id": "19e84d77",
   "metadata": {},
   "outputs": [],
   "source": [
    "# Run the simulation without optimization\n",
    "data_no_opt = model(authors_params, y0)"
   ]
  },
  {
   "cell_type": "markdown",
   "id": "0ff8a04e",
   "metadata": {},
   "source": [
    "[Back to Top](#top)"
   ]
  },
  {
   "cell_type": "markdown",
   "id": "a3576cb9",
   "metadata": {},
   "source": [
    "# Run Optimizations for Multiple Patients <a name=\"runMultiple\" />"
   ]
  },
  {
   "cell_type": "code",
   "execution_count": null,
   "id": "710327cb",
   "metadata": {},
   "outputs": [],
   "source": [
    "# Enter the patient number to start and end the optimization loop\n",
    "start_patient = 1\n",
    "end_patient = 10\n",
    "\n",
    "for patient in range(start_patient, end_patient+1):\n",
    "    print(f\"\\033[1mCurrent Patient: #{patient}\\033[0m\")\n",
    "    # Change the data set to cycle through patients in here. Will only work for Nelson TSST data, including subtype\n",
    "    #  data sets (as the basal data sets are only mean concentrations, not individual patients)\n",
    "    data_to_match = [nelson.ACTH[:,0], nelson.ACTH[:,patient+1], nelson.cortisol[:,0], nelson.cortisol[:,patient+1]]\n",
    "    y0 = [1, data_to_match[1][0], data_to_match[3][0]]\n",
    "    \n",
    "    opt_pars_tmp, simData_all_tmp = optimize.run(cost_fun, model, data_to_match, y0, bounds, num_iter=5)\n",
    "    \n",
    "    if patient == start_patient:\n",
    "        simData_all_multiple = simData_all_tmp\n",
    "        opt_pars_multiple = opt_pars_tmp\n",
    "    else:\n",
    "        simData_all_multiple = np.hstack((simData_all_multiple, simData_all_tmp))\n",
    "        opt_pars_multiple = np.hstack((opt_pars_multiple, opt_pars_tmp))\n",
    "        "
   ]
  },
  {
   "cell_type": "markdown",
   "id": "9c89bb20",
   "metadata": {},
   "source": [
    "[Back to Top](#top)"
   ]
  },
  {
   "cell_type": "markdown",
   "id": "76a70602",
   "metadata": {},
   "source": [
    "# Dependencies <a name=\"dependencies\"></a>"
   ]
  },
  {
   "cell_type": "code",
   "execution_count": null,
   "id": "1ca308af",
   "metadata": {},
   "outputs": [],
   "source": [
    "%load_ext watermark"
   ]
  },
  {
   "cell_type": "code",
   "execution_count": null,
   "id": "2eb16959",
   "metadata": {},
   "outputs": [],
   "source": [
    "%watermark --iversions"
   ]
  }
 ],
 "metadata": {
  "kernelspec": {
   "display_name": "Python 3",
   "language": "python",
   "name": "python3"
  },
  "language_info": {
   "codemirror_mode": {
    "name": "ipython",
    "version": 3
   },
   "file_extension": ".py",
   "mimetype": "text/x-python",
   "name": "python",
   "nbconvert_exporter": "python",
   "pygments_lexer": "ipython3",
   "version": "3.7.7"
  }
 },
 "nbformat": 4,
 "nbformat_minor": 5
}
