{
 "cells": [
  {
   "cell_type": "markdown",
   "metadata": {},
   "source": [
    "# Sriram et al. (2012) Model Code <a name=\"top\" />"
   ]
  },
  {
   "cell_type": "markdown",
   "metadata": {},
   "source": [
    "# Table of Contents \n",
    "1. [Instructions](#instructions)\n",
    "    1. [Parameter Optimization Against TSST Data Sets](#TSSTInstructions)\n",
    "    2. [Parameter Optimization Against Basal Data Sets](#basalInstructions)\n",
    "    3. [Running Without Parameter Optimization](#noOptInstructions)\n",
    "2. [Imports](#imports)\n",
    "3. [Parameters and Initial Conditions](#params)\n",
    "4. [Put Raw Data into Arrays](#rawdata)\n",
    "    1. [Plot Basal Data Sets](#plotBasalData)\n",
    "    2. [Plot Nelson Data Sets](#plotNelsonData)\n",
    "5. [Model Function--Includes ODE Solver](#modelfunction)\n",
    "6. [Cost Function Definition](#cost)\n",
    "7. [Run the Optimization](#run)\n",
    "8. [Save Output to File](#saveoutput)\n",
    "9. [Compute Means and Std Devations of Parameters and Output as Table](#paramtable)\n",
    "10. [Plots](#plots)\n",
    "11. [Figure 3 Reproduction](#fig3)\n",
    "12. [Figure 4 Reproduction](#fig4)\n",
    "13. [No Optimization Run](#no-opt)\n",
    "14. [Run Optimizations for Multiple Patients](#runMultiple)\n",
    "15. [Checking Parameter Sets Generated Externally](#checkexternal)\n",
    "16. [Load Simulated Concentration Data from Files and Plot](#load-and-plot)\n",
    "17. [Testing Monte Carlo Optimization](#monte)\n",
    "18. [Dependencies](#dependencies)"
   ]
  },
  {
   "cell_type": "markdown",
   "metadata": {},
   "source": [
    "# Instructions <a name=\"instructions\"></a>"
   ]
  },
  {
   "cell_type": "markdown",
   "metadata": {},
   "source": [
    "## Parameter Optimization Against TSST Data Sets <a name=\"TSSTInstructions\" />\n",
    "\n",
    "**Note:** To quickly run a cell (or a selection of cells), use the shortcut Shift+Enter (or you can also use the button labeled \"Run\" in the toolbar at the top).\n",
    "\n",
    "To run simulations with parameter optimization against TSST data, there is no need to change any cells until the heading **Run the Optimization**. Simply run all cells up to the cell below that heading.\n",
    "\n",
    "In order to set which data set to optimize parameters against, look for the following line of code:\n",
    "    \n",
    "    data_to_match = [nelson.ACTH[:,0], nelson.ACTH[:,1], nelson.cortisol[:,0], nelson.cortisol[:,1]]\n",
    "\n",
    "In order to run against a patient from the TSST data sets, simply change the list entries to reflect the patient number and subject group. The subject groups are:\n",
    "\n",
    "- nelson.melancholicACTH & nelson.melancholicCortisol (15 patients)\n",
    "- nelson.atypicalACTH & nelson.atypicalCortisol (14 patients)\n",
    "- nelson.neitherACTH & nelson.neitherCortisol (14 patients)\n",
    "- nelson.healthyACTH & nelson.healthyCortisol (15 patients)\n",
    "\n",
    "You could also run against the mean of all patients cortisol and ACTH concentration values by using `nelson.ACTH[:,1]` and `nelson.cortisol[:,1]`. Or you can run against the mean of any subgroup using `nelson.<subgroup name>Cortisol_mean[:,1]` and `nelson.<subgroup name>ACTH_mean[:,1]` (for instance `nelson.melancholicCortisol_mean[:,1]` & `nelson.melancholicACTH_mean[:,1]`). \n",
    "\n",
    "Note that the first column in each data set is the time steps, so indexing with `[:,0]` is referring to the time. These are the values we need to set as the first (ACTH time steps) and third (cortisol time steps) indices of the `data_to_match` list.\n",
    "\n",
    "The following are several examples of lists you could use for parameter optimization with explanations:\n",
    "\n",
    "- `nelson.melancholicACTH[:,0], nelson.melancholicACTH[:,1], nelson.melancholicCortisol[:,0], nelson.melancholicCortisol[:,1]`\n",
    "    - The 1st patient in the Melancholic subgroup\n",
    "- `nelson.atypicalACTH[:,0], nelson.atypicalACTH[:,14], nelson.atypicalCortisol[:,0], nelson.atypicalCortisol[:,14]`\n",
    "    - The 14th patient in the Atypical subgroup\n",
    "- `nelson.healthyACTH[:,0], nelson.healthyACTH[:,2], nelson.healthyCortisol[:,0], nelson.healthyCortisol[:,2]`\n",
    "    - The 2nd patient in the Healthy Control group\n",
    "- `nelson.ACTH[:,0], nelson.ACTH[:,1], nelson.cortisol[:,0], nelson.cortisol[:,1]`\n",
    "    - The mean data set for all patients (depressed and control)\n",
    "- `nelson.healthyACTH_mean[:,0], nelson.healthyACTH_mean[:,1], nelson.healthyCortisol_mean[:,0], nelson.healthyCortisol_mean[:,1]`\n",
    "    - The mean of all control patients\n",
    "    \n",
    "Next, you need to decide whether you will optimize any initial conditions (ICs). This can be modified in the function `cost_fun(params)`. In the cost function, we use the first two optimized parameters in the list returned by the optimization algorithm to set the ICs we want to optimize (CRH and GR in this example):\n",
    "\n",
    "    y0 = [params[0], y0[1], y0[2], params[1]]\n",
    "\n",
    "We then need to pass only the remaining parameters in the list to the model, along with the updated ICs in y0:\n",
    "\n",
    "    simData = model(params[2:], y0)\n",
    "    \n",
    "If you want to not optimize any ICs, you would simply comment out the two lines above in `cost_fun()`, and uncomment the line:\n",
    "\n",
    "    #simData = model(params, y0)\n",
    "    \n",
    "In that case, you will likely want to change the ICs for CRH and GR, as they will stay the same for every iteration. Under the heading **Run the Optimization**, the following line should be modified to reflect the desired ICs:\n",
    "\n",
    "    y0 = [0, data_to_match[1][0], data_to_match[3][0], 0]\n",
    "    \n",
    "Be sure to leave the 2nd and 3rd indices unchanged, as these set the ICs to use the initial values of the real-world data set being matched.\n",
    "\n",
    "At this point, you are ready to run the optimization, so simply run the cells up to the heading **Save Output to File**. This may take some time, so while it is running you can move on to the next steps (if you run a cell while another is processing, it will add it to a queue).\n",
    "\n",
    "**Note:** You also have the option of using a cost function based on the maximum distance between simulation and real-world data. Simply change SSE_cost to MAX_cost, the instructions for function arguments remain the same.\n",
    "\n",
    "The cell directly under the heading **Save Output to File** can be changed so that the root filename matches the simulations being run. This root will be used to save all of the various data and figures generated. The current naming scheme would save the files for 5 iterations of parameter optimization against the mean data set from the Nelson with ICs for CRH and GR optimized as:\n",
    "\n",
    "    filename_root = \"sriramModel_output/nelson-patientMean-5-iterations-ICOpt\"\n",
    "\n",
    "This saves the files in a subfolder specific to this model, which helps keep files organized when running multiple models.\n",
    "\n",
    "The next few cells create an Excel file containing all of the concentration data and optimized parameter values, and text files containing the initial conditions, parameter bounds and parameter means +- standard deviation across the 5 iterations.\n",
    "\n",
    "The final step after saving the outputs is to plot the simulations against the real-world data. The cell under the heading **Plots** creates an instance of the Visualizer object from the VeVaPy module called visualize. This will start a dialog which asks for several inputs to generate figures as desired.\n",
    "\n",
    "After initialization of the object, run its method `make_graphs()`, and it will generate figures using the data you have specified. There are a number of arguments that can be optionally specified for this method, and you can see the recommended values for these in the following function call:\n",
    "\n",
    "    grapher.make_graphs(std_dev = True, \n",
    "                sims_line_labels = [\"CRH Simulation\", \"ACTH Simulation\", \"Cortisol Simulation\", \"GR Simulation\"], \n",
    "                sims_line_colors = [\"blue\", \"blue\", \"blue\", \"blue\"],\n",
    "                std_labels = [\"Mean +- Standard Deviation\", \"Mean +- Standard Deviation\", \"Mean +- Standard Deviation\", \"Mean +- Standard Deviation\"],\n",
    "                real_data_labels = [\"Nelson ACTH - Patient Mean\", \"Nelson ACTH - Patient Mean\", \"Nelson Cortisol - Patient Mean\"], \n",
    "                graph_titles = [\"CRH Concentration\", \"ACTH Concentration\", \"Cortisol Concentration\", \"GR Concentration\"], \n",
    "                xaxis_labels = [\"Time (h)\", \"Time (h)\", \"Time (h)\", \"Time (h)\"],\n",
    "                yaxis_labels = [\"CRH (micrograms/dL)\", \"ACTH (pg/mL)\", \"Cortisol (micrograms/dL)\", \"GR (micrograms)\"],\n",
    "                legend_locs = [\"upper right\", \"upper right\", \"upper right\", \"upper left\"],\n",
    "                figure_size = (25,40),\n",
    "                savefile=filename_root+\".png\")\n",
    "\n",
    "## Parameter Optimization Against Basal Data Sets <a name=\"basalInstructions\" />\n",
    "\n",
    "Since these data sets have data points over a 24-hour period, rather than 2.35 hours, you will need to change the time interval over which the ODE solver integrates. To do this, go to the cell directly above the heading **Put Raw Data Into Arrays** and change the value of t_end to the following:\n",
    "\n",
    "    t_end = 24.26\n",
    "\n",
    "The reason you add the extra 0.26 hours is that you need to make sure that when you interpolate between your simulated data points the line covers every real-world data point so that you don't cause issues when computing the cost function (and the last data point for the Golier cortisol concentration data sets is at 24.25 hours).\n",
    "\n",
    "After making this change, you need to again change the `data_to_match` list so that you are matching the basal data set in which you are interested.\n",
    "\n",
    "First, choose which data set you wish to match. Here are the options:\n",
    "\n",
    "- yehuda.controlCortisol\n",
    "- yehuda.PTSDCortisol\n",
    "- yehuda.depressedCortisol\n",
    "- carroll.controlCortisol & carroll.controlACTH\n",
    "- carroll.LCDepressedCortisol & carroll.LCDepressedACTH (LC = Low Cortisol)\n",
    "- carroll.HCDepressedCortisol & carroll.HCDepressedACTH (HC = High Cortisol)\n",
    "- golier.PTSDCortisol & golierPTSDACTH\n",
    "- golier.nonPTSDTraumaExposedCortisol & golier.nonPTSDTraumaExposedACTH\n",
    "- golier.nonPTSDNonExposedCortisol & golier.nonPTSDNonExposedACTH\n",
    "- bremner.abusedPTSDCortisol\n",
    "- bremner.nonAbusedPTSDCortisol\n",
    "- bremner.nonAbusedNonPTSDCortisol\n",
    "\n",
    "**Note:** To see what any of these data sets looks like, click on the **Plot Basal Data Sets** heading in the Table of Contents.\n",
    "\n",
    "**Note Also:** These data sets all come in smoothed versions (each data point is set to the average of the nearest 5 points of the unsmoothed data). Also, the data sets by Carroll, Golier and Bremner also come in rearranged (or smoothed & rearranged) versions to match the starting time of the Yehuda data (10AM). To use any of these versions, simply append one of the following tags to the end of the data set name (before the indices): `_smooth`, `_rearr`, or `_rearr_smooth`.\n",
    "\n",
    "First, I will cover what to do with data sets that contain both ACTH and cortisol values, and then afterwards I will cover using the Yehuda and Bremner data sets (which have only cortisol concentration data). Just as with the Nelson data, in all of these data sets the first column is the time step values. This means that if you take any of these arrays and index it with `[:,0]`, you are referring to the time steps. These are the values we need to use as the first (ACTH time steps) and third (cortisol time steps) indices in the `data_to_match` list.\n",
    "\n",
    "Then for the second and fourth indices, you index the same data sets with `[:,1]` to mean the second column (which contains the mean concentration values for each patient group).\n",
    "\n",
    "Here are a couple of examples showing lists you can use for optimization:\n",
    "\n",
    "- `carroll.controlACTH_smooth[:,0], carroll.controlACTH_smooth[:,1], carroll.controlCortisol_smooth[:,0], carroll.controlCortisol_smooth[:,1]`\n",
    "    - The smoothed Control group mean for the Carroll data set\n",
    "- `golier.nonPTSDTraumaExposedACTH[:,0], golier.nonPTSDTraumaExposedACTH[:,1], golier.nonPTSDTraumaExposedCortisol[:,0], golier.nonPTSDTraumaExposedCortisol[:,1]`\n",
    "    - The Trauma-Exposed Control group mean for the Golier data set\n",
    "    \n",
    "In order to run simulations against data sets that do not include ACTH concentration data, you will need to change the name of the cost function to `optimize.SSE_cost_noACTH` and then update `data_to_match` to not include the two arguments for ACTH data. To use the Yehuda Control group data, this would look like:\n",
    "\n",
    "    data_to_match = [yehuda.controlCortisol[:,0], yehuda.controlCortisol[:,1]]\n",
    "    return optimize.SSE_cost_noACTH(data_to_match[0], data_to_match[1], simData)\n",
    "\n",
    "For data without ACTH concentrations, you will also need to comment out the current definition of `y0` and uncomment the following line (and change the ICs to the desired values for CRH and ACTH):\n",
    "\n",
    "    #y0 = [0, 10, data_to_match[1][0], 0]\n",
    "    \n",
    "At this point, you're ready to run the parameter optimization, so run all of the cells under the heading **Run the Optimization**.\n",
    "\n",
    "The cell directly under the heading **Save Output to File** should again have the filename changed to something that reflects the data set you're matching now. For instance, the filename root when matching the smoothed Carroll Control group and optimizing ICs would become:\n",
    "\n",
    "    filename_root = 'sriramModel_output/carroll-control-smooth-5-iterations-ICopt'\n",
    "            \n",
    "Finally, the cells under the heading **Plots** should be run again to generate graphs. The same process of giving inputs to the object dialog will be performed and then the method `make_graphs()` should be run with any optional arguments desired.\n",
    "\n",
    "## Running Without Parameter Optimization <a name=\"noOptInstructions\" />\n",
    "\n",
    "To reproduce Figures 3 & 4 from the Sriram et al. (2012) paper, you do not need to modify any code. Simply run all cells in the sections labeled **Figure 3 Reproduction** and **Figure 4 Reproduction**.\n",
    "\n",
    "To run the model with any set of paramaters you desire, without optimization, you can use the cells under the heading **No Optimization Run**. Change the parameters and initial conditions defined under the heading **Parameters and Initial Conditions**, and then run the cell containing the following line:\n",
    "\n",
    "    data_no_opt = model(authors_params, y0)\n",
    "    \n",
    "Then run the cells under **Plots** to create graphs as described in the sections regarding simulations with parameter optimization."
   ]
  },
  {
   "cell_type": "markdown",
   "metadata": {},
   "source": [
    "[Back to Top](#top)"
   ]
  },
  {
   "cell_type": "markdown",
   "metadata": {},
   "source": [
    "# Imports <a name=\"imports\"></a>"
   ]
  },
  {
   "cell_type": "code",
   "execution_count": null,
   "metadata": {},
   "outputs": [],
   "source": [
    "import numpy as np\n",
    "import matplotlib.pyplot as plt\n",
    "import scipy.optimize as sco\n",
    "from scipy.interpolate import interp1d\n",
    "import mpld3\n",
    "from tabulate import tabulate\n",
    "import matplotlib\n",
    "import pandas as pd\n",
    "from VeVaPy import DEsolver, optimize\n",
    "from VeVaPy.dataImport import data\n",
    "from VeVaPy.visualize import Visualizer\n",
    "import paramonte as pm\n",
    "import seaborn as sns"
   ]
  },
  {
   "cell_type": "markdown",
   "metadata": {},
   "source": [
    "[Back to Top](#top)"
   ]
  },
  {
   "cell_type": "markdown",
   "metadata": {},
   "source": [
    "# Parameters and Initial Conditions <a name=\"params\"/>"
   ]
  },
  {
   "cell_type": "code",
   "execution_count": null,
   "metadata": {},
   "outputs": [],
   "source": [
    "# Set the Initial Conditions\n",
    "# This definition will be used for no-optimization simulations, and otherwise will be updated in the section of code\n",
    "#  labeled Run the Optimization\n",
    "\n",
    "y0 = [1, 20.71677102294828, 6.314796551724138, 2]"
   ]
  },
  {
   "cell_type": "code",
   "execution_count": null,
   "metadata": {},
   "outputs": [],
   "source": [
    "# initialize parameter values for use when running without parameter optimization\n",
    "#     These are the optimized values that the authors got from SensSB toolbox\n",
    "\n",
    "k_stress = 13.7 # normal: 10.1, depressed: 13.7, PTSD: 17.5\n",
    "k_i = 1.60      # normal: 1.51, depressed: 1.60, PTSD: 1.17\n",
    "V_S3 = 3.25\n",
    "K_m1 = 1.74\n",
    "K_P2 = 8.3\n",
    "V_S4 = 0.907\n",
    "K_m2 = 0.112\n",
    "K_P3 = 0.945\n",
    "V_S5 = 0.00535\n",
    "K_m3 = 0.0768\n",
    "K_d1 = 0.00379\n",
    "K_d2 = 0.00916\n",
    "K_d3 = 0.356\n",
    "n1 = 5.43\n",
    "n2 = 5.1\n",
    "K_b = 0.0202\n",
    "G_tot = 3.28\n",
    "V_S2 = 0.0509\n",
    "K1 = 0.645\n",
    "K_d5 = 0.0854\n",
    "p_stress = 1\n",
    "\n",
    "# authors' params without p_stress\n",
    "authors_params = [k_stress, k_i, V_S3, K_m1, K_P2, V_S4, K_m2, K_P3, V_S5, K_m3, K_d1, K_d2, K_d3, n1, n2, K_b, G_tot, V_S2, K1, K_d5]\n",
    "\n",
    "# with p_stress\n",
    "#authors_params = [k_stress, k_i, V_S3, K_m1, K_P2, V_S4, K_m2, K_P3, V_S5, K_m3, K_d1, K_d2, K_d3, n1, n2, K_b, G_tot, V_S2, K1, K_d5, p_stress]"
   ]
  },
  {
   "cell_type": "code",
   "execution_count": null,
   "metadata": {},
   "outputs": [],
   "source": [
    "# here are the bounds used for all of the parameters, based on the authors' reported bounds\n",
    "#bounds = [(5,20), (0.5,3), (3,4), (1,2), (7,11), (0.5,1.5), (0.08,2), (0.5,1.2), (0.001,0.008), (0.03,0.08), (0.002,0.005), (0.001,0.01), (0.1,0.5), (4,6), (4,6), (0.008,0.05), (2,5), (0.01,0.07), (0.2,0.7), (0.04,0.09)]"
   ]
  },
  {
   "cell_type": "code",
   "execution_count": null,
   "metadata": {},
   "outputs": [],
   "source": [
    "# wider bounds for fitting other data sets than original\n",
    "#bounds = [(1,30), (0.1,5), (1,10), (.1,10), (1,31), (0.1,10.5), (0.001,10), (0.1,10), (0.001,0.1), (0.001,0.5), (0.001,0.1), (0.001,0.1), (0.01,5), (1,15), (1,15), (0.001,0.5), (.02,45), (0.0001,7), (0.02,7), (0.004,0.9)]"
   ]
  },
  {
   "cell_type": "code",
   "execution_count": null,
   "metadata": {},
   "outputs": [],
   "source": [
    "# wider bounds WITH p_stress included for Nelson data\n",
    "#bounds = [(1,30), (0.1,5), (1,10), (.1,10), (1,31), (0.1,10.5), (0.001,10), (0.1,10), (0.001,0.1), (0.001,0.5), (0.001,0.1), (0.001,0.1), (0.01,5), (1,15), (1,15), (0.001,0.5), (.02,45), (0.0001,7), (0.02,7), (0.004,0.9), (1,100)]"
   ]
  },
  {
   "cell_type": "code",
   "execution_count": null,
   "metadata": {},
   "outputs": [],
   "source": [
    "# wider bounds WITHOUT p_stress included for Nelson data\n",
    "#bounds = [(1,30), (0.1,5), (1,10), (.1,10), (1,31), (0.1,10.5), (0.001,10), (0.1,10), (0.001,0.1), (0.001,0.5), (0.001,0.1), (0.001,0.1), (0.01,5), (1,15), (1,15), (0.001,0.5), (.02,45), (0.0001,7), (0.02,7), (0.004,0.9)]"
   ]
  },
  {
   "cell_type": "code",
   "execution_count": null,
   "metadata": {},
   "outputs": [],
   "source": [
    "# wider bounds WITHOUT p_stress included for Nelson data\n",
    "#\n",
    "# first two bounds are for CRH and GR initial conditions, respectively\n",
    "bounds = [(0, 20), (0,10), (1,30), (0.1,5), (1,10), (.1,10), (1,31), (0.1,10.5), (0.001,10), (0.1,10), (0.001,0.1), (0.001,0.5), (0.001,0.1), (0.001,0.1), (0.01,5), (1,15), (1,15), (0.001,0.5), (.02,45), (0.0001,7), (0.02,7), (0.004,0.9)]"
   ]
  },
  {
   "cell_type": "code",
   "execution_count": null,
   "metadata": {},
   "outputs": [],
   "source": [
    "# time interval and step definition\n",
    "t_start = -0.01\n",
    "t_end = 2.35\n",
    "t_step = 0.01"
   ]
  },
  {
   "cell_type": "markdown",
   "metadata": {},
   "source": [
    "[Back to Top](#top)"
   ]
  },
  {
   "cell_type": "markdown",
   "metadata": {},
   "source": [
    "# Put Raw Data Into Arrays <a name=\"rawdata\"/>"
   ]
  },
  {
   "cell_type": "code",
   "execution_count": null,
   "metadata": {},
   "outputs": [],
   "source": [
    "# Create an instance of the data class for each data set contained in the VeVaPy library, and set the time\n",
    "# scale to hours.\n",
    "yehuda = data(\"yehuda\", \"hours\")\n",
    "carroll = data(\"carroll\", \"hours\")\n",
    "golier = data(\"golier\", \"hours\")\n",
    "bremner = data(\"bremner\", \"hours\")\n",
    "nelson = data(\"nelson\", \"hours\")"
   ]
  },
  {
   "cell_type": "markdown",
   "metadata": {},
   "source": [
    "[Back to Top](#top)"
   ]
  },
  {
   "cell_type": "markdown",
   "metadata": {},
   "source": [
    "## Plot Basal Data Sets <a name=\"plotBasalData\"></a>"
   ]
  },
  {
   "cell_type": "code",
   "execution_count": null,
   "metadata": {
    "scrolled": false
   },
   "outputs": [],
   "source": [
    "%matplotlib inline\n",
    "font = {'size'   : 18}\n",
    "matplotlib.rc('font', **font)\n",
    "\n",
    "fig, (ax1, ax2, ax3) = plt.subplots(nrows = 3, figsize = (20,20))\n",
    "\n",
    "ax1.plot(yehuda.controlCortisol[:,0], yehuda.controlCortisol[:,1], label = \"Control Group Cortisol\")\n",
    "ax1.plot(yehuda.controlCortisol_smooth[:,0], yehuda.controlCortisol_smooth[:,1], label = \"Control Group Cortisol - Smoothed\")\n",
    "ax1.set(xlabel=\"Time (hours)\", ylabel=\"Cortisol (micrograms/dL)\")\n",
    "ax1.legend(loc=\"lower right\", shadow = True, fancybox = True)\n",
    "\n",
    "ax2.plot(yehuda.PTSDCortisol[:,0], yehuda.PTSDCortisol[:,1], label = \"PTSD Group Cortisol\")\n",
    "ax2.plot(yehuda.PTSDCortisol_smooth[:,0], yehuda.PTSDCortisol_smooth[:,1], label = \"PTSD Group Cortisol - Smoothed\")\n",
    "ax2.set(xlabel=\"Time (hours)\", ylabel=\"Cortisol (micrograms/dL)\")\n",
    "ax2.legend(loc=\"lower right\", shadow = True, fancybox = True)\n",
    "\n",
    "ax3.plot(yehuda.depressedCortisol[:,0], yehuda.depressedCortisol[:,1], label = \"Depression Group Cortisol\")\n",
    "ax3.plot(yehuda.depressedCortisol_smooth[:,0], yehuda.depressedCortisol_smooth[:,1], label = \"Depression Group Cortisol - Smoothed\")\n",
    "ax3.set(xlabel=\"Time (hours)\", ylabel=\"Cortisol (micrograms/dL)\")\n",
    "ax3.legend(loc=\"lower right\", shadow = True, fancybox = True)\n"
   ]
  },
  {
   "cell_type": "code",
   "execution_count": null,
   "metadata": {},
   "outputs": [],
   "source": [
    "#mpld3.enable_notebook()\n",
    "%matplotlib inline\n",
    "\n",
    "font = {'size'   : 20}\n",
    "matplotlib.rc('font', **font)\n",
    "fig, (ax1, ax2, ax3, ax4) = plt.subplots(nrows = 4, figsize = (25,25))\n",
    "\n",
    "ax1.plot(carroll.controlCortisol_rearr[:,0], carroll.controlCortisol_rearr[:,1], 'b', label = \"Control\")\n",
    "ax1.plot(carroll.HCDepressedCortisol_rearr[:,0], carroll.HCDepressedCortisol_rearr[:,1], 'r', label = \"High Cortisol Depressed\")\n",
    "ax1.plot(carroll.controlCortisol_rearr_smooth[:,0], carroll.controlCortisol_rearr_smooth[:,1], label = \"Control - Smoothed\")\n",
    "ax1.plot(carroll.HCDepressedCortisol_rearr_smooth[:,0], carroll.HCDepressedCortisol_rearr_smooth[:,1], label = \"High Cortisol Depressed - Smoothed\")\n",
    "ax1.set(xlabel=\"Time (hours)\", ylabel=\"Cortisol (micrograms/dL)\")\n",
    "ax1.legend(loc=\"upper right\", shadow = True, fancybox = True)\n",
    "\n",
    "ax2.plot(carroll.controlCortisol_rearr[:,0], carroll.controlCortisol_rearr[:,1], 'b', label = \"Control\")\n",
    "ax2.plot(carroll.LCDepressedCortisol_rearr[:,0], carroll.LCDepressedCortisol_rearr[:,1], 'g', label = \"Low Cortisol Depressed\")\n",
    "ax2.plot(carroll.controlCortisol_rearr_smooth[:,0], carroll.controlCortisol_rearr_smooth[:,1], label = \"Control - Smoothed\")\n",
    "ax2.plot(carroll.LCDepressedCortisol_rearr_smooth[:,0], carroll.LCDepressedCortisol_rearr_smooth[:,1], label = \"Low Cortisol Depressed - Smoothed\")\n",
    "ax2.set(xlabel=\"Time (hours)\", ylabel=\"Cortisol (micrograms/dL)\")\n",
    "ax2.legend(loc=\"upper right\", shadow = True, fancybox = True)\n",
    "\n",
    "ax3.plot(carroll.controlACTH_rearr[:,0], carroll.controlACTH_rearr[:,1], 'b', label = \"Control\")\n",
    "ax3.plot(carroll.HCDepressedACTH_rearr[:,0], carroll.HCDepressedACTH_rearr[:,1], 'r', label = \"High Cortisol Depressed\")\n",
    "ax3.plot(carroll.controlACTH_rearr_smooth[:,0], carroll.controlACTH_rearr_smooth[:,1], label = \"Control - Smoothed\")\n",
    "ax3.plot(carroll.HCDepressedACTH_rearr_smooth[:,0], carroll.HCDepressedACTH_rearr_smooth[:,1], label = \"High Cortisol Depressed - Smoothed\")\n",
    "ax3.set(xlabel=\"Time (hours)\", ylabel=\"ACTH (pg/mL)\")\n",
    "ax3.legend(loc=\"upper right\", shadow = True, fancybox = True)\n",
    "\n",
    "ax4.plot(carroll.controlACTH_rearr[:,0], carroll.controlACTH_rearr[:,1], 'b', label = \"Control\")\n",
    "ax4.plot(carroll.LCDepressedACTH_rearr[:,0], carroll.LCDepressedACTH_rearr[:,1], 'g', label = \"Low Cortisol Depressed\")\n",
    "ax4.plot(carroll.controlACTH_rearr_smooth[:,0], carroll.controlACTH_rearr_smooth[:,1], label = \"Control - Smoothed\")\n",
    "ax4.plot(carroll.LCDepressedACTH_rearr_smooth[:,0], carroll.LCDepressedACTH_rearr_smooth[:,1], label = \"Low Cortisol Depressed - Smoothed\")\n",
    "ax4.set(xlabel=\"Time (hours)\", ylabel=\"ACTH (pg/mL)\")\n",
    "ax4.legend(loc=\"upper right\", shadow = True, fancybox = True)"
   ]
  },
  {
   "cell_type": "code",
   "execution_count": null,
   "metadata": {},
   "outputs": [],
   "source": [
    "%matplotlib inline\n",
    "\n",
    "fig, (ax1, ax2, ax3, ax4, ax5, ax6) = plt.subplots(nrows = 6, figsize = (15,20))\n",
    "\n",
    "ax1.plot(golier.PTSDCortisol_rearr_smooth[:,0], golier.PTSDCortisol_rearr_smooth[:,1], label = \"Trauma Exposed PTSD Cortisol - Smoothed\")\n",
    "ax1.plot(golier.PTSDCortisol_rearr[:,0], golier.PTSDCortisol_rearr[:,1], label = \"Trauma Exposed PTSD Cortisol\")\n",
    "ax1.set(xlabel=\"Time (hours)\", ylabel=\"Cortisol (mg/dL)\")\n",
    "ax1.legend(loc=\"lower right\", shadow = True, fancybox = True)\n",
    "\n",
    "ax2.plot(golier.nonPTSDTraumaExposedCortisol_rearr_smooth[:,0], golier.nonPTSDTraumaExposedCortisol_rearr_smooth[:,1], label = \"Trauma Exposed Non-PTSD Cortisol - Smoothed\")\n",
    "ax2.plot(golier.nonPTSDTraumaExposedCortisol_rearr[:,0], golier.nonPTSDTraumaExposedCortisol_rearr[:,1], label = \"Trauma Exposed Non-PTSD Cortisol\")\n",
    "ax2.set(xlabel=\"Time (hours)\", ylabel=\"Cortisol (mg/dL)\")\n",
    "ax2.legend(loc=\"lower right\", shadow = True, fancybox = True)\n",
    "\n",
    "ax3.plot(golier.nonPTSDNonExposedCortisol_rearr_smooth[:,0], golier.nonPTSDNonExposedCortisol_rearr_smooth[:,1], label = \"Non-Exposed Non-PTSD Cortisol - Smoothed\")\n",
    "ax3.plot(golier.nonPTSDNonExposedCortisol_rearr[:,0], golier.nonPTSDNonExposedCortisol_rearr[:,1], label = \"Non-Exposed Non-PTSD Cortisol\")\n",
    "ax3.set(xlabel=\"Time (hours)\", ylabel=\"Cortisol (mg/dL)\")\n",
    "ax3.legend(loc=\"lower right\", shadow = True, fancybox = True)\n",
    "\n",
    "ax4.plot(golier.PTSDACTH_rearr_smooth[:,0], golier.PTSDACTH_rearr_smooth[:,1], label = \"Trauma Exposed PTSD ACTH - Smoothed\")\n",
    "ax4.plot(golier.PTSDACTH_rearr[:,0], golier.PTSDACTH_rearr[:,1], label = \"Trauma Exposed PTSD ACTH\")\n",
    "ax4.set(xlabel=\"Time (hours)\", ylabel=\"ACTH (pg/mL)\")\n",
    "ax4.legend(loc=\"lower right\", shadow = True, fancybox = True)\n",
    "\n",
    "ax5.plot(golier.nonPTSDTraumaExposedACTH_rearr_smooth[:,0], golier.nonPTSDTraumaExposedACTH_rearr_smooth[:,1], label = \"Trauma Exposed Non-PTSD ACTH - Smoothed\")\n",
    "ax5.plot(golier.nonPTSDTraumaExposedACTH_rearr[:,0], golier.nonPTSDTraumaExposedACTH_rearr[:,1], label = \"Trauma Exposed Non-PTSD ACTH\")\n",
    "ax5.set(xlabel=\"Time (hours)\", ylabel=\"ACTH (pg/mL)\")\n",
    "ax5.legend(loc=\"lower right\", shadow = True, fancybox = True)\n",
    "\n",
    "ax6.plot(golier.nonPTSDNonExposedACTH_rearr_smooth[:,0], golier.nonPTSDNonExposedACTH_rearr_smooth[:,1], label = \"Non-Exposed Non-PTSD ACTH - Smoothed\")\n",
    "ax6.plot(golier.nonPTSDNonExposedACTH_rearr[:,0], golier.nonPTSDNonExposedACTH_rearr[:,1], label = \"Non-Exposed Non-PTSD ACTH\")\n",
    "ax6.set(xlabel=\"Time (hours)\", ylabel=\"ACTH (pg/mL)\")\n",
    "ax6.legend(loc=\"lower right\", shadow = True, fancybox = True)\n"
   ]
  },
  {
   "cell_type": "code",
   "execution_count": null,
   "metadata": {},
   "outputs": [],
   "source": [
    "%matplotlib inline\n",
    "\n",
    "fig, (ax1, ax2, ax3) = plt.subplots(nrows = 3, figsize = (15,15))\n",
    "\n",
    "ax1.plot(bremner.abusedPTSDCortisol_rearr_smooth[:,0], bremner.abusedPTSDCortisol_rearr_smooth[:,1], label = \"Abused PTSD Cortisol - Smoothed\")\n",
    "ax1.plot(bremner.abusedPTSDCortisol_rearr[:,0], bremner.abusedPTSDCortisol_rearr[:,1], label = \"Abused PTSD Cortisol\")\n",
    "ax1.set(xlabel=\"Time (hours)\", ylabel=\"Cortisol (microg/dL)\")\n",
    "ax1.legend(loc=\"lower right\", shadow = True, fancybox = True)\n",
    "\n",
    "ax2.plot(bremner.nonAbusedPTSDCortisol_rearr_smooth[:,0], bremner.nonAbusedPTSDCortisol_rearr_smooth[:,1], label = \"Non-Abused PTSD Cortisol - Smoothed\")\n",
    "ax2.plot(bremner.nonAbusedPTSDCortisol_rearr[:,0], bremner.nonAbusedPTSDCortisol_rearr[:,1], label = \"Non-Abused PTSD Cortisol\")\n",
    "ax2.set(xlabel=\"Time (hours)\", ylabel=\"Cortisol (microg/dL)\")\n",
    "ax2.legend(loc=\"lower right\", shadow = True, fancybox = True)\n",
    "\n",
    "ax3.plot(bremner.nonAbusedNonPTSDCortisol_rearr_smooth[:,0], bremner.nonAbusedNonPTSDCortisol_rearr_smooth[:,1], label = \"Non-Abused Non-PTSD Cortisol - Smoothed\")\n",
    "ax3.plot(bremner.nonAbusedNonPTSDCortisol_rearr[:,0], bremner.nonAbusedNonPTSDCortisol_rearr[:,1], label = \"Non-Abused Non-PTSD Cortisol\")\n",
    "ax3.set(xlabel=\"Time (hours)\", ylabel=\"Cortisol (microg/dL)\")\n",
    "ax3.legend(loc=\"lower left\", shadow = True, fancybox = True)\n"
   ]
  },
  {
   "cell_type": "markdown",
   "metadata": {},
   "source": [
    "[Back to Top](#top)"
   ]
  },
  {
   "cell_type": "markdown",
   "metadata": {},
   "source": [
    "## Plot Nelson Data Sets <a name=\"plotNelsonData\"></a>"
   ]
  },
  {
   "cell_type": "code",
   "execution_count": null,
   "metadata": {},
   "outputs": [],
   "source": [
    "matplotlib.rc('font', **{'size'   : 28})\n",
    "\n",
    "fig, (ax1, ax2) = plt.subplots(nrows = 2, figsize = (15,20))\n",
    "\n",
    "ax1.plot(nelson.ACTH[:,0], nelson.ACTH[:,3], label = \"Mean ACTH\")\n",
    "ax1.legend(loc = \"upper right\", shadow = True, fancybox = True)\n",
    "ax1.set(xlabel = \"Time (h)\", ylabel = \"ACTH (pg/mL)\", title = \"ACTH Concentration\")\n",
    "\n",
    "ax2.plot(nelson.cortisol[:,0], nelson.cortisol[:,3], label = \"Mean Cortisol\")\n",
    "ax2.legend(loc = \"upper right\", shadow = True, fancybox = True)\n",
    "ax2.set(xlabel = \"Time (h)\", ylabel = \"Cortisol (micrograms/dL)\", title = \"Cortisol Concentration\")"
   ]
  },
  {
   "cell_type": "code",
   "execution_count": null,
   "metadata": {},
   "outputs": [],
   "source": [
    "# graph the Nelson data (only showing one patient at a time currently)\n",
    "matplotlib.rc('font', **{'size'   : 12})\n",
    "\n",
    "fig, (ax1, ax2) = plt.subplots(nrows = 2, figsize = (15,20))\n",
    "\n",
    "#ax1.plot(nelsonACTH[:,0], nelsonACTH[:,1])\n",
    "ax1.plot(nelson.atypicalACTH[:,0], nelson.atypicalACTH[:,1], label = \"Patient 1\")\n",
    "ax1.plot(nelson.atypicalACTH[:,0], nelson.atypicalACTH[:,2], label = \"Patient 2\")\n",
    "ax1.plot(nelson.atypicalACTH[:,0], nelson.atypicalACTH[:,3], label = \"Patient 3\")\n",
    "ax1.plot(nelson.atypicalACTH[:,0], nelson.atypicalACTH[:,4], label = \"Patient 4\")\n",
    "ax1.plot(nelson.atypicalACTH[:,0], nelson.atypicalACTH[:,5], label = \"Patient 5\")\n",
    "ax1.plot(nelson.atypicalACTH[:,0], nelson.atypicalACTH[:,6], label = \"Patient 6\")\n",
    "ax1.plot(nelson.atypicalACTH[:,0], nelson.atypicalACTH[:,7], label = \"Patient 7\")\n",
    "ax1.plot(nelson.atypicalACTH[:,0], nelson.atypicalACTH[:,8], label = \"Patient 8\")\n",
    "ax1.plot(nelson.atypicalACTH[:,0], nelson.atypicalACTH[:,9], label = \"Patient 9\")\n",
    "ax1.plot(nelson.atypicalACTH[:,0], nelson.atypicalACTH[:,10], label = \"Patient 10\")\n",
    "ax1.plot(nelson.atypicalACTH[:,0], nelson.atypicalACTH[:,11], label = \"Patient 11\")\n",
    "ax1.plot(nelson.atypicalACTH[:,0], nelson.atypicalACTH[:,12], label = \"Patient 12\")\n",
    "ax1.plot(nelson.atypicalACTH[:,0], nelson.atypicalACTH[:,13], label = \"Patient 13\")\n",
    "ax1.plot(nelson.atypicalACTH[:,0], nelson.atypicalACTH[:,14], label = \"Patient 14\")\n",
    "ax1.legend(loc = \"upper right\", shadow = True, fancybox = True)\n",
    "ax1.set(xlabel = \"Time (h)\", ylabel = \"ACTH (pg/mL)\", title = \"ACTH Concentration\")\n",
    "\n",
    "#ax2.plot(nelsonCortisol[:,0], nelsonCortisol[:,1])\n",
    "ax2.plot(nelson.atypicalCortisol[:,0], nelson.atypicalCortisol[:,1], label = \"Patient 1\")\n",
    "ax2.plot(nelson.atypicalCortisol[:,0], nelson.atypicalCortisol[:,2], label = \"Patient 2\")\n",
    "ax2.plot(nelson.atypicalCortisol[:,0], nelson.atypicalCortisol[:,3], label = \"Patient 3\")\n",
    "ax2.plot(nelson.atypicalCortisol[:,0], nelson.atypicalCortisol[:,4], label = \"Patient 4\")\n",
    "ax2.plot(nelson.atypicalCortisol[:,0], nelson.atypicalCortisol[:,5], label = \"Patient 5\")\n",
    "ax2.plot(nelson.atypicalCortisol[:,0], nelson.atypicalCortisol[:,6], label = \"Patient 6\")\n",
    "ax2.plot(nelson.atypicalCortisol[:,0], nelson.atypicalCortisol[:,7], label = \"Patient 7\")\n",
    "ax2.plot(nelson.atypicalCortisol[:,0], nelson.atypicalCortisol[:,8], label = \"Patient 8\")\n",
    "ax2.plot(nelson.atypicalCortisol[:,0], nelson.atypicalCortisol[:,9], label = \"Patient 9\")\n",
    "ax2.plot(nelson.atypicalCortisol[:,0], nelson.atypicalCortisol[:,10], label = \"Patient 10\")\n",
    "ax2.plot(nelson.atypicalCortisol[:,0], nelson.atypicalCortisol[:,11], label = \"Patient 11\")\n",
    "ax2.plot(nelson.atypicalCortisol[:,0], nelson.atypicalCortisol[:,12], label = \"Patient 12\")\n",
    "ax2.plot(nelson.atypicalCortisol[:,0], nelson.atypicalCortisol[:,13], label = \"Patient 13\")\n",
    "ax2.plot(nelson.atypicalCortisol[:,0], nelson.atypicalCortisol[:,14], label = \"Patient 14\")\n",
    "ax2.legend(loc = \"upper right\", shadow = True, fancybox = True)\n",
    "ax2.set(xlabel = \"Time (h)\", ylabel = \"Cortisol (micrograms/dL)\", title = \"Cortisol Concentration\")"
   ]
  },
  {
   "cell_type": "code",
   "execution_count": null,
   "metadata": {},
   "outputs": [],
   "source": [
    "# graph the Nelson data (only showing one patient at a time currently)\n",
    "matplotlib.rc('font', **{'size'   : 12})\n",
    "\n",
    "fig, (ax1, ax2) = plt.subplots(nrows = 2, figsize = (15,20))\n",
    "\n",
    "#ax1.plot(nelsonACTH[:,0], nelsonACTH[:,1])\n",
    "ax1.plot(nelson.melancholicACTH[:,0], nelson.melancholicACTH[:,1], label = \"Patient 1\")\n",
    "ax1.plot(nelson.melancholicACTH[:,0], nelson.melancholicACTH[:,2], label = \"Patient 2\")\n",
    "ax1.plot(nelson.melancholicACTH[:,0], nelson.melancholicACTH[:,3], label = \"Patient 3\")\n",
    "ax1.plot(nelson.melancholicACTH[:,0], nelson.melancholicACTH[:,4], label = \"Patient 4\")\n",
    "ax1.plot(nelson.melancholicACTH[:,0], nelson.melancholicACTH[:,5], label = \"Patient 5\")\n",
    "ax1.plot(nelson.melancholicACTH[:,0], nelson.melancholicACTH[:,6], label = \"Patient 6\")\n",
    "ax1.plot(nelson.melancholicACTH[:,0], nelson.melancholicACTH[:,7], label = \"Patient 7\")\n",
    "ax1.plot(nelson.melancholicACTH[:,0], nelson.melancholicACTH[:,8], label = \"Patient 8\")\n",
    "ax1.plot(nelson.melancholicACTH[:,0], nelson.melancholicACTH[:,9], label = \"Patient 9\")\n",
    "ax1.plot(nelson.melancholicACTH[:,0], nelson.melancholicACTH[:,10], label = \"Patient 10\")\n",
    "ax1.plot(nelson.melancholicACTH[:,0], nelson.melancholicACTH[:,11], label = \"Patient 11\")\n",
    "ax1.plot(nelson.melancholicACTH[:,0], nelson.melancholicACTH[:,12], label = \"Patient 12\")\n",
    "ax1.plot(nelson.melancholicACTH[:,0], nelson.melancholicACTH[:,13], label = \"Patient 13\")\n",
    "ax1.plot(nelson.melancholicACTH[:,0], nelson.melancholicACTH[:,14], label = \"Patient 14\")\n",
    "ax1.legend(loc = \"upper left\", shadow = True, fancybox = True)\n",
    "ax1.set(xlabel = \"Time (h)\", ylabel = \"ACTH (pg/mL)\", title = \"ACTH Concentration\")\n",
    "\n",
    "#ax2.plot(nelsonCortisol[:,0], nelsonCortisol[:,1])\n",
    "ax2.plot(nelson.melancholicCortisol[:,0], nelson.melancholicCortisol[:,1], label = \"Patient 1\")\n",
    "ax2.plot(nelson.melancholicCortisol[:,0], nelson.melancholicCortisol[:,2], label = \"Patient 2\")\n",
    "ax2.plot(nelson.melancholicCortisol[:,0], nelson.melancholicCortisol[:,3], label = \"Patient 3\")\n",
    "ax2.plot(nelson.melancholicCortisol[:,0], nelson.melancholicCortisol[:,4], label = \"Patient 4\")\n",
    "ax2.plot(nelson.melancholicCortisol[:,0], nelson.melancholicCortisol[:,5], label = \"Patient 5\")\n",
    "ax2.plot(nelson.melancholicCortisol[:,0], nelson.melancholicCortisol[:,6], label = \"Patient 6\")\n",
    "ax2.plot(nelson.melancholicCortisol[:,0], nelson.melancholicCortisol[:,7], label = \"Patient 7\")\n",
    "ax2.plot(nelson.melancholicCortisol[:,0], nelson.melancholicCortisol[:,8], label = \"Patient 8\")\n",
    "ax2.plot(nelson.melancholicCortisol[:,0], nelson.melancholicCortisol[:,9], label = \"Patient 9\")\n",
    "ax2.plot(nelson.melancholicCortisol[:,0], nelson.melancholicCortisol[:,10], label = \"Patient 10\")\n",
    "ax2.plot(nelson.melancholicCortisol[:,0], nelson.melancholicCortisol[:,11], label = \"Patient 11\")\n",
    "ax2.plot(nelson.melancholicCortisol[:,0], nelson.melancholicCortisol[:,12], label = \"Patient 12\")\n",
    "ax2.plot(nelson.melancholicCortisol[:,0], nelson.melancholicCortisol[:,13], label = \"Patient 13\")\n",
    "ax2.plot(nelson.melancholicCortisol[:,0], nelson.melancholicCortisol[:,14], label = \"Patient 14\")\n",
    "ax2.legend(loc = \"upper left\", shadow = True, fancybox = True)\n",
    "ax2.set(xlabel = \"Time (h)\", ylabel = \"Cortisol (micrograms/dL)\", title = \"Cortisol Concentration\")"
   ]
  },
  {
   "cell_type": "code",
   "execution_count": null,
   "metadata": {},
   "outputs": [],
   "source": [
    "%matplotlib inline\n",
    "\n",
    "matplotlib.rc('font', **{'size'   : 28})\n",
    "\n",
    "fig, (ax1, ax2) = plt.subplots(nrows = 2, figsize = (15,20))\n",
    "\n",
    "ax1.plot(nelson.healthyACTH_mean[:,0], nelson.healthyACTH_mean[:,1], label = \"Healthy Control Group\", color = \"blue\")\n",
    "ax1.plot(nelson.depressedACTH_mean[:,0], nelson.depressedACTH_mean[:,1], label = \"Depression Group\", color = \"orange\")\n",
    "ax1.legend(loc = \"upper right\", shadow = True, fancybox = True)\n",
    "ax1.set(xlabel = \"Time (h)\", ylabel = \"ACTH (pg/mL)\", title = \"ACTH Concentration\")\n",
    "\n",
    "ax2.plot(nelson.healthyCortisol_mean[:,0], nelson.healthyCortisol_mean[:,1], label = \"Healthy Control Group\", color = \"blue\")\n",
    "ax2.plot(nelson.depressedCortisol_mean[:,0], nelson.depressedCortisol_mean[:,1], label = \"Depression Group\", color = \"orange\")\n",
    "ax2.legend(loc = \"upper right\", shadow = True, fancybox = True)\n",
    "ax2.set(xlabel = \"Time (h)\", ylabel = \"Cortisol (micrograms/dL)\", title = \"Cortisol Concentration\")\n",
    "\n",
    "#plt.savefig(\"Nelson Data Visualization Figures/nelson-control-vs-depressed-mean-comparison.png\", dpi = 300)"
   ]
  },
  {
   "cell_type": "code",
   "execution_count": null,
   "metadata": {},
   "outputs": [],
   "source": [
    "%matplotlib inline\n",
    "\n",
    "matplotlib.rc('font', **{'size'   : 28})\n",
    "\n",
    "fig, (ax1, ax2) = plt.subplots(nrows = 2, figsize = (25,20))\n",
    "\n",
    "ax1.plot(nelson.melancholicACTH_mean[:,0], nelson.melancholicACTH_mean[:,1], label = \"Melancholic Depression Group\", color = \"blue\")\n",
    "ax1.plot(nelson.atypicalACTH_mean[:,0], nelson.atypicalACTH_mean[:,1], label = \"Atypical Depression Group\", color = \"orange\")\n",
    "ax1.plot(nelson.neitherACTH_mean[:,0], nelson.neitherACTH_mean[:,1], label = \"Non-categorized Depression Group\", color = \"red\")\n",
    "ax1.legend(loc = \"upper right\", shadow = True, fancybox = True)\n",
    "ax1.set(xlabel = \"Time (h)\", ylabel = \"ACTH (pg/mL)\", title = \"ACTH Concentration\")\n",
    "\n",
    "ax2.plot(nelson.melancholicCortisol[:,0], nelson.melancholicCortisol_mean[:,1], label = \"Melancholic Depression Group\", color = \"blue\")\n",
    "ax2.plot(nelson.atypicalCortisol[:,0], nelson.atypicalCortisol_mean[:,1], label = \"Atypical Depression Group\", color = \"orange\")\n",
    "ax2.plot(nelson.neitherCortisol[:,0], nelson.neitherCortisol_mean[:,1], label = \"Non-categorized Depression Group\", color = \"red\")\n",
    "ax2.legend(loc = \"upper right\", shadow = True, fancybox = True)\n",
    "ax2.set(xlabel = \"Time (h)\", ylabel = \"Cortisol (micrograms/dL)\", title = \"Cortisol Concentration\")\n",
    "\n",
    "#plt.savefig(\"Nelson Data Visualization Figures/nelson-depression-subtypes-mean-comparison.png\", dpi = 300)"
   ]
  },
  {
   "cell_type": "code",
   "execution_count": null,
   "metadata": {},
   "outputs": [],
   "source": [
    "%matplotlib inline\n",
    "\n",
    "matplotlib.rc('font', **{'size'   : 28})\n",
    "\n",
    "fig, (ax1, ax2) = plt.subplots(nrows = 2, figsize = (20,20))\n",
    "\n",
    "ax1.plot(nelson.healthyACTH[:,0], nelson.healthyACTH_mean[:,1], label = \"Healthy Control Group\", color = \"blue\")\n",
    "ax1.plot(nelson.melancholicACTH[:,0], nelson.melancholicACTH_mean[:,1], label = \"Melancholic Depression Group\", color = \"orange\")\n",
    "ax1.legend(loc = \"upper right\", shadow = True, fancybox = True)\n",
    "ax1.set(xlabel = \"Time (h)\", ylabel = \"ACTH (pg/mL)\", title = \"ACTH Concentration\")\n",
    "\n",
    "ax2.plot(nelson.healthyCortisol[:,0], nelson.healthyCortisol_mean[:,1], label = \"Healthy Control Group\", color = \"blue\")\n",
    "ax2.plot(nelson.melancholicCortisol[:,0], nelson.melancholicCortisol_mean[:,1], label = \"Melancholic Depression Group\", color = \"orange\")\n",
    "ax2.legend(loc = \"upper right\", shadow = True, fancybox = True)\n",
    "ax2.set(xlabel = \"Time (h)\", ylabel = \"Cortisol (micrograms/dL)\", title = \"Cortisol Concentration\")\n",
    "\n",
    "#plt.savefig(\"Nelson Data Visualization Figures/nelson-control-vs-melancholic-depression-mean-comparison.png\", dpi = 300)"
   ]
  },
  {
   "cell_type": "markdown",
   "metadata": {},
   "source": [
    "[Back to Top](#top)"
   ]
  },
  {
   "cell_type": "markdown",
   "metadata": {},
   "source": [
    "# Model Function--Includes ODE Solver <a name=\"modelfunction\"></a>"
   ]
  },
  {
   "cell_type": "code",
   "execution_count": null,
   "metadata": {},
   "outputs": [],
   "source": [
    "def model(params, ics):\n",
    "    def ode_system(t, y):\n",
    "        dy = np.zeros(4)\n",
    "        # parameters to be optimized including p_stress\n",
    "        #[k_stress, k_i, V_S3, K_m1, K_P2, V_S4, K_m2, K_P3, V_S5, K_m3, K_d1, K_d2, K_d3, n1, n2, K_b, G_tot, V_S2, K1, K_d5, p_stress] = params\n",
    "        \n",
    "        # parameters to be optimized not including p_stress\n",
    "        [k_stress, k_i, V_S3, K_m1, K_P2, V_S4, K_m2, K_P3, V_S5, K_m3, K_d1, K_d2, K_d3, n1, n2, K_b, G_tot, V_S2, K1, K_d5] = params\n",
    "        \n",
    "        # Change whether we use the stress_input function to add a time-dependent stressor by changing which equation\n",
    "        #  for dy[0] is not commented\n",
    "        #dy[0] = stress_input(t)*k_stress*(k_i**n2/(k_i**n2 + y[3]**n2)) - V_S3*(y[0]/(K_m1 + y[0])) - K_d1*y[0]\n",
    "        dy[0] = k_stress*(k_i**n2/(k_i**n2 + y[3]**n2)) - V_S3*(y[0]/(K_m1 + y[0])) - K_d1*y[0]\n",
    "        dy[1] = K_P2*y[0]*(k_i**n2/(k_i**n2 + y[3]**n2)) - V_S4*(y[1]/(K_m2 + y[1])) - K_d2*y[1]\n",
    "        dy[2] = K_P3*y[1] - V_S5*(y[2]/(K_m3 + y[2])) - K_d3*y[2]\n",
    "        dy[3] = K_b*y[2]*(G_tot - y[3]) + V_S2*(y[3]**n1/(K1**n1 + y[3]**n1)) - K_d5*y[3]\n",
    "\n",
    "        return dy\n",
    "    \n",
    "    def stress_input(t):\n",
    "        #if (0.5 <= t <= 0.51):\n",
    "        if (0.5 <= t <= 0.83):\n",
    "            return p_stress\n",
    "        else:\n",
    "            return 1\n",
    "    \n",
    "    timeSeries = DEsolver.solve(ode_system, ics, t_start, t_step, t_end, ode_steps=1000, ode_atol = 1e-8, ode_rtol = 1e-8)\n",
    "    return timeSeries"
   ]
  },
  {
   "cell_type": "markdown",
   "metadata": {},
   "source": [
    "[Back to Top](#top)"
   ]
  },
  {
   "cell_type": "markdown",
   "metadata": {},
   "source": [
    "# Cost Function Definition <a name=\"cost\"></a>"
   ]
  },
  {
   "cell_type": "code",
   "execution_count": null,
   "metadata": {},
   "outputs": [],
   "source": [
    "def cost_fun(params):\n",
    "    global y0, data_to_match\n",
    "    \n",
    "    # This code will optimize the initial conditions for CRH and GR, uncomment the code block below to not optimize ICs\n",
    "    y0 = [params[0], y0[1], y0[2], params[1]]\n",
    "    simData = model(params[2:], y0)\n",
    "    \n",
    "    # Uncomment here and comment both lines above to not optimize ICs. (You'll also need to change bounds to not have\n",
    "    #  bounds included for the ICs)\n",
    "    #simData = model(params, y0)\n",
    "    \n",
    "    # To optimize ACTH as well as CRH and GR (for use with basal data containing only cortisol concentrations), use\n",
    "    #  the following lines:\n",
    "    #y0 = [params[0], params[1], y0[2], params[2]]\n",
    "    #simData = model(params[3:], y0)\n",
    "    # Note that you'll also need to add a bound for the IC of ACTH in the list of parameter bounds\n",
    "    \n",
    "    return optimize.SSE_cost(data_to_match[0], data_to_match[1], data_to_match[2], data_to_match[3], simData)"
   ]
  },
  {
   "cell_type": "markdown",
   "metadata": {},
   "source": [
    "[Back to Top](#top)"
   ]
  },
  {
   "cell_type": "markdown",
   "metadata": {},
   "source": [
    "# Run the Optimization <a name=\"run\"></a>"
   ]
  },
  {
   "cell_type": "code",
   "execution_count": null,
   "metadata": {},
   "outputs": [],
   "source": [
    "# Define the data set to match with the parameter optimization algorithm.\n",
    "# Requires 4 indices, in the order:\n",
    "# ACTH time steps, ACTH data, Cortisol time steps, Cortisol data\n",
    "data_to_match = [nelson.ACTH[:,0], nelson.ACTH[:,1], nelson.cortisol[:,0], nelson.cortisol[:,1]]\n",
    "\n",
    "# For matching data with only cortisol concentrations, use the following line and change the data sets as desired:\n",
    "#data_to_match = [yehuda.controlCortisol[:,0], yehuda.controlCortisol[:,1]]"
   ]
  },
  {
   "cell_type": "code",
   "execution_count": null,
   "metadata": {},
   "outputs": [],
   "source": [
    "# We define the initial conditions using the real-world data to match defined above.\n",
    "# We set CRH and GR ICs both to zero to start, but we will be optimizing these\n",
    "\n",
    "y0 = [0, data_to_match[1][0], data_to_match[3][0], 0]\n",
    "\n",
    "# For matching data with only cortisol concentrations, use the following line and change the ICs as desired:\n",
    "#y0 = [0, 10, data_to_match[1][0], 0]"
   ]
  },
  {
   "cell_type": "code",
   "execution_count": null,
   "metadata": {},
   "outputs": [],
   "source": [
    "# We call the run() method of the optimize module, which will run the parameter optimization given the arguments we pass\n",
    "# Required arguments are the cost function, the model, and the real-world data we want to match\n",
    "#\n",
    "# Optional arguments include the initial conditions we want to optimize (if any), the number of iterations to run,\n",
    "#  the maximum number of optimization steps per iteration of the algorithm, the algorithm to use (defaults to \n",
    "#  differential_evolution), and the popsize to use (larger popsize gives more accurate optimization but is more \n",
    "#  computationally expensive) \n",
    "opt_pars, simData_all = optimize.run(cost_fun, model, data_to_match, y0, bounds, ICopt_indices=[0,3], num_iter=5)\n"
   ]
  },
  {
   "cell_type": "markdown",
   "metadata": {},
   "source": [
    "[Back to Top](#top)"
   ]
  },
  {
   "cell_type": "markdown",
   "metadata": {},
   "source": [
    "# Save Output to File <a name=\"saveoutput\"></a>"
   ]
  },
  {
   "cell_type": "code",
   "execution_count": null,
   "metadata": {},
   "outputs": [],
   "source": [
    "# Change the root filename, this will have the array name appended to it\n",
    "#  to make the filename of the Excel files, textfiles and graphs\n",
    "filename_root = \"sriramModel_output/nelson-patientMean-5-iterations-ICOpt\""
   ]
  },
  {
   "cell_type": "code",
   "execution_count": null,
   "metadata": {},
   "outputs": [],
   "source": [
    "# Create the pandas DataFrame object for opt_pars\n",
    "# I've typed out each individual heading for the parameter names that were\n",
    "#  optimized, and assigned the correct column of opt_pars to them\n",
    "#\n",
    "# NOTE: I've been unable to get this code to work for 1 iteration of parameter optimization (only for opt_pars)\n",
    "# Hopefully in the near future I'll get it worked out, but for some reason I can't get it to be output as a single row\n",
    "# with 21 columns. It'll only output as a single column with 21 rows.\n",
    "df_opt_pars = pd.DataFrame(opt_pars, columns=['Cost',\n",
    "                                              'k_stress',\n",
    "                                              'k_i',\n",
    "                                              'V_S3',\n",
    "                                              'K_m1',\n",
    "                                              'K_P2',\n",
    "                                              'V_S4',\n",
    "                                              'K_m2',\n",
    "                                              'K_P3',\n",
    "                                              'V_S5',\n",
    "                                              'K_m3',\n",
    "                                              'K_d1',\n",
    "                                              'K_d2',\n",
    "                                              'K_d3',\n",
    "                                              'n1',\n",
    "                                              'n2',\n",
    "                                              'K_b',\n",
    "                                              'G_tot',\n",
    "                                              'V_S2',\n",
    "                                              'K1',\n",
    "                                              'K_d5'])\n",
    "# Create the pandas DataFrame object for simData_all\n",
    "# I've typed out each individual heading for the variables and iterations,\n",
    "# and assigned the correct column of simData_all to them\n",
    "df_simData_all = pd.DataFrame(simData_all, columns=['Iteration 1 Time',\n",
    "                                                    'Iteration 1 CRH',\n",
    "                                                    'Iteration 1 ACTH',\n",
    "                                                    'Iteration 1 Cortisol',\n",
    "                                                    'Iteration 1 GR',\n",
    "                                                    'Iteration 2 Time',\n",
    "                                                    'Iteration 2 CRH',\n",
    "                                                    'Iteration 2 ACTH',\n",
    "                                                    'Iteration 2 Cortisol',\n",
    "                                                    'Iteration 2 GR',\n",
    "                                                    'Iteration 3 Time',\n",
    "                                                    'Iteration 3 CRH',\n",
    "                                                    'Iteration 3 ACTH',\n",
    "                                                    'Iteration 3 Cortisol',\n",
    "                                                    'Iteration 3 GR',\n",
    "                                                    'Iteration 4 Time',\n",
    "                                                    'Iteration 4 CRH',\n",
    "                                                    'Iteration 4 ACTH',\n",
    "                                                    'Iteration 4 Cortisol',\n",
    "                                                    'Iteration 4 GR',\n",
    "                                                    'Iteration 5 Time',\n",
    "                                                    'Iteration 5 CRH',\n",
    "                                                    'Iteration 5 ACTH',\n",
    "                                                    'Iteration 5 Cortisol',\n",
    "                                                    'Iteration 5 GR'])\n",
    "\n",
    "# Create an instance of the ExcelWriter class and open the file using a with statement\n",
    "with pd.ExcelWriter(filename_root+\".xlsx\") as writer:\n",
    "    # Define the header format, so that it's bold, text is wrapped, it has a \n",
    "    #  colored background and a border\n",
    "    header_format = writer.book.add_format({\n",
    "        'bold': True,\n",
    "        'text_wrap': True,\n",
    "        'valign': 'top',\n",
    "        'fg_color': '#D7E4BC',\n",
    "        'border': 1\n",
    "    })\n",
    "    \n",
    "    # Write the opt_pars array to a sheet in the file, we skip adding in the headers here and add them with the above\n",
    "    #  format afterwards. We also change the row index to start at 1, rather than 0.\n",
    "    df_opt_pars.index = list(range(1,len(opt_pars[:,0])+1))\n",
    "    df_opt_pars.to_excel(writer, sheet_name=\"Optimized Parameters\", startrow=1, header=False)\n",
    "    \n",
    "    # Write the simData_all array to another sheet in the file, we skip adding in the headers here and add them with the above\n",
    "    #  format afterwards. We also disable the row index numbers, as they are not necessary here.\n",
    "    df_simData_all.to_excel(writer, sheet_name=\"Simulated Concentration Data\", startrow=1, header=False, index=False)\n",
    "    \n",
    "    # Loop through each header in opt_pars DataFrame and write to the sheet with formatting\n",
    "    for col,val in enumerate(df_opt_pars.columns.values):\n",
    "        # We write in the sheet \"Optimized Parameters\" in the first row, starting with the second column \n",
    "        #  (because of the row indices), using the headers from the DataFrame and the header format we defined above\n",
    "        writer.sheets[\"Optimized Parameters\"].write(0, col+1, val, header_format)\n",
    "    \n",
    "    # Loop through each header in simData_all DataFrame and write to the sheet with formatting\n",
    "    for col,val in enumerate(df_simData_all.columns.values):\n",
    "        # We write in the sheet \"Simulated Concentration Data\" in the first row, starting with the first column \n",
    "        #  (because we turned off the row indices), using the headers from the DataFrame and \n",
    "        #  the header format we defined above\n",
    "        writer.sheets[\"Simulated Concentration Data\"].write(0, col, val, header_format)\n",
    "    "
   ]
  },
  {
   "cell_type": "code",
   "execution_count": null,
   "metadata": {},
   "outputs": [],
   "source": [
    "# Save the initial conditions and bounds to text files, also.\n",
    "np.savetxt(filename_root+'-initial-conditions.txt', y0)\n",
    "np.savetxt(filename_root+'-bounds.txt', bounds)"
   ]
  },
  {
   "cell_type": "markdown",
   "metadata": {},
   "source": [
    "[Back to Top](#top)"
   ]
  },
  {
   "cell_type": "markdown",
   "metadata": {},
   "source": [
    "# Compute Means and Std Devations of Parameters and Output as Table <a name=\"paramtable\"></a>"
   ]
  },
  {
   "cell_type": "code",
   "execution_count": null,
   "metadata": {},
   "outputs": [],
   "source": [
    "k_stress_mean = np.mean(opt_pars[:,1])\n",
    "k_stress_std = np.std(opt_pars[:,1])\n",
    "k_i_mean = np.mean(opt_pars[:,2])\n",
    "k_i_std = np.std(opt_pars[:,2])\n",
    "V_S3_mean = np.mean(opt_pars[:,3])\n",
    "V_S3_std = np.std(opt_pars[:,3])\n",
    "K_m1_mean = np.mean(opt_pars[:,4])\n",
    "K_m1_std = np.std(opt_pars[:,4])\n",
    "K_P2_mean = np.mean(opt_pars[:,5])\n",
    "K_P2_std = np.std(opt_pars[:,5])\n",
    "V_S4_mean = np.mean(opt_pars[:,6])\n",
    "V_S4_std = np.std(opt_pars[:,6])\n",
    "K_m2_mean = np.mean(opt_pars[:,7])\n",
    "K_m2_std = np.std(opt_pars[:,7])\n",
    "K_P3_mean = np.mean(opt_pars[:,8])\n",
    "K_P3_std = np.std(opt_pars[:,8])\n",
    "V_S5_mean = np.mean(opt_pars[:,9])\n",
    "V_S5_std = np.std(opt_pars[:,9])\n",
    "K_m3_mean = np.mean(opt_pars[:,10])\n",
    "K_m3_std = np.std(opt_pars[:,10])\n",
    "K_d1_mean = np.mean(opt_pars[:,11])\n",
    "K_d1_std = np.std(opt_pars[:,11])\n",
    "K_d2_mean = np.mean(opt_pars[:,12])\n",
    "K_d2_std = np.std(opt_pars[:,12])\n",
    "K_d3_mean = np.mean(opt_pars[:,13])\n",
    "K_d3_std = np.std(opt_pars[:,13])\n",
    "n1_mean = np.mean(opt_pars[:,14])\n",
    "n1_std = np.std(opt_pars[:,14])\n",
    "n2_mean = np.mean(opt_pars[:,15])\n",
    "n2_std = np.std(opt_pars[:,15])\n",
    "K_b_mean = np.mean(opt_pars[:,16])\n",
    "K_b_std = np.std(opt_pars[:,16])\n",
    "G_tot_mean = np.mean(opt_pars[:,17])\n",
    "G_tot_std = np.std(opt_pars[:,17])\n",
    "V_S2_mean = np.mean(opt_pars[:,18])\n",
    "V_S2_std = np.std(opt_pars[:,18])\n",
    "K1_mean = np.mean(opt_pars[:,19])\n",
    "K1_std = np.std(opt_pars[:,19])\n",
    "K_d5_mean = np.mean(opt_pars[:,20])\n",
    "K_d5_std = np.std(opt_pars[:,20])\n",
    "#p_stress_mean = np.mean(opt_pars[:,21])\n",
    "#p_stress_std = np.std(opt_pars[:,21])"
   ]
  },
  {
   "cell_type": "code",
   "execution_count": null,
   "metadata": {},
   "outputs": [],
   "source": [
    "#print(tabulate([[\"k_stress\", \"%f +- %f\" % (k_stress_mean, k_stress_std)], [\"k_i\", \"%f +- %f\" % (k_i_mean, k_i_std)], [\"V_S3\", \"%f +- %f\" % (V_S3_mean, V_S3_std)], [\"K_m1\", \"%f +- %f\" % (K_m1_mean, K_m1_std)], [\"K_P2\", \"%f +- %f\" % (K_P2_mean, K_P2_std)], [\"V_S4\", \"%f +- %f\" % (V_S4_mean, V_S4_std)], [\"K_m2\", \"%f +- %f\" % (K_m2_mean, K_m2_std)], [\"K_P3\", \"%f +- %f\" % (K_P3_mean, K_P3_std)], [\"V_S5\", \"%f +- %f\" % (V_S5_mean, V_S5_std)], [\"K_m3\", \"%f +- %f\" % (K_m3_mean, K_m3_std)], [\"K_d1\", \"%f +- %f\" % (K_d1_mean, K_d1_std)], [\"K_d2\", \"%f +- %f\" % (K_d2_mean, K_d2_std)], [\"K_d3\", \"%f +- %f\" % (K_d3_mean, K_d3_std)], [\"n1\", \"%f +- %f\" % (n1_mean, n1_std)], [\"n2\", \"%f +- %f\" % (n2_mean, n2_std)], [\"K_b\", \"%f +- %f\" % (K_b_mean, K_b_std)], [\"G_tot\", \"%f +- %f\" % (G_tot_mean, G_tot_std)], [\"V_S2\", \"%f +- %f\" % (V_S2_mean, V_S2_std)], [\"K1\", \"%f +- %f\" % (K1_mean, K1_std)], [\"K_d5\", \"%f +- %f\" % (K_d5_mean, K_d5_std)], [\"p_stress\", \"%f +- %f\" % (p_stress_mean, p_stress_std)]], headers = [\"Parameter\", \"Mean +- Standard Deviation\"]))\n",
    "print(tabulate([[\"k_stress\", \"%f +- %f\" % (k_stress_mean, k_stress_std)], [\"k_i\", \"%f +- %f\" % (k_i_mean, k_i_std)], [\"V_S3\", \"%f +- %f\" % (V_S3_mean, V_S3_std)], [\"K_m1\", \"%f +- %f\" % (K_m1_mean, K_m1_std)], [\"K_P2\", \"%f +- %f\" % (K_P2_mean, K_P2_std)], [\"V_S4\", \"%f +- %f\" % (V_S4_mean, V_S4_std)], [\"K_m2\", \"%f +- %f\" % (K_m2_mean, K_m2_std)], [\"K_P3\", \"%f +- %f\" % (K_P3_mean, K_P3_std)], [\"V_S5\", \"%f +- %f\" % (V_S5_mean, V_S5_std)], [\"K_m3\", \"%f +- %f\" % (K_m3_mean, K_m3_std)], [\"K_d1\", \"%f +- %f\" % (K_d1_mean, K_d1_std)], [\"K_d2\", \"%f +- %f\" % (K_d2_mean, K_d2_std)], [\"K_d3\", \"%f +- %f\" % (K_d3_mean, K_d3_std)], [\"n1\", \"%f +- %f\" % (n1_mean, n1_std)], [\"n2\", \"%f +- %f\" % (n2_mean, n2_std)], [\"K_b\", \"%f +- %f\" % (K_b_mean, K_b_std)], [\"G_tot\", \"%f +- %f\" % (G_tot_mean, G_tot_std)], [\"V_S2\", \"%f +- %f\" % (V_S2_mean, V_S2_std)], [\"K1\", \"%f +- %f\" % (K1_mean, K1_std)], [\"K_d5\", \"%f +- %f\" % (K_d5_mean, K_d5_std)]], headers = [\"Parameter\", \"Mean +- Standard Deviation\"]))\n"
   ]
  },
  {
   "cell_type": "code",
   "execution_count": null,
   "metadata": {},
   "outputs": [],
   "source": [
    "np.savetxt(filename_root+'-param-means-std-devs.txt', [k_stress_mean, k_stress_std, k_i_mean, k_i_std, V_S3_mean, V_S3_std, K_m1_mean, K_m1_std, K_P2_mean, K_P2_std, V_S4_mean, V_S4_std, K_m2_mean, K_m2_std, K_P3_mean, K_P3_std, V_S5_mean, V_S5_std, K_m3_mean, K_m3_std, K_d1_mean, K_d1_std, K_d2_mean, K_d2_std, K_d3_mean, K_d3_std, n1_mean, n1_std, n2_mean, n2_std, K_b_mean, K_b_std, G_tot_mean, G_tot_std, V_S2_mean, V_S2_std, K1_mean, K1_std, K_d5_mean, K_d5_std])\n",
    "#np.savetxt('sriramModel_output/sriramModel-nelson-atypical-patientID_1-param-means-stds-5-iterations-p-stress.txt', [k_stress_mean, k_stress_std, k_i_mean, k_i_std, V_S3_mean, V_S3_std, K_m1_mean, K_m1_std, K_P2_mean, K_P2_std, V_S4_mean, V_S4_std, K_m2_mean, K_m2_std, K_P3_mean, K_P3_std, V_S5_mean, V_S5_std, K_m3_mean, K_m3_std, K_d1_mean, K_d1_std, K_d2_mean, K_d2_std, K_d3_mean, K_d3_std, n1_mean, n1_std, n2_mean, n2_std, K_b_mean, K_b_std, G_tot_mean, G_tot_std, V_S2_mean, V_S2_std, K1_mean, K1_std, K_d5_mean, K_d5_std, p_stress_mean, p_stress_std])\n"
   ]
  },
  {
   "cell_type": "markdown",
   "metadata": {},
   "source": [
    "[Back to Top](#top)"
   ]
  },
  {
   "cell_type": "markdown",
   "metadata": {},
   "source": [
    "# Plots <a name=\"plots\"></a>"
   ]
  },
  {
   "cell_type": "code",
   "execution_count": null,
   "metadata": {},
   "outputs": [],
   "source": [
    "# Create an instance of the Visualizer class, which will start a series of prompts\n",
    "grapher = Visualizer(globals())"
   ]
  },
  {
   "cell_type": "code",
   "execution_count": null,
   "metadata": {},
   "outputs": [],
   "source": [
    "# The Visualizer method make_graphs can be called without arguments to create simple graphs without labels and with\n",
    "#  default size and colors\n",
    "grapher.make_graphs()"
   ]
  },
  {
   "cell_type": "code",
   "execution_count": null,
   "metadata": {
    "scrolled": false
   },
   "outputs": [],
   "source": [
    "# However, many arguments can also be specified to add detail to the graphs\n",
    "grapher.make_graphs(std_dev = True, \n",
    "                    sims_line_labels = [\"CRH Simulation\", \"ACTH Simulation\", \"Cortisol Simulation\", \"GR Simulation\"], \n",
    "                    sims_line_colors = [\"blue\", \"blue\", \"blue\", \"blue\"],\n",
    "                    std_labels = [\"Mean +- Standard Deviation\", \"Mean +- Standard Deviation\", \"Mean +- Standard Deviation\", \"Mean +- Standard Deviation\"],\n",
    "                    real_data_labels = [\"Nelson ACTH - Patient Mean\", \"Nelson ACTH - Patient Mean\", \"Nelson Cortisol - Patient Mean\"], \n",
    "                    graph_titles = [\"CRH Concentration\", \"ACTH Concentration\", \"Cortisol Concentration\", \"GR Concentration\"], \n",
    "                    xaxis_labels = [\"Time (h)\", \"Time (h)\", \"Time (h)\", \"Time (h)\"],\n",
    "                    yaxis_labels = [\"CRH (micrograms/dL)\", \"ACTH (pg/mL)\", \"Cortisol (micrograms/dL)\", \"GR (micrograms)\"],\n",
    "                    legend_locs = [\"upper right\", \"upper right\", \"upper right\", \"upper left\"],\n",
    "                    figure_size = (25,40),\n",
    "                    savefile=filename_root+\".png\")\n"
   ]
  },
  {
   "cell_type": "markdown",
   "metadata": {},
   "source": [
    "[Back to Top](#top)"
   ]
  },
  {
   "cell_type": "markdown",
   "metadata": {},
   "source": [
    "# Figure 3 Reproduction <a name=\"fig3\"></a>"
   ]
  },
  {
   "cell_type": "code",
   "execution_count": null,
   "metadata": {},
   "outputs": [],
   "source": [
    "# initialize parameter values that stay the same between all three groups\n",
    "#     These are the optimized values that the authors got from SensSB toolbox\n",
    "\n",
    "k_stress = 10.1\n",
    "k_i = 1.51\n",
    "V_S3 = 3.25\n",
    "K_m1 = 1.74\n",
    "K_P2 = 8.3\n",
    "V_S4 = 0.907\n",
    "K_m2 = 0.112\n",
    "K_P3 = 0.945\n",
    "V_S5 = 0.00535\n",
    "K_m3 = 0.0768\n",
    "K_d1 = 0.00379\n",
    "K_d2 = 0.00916\n",
    "K_d3 = 0.356\n",
    "n1 = 5.43\n",
    "n2 = 5.1\n",
    "K_b = 0.0202\n",
    "G_tot = 3.28\n",
    "V_S2 = 0.0509\n",
    "K1 = 0.645\n",
    "K_d5 = 0.0854\n",
    "p_stress = 1\n",
    "\n",
    "authors_params_control = [k_stress, k_i, V_S3, K_m1, K_P2, V_S4, K_m2, K_P3, V_S5, K_m3, K_d1, K_d2, K_d3, n1, n2, K_b, G_tot, V_S2, K1, K_d5]#, p_stress]\n"
   ]
  },
  {
   "cell_type": "code",
   "execution_count": null,
   "metadata": {},
   "outputs": [],
   "source": [
    "# initialize parameter values that stay the same between all three groups\n",
    "#     These are the optimized values that the authors got from SensSB toolbox\n",
    "\n",
    "k_stress = 13.7\n",
    "k_i = 1.6\n",
    "V_S3 = 3.25\n",
    "K_m1 = 1.74\n",
    "K_P2 = 8.3\n",
    "V_S4 = 0.907\n",
    "K_m2 = 0.112\n",
    "K_P3 = 0.945\n",
    "V_S5 = 0.00535\n",
    "K_m3 = 0.0768\n",
    "K_d1 = 0.00379\n",
    "K_d2 = 0.00916\n",
    "K_d3 = 0.356\n",
    "n1 = 5.43\n",
    "n2 = 5.1\n",
    "K_b = 0.0202\n",
    "G_tot = 3.28\n",
    "V_S2 = 0.0509\n",
    "K1 = 0.645\n",
    "K_d5 = 0.0854\n",
    "p_stress = 1\n",
    "\n",
    "authors_params_depressed = [k_stress, k_i, V_S3, K_m1, K_P2, V_S4, K_m2, K_P3, V_S5, K_m3, K_d1, K_d2, K_d3, n1, n2, K_b, G_tot, V_S2, K1, K_d5]#, p_stress]\n"
   ]
  },
  {
   "cell_type": "code",
   "execution_count": null,
   "metadata": {},
   "outputs": [],
   "source": [
    "# initialize parameter values that stay the same between all three groups\n",
    "#     These are the optimized values that the authors got from SensSB toolbox\n",
    "\n",
    "k_stress = 17.5\n",
    "k_i = 1.17\n",
    "V_S3 = 3.25\n",
    "K_m1 = 1.74\n",
    "K_P2 = 8.3\n",
    "V_S4 = 0.907\n",
    "K_m2 = 0.112\n",
    "K_P3 = 0.945\n",
    "V_S5 = 0.00535\n",
    "K_m3 = 0.0768\n",
    "K_d1 = 0.00379\n",
    "K_d2 = 0.00916\n",
    "K_d3 = 0.356\n",
    "n1 = 5.43\n",
    "n2 = 5.1\n",
    "K_b = 0.0202\n",
    "G_tot = 3.28\n",
    "V_S2 = 0.0509\n",
    "K1 = 0.645\n",
    "K_d5 = 0.0854\n",
    "p_stress = 1\n",
    "\n",
    "authors_params_ptsd = [k_stress, k_i, V_S3, K_m1, K_P2, V_S4, K_m2, K_P3, V_S5, K_m3, K_d1, K_d2, K_d3, n1, n2, K_b, G_tot, V_S2, K1, K_d5]#, p_stress]\n"
   ]
  },
  {
   "cell_type": "code",
   "execution_count": null,
   "metadata": {},
   "outputs": [],
   "source": [
    "y0_control = [1, 5, 5, 2]\n",
    "y0_depressed = [1, 5, 5, 2]\n",
    "y0_ptsd = [1, 5, 5, 2]\n",
    "\n",
    "t_start = -0.01\n",
    "t_end = 300\n",
    "t_step = 0.01"
   ]
  },
  {
   "cell_type": "code",
   "execution_count": null,
   "metadata": {},
   "outputs": [],
   "source": [
    "%%time\n",
    "\n",
    "no_opt_control = model(authors_params_control, y0_control)\n",
    "no_opt_depressed = model(authors_params_depressed, y0_depressed)\n",
    "no_opt_ptsd = model(authors_params_ptsd, y0_ptsd)\n",
    "\n",
    "sims_gr_control = no_opt_control[:,4]\n",
    "sims_cort_control = no_opt_control[:,3]\n",
    "sims_acth_control = no_opt_control[:,2]\n",
    "sims_crh_control = no_opt_control[:,1]\n",
    "\n",
    "sims_gr_depressed = no_opt_depressed[:,4]\n",
    "sims_cort_depressed = no_opt_depressed[:,3]\n",
    "sims_acth_depressed = no_opt_depressed[:,2]\n",
    "sims_crh_depressed = no_opt_depressed[:,1]\n",
    "\n",
    "sims_gr_ptsd = no_opt_ptsd[:,4]\n",
    "sims_cort_ptsd = no_opt_ptsd[:,3]\n",
    "sims_acth_ptsd = no_opt_ptsd[:,2]\n",
    "sims_crh_ptsd = no_opt_ptsd[:,1]"
   ]
  },
  {
   "cell_type": "code",
   "execution_count": null,
   "metadata": {},
   "outputs": [],
   "source": [
    "%matplotlib inline\n",
    "fig, (ax1, ax2, ax3) = plt.subplots(nrows = 3, figsize = (15,20))\n",
    "\n",
    "ax1.plot(np.arange(0, 70, 0.01), sims_cort_control[-7800:-800], label = \"CORT sim - Control\")\n",
    "ax1.set(ylabel = \"CORT (micrograms/dL)\", xlabel = \"Time (h)\", title = \"CORT sim - Control\")\n",
    "#ax1.legend(loc = \"upper right\", shadow = True, fancybox = True)\n",
    "\n",
    "ax2.plot(np.arange(0, 70, 0.01), sims_cort_depressed[-8800:-1800], label = \"CORT sim - Depression\")\n",
    "ax2.set(ylabel = \"CORT (micrograms/dL)\", xlabel = \"Time (h)\", title = \"CORT sim - Depression\")\n",
    "#ax2.legend(loc = \"upper right\", shadow = True, fancybox = True)\n",
    "\n",
    "ax3.plot(np.arange(0, 70, 0.01), sims_cort_ptsd[-9100:-2100], label = \"CORT sim - PTSD\")\n",
    "ax3.set(ylabel = \"CORT (micrograms/dL)\", xlabel = \"Time (h)\", title = \"CORT sim - PTSD\")\n",
    "#ax3.legend(loc = \"upper right\", shadow = True, fancybox = True)\n",
    "\n",
    "plt.savefig(\"sriramModel_output/sriramModel-figure3-reproduction.png\", dpi=300)"
   ]
  },
  {
   "cell_type": "markdown",
   "metadata": {},
   "source": [
    "[Back to Top](#top)"
   ]
  },
  {
   "cell_type": "markdown",
   "metadata": {},
   "source": [
    "# Figure 4 Reproduction <a name=\"fig4\"></a>"
   ]
  },
  {
   "cell_type": "code",
   "execution_count": null,
   "metadata": {
    "scrolled": true
   },
   "outputs": [],
   "source": [
    "# create Fig 4 of free glucocorticoid receptor level\n",
    "t_end = 240.01\n",
    "\n",
    "normal = model(authors_params_control, y0)\n",
    "PTSD = model(authors_params_ptsd, y0)\n",
    "depressed = model(authors_params_depressed, y0)\n",
    "\n",
    "G_normal = G_tot - normal[:,4]\n",
    "G_PTSD = G_tot - PTSD[:,4]\n",
    "G_depressed = G_tot - depressed[:,4]\n",
    "\n",
    "plt.plot(normal[-12000:,0], G_normal[-12000:], label='Normal')\n",
    "plt.plot(PTSD[-12000:,0], G_PTSD[-12000:], label='PTSD')\n",
    "plt.plot(depressed[-12000:,0], G_depressed[-12000:], label='Depressed')\n",
    "plt.ylim(0,2.5)\n",
    "plt.xlabel('t (hours)')\n",
    "plt.ylabel('G')\n",
    "plt.title(\"Figure 4 Reproduction\")\n",
    "plt.legend(loc = \"upper right\", shadow = True, fancybox = True)\n",
    "plt.savefig(\"sriramModel_output/sriramModel-figure4-reproduction.png\", dpi=300)"
   ]
  },
  {
   "cell_type": "markdown",
   "metadata": {},
   "source": [
    "[Back to Top](#top)"
   ]
  },
  {
   "cell_type": "markdown",
   "metadata": {},
   "source": [
    "# No Optimization Run <a name=\"no-opt\"></a>"
   ]
  },
  {
   "cell_type": "code",
   "execution_count": null,
   "metadata": {},
   "outputs": [],
   "source": [
    "# Define initial conditions\n",
    "y0 = [5, 20, 6, 1.25]"
   ]
  },
  {
   "cell_type": "code",
   "execution_count": null,
   "metadata": {},
   "outputs": [],
   "source": [
    "%%time # Output the time it takes to run the simulation\n",
    "\n",
    "# Use the desired parameters and initial conditions to run the model\n",
    "data_no_opt = model(authors_params, y0)"
   ]
  },
  {
   "cell_type": "code",
   "execution_count": null,
   "metadata": {},
   "outputs": [],
   "source": [
    "df_noOpt = pd.DataFrame(data_no_opt, columns=['Time',\n",
    "                                              'CRH',\n",
    "                                              'ACTH',\n",
    "                                              'Cortisol',\n",
    "                                              'GR'])\n",
    "\n",
    "with pd.ExcelWriter(\"sriramModel_output/no-optimization-run.xlsx\") as writer:\n",
    "    df_noOpt.to_excel(writer, sheet_name=\"No Optimization Run 1\", index=False)"
   ]
  },
  {
   "cell_type": "markdown",
   "metadata": {},
   "source": [
    "[Back to Top](#top)"
   ]
  },
  {
   "cell_type": "markdown",
   "metadata": {},
   "source": [
    "# Run Optimizations for Multiple Patients <a name=\"runMultiple\" />"
   ]
  },
  {
   "cell_type": "code",
   "execution_count": null,
   "metadata": {},
   "outputs": [],
   "source": [
    "# Enter the patient number to start and end the optimization loop\n",
    "start_patient = 1\n",
    "end_patient = 10\n",
    "\n",
    "for patient in range(start_patient, end_patient+1):\n",
    "    print(f\"\\033[1mCurrent Patient: #{patient}\\033[0m\")\n",
    "    # Change the data set to cycle through patients in here. Will only work for Nelson TSST data, including subtype\n",
    "    #  data sets (as the basal data sets are only mean concentrations, not individual patients)\n",
    "    data_to_match = [nelson.ACTH[:,0], nelson.ACTH[:,patient+1], nelson.cortisol[:,0], nelson.cortisol[:,patient+1]]\n",
    "    y0 = [1, data_to_match[1][0], data_to_match[3][0], 1]\n",
    "    \n",
    "    opt_pars_tmp, simData_all_tmp = optimize.run(cost_fun, model, data_to_match, y0, bounds, ICopt_indices=[0,3], num_iter=5)\n",
    "    \n",
    "    if patient == start_patient:\n",
    "        simData_all_multiple = simData_all_tmp\n",
    "        opt_pars_multiple = opt_pars_tmp\n",
    "    else:\n",
    "        simData_all_multiple = np.hstack((simData_all_multiple, simData_all_tmp))\n",
    "        opt_pars_multiple = np.hstack((opt_pars_multiple, opt_pars_tmp))\n",
    "        "
   ]
  },
  {
   "cell_type": "markdown",
   "metadata": {},
   "source": [
    "[Back to Top](#top)"
   ]
  },
  {
   "cell_type": "markdown",
   "metadata": {},
   "source": [
    "# Checking Parameter Sets Generated Externally <a name=\"checkexternal\"></a>"
   ]
  },
  {
   "cell_type": "code",
   "execution_count": null,
   "metadata": {},
   "outputs": [],
   "source": [
    "cort_data = np.zeros((2403,len(loaded_params)))\n",
    "for i in range(len(loaded_params)):\n",
    "    cort_data[:,i] = np.transpose(np.hstack((i+1,model(loaded_params[i,1:], y0)[:,3])))"
   ]
  },
  {
   "cell_type": "code",
   "execution_count": null,
   "metadata": {},
   "outputs": [],
   "source": [
    "time_data = np.zeros((2403,len(loaded_params)))\n",
    "for i in range(len(loaded_params)):\n",
    "    time_data[:,i] = np.transpose(np.hstack((i+1,model(loaded_params[i,1:], y0)[:,0])))"
   ]
  },
  {
   "cell_type": "code",
   "execution_count": null,
   "metadata": {},
   "outputs": [],
   "source": [
    "np.savetxt(\"sriram-cort-data-yehudaControl-1000-all-params.txt\", cort_data)"
   ]
  },
  {
   "cell_type": "code",
   "execution_count": null,
   "metadata": {},
   "outputs": [],
   "source": [
    "np.savetxt(\"sriram-time-data-yehudaControl-1000-all-params.txt\", time_data)"
   ]
  },
  {
   "cell_type": "code",
   "execution_count": null,
   "metadata": {},
   "outputs": [],
   "source": [
    "sim = model(yin_params[next_max,1:], y0)"
   ]
  },
  {
   "cell_type": "code",
   "execution_count": null,
   "metadata": {},
   "outputs": [],
   "source": [
    "sim = model(testing_params, y0)"
   ]
  },
  {
   "cell_type": "code",
   "execution_count": null,
   "metadata": {},
   "outputs": [],
   "source": [
    "fig, (ax1, ax2, ax3) = plt.subplots(nrows = 3, figsize = (15,15))\n",
    "ax1.plot(sim[:,0], sim[:,3], label = \"Simulation\")\n",
    "ax1.plot(yehudaControlCortisol[:,0], yehudaControlCortisol[:,1], label = \"Yehuda Control Group\")\n",
    "ax1.set(xlabel = \"Time\", ylabel = \"Cortisol\", title = \"Control Group: Raw Data vs Authors' Optimized Parameters\")\n",
    "ax2.plot(sim[:,0], sim[:,1])\n",
    "ax2.set(xlabel = \"Time\", ylabel = \"CRH\", title = \"CRH w/ Authors' Control Group Parameters\")\n",
    "ax3.plot(sim[:,0], sim[:,2])\n",
    "ax3.set(xlabel = \"Time\", ylabel = \"ACTH\", title = \"ACTH w/ Authors' Control Group Parameters\")\n",
    "\n",
    "plt.savefig(\"testing-params-kb-0.01.pdf\", dpi = 300)"
   ]
  },
  {
   "cell_type": "markdown",
   "metadata": {},
   "source": [
    "[Back to Top](#top)"
   ]
  },
  {
   "cell_type": "markdown",
   "metadata": {},
   "source": [
    "# Load Simulated Concentration Data from Files and Plot <a name=\"load-and-plot\"></a>"
   ]
  },
  {
   "cell_type": "code",
   "execution_count": null,
   "metadata": {},
   "outputs": [],
   "source": [
    "sims_t = np.genfromtxt('sriramModel_output/sriramModel-nelson-atypical-patientID_19-timeSteps-5-iterations.txt')\n",
    "sims_gr = np.genfromtxt('sriramModel_output/sriramModel-nelson-atypical-patientID_19-sims-gr-5-iterations.txt')\n",
    "sims_cort = np.genfromtxt('sriramModel_output/sriramModel-nelson-atypical-patientID_19-sims-cort-5-iterations.txt')\n",
    "sims_crh = np.genfromtxt('sriramModel_output/sriramModel-nelson-atypical-patientID_19-sims-crh-5-iterations.txt')\n",
    "sims_acth = np.genfromtxt('sriramModel_output/sriramModel-nelson-atypical-patientID_19-sims-acth-5-iterations.txt')"
   ]
  },
  {
   "cell_type": "code",
   "execution_count": null,
   "metadata": {
    "scrolled": false
   },
   "outputs": [],
   "source": [
    "%matplotlib inline\n",
    "# plot of raw data with simulation data for cortisol, then just simulation data for crh and acth\n",
    "\n",
    "matplotlib.rc('font', **{'size'   : 28})\n",
    "\n",
    "fig, (ax1, ax2, ax3, ax4) = plt.subplots(nrows=4, figsize=(24,40))\n",
    "\n",
    "#ax1.plot(optimizedSimData[:,0], sims_crh, label = \"Mean Simulated CRH\")\n",
    "# for more than 1 iteration, uncomment below\n",
    "ax1.plot(sims_t, np.mean(sims_crh, axis = 1), label = \"Mean Simulated CRH\", color = \"blue\")\n",
    "ax1.fill_between(sims_t, np.mean(sims_crh, axis = 1) - np.std(sims_crh, axis = 1), np.mean(sims_crh, axis = 1) + np.std(sims_crh, axis = 1), alpha = 0.3, label = \"Simulated CRH Standard Deviation\")\n",
    "ax1.legend(loc = \"upper left\", shadow = True, fancybox = True)\n",
    "ax1.set(xlabel = \"Time (h)\", ylabel = \"CRH (micrograms/dL)\", title = \"CRH Concentration\")\n",
    "\n",
    "#ax2.plot(optimizedSimData[:,0], sims_acth, label = \"Mean\")\n",
    "ax2.plot(nelson.atypicalACTH[:,0], nelson.atypicalACTH[:,6], label = \"Nelson Atypical MDD ACTH Data - Patient ID 19\", color = \"orange\")\n",
    "# for more than 1 iteration, uncomment below\n",
    "ax2.plot(sims_t, np.mean(sims_acth, axis = 1), label = \"Mean Simulated ACTH\", color = \"blue\")\n",
    "ax2.fill_between(sims_t, np.mean(sims_acth, axis = 1) - np.std(sims_acth, axis = 1), np.mean(sims_acth, axis = 1) + np.std(sims_acth, axis = 1), alpha = 0.3, label = \"Simulated ACTH Standard Deviation\")\n",
    "ax2.legend(loc = \"upper right\", shadow = True, fancybox = True)\n",
    "ax2.set(xlabel = \"Time (h)\", ylabel = \"ACTH (pg/mL)\", title = \"ACTH Concentration\")\n",
    "\n",
    "#ax3.plot(optimizedSimData[:,0], sims_cort, label = \"Simulation Mean\")\n",
    "ax3.plot(nelson.atypicalCortisol[:,0], nelson.atypicalCortisol[:,6], label = \"Nelson Atypical MDD Cortisol Data - Patient ID 19\", color = \"orange\")\n",
    "# for more than 1 iteration, uncomment below\n",
    "ax3.plot(sims_t, np.mean(sims_cort, axis = 1), label = \"Mean Simulated Cortisol\", color = \"blue\")\n",
    "ax3.fill_between(sims_t, np.mean(sims_cort, axis = 1) - np.std(sims_cort, axis = 1), np.mean(sims_cort, axis = 1) + np.std(sims_cort, axis = 1), alpha = 0.3, label = \"Simulated Cortisol Standard Deviation\")\n",
    "ax3.legend(loc = \"lower right\", shadow = True, fancybox = True)\n",
    "ax3.set(xlabel = \"Time (h)\", ylabel = \"Cortisol (micrograms/dL)\", title = \"Cortisol Concentration\")\n",
    "\n",
    "#ax4.plot(optimizedSimData[:,0], sims_gr, label = \"Mean\")\n",
    "# for more than 1 iteration, uncomment below\n",
    "ax4.plot(sims_t, np.mean(sims_gr, axis = 1), label = \"Mean Simulated GR\")\n",
    "ax4.fill_between(sims_t, np.mean(sims_gr, axis = 1) - np.std(sims_gr, axis = 1), np.mean(sims_gr, axis = 1) + np.std(sims_gr, axis = 1), alpha = 0.5, label = \"Simulated GR Standard Deviation\")\n",
    "ax4.legend(loc = \"upper left\", shadow = True, fancybox = True)\n",
    "ax4.set(xlabel = \"Time (h)\", ylabel = \"GR (micrograms)\", title = \"GR Concentration\")\n",
    "\n",
    "txt = \"cost = [0.759431, 0.84753]\"\n",
    "plt.figtext(0.1, 0.09, txt, wrap = True, horizontalalignment = 'center', fontsize = 30)\n",
    "#plt.savefig(\"sriramModel-nelson-atypical-patientID_1-5-iterations-all-params-normalizedCost.png\", dpi = 300)\n",
    "# include p_stress in filename to indicate that we used stress_input function\n",
    "plt.savefig(\"sriramModel_output/sriramModel-nelson-atypical-patientID_19-5-iterations-all-params-normalizedCost.png\", dpi = 300)\n"
   ]
  },
  {
   "cell_type": "markdown",
   "metadata": {},
   "source": [
    "[Back to Top](#top)"
   ]
  },
  {
   "cell_type": "markdown",
   "metadata": {},
   "source": [
    "# Testing Monte Carlo Optimization <a name=\"monte\" />"
   ]
  },
  {
   "cell_type": "code",
   "execution_count": null,
   "metadata": {},
   "outputs": [],
   "source": [
    "# Set up the variables that define the distribution of random parameter sets we want. So far, I'm just doing a\n",
    "#  multivariate normal (MVN) distribution, with the covariance matrix as the identity matrix (except for having \n",
    "#  k_stress and k_i with covariance 0.5, so that their values are somewhat related as in the paper). The covariance\n",
    "#  matrix as I have it here makes the distribution vary from the mean values for each parameter a relatively small \n",
    "#  amount.\n",
    "\n",
    "nDim = 22\n",
    "distMean = [35., 50., 13.7, 16., 32.5, 17.4, 83., 9.07, 11.2, 9.45, 53.5, 7.68, 37.9, 9.16, 35.6, 54.3, 51., 20.2, 32.8, 50.9, 64.5, 8.54]\n",
    "covMat = [[1., 0., 0., 0., 0., 0., 0., 0., 0., 0., 0., 0., 0., 0., 0., 0., 0., 0., 0., 0., 0., 0.],\n",
    "         [0., 1., 0., 0., 0., 0., 0., 0., 0., 0., 0., 0., 0., 0., 0., 0., 0., 0., 0., 0., 0., 0.],\n",
    "         [0., 0., 1., 0., 0., 0., 0., 0., 0., 0., 0., 0., 0., 0., 0., 0., 0., 0., 0., 0., 0., 0.],\n",
    "         [0., 0., 0., 1., 0., 0., 0., 0., 0., 0., 0., 0., 0., 0., 0., 0., 0., 0., 0., 0., 0., 0.],\n",
    "         [0., 0., 0., 0., 1., 0., 0., 0., 0., 0., 0., 0., 0., 0., 0., 0., 0., 0., 0., 0., 0., 0.],\n",
    "         [0., 0., 0., 0., 0., 1., 0., 0., 0., 0., 0., 0., 0., 0., 0., 0., 0., 0., 0., 0., 0., 0.],\n",
    "         [0., 0., 0., 0., 0., 0., 1., 0., 0., 0., 0., 0., 0., 0., 0., 0., 0., 0., 0., 0., 0., 0.],\n",
    "         [0., 0., 0., 0., 0., 0., 0., 1., 0., 0., 0., 0., 0., 0., 0., 0., 0., 0., 0., 0., 0., 0.],\n",
    "         [0., 0., 0., 0., 0., 0., 0., 0., 1., 0., 0., 0., 0., 0., 0., 0., 0., 0., 0., 0., 0., 0.],\n",
    "         [0., 0., 0., 0., 0., 0., 0., 0., 0., 1., 0., 0., 0., 0., 0., 0., 0., 0., 0., 0., 0., 0.],\n",
    "         [0., 0., 0., 0., 0., 0., 0., 0., 0., 0., 1., 0., 0., 0., 0., 0., 0., 0., 0., 0., 0., 0.],\n",
    "         [0., 0., 0., 0., 0., 0., 0., 0., 0., 0., 0., 1., 0., 0., 0., 0., 0., 0., 0., 0., 0., 0.],\n",
    "         [0., 0., 0., 0., 0., 0., 0., 0., 0., 0., 0., 0., 1., 0., 0., 0., 0., 0., 0., 0., 0., 0.],\n",
    "         [0., 0., 0., 0., 0., 0., 0., 0., 0., 0., 0., 0., 0., 1., 0., 0., 0., 0., 0., 0., 0., 0.],\n",
    "         [0., 0., 0., 0., 0., 0., 0., 0., 0., 0., 0., 0., 0., 0., 1., 0., 0., 0., 0., 0., 0., 0.],\n",
    "         [0., 0., 0., 0., 0., 0., 0., 0., 0., 0., 0., 0., 0., 0., 0., 1., 0., 0., 0., 0., 0., 0.],\n",
    "         [0., 0., 0., 0., 0., 0., 0., 0., 0., 0., 0., 0., 0., 0., 0., 0., 1., 0., 0., 0., 0., 0.],\n",
    "         [0., 0., 0., 0., 0., 0., 0., 0., 0., 0., 0., 0., 0., 0., 0., 0., 0., 1., 0., 0., 0., 0.],\n",
    "         [0., 0., 0., 0., 0., 0., 0., 0., 0., 0., 0., 0., 0., 0., 0., 0., 0., 0., 1., 0., 0., 0.],\n",
    "         [0., 0., 0., 0., 0., 0., 0., 0., 0., 0., 0., 0., 0., 0., 0., 0., 0., 0., 0., 1., 0., 0.],\n",
    "         [0., 0., 0., 0., 0., 0., 0., 0., 0., 0., 0., 0., 0., 0., 0., 0., 0., 0., 0., 0., 1., 0.],\n",
    "         [0., 0., 0., 0., 0., 0., 0., 0., 0., 0., 0., 0., 0., 0., 0., 0., 0., 0., 0., 0., 0., 1.]]\n",
    "invCovMat = np.linalg.inv(covMat)\n",
    "mvnCoef = nDim * np.log(1/np.sqrt(2.*np.pi)) + np.log(np.sqrt(np.linalg.det(invCovMat)))\n",
    "\n",
    "# I have multiplied each mean value for the distMean vector by between 1 and 10,000 to make them large enough that we\n",
    "#  end up with no negative values when generating random parameter sets. Once the parameter sets are generated, we \n",
    "#  will then multiply by distMeanMultiplier to shrink them back to size.\n",
    "distMeanMultiplier = [1., 0.1, 1., 0.1, 0.1, 0.1, 0.1, 0.1, 0.01, 0.1, 0.0001, 0.01, 0.0001, 0.001, 0.01, 0.1, 0.1, 0.001, 0.1, 0.001, 0.01, 0.01]\n",
    "\n",
    "# This function describes the natural logarithm of the probability density function (PDF) of the probability \n",
    "#  distribution we want to use. In this case, we are using a multivariate normal distribution (MVN)\n",
    "def getLogFunc(point):\n",
    "    normedPoint = distMean - point\n",
    "    return mvnCoef - 0.5*(np.dot(normedPoint, np.matmul(invCovMat, normedPoint)))\n",
    "    "
   ]
  },
  {
   "cell_type": "code",
   "execution_count": null,
   "metadata": {},
   "outputs": [],
   "source": [
    "# Create a ParaDRAM object for random variable generation\n",
    "pmpd = pm.ParaDRAM()\n",
    "\n",
    "# Set the options for the Monte Carlo simulation\n",
    "pmpd.spec.outputFileName = \"./out/mvn_scaled_covariance1\"\n",
    "pmpd.spec.overwriteRequested = True\n",
    "pmpd.spec.randomSeed = 6059 # Define a specific random seed to ensure reproducibility of results\n",
    "pmpd.spec.chainSize = 150000\n"
   ]
  },
  {
   "cell_type": "code",
   "execution_count": null,
   "metadata": {
    "scrolled": true
   },
   "outputs": [],
   "source": [
    "pmpd.runSampler(ndim = nDim, getLogFunc = getLogFunc)"
   ]
  },
  {
   "cell_type": "code",
   "execution_count": null,
   "metadata": {},
   "outputs": [],
   "source": [
    "# Load the randomly generated parameters into a numpy array (the first row of the file is the headers, so we skip that\n",
    "#  when loading with numpy.loadtxt)\n",
    "MCOutput = np.loadtxt('./out/mvn_scaled_covariance10_process_1_sample.txt', delimiter=',', skiprows=1)"
   ]
  },
  {
   "cell_type": "code",
   "execution_count": null,
   "metadata": {},
   "outputs": [],
   "source": [
    "# Here we check for any parameter sets with negative parameter values included (we don't care about the first entry\n",
    "#  in the row, as that is the objective function value, not a parameter).\n",
    "#\n",
    "# We create an empty array called randomParams that is the size MCOutput with one less column.\n",
    "randomParams = np.empty((len(MCOutput), len(MCOutput[0,:]) - 1))\n",
    "numberNonNegatives = 0\n",
    "numberNegatives = 0\n",
    "mask = np.ones(len(MCOutput), dtype = bool)\n",
    "for index, entry in enumerate(MCOutput):\n",
    "    if not(np.any(entry[1:] < 0)):\n",
    "        numberNonNegatives += 1\n",
    "        \n",
    "    if np.any(entry[1:] < 0):\n",
    "        numberNegatives += 1\n",
    "        mask[index] = False\n",
    "    \n",
    "    # Fill the randomParams array with the Monte Carlo output except for the objective function value in the first\n",
    "    #  column (we also multiply each row by distMeanMultiplier to get back to the correct parameter scale).\n",
    "    randomParams[index] = MCOutput[index, 1:]*distMeanMultiplier\n",
    "        \n",
    "print(\"Number of parameter sets without any negative entries: {0}\".format(numberNonNegatives))\n",
    "print(\"Number of parameter sets with negative entries: {0}\".format(numberNegatives))"
   ]
  },
  {
   "cell_type": "code",
   "execution_count": null,
   "metadata": {},
   "outputs": [],
   "source": [
    "# Now that we have several thousand randomly generated parameter sets, let's start checking cost function values and\n",
    "#  find the best set among them.\n",
    "#\n",
    "# First, we create an array that will have a column for index number and one for cost function value, so we can quickly\n",
    "#  determine which parameter set has the best results.\n",
    "costValuesMC = np.empty((len(randomParams), 2))\n",
    "\n",
    "for index, entry in enumerate(randomParams):\n",
    "    costValuesMC[index, 0] = index\n",
    "    costValuesMC[index, 1] = cost_fun(entry)\n",
    "    print(costValuesMC[index])"
   ]
  },
  {
   "cell_type": "code",
   "execution_count": null,
   "metadata": {},
   "outputs": [],
   "source": [
    "sortedCostValuesMC = costValuesMC[costValuesMC[:,1].argsort()]\n",
    "print(\"The best cost value from the {0} parameter sets generated was given by set #{1} and had cost: {2}\".format(len(costValuesMC), sortedCostValuesMC[0,0], sortedCostValuesMC[0,1]))\n"
   ]
  },
  {
   "cell_type": "code",
   "execution_count": null,
   "metadata": {},
   "outputs": [],
   "source": [
    "# Run the best parameter set and plot\n",
    "y0 = [randomParams[int(sortedCostValuesMC[0,0]), 0], nelson.ACTH[0,1], nelson.cortisol[0,1], randomParams[int(sortedCostValuesMC[0,0]), 1]]\n",
    "simData = model(randomParams[int(sortedCostValuesMC[0,0]), 2:], y0)\n",
    "\n",
    "fig, (ax1, ax2, ax3, ax4) = plt.subplots(nrows = 4, figsize = (15,15))\n",
    "ax1.plot(simData[:,0], simData[:,1], label = \"Simulated CRH\")\n",
    "ax1.legend(loc = \"upper left\", shadow = True, fancybox = True)\n",
    "ax1.set(xlabel = \"Time (h)\", ylabel = \"CRH (micrograms/dL)\", title = \"CRH Concentration\")\n",
    "\n",
    "ax2.plot(simData[:,0], simData[:,2], label = \"Simulated ACTH\")\n",
    "ax2.plot(nelson.ACTH[:,0], nelson.ACTH[:,1], label = \"Nelson ACTH Data - Patient Mean\")\n",
    "ax2.legend(loc = \"upper right\", shadow = True, fancybox = True)\n",
    "ax2.set(xlabel = \"Time (h)\", ylabel = \"ACTH (pg/mL)\", title = \"ACTH Concentration\")\n",
    "\n",
    "ax3.plot(simData[:,0], simData[:,3], label = \"Simulated Cortisol\")\n",
    "ax3.plot(nelson.cortisol[:,0], nelson.cortisol[:,1], label = \"Nelson Cortisol Data - Patient Mean\")\n",
    "ax3.legend(loc = \"lower right\", shadow = True, fancybox = True)\n",
    "ax3.set(xlabel = \"Time (h)\", ylabel = \"Cortisol (micrograms/dL)\", title = \"Cortisol Concentration\")\n",
    "\n",
    "ax4.plot(simData[:,0], simData[:,4], label = \"Simulated GR\")\n",
    "ax4.legend(loc = \"upper left\", shadow = True, fancybox = True)\n",
    "ax4.set(xlabel = \"Time (h)\", ylabel = \"GR (micrograms)\", title = \"GR Concentration\")\n",
    "\n",
    "plt.savefig(\"sriramModel-nelson-patientMean-IC-opt-MC-covariance_2-normalizedCost.png\", dpi = 300)"
   ]
  },
  {
   "cell_type": "markdown",
   "metadata": {},
   "source": [
    "[Back to Top](#top)"
   ]
  },
  {
   "cell_type": "markdown",
   "metadata": {},
   "source": [
    "# Dependencies <a name=\"dependencies\"></a>"
   ]
  },
  {
   "cell_type": "code",
   "execution_count": null,
   "metadata": {},
   "outputs": [],
   "source": [
    "%load_ext watermark"
   ]
  },
  {
   "cell_type": "code",
   "execution_count": null,
   "metadata": {},
   "outputs": [],
   "source": [
    "%watermark --iversions"
   ]
  }
 ],
 "metadata": {
  "kernelspec": {
   "display_name": "Python 3",
   "language": "python",
   "name": "python3"
  },
  "language_info": {
   "codemirror_mode": {
    "name": "ipython",
    "version": 3
   },
   "file_extension": ".py",
   "mimetype": "text/x-python",
   "name": "python",
   "nbconvert_exporter": "python",
   "pygments_lexer": "ipython3",
   "version": "3.7.7"
  }
 },
 "nbformat": 4,
 "nbformat_minor": 2
}
