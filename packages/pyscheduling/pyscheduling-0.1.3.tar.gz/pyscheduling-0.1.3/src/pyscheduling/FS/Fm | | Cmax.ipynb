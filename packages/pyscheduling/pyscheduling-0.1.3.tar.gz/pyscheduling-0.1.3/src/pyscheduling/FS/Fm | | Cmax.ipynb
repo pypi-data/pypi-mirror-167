{
 "cells": [
  {
   "cell_type": "code",
   "execution_count": 13,
   "id": "87b799f4",
   "metadata": {
    "ExecuteTime": {
     "end_time": "2022-09-09T16:30:18.431396Z",
     "start_time": "2022-09-09T16:30:18.428417Z"
    }
   },
   "outputs": [],
   "source": [
    "import pyscheduling_cc.FS.FmCmax as fm_cmax\n",
    "from pyscheduling_cc.FS.FlowShop import Job, FlowShopSolution\n",
    "\n",
    "from docplex.cp.model import CpoModel\n",
    "from docplex.cp.solver.cpo_callback import CpoCallback\n",
    "from docplex.cp.expression import INTERVAL_MAX"
   ]
  },
  {
   "cell_type": "code",
   "execution_count": 34,
   "id": "add99774",
   "metadata": {
    "ExecuteTime": {
     "end_time": "2022-09-09T16:33:20.065463Z",
     "start_time": "2022-09-09T16:33:20.061286Z"
    }
   },
   "outputs": [],
   "source": [
    "def csp_transform_solution(msol, E_i, instance ):\n",
    "\n",
    "    sol = FlowShopSolution(instance)\n",
    "    for k in range(instance.m):\n",
    "        k_tasks = []\n",
    "        for i in range(instance.n):\n",
    "            start = msol[E_i[i][k]][0]\n",
    "            end = msol[E_i[i][k]][1]\n",
    "            k_tasks.append(Job(i,start,end))\n",
    "\n",
    "            k_tasks = sorted(k_tasks, key= lambda x: x[1])\n",
    "            sol.machines[k].job_schedule = [job[0] for job in k_tasks]\n",
    "    \n",
    "    sol.job_schedule = sol.machines[0].job_schedule\n",
    "    \n",
    "    return sol"
   ]
  },
  {
   "cell_type": "code",
   "execution_count": 45,
   "id": "81d32d93",
   "metadata": {
    "ExecuteTime": {
     "end_time": "2022-09-09T17:34:20.866412Z",
     "start_time": "2022-09-09T17:34:20.841945Z"
    }
   },
   "outputs": [],
   "source": [
    "instance = fm_cmax.FmCmax_Instance.generate_random(10,3)\n",
    "E = range(instance.n)\n",
    "M = range(instance.m)\n",
    "\n",
    "model = CpoModel(\"FS_Model\")\n",
    "\n",
    "E_i = [[] for i in E]\n",
    "M_k = [[] for k in M]\n",
    "types_k = [ list(range(instance.n)) for k in M ]\n",
    "for i in E:\n",
    "    for k in M:\n",
    "        start_period = (instance.R[i], INTERVAL_MAX) if hasattr(instance, 'R') else (0, INTERVAL_MAX)\n",
    "        job_i = model.interval_var( start = start_period,\n",
    "                                    size = instance.P[i][k], optional= False, name=f'E[{i},{k}]')\n",
    "        E_i[i].append(job_i)\n",
    "        M_k[k].append(job_i)\n",
    "\n",
    "# No overlap inside machines\n",
    "seq_array = []\n",
    "for k in M:\n",
    "    seq_k = model.sequence_var(M_k[k], types_k[k], name=f\"Seq_{k}\")\n",
    "    seq_array.append(seq_k)\n",
    "    \n",
    "    model.add( model.no_overlap(seq_k) )\n",
    "\n",
    "# Same sequence constraint\n",
    "for k in range(1, instance.m):\n",
    "    model.add( model.same_sequence(seq_array[k - 1], seq_array[k]) )\n",
    "\n",
    "# Precedence constraint between machines for each job\n",
    "for i in E:\n",
    "    for k in range(1, instance.m):\n",
    "        model.add( model.end_before_start(E_i[i][k - 1], E_i[i][k]) )\n",
    "\n",
    "# Add objective\n",
    "model.add( model.minimize( model.max(model.end_of(job_i) for i in E for job_i in E_i[i]) ) )"
   ]
  },
  {
   "cell_type": "code",
   "execution_count": 46,
   "id": "9efc0ac3",
   "metadata": {
    "ExecuteTime": {
     "end_time": "2022-09-09T17:34:21.332941Z",
     "start_time": "2022-09-09T17:34:21.253811Z"
    }
   },
   "outputs": [
    {
     "name": "stdout",
     "output_type": "stream",
     "text": [
      " ! --------------------------------------------------- CP Optimizer 20.1.0.0 --\n",
      " ! Minimization problem - 33 variables, 25 constraints\n",
      " ! TimeLimit            = 30\n",
      " ! Workers              = 1\n",
      " ! LogPeriod            = 1000000\n",
      " ! RelativeOptimalityTolerance = 0\n",
      " ! Initial process time : 0.00s (0.00s extraction + 0.00s propagation)\n",
      " !  . Log search space  : 147.2 (before), 147.2 (after)\n",
      " !  . Memory usage      : 476.9 kB (before), 476.9 kB (after)\n",
      " ! Using sequential search.\n",
      " ! ----------------------------------------------------------------------------\n",
      " !          Best Branches  Non-fixed            Branch decision\n",
      "                        0         33                 -\n",
      " + New bound is 79\n",
      " *           300       61  0.00s               (gap is 73.67%)\n",
      " *           284      121  0.00s               (gap is 72.18%)\n",
      " *           281      181  0.00s               (gap is 71.89%)\n",
      " *           274      241  0.00s               (gap is 71.17%)\n",
      " *           267      301  0.00s               (gap is 70.41%)\n",
      " *           262      363  0.00s               (gap is 69.85%)\n",
      " *           259      423  0.01s               (gap is 69.50%)\n",
      " *           253      454  0.01s               (gap is 68.77%)\n",
      " *           250      487  0.01s               (gap is 68.40%)\n",
      " *           248      518  0.01s               (gap is 68.15%)\n",
      "             248      519          1        F        -\n",
      " + New bound is 248 (gap is 0.00%)\n",
      " ! ----------------------------------------------------------------------------\n",
      " ! Search completed, 10 solutions found.\n",
      " ! Best objective         : 248 (optimal - effective tol. is 0)\n",
      " ! Best bound             : 248\n",
      " ! ----------------------------------------------------------------------------\n",
      " ! Number of branches     : 520\n",
      " ! Number of fails        : 15\n",
      " ! Total memory usage     : 959.1 kB (906.7 kB CP Optimizer + 52.5 kB Concert)\n",
      " ! Time spent in solve    : 0.01s (0.01s engine + 0.00s extraction)\n",
      " ! Search speed (br. / s) : 52000.0\n",
      " ! ----------------------------------------------------------------------------\n"
     ]
    }
   ],
   "source": [
    "msol = model.solve(LogVerbosity=\"Normal\", Workers=1, TimeLimit=30, LogPeriod=1000000,\n",
    "                   log_output=True, trace_log=True, add_log_to_solution=True, RelativeOptimalityTolerance=0)"
   ]
  },
  {
   "cell_type": "code",
   "execution_count": 47,
   "id": "b66fef83",
   "metadata": {
    "ExecuteTime": {
     "end_time": "2022-09-09T17:34:23.085007Z",
     "start_time": "2022-09-09T17:34:23.077062Z"
    }
   },
   "outputs": [],
   "source": [
    "sol = csp_transform_solution(msol, E_i, instance )\n",
    "sol.cmax()"
   ]
  },
  {
   "cell_type": "code",
   "execution_count": 48,
   "id": "1a84cadd",
   "metadata": {
    "ExecuteTime": {
     "end_time": "2022-09-09T17:34:23.787424Z",
     "start_time": "2022-09-09T17:34:23.778356Z"
    }
   },
   "outputs": [
    {
     "name": "stdout",
     "output_type": "stream",
     "text": [
      "Objective : 234\n",
      "Jobs sequence : 3\t4\t7\t0\t9\t6\t8\t1\t2\t5\n",
      "Machine_ID | Job_schedule (job_id , start_time , completion_time) | Completion_time\n",
      "(3, 0, 14) : (4, 14, 46) : (7, 46, 56) : (0, 56, 87) : (9, 87, 109) : (6, 109, 128) : (8, 128, 140) : (1, 140, 173) : (2, 173, 184) : (5, 184, 202) | 202\n",
      "(3, 14, 29) : (4, 46, 60) : (7, 60, 90) : (0, 90, 111) : (9, 111, 134) : (6, 134, 155) : (8, 155, 178) : (1, 178, 189) : (2, 189, 211) : (5, 211, 237) | 237\n",
      "(3, 14, 45) : (4, 46, 79) : (7, 79, 98) : (0, 98, 123) : (9, 123, 145) : (6, 145, 171) : (8, 171, 185) : (1, 185, 206) : (2, 206, 226) : (5, 226, 234) | 234\n"
     ]
    }
   ],
   "source": [
    "print(sol)"
   ]
  },
  {
   "cell_type": "code",
   "execution_count": 56,
   "id": "54c3b299",
   "metadata": {
    "ExecuteTime": {
     "end_time": "2022-09-09T18:58:15.059609Z",
     "start_time": "2022-09-09T18:58:15.055575Z"
    }
   },
   "outputs": [
    {
     "name": "stdout",
     "output_type": "stream",
     "text": [
      "(3, IntervalVarValue(start=29, end=60, size=31))\n",
      "(4, IntervalVarValue(start=60, end=93, size=33))\n",
      "(7, IntervalVarValue(start=93, end=112, size=19))\n",
      "(0, IntervalVarValue(start=112, end=137, size=25))\n",
      "(9, IntervalVarValue(start=137, end=159, size=22))\n",
      "(6, IntervalVarValue(start=159, end=185, size=26))\n",
      "(8, IntervalVarValue(start=185, end=199, size=14))\n",
      "(1, IntervalVarValue(start=199, end=220, size=21))\n",
      "(2, IntervalVarValue(start=220, end=240, size=20))\n",
      "(5, IntervalVarValue(start=240, end=248, size=8))\n"
     ]
    }
   ],
   "source": [
    "machine = 2\n",
    "list_events = sorted([(i, msol[M_k[machine][i]]) for i in E], key = lambda x: x[1][0])\n",
    "print(\"\\n\".join(map(str,list_events)))"
   ]
  },
  {
   "cell_type": "code",
   "execution_count": 57,
   "id": "a606be41",
   "metadata": {
    "ExecuteTime": {
     "end_time": "2022-09-09T19:00:05.845183Z",
     "start_time": "2022-09-09T19:00:05.837980Z"
    }
   },
   "outputs": [],
   "source": [
    "instance.to_txt(\"fs_instance.txt\")"
   ]
  },
  {
   "cell_type": "code",
   "execution_count": 58,
   "id": "cbf39013",
   "metadata": {
    "ExecuteTime": {
     "end_time": "2022-09-09T19:00:16.285523Z",
     "start_time": "2022-09-09T19:00:16.282365Z"
    }
   },
   "outputs": [],
   "source": [
    "sol.to_txt(\"fs_solution.txt\")"
   ]
  },
  {
   "cell_type": "code",
   "execution_count": null,
   "id": "2752b981",
   "metadata": {},
   "outputs": [],
   "source": []
  }
 ],
 "metadata": {
  "kernelspec": {
   "display_name": "Python 3 (ipykernel)",
   "language": "python",
   "name": "python3"
  },
  "language_info": {
   "codemirror_mode": {
    "name": "ipython",
    "version": 3
   },
   "file_extension": ".py",
   "mimetype": "text/x-python",
   "name": "python",
   "nbconvert_exporter": "python",
   "pygments_lexer": "ipython3",
   "version": "3.9.12"
  }
 },
 "nbformat": 4,
 "nbformat_minor": 5
}
