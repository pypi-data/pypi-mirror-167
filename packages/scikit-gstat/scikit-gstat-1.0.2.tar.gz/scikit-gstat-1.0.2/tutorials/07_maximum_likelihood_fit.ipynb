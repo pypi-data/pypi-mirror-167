{
 "cells": [
  {
   "cell_type": "markdown",
   "id": "504733db",
   "metadata": {},
   "source": [
    "# 7. Maximum Likelihood fit\n",
    "\n"
   ]
  },
  {
   "cell_type": "code",
   "execution_count": 1,
   "id": "29d9b0a1",
   "metadata": {},
   "outputs": [],
   "source": [
    "import skgstat as skg\n",
    "from skgstat.util.likelihood import get_likelihood\n",
    "import numpy as np\n",
    "import matplotlib.pyplot as plt\n",
    "from scipy.optimize import minimize\n",
    "import warnings\n",
    "from time import time\n",
    "import matplotlib.pyplot as plt\n",
    "warnings.filterwarnings('ignore')"
   ]
  },
  {
   "cell_type": "markdown",
   "id": "78036f64",
   "metadata": {},
   "source": [
    "We use the pancake dataset, sampled at 300 random locations to produce a quite dense sample."
   ]
  },
  {
   "cell_type": "code",
   "execution_count": 2,
   "id": "b76b1613",
   "metadata": {},
   "outputs": [],
   "source": [
    "# use the same dataset as used in GMD paper\n",
    "c, v = skg.data.pancake(N=300, seed=42).get('sample')"
   ]
  },
  {
   "cell_type": "markdown",
   "id": "e670919f",
   "metadata": {},
   "source": [
    "First of, the variogram is calculated. We use Scott's rule to determine the number of lag classes, explicitly set Trust-Region Reflective as fitting method (although its default) and limit the distance matrix to 70% of the maximum separating distance.\n",
    "Additionally, we capture the processing time for the whole variogram estimation. Note, that this also includes the calculation of the distance matrix, which is a mututal step."
   ]
  },
  {
   "cell_type": "code",
   "execution_count": 3,
   "id": "863f8573",
   "metadata": {},
   "outputs": [
    {
     "name": "stdout",
     "output_type": "stream",
     "text": [
      "Processing time: 727 ms\n",
      "spherical Variogram\n",
      "-------------------\n",
      "Estimator:         matheron\n",
      "        \r",
      "Effective Range:   326.72\n",
      "        \r",
      "Sill:              1584.49\n",
      "        \r",
      "Nugget:            0.00\n",
      "        \n"
     ]
    },
    {
     "data": {
      "image/png": "[encoded data removed]",
      "text/plain": [
       "<Figure size 576x360 with 2 Axes>"
      ]
     },
     "metadata": {
      "needs_background": "light"
     },
     "output_type": "display_data"
    }
   ],
   "source": [
    "t1 = time()\n",
    "V = skg.Variogram(c,v, bin_func='scott', maxlag=0.7, fit_func='trf')\n",
    "t2 = time() # get time for full analysis, including fit\n",
    "print(f\"Processing time: {round((t2 - t1) * 1000)} ms\")\n",
    "print(V)\n",
    "fig = V.plot()"
   ]
  },
  {
   "cell_type": "markdown",
   "id": "34ef3aa2",
   "metadata": {},
   "source": [
    "## Maximum likelihood using SciKit-GStat\n",
    "\n",
    "Since version ``0.6.12`` SciKit-GStat implements an utility function factory which takes a Variogram instance and builds up a (negative) maximum likelihood function for the associated sample, distance matrix and model type. The used function is defined in eq. 14 from Lark (2000). Eq. 16 from same publication was adapted to all available theoretical models available in SciKit-GStat, with the exception of the harmonized model, which does not require a fitting.\n",
    "\n",
    "First step to perform the fitting is to make initial guesses for the parameters. Here, we take the mean separating distance for the effective range, the sample variance for the sill and 10% of the sample variance for the nugget. To improve performance and runtime, we also define a boundary to restrict the parameter space. "
   ]
  },
  {
   "cell_type": "code",
   "execution_count": 4,
   "id": "c66304f0",
   "metadata": {},
   "outputs": [
    {
     "name": "stdout",
     "output_type": "stream",
     "text": [
      "Mean sep. distance:  253.5    sample variance: 1298.9\n",
      "initial guess:  [ 253.5 1298.9  129.9]\n",
      "bounds:         [[0, 453.28247263709636], [0, 3896.6137], [0, 3766.7265766666665]]\n"
     ]
    }
   ],
   "source": [
    "# base initial guess on separating distance and sample variance\n",
    "sep_mean = V.distance.mean()\n",
    "sam_var = V.values.var()\n",
    "print(f\"Mean sep. distance:  {sep_mean.round(1)}    sample variance: {sam_var.round(1)}\")\n",
    "\n",
    "# create initial guess\n",
    "#    mean dist.  variance    5% of variance\n",
    "p0 = np.array([sep_mean, sam_var, 0.1 * sam_var])\n",
    "print('initial guess: ', p0.round(1))\n",
    "\n",
    "# create the bounds to restrict optimization\n",
    "bounds = [[0, V.bins[-1]], [0, 3*sam_var], [0, 2.9*sam_var]]\n",
    "print('bounds:        ', bounds)\n"
   ]
  },
  {
   "cell_type": "markdown",
   "id": "092ad592",
   "metadata": {},
   "source": [
    "Next step is to pass the Variogram instance to the function factory. We find optimal parameters by minimizing the returned negative log-likelihood function. Please refer to SciPy's minimize function to learn about attributes. The returned function from the utility suite is built with SciPy in mind, as the function signature complies to SciPy's interface and, thus can just be passed to the minimize function.\n",
    "Here, we pass the initial guess, the bounds and set the solver method to SLSQP, a suitable solver for bounded optimization."
   ]
  },
  {
   "cell_type": "code",
   "execution_count": 5,
   "id": "e506da0d",
   "metadata": {},
   "outputs": [
    {
     "name": "stdout",
     "output_type": "stream",
     "text": [
      "Processing time 3.49 seconds\n"
     ]
    }
   ],
   "source": [
    "# load the likelihood function for this variogram\n",
    "likelihood = get_likelihood(V)\n",
    "\n",
    "# minimize the likelihood function \n",
    "t3 = time()\n",
    "res = minimize(likelihood, p0, bounds=bounds, method='SLSQP')\n",
    "t4 = time()\n",
    "print(f\"Processing time {np.round(t4 - t3, 2)} seconds\")"
   ]
  },
  {
   "cell_type": "code",
   "execution_count": 6,
   "id": "c47dc384",
   "metadata": {},
   "outputs": [
    {
     "name": "stdout",
     "output_type": "stream",
     "text": [
      "initial guess:      [ 253.5 1298.9  129.9]\n",
      "optimal parameters: [ 184.2 1311.9    7.2]\n"
     ]
    }
   ],
   "source": [
    "print('initial guess:     ', p0.round(1))\n",
    "print('optimal parameters:', res.x.round(1))"
   ]
  },
  {
   "cell_type": "markdown",
   "id": "81bc78d2",
   "metadata": {},
   "source": [
    "Apply the optimized parameters. For comparison, the three method-of-moment methods from SciKit-GStat are applied as well. Note that the used sample is quite dense. Thus we do not expect a different between the MoM based procedures. They should all find the same paramters."
   ]
  },
  {
   "cell_type": "code",
   "execution_count": 7,
   "id": "07961538",
   "metadata": {},
   "outputs": [
    {
     "name": "stdout",
     "output_type": "stream",
     "text": [
      "Trf and Levenberg-Marquardt identical:  True\n",
      "Trf and parameter ML identical:         True\n"
     ]
    }
   ],
   "source": [
    "# use 100 steps\n",
    "x = np.linspace(0, V.bins[-1], 100)\n",
    "\n",
    "# apply the maximum likelihood fit parameters\n",
    "y_ml = V.model(x, *res.x)\n",
    "\n",
    "# apply the trf fit\n",
    "y_trf = V.fitted_model(x)\n",
    "\n",
    "# apply Levelberg marquard\n",
    "V.fit_method = 'lm'\n",
    "y_lm = V.fitted_model(x)\n",
    "\n",
    "# apply parameter ml\n",
    "V.fit_method = 'ml'\n",
    "y_pml = V.fitted_model(x)\n",
    "\n",
    "# check if the method-of-moment fits are different\n",
    "print('Trf and Levenberg-Marquardt identical: ', all(y_lm - y_trf < 0.1))\n",
    "print('Trf and parameter ML identical:        ', all(y_pml - y_trf < 0.1))"
   ]
  },
  {
   "cell_type": "markdown",
   "id": "37ae0416",
   "metadata": {},
   "source": [
    "Make the result plot"
   ]
  },
  {
   "cell_type": "code",
   "execution_count": 8,
   "id": "75a80690",
   "metadata": {},
   "outputs": [
    {
     "data": {
      "text/plain": [
       "<matplotlib.legend.Legend at 0x1d1b0ab8430>"
      ]
     },
     "execution_count": 8,
     "metadata": {},
     "output_type": "execute_result"
    },
    {
     "data": {
      "image/png": "[encoded data removed]",
      "text/plain": [
       "<Figure size 432x288 with 1 Axes>"
      ]
     },
     "metadata": {
      "needs_background": "light"
     },
     "output_type": "display_data"
    }
   ],
   "source": [
    "plt.plot(V.bins, V.experimental, '.b', label='experimental')\n",
    "plt.plot(x, y_ml, '-g', label='ML fit (Lark, 2000)')\n",
    "plt.plot(x, y_trf, '-b', label='SciKit-GStat TRF')\n",
    "plt.legend(loc='lower right')\n",
    "#plt.gcf().savefig('compare.pdf', dpi=300)"
   ]
  },
  {
   "cell_type": "markdown",
   "id": "180d5f5a",
   "metadata": {},
   "source": [
    "## Build from scratch\n",
    "\n",
    "SciKit-GStat's utility suite does only implement the maximum likelihood approach as published by Lark (2000). There are no settings to adjust the returned function, nor use other implementations. If you need to use another approach, the idea behind the implementation is demonstrated below for the spherical variogram model. This solution is only build on SciPy and does not need SciKit-GStat, in case the distance matrix is build externally."
   ]
  },
  {
   "cell_type": "code",
   "execution_count": 9,
   "id": "46a0fa26",
   "metadata": {},
   "outputs": [],
   "source": [
    "from scipy.spatial.distance import squareform\n",
    "from scipy.linalg import inv, det\n",
    "\n",
    "# define the spherical model only dependent on the range\n",
    "def f(h, a):\n",
    "    if h >= a:\n",
    "        return 1.\n",
    "    elif h == 0:\n",
    "        return 0.\n",
    "    return (3*h) / (2*a) - 0.5 * (h / a)**3\n",
    "\n",
    "# create the autocovariance matrix \n",
    "def get_A(r, s, b, dists):\n",
    "    a = np.array([f(d, r) for d in dists])\n",
    "    A = squareform((s / (s + b)) * (1 - a))\n",
    "    np.fill_diagonal(A, 1)\n",
    "\n",
    "    return A\n",
    "\n",
    "# likelihood function\n",
    "def like(r, s, b, z, dists):\n",
    "    A = get_A(r, s, b, dists)\n",
    "    n = len(A)\n",
    "    A_inv = inv(A)\n",
    "    ones = np.ones((n, 1))\n",
    "    z = z.reshape(n, -1)\n",
    "    m = inv(ones.T @ A_inv @ ones) @ (ones.T @ A_inv @ z)\n",
    "    b = np.log((z - m).T @ A_inv @ (z - m))\n",
    "    d = np.log(det(A))\n",
    "    if d == -np.inf:\n",
    "        print('invalid det(A)')\n",
    "        return np.inf\n",
    "    loglike = (n / 2)*np.log(2*np.pi) + (n / 2) - (n / 2)* np.log(n) + 0.5* d + (n / 2) * b\n",
    "    return loglike.flatten()[0]"
   ]
  },
  {
   "cell_type": "code",
   "execution_count": 10,
   "id": "2769dd5c",
   "metadata": {},
   "outputs": [
    {
     "name": "stdout",
     "output_type": "stream",
     "text": [
      "Processing time 2.87 seconds\n"
     ]
    }
   ],
   "source": [
    "from scipy.optimize import minimize\n",
    "from scipy.spatial.distance import pdist\n",
    "\n",
    "# c and v are coordinate and values array from the data source\n",
    "z = np.array(v)\n",
    "\n",
    "# in case you use 2D coordinates, without caching and euclidean metric, skgstat is using pdist under the hood\n",
    "dists = pdist(c)\n",
    "\n",
    "fun = lambda x, *args: like(x[0], x[1], x[2], z=z, dists=dists)\n",
    "t3 = time()\n",
    "res = minimize(fun, p0, bounds=bounds)\n",
    "t4 = time()\n",
    "print(f\"Processing time {np.round(t4 - t3, 2)} seconds\")"
   ]
  },
  {
   "cell_type": "code",
   "execution_count": 11,
   "id": "c8b98418",
   "metadata": {},
   "outputs": [
    {
     "name": "stdout",
     "output_type": "stream",
     "text": [
      "initial guess:      [ 253.5 1298.9  129.9]\n",
      "optimal parameters: [ 184.2 1312.9    7.2]\n"
     ]
    }
   ],
   "source": [
    "print('initial guess:     ', p0.round(1))\n",
    "print('optimal parameters:', res.x.round(1))"
   ]
  },
  {
   "cell_type": "code",
   "execution_count": 12,
   "id": "17ca1c00",
   "metadata": {},
   "outputs": [
    {
     "data": {
      "image/png": "[encoded data removed]",
      "text/plain": [
       "<Figure size 432x288 with 1 Axes>"
      ]
     },
     "metadata": {
      "needs_background": "light"
     },
     "output_type": "display_data"
    }
   ],
   "source": [
    "import matplotlib.pyplot as plt\n",
    "mod = lambda h: f(h, res.x[0]) * res.x[1] + res.x[2]\n",
    "\n",
    "x = np.linspace(0, 450, 100)\n",
    "y = list(map(mod, x))\n",
    "y2 = V.fitted_model(x)\n",
    "\n",
    "plt.plot(V.bins, V.experimental, '.b', label='experimental')\n",
    "plt.plot(x, y, '-g', label='ML fit (Lark, 2000)')\n",
    "plt.plot(x, y2, '-b', label='SciKit-GStat default fit')\n",
    "plt.legend(loc='lower right')\n",
    "plt.gcf().savefig('compare.pdf', dpi=300)"
   ]
  }
 ],
 "metadata": {
  "kernelspec": {
   "display_name": "Python 3 (ipykernel)",
   "language": "python",
   "name": "python3"
  },
  "language_info": {
   "codemirror_mode": {
    "name": "ipython",
    "version": 3
   },
   "file_extension": ".py",
   "mimetype": "text/x-python",
   "name": "python",
   "nbconvert_exporter": "python",
   "pygments_lexer": "ipython3",
   "version": "3.9.5"
  }
 },
 "nbformat": 4,
 "nbformat_minor": 5
}
