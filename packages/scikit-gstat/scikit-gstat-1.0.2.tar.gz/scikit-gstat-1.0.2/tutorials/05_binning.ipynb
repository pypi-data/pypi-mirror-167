{
 "cells": [
  {
   "cell_type": "markdown",
   "metadata": {},
   "source": [
    "# 5 - Lag classes"
   ]
  },
  {
   "cell_type": "markdown",
   "metadata": {},
   "source": [
    "This tutorial focuses the estimation of lag classes. It is one of the most important, maybe **the** most important step for estimating variograms. Usually, lag class generation, or binning, is not really focused in geostatistical literature. The main reason is, that usually, the same method is used. A user-set amount of equidistant lag classes is formed with `0` as lower bound and `maxlag` as upper bound. Maxlag is often set to the median or 60% percentile of all pairwise separating distances. \n",
    "\n",
    "In SciKit-GStat this is also the default behavior, but only one of dozen of different implemented methods. Thus, we want to shed some light onto the other methods here. SciKit-GStat implements methods of two different kinds. The first kind are the methods, that take a fixed `N`, the number of lag classes, accessible through the `Variogram.n_lags` property. These methods are `['even', 'uniform', 'kmeans', 'ward']`. The other kind is often used in histogram estimation and will apply a (simple) rule to figure out a suitable `N` themself. Using one of these methods will overwrite the `Variogram.n_lags` property. THese methods are: `['sturges', 'scott', 'fd', 'sqrt', 'doane']`."
   ]
  },
  {
   "cell_type": "code",
   "execution_count": null,
   "metadata": {},
   "outputs": [],
   "source": [
    "import skgstat as skg\n",
    "import numpy as np\n",
    "import pandas as pd\n",
    "from imageio import imread\n",
    "import plotly.graph_objects as go\n",
    "from plotly.offline import init_notebook_mode, iplot\n",
    "from plotly.subplots import make_subplots\n",
    "\n",
    "skg.plotting.backend('plotly')\n",
    "init_notebook_mode()"
   ]
  },
  {
   "cell_type": "markdown",
   "metadata": {},
   "source": [
    "## 5.1 Sample data"
   ]
  },
  {
   "cell_type": "markdown",
   "metadata": {},
   "source": [
    "Loads a data sample and draws `n_samples` from the field. For sampling the field, random samples from a gamma distribution with a fairly high scale are drawn, to ensure there are some outliers in the samle. The values are then re-scaled to the shape of the random field and the values are extracted from it.\n",
    "You can use either of the next two cell to work either on the pancake or the Meuse dataset."
   ]
  },
  {
   "cell_type": "code",
   "execution_count": null,
   "metadata": {},
   "outputs": [],
   "source": [
    "N = 80\n",
    "pan = skg.data.pancake_field().get('sample')\n",
    "coords, vals = skg.data.pancake(N=80, seed=1312).get('sample')\n",
    "fig = make_subplots(1,2,shared_xaxes=True, shared_yaxes=True)\n",
    "fig.add_trace(\n",
    "    go.Scatter(x=coords[:,0], y=coords[:,1], mode='markers', marker=dict(color=vals,cmin=0, cmax=255), name='samples'),\n",
    "    row=1, col=1\n",
    ")\n",
    "fig.add_trace(go.Heatmap(z=pan, name='field'), row=1, col=2)\n",
    "fig.update_layout(width=900, height=450, template='plotly_white')\n",
    "iplot(fig)"
   ]
  },
  {
   "cell_type": "markdown",
   "metadata": {},
   "source": [
    "Uncomment this cell to work on the pancake:"
   ]
  },
  {
   "cell_type": "code",
   "execution_count": null,
   "metadata": {},
   "outputs": [],
   "source": [
    "coords, vals = skg.data.meuse().get('sample')\n",
    "vals = vals.flatten()\n",
    "fig = go.Figure(go.Scatter(x=coords[:,0], y=coords[:,1], mode='markers', marker=dict(color=vals), name='samples'))\n",
    "fig.update_layout(width=450, height=450, template='plotly_white')\n",
    "iplot(fig)"
   ]
  },
  {
   "cell_type": "markdown",
   "metadata": {},
   "source": [
    "## 5.2 Lag class binning - fixed `N`"
   ]
  },
  {
   "cell_type": "markdown",
   "metadata": {},
   "source": [
    "Apply different lag class binning methods and visualize their histograms. In this section, the distance matrix between all point pair combinations `(NxN)` is binned using each method. The plots visualize the histrogram of the distance matrix of the variogram, **not** the variogram lag classes themselves."
   ]
  },
  {
   "cell_type": "code",
   "execution_count": null,
   "metadata": {},
   "outputs": [],
   "source": [
    "N = 15\n",
    "\n",
    "# use a nugget\n",
    "V = skg.Variogram(coords, vals, n_lags=N, use_nugget=True)"
   ]
  },
  {
   "cell_type": "markdown",
   "metadata": {},
   "source": [
    "### 5.2.1 default `'even'` lag classes\n",
    "\n",
    "The default binning method will find `N` equidistant bins. This is the default behavior and used in almost all geostatistical publications. It should not be used without a `maxlag` (like done in the plot below)."
   ]
  },
  {
   "cell_type": "code",
   "execution_count": null,
   "metadata": {
    "scrolled": false
   },
   "outputs": [],
   "source": [
    "# apply binning\n",
    "bins, _ = skg.binning.even_width_lags(V.distance, N, None)\n",
    "\n",
    "# get the histogram\n",
    "count, _ = np.histogram(V.distance, bins=bins)\n",
    "\n",
    "fig = go.Figure(\n",
    "    go.Bar(x=bins, y=count),\n",
    "    layout=dict(template='plotly_white', title=r\"$\\texttt{'even'}~~binning$\")\n",
    ")\n",
    "iplot(fig)"
   ]
  },
  {
   "cell_type": "markdown",
   "metadata": {},
   "source": [
    "### 5.2.2 `'uniform'` lag classes\n",
    "\n",
    "The histogram of the `uniform` method will adjust the lag class widths to have the same sample size for each lag class. This can be used, when there must not be any empty lag classes on small data samples, or comparable sample sizes are desireable for the semi-variance estimator. "
   ]
  },
  {
   "cell_type": "code",
   "execution_count": null,
   "metadata": {},
   "outputs": [],
   "source": [
    "# apply binning\n",
    "bins, _ = skg.binning.uniform_count_lags(V.distance, N, None)\n",
    "\n",
    "# get the histogram\n",
    "count, _ = np.histogram(V.distance, bins=bins)\n",
    "\n",
    "fig = go.Figure(\n",
    "    go.Bar(x=bins, y=count),\n",
    "    layout=dict(template='plotly_white', title=r\"$\\texttt{'uniform'}~~binning$\")\n",
    ")\n",
    "\n",
    "iplot(fig)"
   ]
  },
  {
   "cell_type": "markdown",
   "metadata": {},
   "source": [
    "### 5.2.3 `'kmeans'` lag classes\n",
    "\n",
    "The distance matrix is clustered by a K-Means algorithm. The centroids, are taken as a good guess for lag class centers. Each lag class is then formed by taking half the distance to each sorted neighboring centroid as a bound. \n",
    "This will most likely result in non-equidistant lag classes.\n",
    "\n",
    "One important note about K-Means clustering is, that it is not a deterministic method, as the starting points for clustering are taken randomly. Thus, the decision was made to seed the random start values. Therefore, the K-Means implementation in SciKit-GStat is deterministic and will always return the same lag classes for the same distance matrix."
   ]
  },
  {
   "cell_type": "code",
   "execution_count": null,
   "metadata": {},
   "outputs": [],
   "source": [
    "# apply binning\n",
    "bins, _ = skg.binning.kmeans(V.distance, N, None)\n",
    "\n",
    "# get the histogram\n",
    "count, _ = np.histogram(V.distance, bins=bins)\n",
    "\n",
    "fig = go.Figure(\n",
    "    go.Bar(x=bins, y=count),\n",
    "    layout=dict(template='plotly_white', title=r\"$\\texttt{'K-Means'}~~binning$\")\n",
    ")\n",
    "\n",
    "iplot(fig)"
   ]
  },
  {
   "cell_type": "markdown",
   "metadata": {},
   "source": [
    "### 5.2.4 `'ward'` lag classes\n",
    "\n",
    "The other clustering algorithm is a hierarchical clustering algorithm. This algorithm groups values together based on their similarity, which is expressed by Ward's criterion. \n",
    "Agglomerative algorithms work iteratively and deterministic, as at first iteration each value forms a cluster on its own. Each cluster is then merged with the most similar other cluster, one at a time, until all clusters are merged, or the clustering is interrupted. \n",
    "Here, the clustering is interrupted as soon as the specified number of lag classes is reached. The lag classes are then formed similar to the K-Means method, either by taking the cluster mean or median as center.\n",
    "\n",
    "Ward's criterion defines the one other cluster as the closest, that results in the smallest intra-cluster variance for the merged clusters. \n",
    "The main downside is the processing speed. You will see a significant difference for `'ward'` and should not use it on medium and large datasets."
   ]
  },
  {
   "cell_type": "code",
   "execution_count": null,
   "metadata": {},
   "outputs": [],
   "source": [
    "# apply binning\n",
    "bins, _ = skg.binning.ward(V.distance, N, None)\n",
    "\n",
    "# get the histogram\n",
    "count, _ = np.histogram(V.distance, bins=bins)\n",
    "\n",
    "fig = go.Figure(\n",
    "    go.Bar(x=bins, y=count),\n",
    "    layout=dict(template='plotly_white', title=r\"$\\texttt{'ward'}~~binning$\")\n",
    ")\n",
    "\n",
    "iplot(fig)"
   ]
  },
  {
   "cell_type": "markdown",
   "metadata": {},
   "source": [
    "## 5.3 Lag class binning - adjustable `N`"
   ]
  },
  {
   "cell_type": "markdown",
   "metadata": {},
   "source": [
    "### 5.3.1 `'sturges'` lag classes\n",
    "\n",
    "Sturge's rule is well known and pretty straightforward. It's the default method for histograms in R. The number of equidistant lag classes is defined like:\n",
    "\n",
    "$$ n =log_2 (x + 1) $$\n",
    "\n",
    "Sturge's rule works good for small, normal distributed datasets."
   ]
  },
  {
   "cell_type": "code",
   "execution_count": null,
   "metadata": {},
   "outputs": [],
   "source": [
    "# apply binning\n",
    "bins, n = skg.binning.auto_derived_lags(V.distance, 'sturges', None)\n",
    "\n",
    "# get the histogram\n",
    "count, _ = np.histogram(V.distance, bins=bins)\n",
    "\n",
    "fig = go.Figure(\n",
    "    go.Bar(x=bins, y=count),\n",
    "    layout=dict(template='plotly_white', title=r\"$\\texttt{'sturges'}~~binning~~%d~classes$\" % n)\n",
    ")\n",
    "\n",
    "iplot(fig)"
   ]
  },
  {
   "cell_type": "markdown",
   "metadata": {},
   "source": [
    "### 5.3.2 `'scott'` lag classes\n",
    "\n",
    "Scott's rule is another quite popular approach to estimate histograms. The rule is defined like:\n",
    "\n",
    "$$ h = \\sigma \\frac{24 * \\sqrt{\\pi}}{x}^{\\frac{1}{3}} $$\n",
    "\n",
    "Other than Sturge's rule, it will estimate the lag class width from the sample size standard deviation. Thus, it is also quite sensitive to outliers. "
   ]
  },
  {
   "cell_type": "code",
   "execution_count": null,
   "metadata": {},
   "outputs": [],
   "source": [
    "# apply binning\n",
    "bins, n = skg.binning.auto_derived_lags(V.distance, 'scott', None)\n",
    "\n",
    "# get the histogram\n",
    "count, _ = np.histogram(V.distance, bins=bins)\n",
    "\n",
    "fig = go.Figure(\n",
    "    go.Bar(x=bins, y=count),\n",
    "    layout=dict(template='plotly_white', title=r\"$\\texttt{'scott'}~~binning~~%d~classes$\" % n)\n",
    ")\n",
    "\n",
    "iplot(fig)"
   ]
  },
  {
   "cell_type": "markdown",
   "metadata": {},
   "source": [
    "### 5.3.3 `'sqrt'` lag classes\n",
    "\n",
    "The only advantage of this method is its speed. The number of lag classes is simply defined like:\n",
    "\n",
    "$$ n = \\sqrt{x} $$\n",
    "\n",
    "Thus, it's usually not really a good choice, unless you have a lot of samples."
   ]
  },
  {
   "cell_type": "code",
   "execution_count": null,
   "metadata": {},
   "outputs": [],
   "source": [
    "# apply binning\n",
    "bins, n = skg.binning.auto_derived_lags(V.distance, 'sqrt', None)\n",
    "\n",
    "# get the histogram\n",
    "count, _ = np.histogram(V.distance, bins=bins)\n",
    "\n",
    "fig = go.Figure(\n",
    "    go.Bar(x=bins, y=count),\n",
    "    layout=dict(template='plotly_white', title=r\"$\\texttt{'sqrt'}~~binning~~%d~classes$\" % n)\n",
    ")\n",
    "\n",
    "iplot(fig)"
   ]
  },
  {
   "cell_type": "markdown",
   "metadata": {},
   "source": [
    "### 5.3.4 `'fd'` lag classes\n",
    "\n",
    "The Freedman-Diaconis estimator can be used to derive the number of lag classes again from an optimal lag class width like: \n",
    "\n",
    "$$ h = 2\\frac{IQR}{x^{1/3}} $$\n",
    "\n",
    "As it is based on the interquartile range (IQR), it is very robust to outlier. That makes it a suitable method to estimate lag classes on non-normal distance matrices. On the other side it usually over-estimates the $n$ for small datasets. Thus it should only be used on medium to small datasets."
   ]
  },
  {
   "cell_type": "code",
   "execution_count": null,
   "metadata": {},
   "outputs": [],
   "source": [
    "# apply binning\n",
    "bins, n = skg.binning.auto_derived_lags(V.distance, 'fd', None)\n",
    "\n",
    "# get the histogram\n",
    "count, _ = np.histogram(V.distance, bins=bins)\n",
    "\n",
    "fig = go.Figure(\n",
    "    go.Bar(x=bins, y=count),\n",
    "    layout=dict(template='plotly_white', title=r\"$\\texttt{'fd'}~~binning~~%d~classes$\" % n)\n",
    ")\n",
    "\n",
    "iplot(fig)"
   ]
  },
  {
   "cell_type": "markdown",
   "metadata": {},
   "source": [
    "### 5.3.5 `'doane'` lag classes\n",
    "\n",
    "Doane's rule is an extension to Sturge's rule that takes the skewness of the distance matrix into account. It was found to be a very reasonable choice on most datasets where the other estimators didn't yield good results.\n",
    "\n",
    "It is defined like:\n",
    "$$\n",
    "    \\begin{split}\n",
    "        n = 1 + \\log_{2}(s) + \\log_2\\left(1 + \\frac{|g|}{k}\\right) \\\\\n",
    "            g = E\\left[\\left(\\frac{x - \\mu_g}{\\sigma}\\right)^3\\right]\\\\\n",
    "            k = \\sqrt{\\frac{6(s - 2)}{(s + 1)(s + 3)}}\n",
    "    \\end{split}\n",
    "$$"
   ]
  },
  {
   "cell_type": "code",
   "execution_count": null,
   "metadata": {},
   "outputs": [],
   "source": [
    "# apply binning\n",
    "bins, n = skg.binning.auto_derived_lags(V.distance, 'doane', None)\n",
    "\n",
    "# get the histogram\n",
    "count, _ = np.histogram(V.distance, bins=bins)\n",
    "\n",
    "fig = go.Figure(\n",
    "    go.Bar(x=bins, y=count),\n",
    "    layout=dict(template='plotly_white', title=r\"$\\texttt{'doane'}~~binning~~%d~classes$\" % n)\n",
    ")\n",
    "\n",
    "iplot(fig)"
   ]
  },
  {
   "cell_type": "markdown",
   "metadata": {},
   "source": [
    "## 5.4 Variograms"
   ]
  },
  {
   "cell_type": "markdown",
   "metadata": {},
   "source": [
    "The following section will give an overview on the influence of the chosen binning method on the resulting variogram. All parameters will be the same for all variograms, so any change is due to the lag class binning. The variogram will use a maximum lag of `200` to get rid of the very thin last bins at large distances.\n",
    "\n",
    "The `maxlag` is very close to the effective range of the variogram, thus you can only see differences in sill. But the variogram fitting is not at the focus of this tutorial. You can also change the parameter and fit a more suitable spatial model"
   ]
  },
  {
   "cell_type": "code",
   "execution_count": null,
   "metadata": {},
   "outputs": [],
   "source": [
    "# use a exponential model\n",
    "V.set_model('spherical')\n",
    "\n",
    "# set the maxlag\n",
    "V.maxlag = 'median'"
   ]
  },
  {
   "cell_type": "markdown",
   "metadata": {},
   "source": [
    "### 5.4.1 `'even'` lag classes\n",
    "\n"
   ]
  },
  {
   "cell_type": "code",
   "execution_count": null,
   "metadata": {
    "scrolled": false
   },
   "outputs": [],
   "source": [
    "# set the new binning method\n",
    "V.bin_func = 'even'\n",
    "\n",
    "# plot\n",
    "fig = V.plot(show=False)\n",
    "print(f'\"{V._bin_func_name}\" - range: {np.round(V.cof[0], 1)} sill: {np.round(V.cof[1], 1)}')\n",
    "fig.update_layout(template='plotly_white')\n",
    "iplot(fig)"
   ]
  },
  {
   "cell_type": "markdown",
   "metadata": {},
   "source": [
    "### 5.4.2 `'uniform'` lag classes\n",
    "\n"
   ]
  },
  {
   "cell_type": "code",
   "execution_count": null,
   "metadata": {},
   "outputs": [],
   "source": [
    "# set the new binning method\n",
    "V.bin_func = 'uniform'\n",
    "\n",
    "# plot\n",
    "fig = V.plot(show=False)\n",
    "print(f'\"{V._bin_func_name}\" - range: {np.round(V.cof[0], 1)} sill: {np.round(V.cof[1], 1)}')\n",
    "fig.update_layout(template='plotly_white')\n",
    "iplot(fig)"
   ]
  },
  {
   "cell_type": "markdown",
   "metadata": {},
   "source": [
    "### 5.4.3 `'kmeans'` lag classes\n",
    "\n"
   ]
  },
  {
   "cell_type": "code",
   "execution_count": null,
   "metadata": {},
   "outputs": [],
   "source": [
    "# set the new binning method\n",
    "V.bin_func = 'kmeans'\n",
    "\n",
    "# plot\n",
    "fig = V.plot(show=False)\n",
    "print(f'\"{V._bin_func_name}\" - range: {np.round(V.cof[0], 1)} sill: {np.round(V.cof[1], 1)}')\n",
    "fig.update_layout(template='plotly_white')\n",
    "iplot(fig)"
   ]
  },
  {
   "cell_type": "markdown",
   "metadata": {},
   "source": [
    "### 5.4.4 `'ward'` lag classes\n",
    "\n"
   ]
  },
  {
   "cell_type": "code",
   "execution_count": null,
   "metadata": {},
   "outputs": [],
   "source": [
    "# set the new binning method\n",
    "V.bin_func = 'ward'\n",
    "\n",
    "# plot\n",
    "fig = V.plot(show=False)\n",
    "print(f'\"{V._bin_func_name}\" - range: {np.round(V.cof[0], 1)} sill: {np.round(V.cof[1], 1)}')\n",
    "fig.update_layout(template='plotly_white')\n",
    "iplot(fig)"
   ]
  },
  {
   "cell_type": "markdown",
   "metadata": {},
   "source": [
    "### 5.4.5 `'sturges'` lag classes\n",
    "\n"
   ]
  },
  {
   "cell_type": "code",
   "execution_count": null,
   "metadata": {},
   "outputs": [],
   "source": [
    "# set the new binning method\n",
    "V.bin_func = 'sturges'\n",
    "\n",
    "# plot\n",
    "fig = V.plot(show=False)\n",
    "print(f'\"{V._bin_func_name}\" adjusted {V.n_lags} lag classes - range: {np.round(V.cof[0], 1)} sill: {np.round(V.cof[1], 1)}')\n",
    "fig.update_layout(template='plotly_white')\n",
    "iplot(fig)"
   ]
  },
  {
   "cell_type": "markdown",
   "metadata": {},
   "source": [
    "### 5.4.6 `'scott'` lag classes\n",
    "\n"
   ]
  },
  {
   "cell_type": "code",
   "execution_count": null,
   "metadata": {},
   "outputs": [],
   "source": [
    "# set the new binning method\n",
    "V.bin_func = 'scott'\n",
    "\n",
    "# plot\n",
    "fig = V.plot(show=False)\n",
    "print(f'\"{V._bin_func_name}\" adjusted {V.n_lags} lag classes - range: {np.round(V.cof[0], 1)} sill: {np.round(V.cof[1], 1)}')\n",
    "fig.update_layout(template='plotly_white')\n",
    "iplot(fig)"
   ]
  },
  {
   "cell_type": "markdown",
   "metadata": {},
   "source": [
    "### 5.4.7 `'fd'` lag classes\n",
    "\n"
   ]
  },
  {
   "cell_type": "code",
   "execution_count": null,
   "metadata": {},
   "outputs": [],
   "source": [
    "# set the new binning method\n",
    "V.bin_func = 'fd'\n",
    "\n",
    "# plot\n",
    "fig = V.plot(show=False)\n",
    "print(f'\"{V._bin_func_name}\" adjusted {V.n_lags} lag classes - range: {np.round(V.cof[0], 1)} sill: {np.round(V.cof[1], 1)}')\n",
    "fig.update_layout(template='plotly_white')\n",
    "iplot(fig)"
   ]
  },
  {
   "cell_type": "markdown",
   "metadata": {},
   "source": [
    "### 5.4.8 `'sqrt'` lag classes\n",
    "\n"
   ]
  },
  {
   "cell_type": "code",
   "execution_count": null,
   "metadata": {},
   "outputs": [],
   "source": [
    "# set the new binning method\n",
    "V.bin_func = 'sqrt'\n",
    "\n",
    "# plot\n",
    "fig = V.plot(show=False)\n",
    "print(f'\"{V._bin_func_name}\" adjusted {V.n_lags} lag classes - range: {np.round(V.cof[0], 1)} sill: {np.round(V.cof[1], 1)}')\n",
    "fig.update_layout(template='plotly_white')\n",
    "iplot(fig)"
   ]
  },
  {
   "cell_type": "markdown",
   "metadata": {},
   "source": [
    "### 5.4.9 `'doane'` lag classes\n",
    "\n"
   ]
  },
  {
   "cell_type": "code",
   "execution_count": null,
   "metadata": {},
   "outputs": [],
   "source": [
    "# set the new binning method\n",
    "V.bin_func = 'doane'\n",
    "\n",
    "# plot\n",
    "fig = V.plot(show=False)\n",
    "print(f'\"{V._bin_func_name}\" adjusted {V.n_lags} lag classes - range: {np.round(V.cof[0], 1)} sill: {np.round(V.cof[1], 1)}')\n",
    "fig.update_layout(template='plotly_white')\n",
    "iplot(fig)"
   ]
  }
 ],
 "metadata": {
  "kernelspec": {
   "display_name": "Python 3 (ipykernel)",
   "language": "python",
   "name": "python3"
  },
  "language_info": {
   "codemirror_mode": {
    "name": "ipython",
    "version": 3
   },
   "file_extension": ".py",
   "mimetype": "text/x-python",
   "name": "python",
   "nbconvert_exporter": "python",
   "pygments_lexer": "ipython3",
   "version": "3.9.5"
  }
 },
 "nbformat": 4,
 "nbformat_minor": 4
}
