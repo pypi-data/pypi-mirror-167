{
 "cells": [
  {
   "cell_type": "markdown",
   "metadata": {},
   "source": [
    "# 6 - GSTools"
   ]
  },
  {
   "cell_type": "markdown",
   "metadata": {},
   "source": [
    "With version `0.5` `scikit-gstat` offers an interface to the awesome [gstools](https://github.com/GeoStat-Framework/GSTools) library. This way, you can use a `Variogram` estimated with `scikit-gstat` in [gstools](https://github.com/GeoStat-Framework/GSTools) to perform random field generation, kriging and much, much more.\n",
    "\n",
    "For a `Variogram` instance, there are three possibilities to export into [gstools](https://github.com/GeoStat-Framework/GSTools): \n",
    "\n",
    "1. `Variogram.get_empirical(bin_center=True)` returns a pair of distance lag bins and experimental semi-variance values, like [gstools.variogram.vario_estimate](https://geostat-framework.readthedocs.io/projects/gstools/en/latest/generated/gstools.variogram.vario_estimate.html). \n",
    "2. `Variogram.to_gstools` returns a parameterized `CovModel` derived from the Variogram.\n",
    "3. `Variogram.to_gs_krige` returns a [GSTools Krige](https://geostat-framework.readthedocs.io/projects/gstools/en/latest/generated/gstools.krige.Krige.html#gstools.krige.Krige) instance based on the variogram\n"
   ]
  },
  {
   "cell_type": "markdown",
   "metadata": {},
   "source": [
    "## 6.1 `get_empirical`\n",
    "\n",
    "### 6.1.1 Reproducing the gstools example\n",
    "\n",
    "You can reproduce the [Getting Started example for variogram estimation from GSTools docs](https://geostat-framework.readthedocs.io/projects/gstools/en/latest/index.html#id3) with `scikit-gstat`, and replace the calculation of the empirical variogram with `skg.Variogram`. \n",
    "\n",
    "Note: This does only make sense if you want to use a distance metric, binning procedure or semi-variance estimator, that is not included in `gstools` or are bound to `scikit-gstat` for any other reason. `Variogram` will _always_ perform a full model fitting cycle on instantiation, which could lead to some substantial overhead here.\n",
    "This behavior might change in a future version of `scikit-gstat`."
   ]
  },
  {
   "cell_type": "code",
   "execution_count": null,
   "metadata": {},
   "outputs": [],
   "source": [
    "# import\n",
    "import skgstat as skg\n",
    "import gstools as gs\n",
    "import numpy as np\n",
    "import matplotlib.pyplot as plt\n",
    "import plotly.offline as pyo\n",
    "import warnings\n",
    "pyo.init_notebook_mode()\n",
    "warnings.filterwarnings('ignore')"
   ]
  },
  {
   "cell_type": "code",
   "execution_count": null,
   "metadata": {},
   "outputs": [],
   "source": [
    "# use the example from gstools\n",
    "# generate a synthetic field with an exponential model\n",
    "x = np.random.RandomState(19970221).rand(1000) * 100.\n",
    "y = np.random.RandomState(20011012).rand(1000) * 100.\n",
    "model = gs.Exponential(dim=2, var=2, len_scale=8)\n",
    "srf = gs.SRF(model, mean=0, seed=19970221)\n",
    "field = srf((x, y))\n",
    "\n",
    "# combine x and y for use in skgstat\n",
    "coords = np.column_stack((x, y))"
   ]
  },
  {
   "cell_type": "markdown",
   "metadata": {},
   "source": [
    "In the example, [gstools.variogram.vario_estimate](https://geostat-framework.readthedocs.io/projects/gstools/en/latest/generated/gstools.variogram.vario_estimate.html) is used to estimate the empirical variogram:\n",
    "\n",
    "```Python\n",
    "# estimate the variogram of the field\n",
    "bin_center, gamma = gs.vario_estimate((x, y), field)\n",
    "```\n",
    "\n",
    "Here, we can use `skg.Variogram`. From the shown arguments, `estimator` and `bin_func` are using the default values:"
   ]
  },
  {
   "cell_type": "code",
   "execution_count": null,
   "metadata": {},
   "outputs": [],
   "source": [
    "V = skg.Variogram(coords, field, n_lags=21, estimator='matheron', maxlag=45, bin_func='even')\n",
    "bin_center, gamma = V.get_empirical(bin_center=True) "
   ]
  },
  {
   "cell_type": "markdown",
   "metadata": {},
   "source": [
    "And finally, the exact same code from the GSTools docs can be called:"
   ]
  },
  {
   "cell_type": "code",
   "execution_count": null,
   "metadata": {},
   "outputs": [],
   "source": [
    "%matplotlib inline\n",
    "# fit the variogram with a stable model. (no nugget fitted)\n",
    "fit_model = gs.Stable(dim=2)\n",
    "fit_model.fit_variogram(bin_center, gamma, nugget=False)\n",
    "# output\n",
    "ax = fit_model.plot(x_max=max(bin_center))\n",
    "ax.scatter(bin_center, gamma)\n",
    "print(fit_model)"
   ]
  },
  {
   "cell_type": "markdown",
   "metadata": {},
   "source": [
    "### 6.1.2 `bin_center=False`\n",
    "\n",
    "It is important to understand, that `gstools` and `skgstat` are handling lag bins different. While `skgstat` uses the upper limit, `gstools` assumes the bin center. This can have implications, if a model is fitted. Consider the example below, in which only the `bin_center` setting is different."
   ]
  },
  {
   "cell_type": "code",
   "execution_count": null,
   "metadata": {},
   "outputs": [],
   "source": [
    "bin_edges, _ = V.get_empirical(bin_center=False)\n",
    "\n",
    "# fit the variogram with a stable model. (no nugget fitted)\n",
    "edge_model = gs.Stable(dim=2)\n",
    "_  = edge_model.fit_variogram(bin_edges, gamma, nugget=False)"
   ]
  },
  {
   "cell_type": "code",
   "execution_count": null,
   "metadata": {},
   "outputs": [],
   "source": [
    "fig, axes = plt.subplots(1,2, figsize=(12,4))\n",
    "\n",
    "# plot first\n",
    "fit_model.plot(ax=axes[1], label='center=True')\n",
    "# plot second\n",
    "edge_model.plot(ax=axes[1], label='center=False')\n",
    "\n",
    "# bins\n",
    "axes[0].scatter(bin_center, gamma, label='center=True')\n",
    "axes[0].scatter(bin_edges, gamma, label='center=False')\n",
    "\n",
    "axes[0].set_title('Empirical Variogram')\n",
    "axes[1].set_title('Variogram Model')\n",
    "axes[0].legend(loc='lower right')\n",
    "print(fit_model)\n",
    "print(edge_model)"
   ]
  },
  {
   "cell_type": "markdown",
   "metadata": {},
   "source": [
    "Notice the considerable gap between the two model functions. This can already lead to seroius differences, i.e. in Kriging."
   ]
  },
  {
   "cell_type": "markdown",
   "metadata": {},
   "source": [
    "### 6.1.3 Using other arguments\n",
    "\n",
    "Now, with the example [from the GSTools docs](https://geostat-framework.readthedocs.io/projects/gstools/en/latest/index.html#id3) working, we can start chaning the arguments to create quite different empirical variograms. \n",
    "\n",
    "**Note**: This should just illustrate the available possibilities, the result is by no means producing a better estimate of the initially created Gaussian random field. "
   ]
  },
  {
   "cell_type": "markdown",
   "metadata": {},
   "source": [
    "In this example different things will be changed:\n",
    "\n",
    "- use only 15 lag classes, but distribute the point pairs equally. Note the differing widths of the classes. (`bin_func='uniform'`)\n",
    "- The [Dowd](https://mmaelicke.github.io/scikit-gstat/reference/estimator.html#dowd) estimator is used. (`estimator='dowd'`)\n",
    "- The [Taxicab metric](https://en.wikipedia.org/wiki/Taxicab_geometry) (aka. Manhattan metric or cityblock metric) is used over Euklidean for no obvious reason. (`dist_func='cityblock'`)"
   ]
  },
  {
   "cell_type": "code",
   "execution_count": null,
   "metadata": {},
   "outputs": [],
   "source": [
    "V = skg.Variogram(coords, field, n_lags=15, estimator='dowd', maxlag=45, bin_func='uniform', dist_func='cityblock')\n",
    "bin_center, gamma = V.get_empirical(bin_center=True) "
   ]
  },
  {
   "cell_type": "code",
   "execution_count": null,
   "metadata": {},
   "outputs": [],
   "source": [
    "# fit the variogram with a stable model. (no nugget fitted)\n",
    "fit_model = gs.Stable(dim=2)\n",
    "fit_model.fit_variogram(bin_center, gamma, nugget=True)\n",
    "# output\n",
    "ax = fit_model.plot(x_max=max(bin_center))\n",
    "ax.scatter(bin_center, gamma)\n",
    "print(fit_model)"
   ]
  },
  {
   "cell_type": "markdown",
   "metadata": {},
   "source": [
    "If you fit the `gs.Stable` with a nugget, it fits quite well. But keep in mind that this does not necessarily describe the original field very well and was just fitted for demonstration."
   ]
  },
  {
   "cell_type": "markdown",
   "metadata": {},
   "source": [
    "## 6.2 `to_gstools`\n",
    "\n",
    "The second possible interface to `gstools` is the `Variogram.to_gstools` function. This will return one of the classes [listed in the gstools documentation](https://geostat-framework.readthedocs.io/projects/gstools/en/latest/package.html#covariance-models). The variogram parameters are extracted and passed to gstools. You should be able to use it, just like any other `CovModel`. \n",
    "\n",
    "However, there are a few things to consider: \n",
    "\n",
    "- `skgstat` can only export isotropic models. \n",
    "- The `'harmonize'` cannot be exported \n",
    "\n",
    "### 6.2.1 exporting `Variogram`\n",
    "\n",
    "In this example, the same Variogram from above is estimated, but we use the `'exponential'` model. An exponential covariance function was used in the first place to create the field that was sampled."
   ]
  },
  {
   "cell_type": "code",
   "execution_count": null,
   "metadata": {
    "scrolled": false
   },
   "outputs": [],
   "source": [
    "skg.plotting.backend('plotly')\n",
    "V = skg.Variogram(coords, field, n_lags=21, estimator='matheron', model='exponential', maxlag=45, bin_func='even')\n",
    "fig = V.plot(show=False)\n",
    "pyo.iplot(fig)"
   ]
  },
  {
   "cell_type": "markdown",
   "metadata": {},
   "source": [
    "Now export the model to `gstools`:"
   ]
  },
  {
   "cell_type": "code",
   "execution_count": null,
   "metadata": {},
   "outputs": [],
   "source": [
    "exp_model = V.to_gstools()\n",
    "print(exp_model)"
   ]
  },
  {
   "cell_type": "code",
   "execution_count": null,
   "metadata": {},
   "outputs": [],
   "source": [
    "# get the empirical for the plot as well\n",
    "bins, gamma = V.get_empirical(bin_center=True)\n",
    "\n",
    "ax = exp_model.plot(x_max=45)\n",
    "ax.scatter(bins, gamma)"
   ]
  },
  {
   "cell_type": "markdown",
   "metadata": {},
   "source": [
    "\n",
    "**Note:** It is important to understand, that `skgstat` and `gstools` handle coordinates slightly different. If you export the `Variogram` to a `CovModel` and you want to use the `Variogram.coordinates`, you **must** transpose them.\n",
    "\n",
    "```Python\n",
    "# variogram is a skgstat.Variogram instance\n",
    "model = variogram.to_gstools()\n",
    "cond_pos = variogram.coordinates.T\n",
    "\n",
    "# use i.e. in Kriging\n",
    "krige = gs.krige.Ordinary(model, cond_pos, variogram.values)\n",
    "```"
   ]
  },
  {
   "cell_type": "markdown",
   "metadata": {},
   "source": [
    "### 6.2.2 Spatial Random Field Generation\n",
    "\n",
    "With a `CovModel`, we can use any of the great tools implemented in `gstools`. First, let's create another random field with the exponential model that we exported in the last section:"
   ]
  },
  {
   "cell_type": "code",
   "execution_count": null,
   "metadata": {},
   "outputs": [],
   "source": [
    "x = y = range(100)\n",
    "new_field = gs.SRF(exp_model, seed=13062018)\n",
    "new_field.structured([x, y])\n",
    "new_field.plot()"
   ]
  },
  {
   "cell_type": "markdown",
   "metadata": {},
   "source": [
    "Keep in mind, that we did not call a Kriging procedure, but created **another** field. \n",
    "Of course, we can do the same thing with the more customized model, created in 6.1.3:"
   ]
  },
  {
   "cell_type": "code",
   "execution_count": null,
   "metadata": {},
   "outputs": [],
   "source": [
    "malformed = gs.SRF(fit_model, seed=24092013)\n",
    "malformed.structured([x,y])\n",
    "malformed.plot()"
   ]
  },
  {
   "cell_type": "markdown",
   "metadata": {},
   "source": [
    "Notice how the spatial properties as well as the value range has changed. That's why it is important to estimate `Variogram` or `CovModel` carefully and not let the GIS do that for you somewhere hidden in the dark."
   ]
  },
  {
   "cell_type": "markdown",
   "metadata": {},
   "source": [
    "## 6.3 `to_gs_krige`\n",
    "\n",
    "Finally, after carefully esitmating and fitting a variogram using SciKit-GStat, you can also export it directly into a [GSTools Krige](https://geostat-framework.readthedocs.io/projects/gstools/en/latest/generated/gstools.krige.Krige.html#gstools.krige.Krige) instance. We use the variogram as in the other sections:"
   ]
  },
  {
   "cell_type": "code",
   "execution_count": null,
   "metadata": {},
   "outputs": [],
   "source": [
    "# export\n",
    "krige = V.to_gs_krige(unbiased=True)  # will result in ordinary kriging\n",
    "print(krige)\n",
    "\n",
    "# create a regular grid\n",
    "x = y = range(100)\n",
    "\n",
    "# interpolate\n",
    "result, sigma = krige.structured((x, y))"
   ]
  },
  {
   "cell_type": "code",
   "execution_count": null,
   "metadata": {},
   "outputs": [],
   "source": [
    "fig, axes = plt.subplots(1, 2, figsize=(8, 4))\n",
    "\n",
    "# plot\n",
    "axes[0].imshow(result, origin='lower')\n",
    "axes[1].imshow(sigma, origin='lower', cmap='RdYlGn_r')\n",
    "\n",
    "# label\n",
    "axes[0].set_title('Kriging')\n",
    "axes[1].set_title('Error Variance')\n",
    "\n",
    "plt.tight_layout()"
   ]
  }
 ],
 "metadata": {
  "kernelspec": {
   "display_name": "Python 3 (ipykernel)",
   "language": "python",
   "name": "python3"
  },
  "language_info": {
   "codemirror_mode": {
    "name": "ipython",
    "version": 3
   },
   "file_extension": ".py",
   "mimetype": "text/x-python",
   "name": "python",
   "nbconvert_exporter": "python",
   "pygments_lexer": "ipython3",
   "version": "3.9.5"
  }
 },
 "nbformat": 4,
 "nbformat_minor": 4
}
